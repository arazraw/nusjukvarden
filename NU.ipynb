{
 "cells": [
  {
   "cell_type": "code",
   "execution_count": 1,
   "metadata": {},
   "outputs": [],
   "source": [
    "import pandas as pd\n",
    "import numpy as np\n",
    "import openai\n",
    "import matplotlib.pyplot as plt\n",
    "from concurrent.futures import ThreadPoolExecutor, as_completed"
   ]
  },
  {
   "cell_type": "code",
   "execution_count": 2,
   "metadata": {},
   "outputs": [],
   "source": [
    "df = pd.read_csv('NU.csv')"
   ]
  },
  {
   "cell_type": "code",
   "execution_count": 33,
   "metadata": {},
   "outputs": [
    {
     "data": {
      "application/vnd.plotly.v1+json": {
       "config": {
        "plotlyServerURL": "https://plot.ly"
       },
       "data": [
        {
         "alignmentgroup": "True",
         "hovertemplate": "Publication Year=%{x}<br>Number of Articles=%{y}<extra></extra>",
         "legendgroup": "",
         "marker": {
          "color": "skyblue",
          "pattern": {
           "shape": ""
          }
         },
         "name": "",
         "offsetgroup": "",
         "orientation": "v",
         "showlegend": false,
         "textposition": "auto",
         "type": "bar",
         "x": [
          1993,
          1998,
          2000,
          2001,
          2002,
          2003,
          2004,
          2005,
          2006,
          2007,
          2008,
          2009,
          2010,
          2011,
          2012,
          2013,
          2014,
          2015,
          2016,
          2017,
          2018,
          2019,
          2020,
          2021,
          2022,
          2023,
          2024
         ],
         "xaxis": "x",
         "y": [
          2,
          1,
          2,
          4,
          2,
          4,
          2,
          6,
          5,
          6,
          5,
          12,
          17,
          29,
          30,
          33,
          36,
          29,
          58,
          46,
          50,
          64,
          70,
          54,
          51,
          57,
          46
         ],
         "yaxis": "y"
        }
       ],
       "layout": {
        "bargap": 0.2,
        "barmode": "relative",
        "legend": {
         "tracegroupgap": 0
        },
        "template": {
         "data": {
          "bar": [
           {
            "error_x": {
             "color": "#2a3f5f"
            },
            "error_y": {
             "color": "#2a3f5f"
            },
            "marker": {
             "line": {
              "color": "#E5ECF6",
              "width": 0.5
             },
             "pattern": {
              "fillmode": "overlay",
              "size": 10,
              "solidity": 0.2
             }
            },
            "type": "bar"
           }
          ],
          "barpolar": [
           {
            "marker": {
             "line": {
              "color": "#E5ECF6",
              "width": 0.5
             },
             "pattern": {
              "fillmode": "overlay",
              "size": 10,
              "solidity": 0.2
             }
            },
            "type": "barpolar"
           }
          ],
          "carpet": [
           {
            "aaxis": {
             "endlinecolor": "#2a3f5f",
             "gridcolor": "white",
             "linecolor": "white",
             "minorgridcolor": "white",
             "startlinecolor": "#2a3f5f"
            },
            "baxis": {
             "endlinecolor": "#2a3f5f",
             "gridcolor": "white",
             "linecolor": "white",
             "minorgridcolor": "white",
             "startlinecolor": "#2a3f5f"
            },
            "type": "carpet"
           }
          ],
          "choropleth": [
           {
            "colorbar": {
             "outlinewidth": 0,
             "ticks": ""
            },
            "type": "choropleth"
           }
          ],
          "contour": [
           {
            "colorbar": {
             "outlinewidth": 0,
             "ticks": ""
            },
            "colorscale": [
             [
              0,
              "#0d0887"
             ],
             [
              0.1111111111111111,
              "#46039f"
             ],
             [
              0.2222222222222222,
              "#7201a8"
             ],
             [
              0.3333333333333333,
              "#9c179e"
             ],
             [
              0.4444444444444444,
              "#bd3786"
             ],
             [
              0.5555555555555556,
              "#d8576b"
             ],
             [
              0.6666666666666666,
              "#ed7953"
             ],
             [
              0.7777777777777778,
              "#fb9f3a"
             ],
             [
              0.8888888888888888,
              "#fdca26"
             ],
             [
              1,
              "#f0f921"
             ]
            ],
            "type": "contour"
           }
          ],
          "contourcarpet": [
           {
            "colorbar": {
             "outlinewidth": 0,
             "ticks": ""
            },
            "type": "contourcarpet"
           }
          ],
          "heatmap": [
           {
            "colorbar": {
             "outlinewidth": 0,
             "ticks": ""
            },
            "colorscale": [
             [
              0,
              "#0d0887"
             ],
             [
              0.1111111111111111,
              "#46039f"
             ],
             [
              0.2222222222222222,
              "#7201a8"
             ],
             [
              0.3333333333333333,
              "#9c179e"
             ],
             [
              0.4444444444444444,
              "#bd3786"
             ],
             [
              0.5555555555555556,
              "#d8576b"
             ],
             [
              0.6666666666666666,
              "#ed7953"
             ],
             [
              0.7777777777777778,
              "#fb9f3a"
             ],
             [
              0.8888888888888888,
              "#fdca26"
             ],
             [
              1,
              "#f0f921"
             ]
            ],
            "type": "heatmap"
           }
          ],
          "heatmapgl": [
           {
            "colorbar": {
             "outlinewidth": 0,
             "ticks": ""
            },
            "colorscale": [
             [
              0,
              "#0d0887"
             ],
             [
              0.1111111111111111,
              "#46039f"
             ],
             [
              0.2222222222222222,
              "#7201a8"
             ],
             [
              0.3333333333333333,
              "#9c179e"
             ],
             [
              0.4444444444444444,
              "#bd3786"
             ],
             [
              0.5555555555555556,
              "#d8576b"
             ],
             [
              0.6666666666666666,
              "#ed7953"
             ],
             [
              0.7777777777777778,
              "#fb9f3a"
             ],
             [
              0.8888888888888888,
              "#fdca26"
             ],
             [
              1,
              "#f0f921"
             ]
            ],
            "type": "heatmapgl"
           }
          ],
          "histogram": [
           {
            "marker": {
             "pattern": {
              "fillmode": "overlay",
              "size": 10,
              "solidity": 0.2
             }
            },
            "type": "histogram"
           }
          ],
          "histogram2d": [
           {
            "colorbar": {
             "outlinewidth": 0,
             "ticks": ""
            },
            "colorscale": [
             [
              0,
              "#0d0887"
             ],
             [
              0.1111111111111111,
              "#46039f"
             ],
             [
              0.2222222222222222,
              "#7201a8"
             ],
             [
              0.3333333333333333,
              "#9c179e"
             ],
             [
              0.4444444444444444,
              "#bd3786"
             ],
             [
              0.5555555555555556,
              "#d8576b"
             ],
             [
              0.6666666666666666,
              "#ed7953"
             ],
             [
              0.7777777777777778,
              "#fb9f3a"
             ],
             [
              0.8888888888888888,
              "#fdca26"
             ],
             [
              1,
              "#f0f921"
             ]
            ],
            "type": "histogram2d"
           }
          ],
          "histogram2dcontour": [
           {
            "colorbar": {
             "outlinewidth": 0,
             "ticks": ""
            },
            "colorscale": [
             [
              0,
              "#0d0887"
             ],
             [
              0.1111111111111111,
              "#46039f"
             ],
             [
              0.2222222222222222,
              "#7201a8"
             ],
             [
              0.3333333333333333,
              "#9c179e"
             ],
             [
              0.4444444444444444,
              "#bd3786"
             ],
             [
              0.5555555555555556,
              "#d8576b"
             ],
             [
              0.6666666666666666,
              "#ed7953"
             ],
             [
              0.7777777777777778,
              "#fb9f3a"
             ],
             [
              0.8888888888888888,
              "#fdca26"
             ],
             [
              1,
              "#f0f921"
             ]
            ],
            "type": "histogram2dcontour"
           }
          ],
          "mesh3d": [
           {
            "colorbar": {
             "outlinewidth": 0,
             "ticks": ""
            },
            "type": "mesh3d"
           }
          ],
          "parcoords": [
           {
            "line": {
             "colorbar": {
              "outlinewidth": 0,
              "ticks": ""
             }
            },
            "type": "parcoords"
           }
          ],
          "pie": [
           {
            "automargin": true,
            "type": "pie"
           }
          ],
          "scatter": [
           {
            "fillpattern": {
             "fillmode": "overlay",
             "size": 10,
             "solidity": 0.2
            },
            "type": "scatter"
           }
          ],
          "scatter3d": [
           {
            "line": {
             "colorbar": {
              "outlinewidth": 0,
              "ticks": ""
             }
            },
            "marker": {
             "colorbar": {
              "outlinewidth": 0,
              "ticks": ""
             }
            },
            "type": "scatter3d"
           }
          ],
          "scattercarpet": [
           {
            "marker": {
             "colorbar": {
              "outlinewidth": 0,
              "ticks": ""
             }
            },
            "type": "scattercarpet"
           }
          ],
          "scattergeo": [
           {
            "marker": {
             "colorbar": {
              "outlinewidth": 0,
              "ticks": ""
             }
            },
            "type": "scattergeo"
           }
          ],
          "scattergl": [
           {
            "marker": {
             "colorbar": {
              "outlinewidth": 0,
              "ticks": ""
             }
            },
            "type": "scattergl"
           }
          ],
          "scattermapbox": [
           {
            "marker": {
             "colorbar": {
              "outlinewidth": 0,
              "ticks": ""
             }
            },
            "type": "scattermapbox"
           }
          ],
          "scatterpolar": [
           {
            "marker": {
             "colorbar": {
              "outlinewidth": 0,
              "ticks": ""
             }
            },
            "type": "scatterpolar"
           }
          ],
          "scatterpolargl": [
           {
            "marker": {
             "colorbar": {
              "outlinewidth": 0,
              "ticks": ""
             }
            },
            "type": "scatterpolargl"
           }
          ],
          "scatterternary": [
           {
            "marker": {
             "colorbar": {
              "outlinewidth": 0,
              "ticks": ""
             }
            },
            "type": "scatterternary"
           }
          ],
          "surface": [
           {
            "colorbar": {
             "outlinewidth": 0,
             "ticks": ""
            },
            "colorscale": [
             [
              0,
              "#0d0887"
             ],
             [
              0.1111111111111111,
              "#46039f"
             ],
             [
              0.2222222222222222,
              "#7201a8"
             ],
             [
              0.3333333333333333,
              "#9c179e"
             ],
             [
              0.4444444444444444,
              "#bd3786"
             ],
             [
              0.5555555555555556,
              "#d8576b"
             ],
             [
              0.6666666666666666,
              "#ed7953"
             ],
             [
              0.7777777777777778,
              "#fb9f3a"
             ],
             [
              0.8888888888888888,
              "#fdca26"
             ],
             [
              1,
              "#f0f921"
             ]
            ],
            "type": "surface"
           }
          ],
          "table": [
           {
            "cells": {
             "fill": {
              "color": "#EBF0F8"
             },
             "line": {
              "color": "white"
             }
            },
            "header": {
             "fill": {
              "color": "#C8D4E3"
             },
             "line": {
              "color": "white"
             }
            },
            "type": "table"
           }
          ]
         },
         "layout": {
          "annotationdefaults": {
           "arrowcolor": "#2a3f5f",
           "arrowhead": 0,
           "arrowwidth": 1
          },
          "autotypenumbers": "strict",
          "coloraxis": {
           "colorbar": {
            "outlinewidth": 0,
            "ticks": ""
           }
          },
          "colorscale": {
           "diverging": [
            [
             0,
             "#8e0152"
            ],
            [
             0.1,
             "#c51b7d"
            ],
            [
             0.2,
             "#de77ae"
            ],
            [
             0.3,
             "#f1b6da"
            ],
            [
             0.4,
             "#fde0ef"
            ],
            [
             0.5,
             "#f7f7f7"
            ],
            [
             0.6,
             "#e6f5d0"
            ],
            [
             0.7,
             "#b8e186"
            ],
            [
             0.8,
             "#7fbc41"
            ],
            [
             0.9,
             "#4d9221"
            ],
            [
             1,
             "#276419"
            ]
           ],
           "sequential": [
            [
             0,
             "#0d0887"
            ],
            [
             0.1111111111111111,
             "#46039f"
            ],
            [
             0.2222222222222222,
             "#7201a8"
            ],
            [
             0.3333333333333333,
             "#9c179e"
            ],
            [
             0.4444444444444444,
             "#bd3786"
            ],
            [
             0.5555555555555556,
             "#d8576b"
            ],
            [
             0.6666666666666666,
             "#ed7953"
            ],
            [
             0.7777777777777778,
             "#fb9f3a"
            ],
            [
             0.8888888888888888,
             "#fdca26"
            ],
            [
             1,
             "#f0f921"
            ]
           ],
           "sequentialminus": [
            [
             0,
             "#0d0887"
            ],
            [
             0.1111111111111111,
             "#46039f"
            ],
            [
             0.2222222222222222,
             "#7201a8"
            ],
            [
             0.3333333333333333,
             "#9c179e"
            ],
            [
             0.4444444444444444,
             "#bd3786"
            ],
            [
             0.5555555555555556,
             "#d8576b"
            ],
            [
             0.6666666666666666,
             "#ed7953"
            ],
            [
             0.7777777777777778,
             "#fb9f3a"
            ],
            [
             0.8888888888888888,
             "#fdca26"
            ],
            [
             1,
             "#f0f921"
            ]
           ]
          },
          "colorway": [
           "#636efa",
           "#EF553B",
           "#00cc96",
           "#ab63fa",
           "#FFA15A",
           "#19d3f3",
           "#FF6692",
           "#B6E880",
           "#FF97FF",
           "#FECB52"
          ],
          "font": {
           "color": "#2a3f5f"
          },
          "geo": {
           "bgcolor": "white",
           "lakecolor": "white",
           "landcolor": "#E5ECF6",
           "showlakes": true,
           "showland": true,
           "subunitcolor": "white"
          },
          "hoverlabel": {
           "align": "left"
          },
          "hovermode": "closest",
          "mapbox": {
           "style": "light"
          },
          "paper_bgcolor": "white",
          "plot_bgcolor": "#E5ECF6",
          "polar": {
           "angularaxis": {
            "gridcolor": "white",
            "linecolor": "white",
            "ticks": ""
           },
           "bgcolor": "#E5ECF6",
           "radialaxis": {
            "gridcolor": "white",
            "linecolor": "white",
            "ticks": ""
           }
          },
          "scene": {
           "xaxis": {
            "backgroundcolor": "#E5ECF6",
            "gridcolor": "white",
            "gridwidth": 2,
            "linecolor": "white",
            "showbackground": true,
            "ticks": "",
            "zerolinecolor": "white"
           },
           "yaxis": {
            "backgroundcolor": "#E5ECF6",
            "gridcolor": "white",
            "gridwidth": 2,
            "linecolor": "white",
            "showbackground": true,
            "ticks": "",
            "zerolinecolor": "white"
           },
           "zaxis": {
            "backgroundcolor": "#E5ECF6",
            "gridcolor": "white",
            "gridwidth": 2,
            "linecolor": "white",
            "showbackground": true,
            "ticks": "",
            "zerolinecolor": "white"
           }
          },
          "shapedefaults": {
           "line": {
            "color": "#2a3f5f"
           }
          },
          "ternary": {
           "aaxis": {
            "gridcolor": "white",
            "linecolor": "white",
            "ticks": ""
           },
           "baxis": {
            "gridcolor": "white",
            "linecolor": "white",
            "ticks": ""
           },
           "bgcolor": "#E5ECF6",
           "caxis": {
            "gridcolor": "white",
            "linecolor": "white",
            "ticks": ""
           }
          },
          "title": {
           "x": 0.05
          },
          "xaxis": {
           "automargin": true,
           "gridcolor": "white",
           "linecolor": "white",
           "ticks": "",
           "title": {
            "standoff": 15
           },
           "zerolinecolor": "white",
           "zerolinewidth": 2
          },
          "yaxis": {
           "automargin": true,
           "gridcolor": "white",
           "linecolor": "white",
           "ticks": "",
           "title": {
            "standoff": 15
           },
           "zerolinecolor": "white",
           "zerolinewidth": 2
          }
         }
        },
        "title": {
         "text": "NU sjukvården antal artiklar publicerade per år"
        },
        "xaxis": {
         "anchor": "y",
         "domain": [
          0,
          1
         ],
         "tickmode": "linear",
         "title": {
          "text": "År"
         }
        },
        "yaxis": {
         "anchor": "x",
         "domain": [
          0,
          1
         ],
         "title": {
          "text": "Artiklar"
         }
        }
       }
      }
     },
     "metadata": {},
     "output_type": "display_data"
    }
   ],
   "source": [
    "import pandas as pd\n",
    "import plotly.express as px\n",
    "\n",
    "# Count the number of articles per year\n",
    "year_counts = df['publication_year'].value_counts().sort_index().reset_index()\n",
    "year_counts.columns = ['publication_year', 'count']\n",
    "\n",
    "# Create a bar chart using Plotly\n",
    "fig = px.bar(\n",
    "    year_counts, \n",
    "    x='publication_year', \n",
    "    y='count', \n",
    "    title='NU sjukvården antal artiklar publicerade per år',\n",
    "    labels={'publication_year': 'Publication Year', 'count': 'Number of Articles'},\n",
    "    color_discrete_sequence=['skyblue']\n",
    ")\n",
    "\n",
    "# Update layout for better appearance\n",
    "fig.update_layout(\n",
    "    xaxis=dict(tickmode='linear'),  # Ensure all years are shown on the x-axis\n",
    "    xaxis_title='År',\n",
    "    yaxis_title='Artiklar',\n",
    "    bargap=0.2\n",
    ")\n",
    "\n",
    "fig.show()"
   ]
  },
  {
   "cell_type": "code",
   "execution_count": 34,
   "metadata": {},
   "outputs": [
    {
     "data": {
      "application/vnd.plotly.v1+json": {
       "config": {
        "plotlyServerURL": "https://plot.ly"
       },
       "data": [
        {
         "alignmentgroup": "True",
         "bingroup": "x",
         "hovertemplate": "Number of Distinct Countries=%{x}<br>count=%{y}<extra></extra>",
         "legendgroup": "",
         "marker": {
          "color": "#636efa",
          "pattern": {
           "shape": ""
          }
         },
         "name": "",
         "nbinsx": 20,
         "offsetgroup": "",
         "orientation": "v",
         "showlegend": false,
         "type": "histogram",
         "x": [
          2,
          2,
          1,
          4,
          3,
          7,
          1,
          4,
          1,
          1,
          1,
          2,
          2,
          7,
          9,
          9,
          3,
          1,
          1,
          2,
          13,
          1,
          2,
          5,
          2,
          1,
          8,
          2,
          2,
          8,
          9,
          1,
          1,
          13,
          1,
          3,
          4,
          9,
          2,
          1,
          7,
          2,
          1,
          11,
          8,
          2,
          3,
          2,
          8,
          1,
          1,
          1,
          1,
          1,
          1,
          1,
          1,
          2,
          2,
          3,
          2,
          1,
          1,
          4,
          17,
          5,
          1,
          4,
          1,
          2,
          2,
          2,
          7,
          3,
          3,
          4,
          2,
          1,
          2,
          1,
          2,
          1,
          1,
          2,
          4,
          1,
          5,
          1,
          1,
          1,
          1,
          1,
          1,
          1,
          3,
          13,
          2,
          1,
          2,
          1,
          14,
          5,
          9,
          7,
          4,
          1,
          3,
          2,
          4,
          1,
          1,
          1,
          5,
          2,
          2,
          1,
          1,
          1,
          3,
          2,
          1,
          1,
          1,
          1,
          1,
          1,
          2,
          2,
          1,
          1,
          1,
          3,
          1,
          1,
          1,
          1,
          3,
          1,
          1,
          1,
          2,
          1,
          1,
          1,
          3,
          1,
          1,
          4,
          1,
          1,
          3,
          1,
          1,
          1,
          2,
          1,
          1,
          13,
          2,
          1,
          1,
          2,
          1,
          1,
          2,
          1,
          8,
          2,
          3,
          3,
          1,
          1,
          2,
          4,
          1,
          4,
          1,
          8,
          1,
          2,
          1,
          1,
          1,
          1,
          1,
          2,
          1,
          1,
          3,
          2,
          1,
          1,
          1,
          1,
          1,
          2,
          3,
          1,
          1,
          2,
          3,
          3,
          4,
          2,
          1,
          4,
          1,
          1,
          2,
          1,
          1,
          1,
          1,
          1,
          4,
          2,
          2,
          6,
          2,
          1,
          3,
          2,
          3,
          3,
          1,
          1,
          1,
          2,
          1,
          1,
          2,
          1,
          2,
          2,
          1,
          1,
          2,
          1,
          1,
          1,
          2,
          1,
          2,
          1,
          1,
          1,
          1,
          2,
          8,
          2,
          1,
          1,
          1,
          1,
          1,
          1,
          4,
          3,
          2,
          1,
          1,
          2,
          1,
          1,
          2,
          1,
          1,
          5,
          1,
          2,
          2,
          1,
          1,
          3,
          2,
          1,
          1,
          1,
          1,
          1,
          1,
          1,
          1,
          1,
          1,
          1,
          1,
          1,
          3,
          1,
          1,
          1,
          1,
          1,
          1,
          1,
          1,
          1,
          2,
          2,
          4,
          2,
          2,
          2,
          1,
          1,
          2,
          1,
          12,
          2,
          1,
          2,
          1,
          1,
          10,
          1,
          1,
          1,
          3,
          1,
          1,
          2,
          1,
          2,
          1,
          1,
          1,
          1,
          1,
          1,
          1,
          1,
          1,
          4,
          1,
          4,
          1,
          1,
          1,
          2,
          1,
          6,
          2,
          2,
          2,
          1,
          1,
          1,
          1,
          1,
          1,
          1,
          1,
          2,
          1,
          5,
          5,
          2,
          13,
          1,
          13,
          3,
          1,
          2,
          1,
          1,
          1,
          1,
          2,
          2,
          13,
          1,
          1,
          14,
          1,
          1,
          1,
          1,
          5,
          1,
          2,
          1,
          3,
          2,
          1,
          1,
          1,
          1,
          13,
          2,
          1,
          4,
          1,
          1,
          3,
          1,
          2,
          1,
          1,
          1,
          1,
          13,
          2,
          1,
          1,
          1,
          3,
          8,
          2,
          2,
          1,
          1,
          1,
          1,
          2,
          1,
          1,
          2,
          1,
          1,
          2,
          1,
          2,
          5,
          1,
          3,
          1,
          1,
          2,
          1,
          3,
          2,
          1,
          1,
          1,
          2,
          1,
          3,
          1,
          1,
          1,
          7,
          2,
          2,
          4,
          2,
          2,
          1,
          2,
          3,
          1,
          1,
          1,
          1,
          2,
          1,
          2,
          1,
          1,
          1,
          1,
          3,
          1,
          1,
          1,
          1,
          1,
          1,
          1,
          1,
          2,
          1,
          1,
          1,
          1,
          13,
          12,
          1,
          1,
          1,
          1,
          2,
          2,
          1,
          1,
          3,
          3,
          1,
          1,
          1,
          2,
          13,
          1,
          5,
          3,
          1,
          1,
          2,
          1,
          1,
          1,
          1,
          1,
          2,
          1,
          1,
          1,
          1,
          2,
          1,
          1,
          1,
          2,
          2,
          1,
          1,
          8,
          1,
          1,
          1,
          7,
          13,
          2,
          1,
          1,
          1,
          2,
          1,
          13,
          2,
          2,
          2,
          1,
          7,
          3,
          1,
          2,
          3,
          1,
          2,
          1,
          1,
          1,
          1,
          1,
          1,
          1,
          4,
          14,
          1,
          13,
          1,
          2,
          1,
          1,
          1,
          1,
          1,
          1,
          1,
          1,
          1,
          1,
          1,
          2,
          1,
          4,
          1,
          6,
          8,
          4,
          2,
          2,
          1,
          1,
          2,
          11,
          5,
          1,
          11,
          8,
          2,
          1,
          2,
          2,
          1,
          1,
          3,
          3,
          4,
          1,
          4,
          2,
          3,
          1,
          2,
          1,
          2,
          2,
          1,
          1,
          3,
          2,
          4,
          8,
          1,
          2,
          1,
          3,
          1,
          1,
          2,
          1,
          1,
          1,
          1,
          5,
          1,
          2,
          1,
          9,
          2,
          12,
          2,
          1,
          1,
          1,
          1,
          1,
          2,
          2,
          13,
          1,
          1,
          1,
          13,
          4,
          10,
          1,
          1,
          1,
          3,
          1,
          5,
          1,
          2,
          1,
          3,
          1,
          4,
          1,
          1,
          1,
          5,
          13,
          2,
          13,
          1,
          1,
          1,
          2,
          2,
          2,
          1,
          1,
          2,
          1,
          1,
          1,
          1,
          2,
          2,
          1,
          1,
          4,
          1,
          1,
          1,
          7,
          1,
          1,
          1,
          1,
          1,
          1,
          1,
          1,
          1,
          2,
          1,
          1,
          1,
          3,
          3,
          1,
          5,
          1,
          2,
          1,
          1,
          1,
          2,
          4,
          4,
          12,
          2,
          1,
          1,
          1,
          2,
          1,
          1,
          4,
          1,
          1,
          2,
          4,
          1,
          1,
          1,
          1
         ],
         "xaxis": "x",
         "yaxis": "y"
        }
       ],
       "layout": {
        "bargap": 0.1,
        "barmode": "relative",
        "legend": {
         "tracegroupgap": 0
        },
        "template": {
         "data": {
          "bar": [
           {
            "error_x": {
             "color": "#2a3f5f"
            },
            "error_y": {
             "color": "#2a3f5f"
            },
            "marker": {
             "line": {
              "color": "white",
              "width": 0.5
             },
             "pattern": {
              "fillmode": "overlay",
              "size": 10,
              "solidity": 0.2
             }
            },
            "type": "bar"
           }
          ],
          "barpolar": [
           {
            "marker": {
             "line": {
              "color": "white",
              "width": 0.5
             },
             "pattern": {
              "fillmode": "overlay",
              "size": 10,
              "solidity": 0.2
             }
            },
            "type": "barpolar"
           }
          ],
          "carpet": [
           {
            "aaxis": {
             "endlinecolor": "#2a3f5f",
             "gridcolor": "#C8D4E3",
             "linecolor": "#C8D4E3",
             "minorgridcolor": "#C8D4E3",
             "startlinecolor": "#2a3f5f"
            },
            "baxis": {
             "endlinecolor": "#2a3f5f",
             "gridcolor": "#C8D4E3",
             "linecolor": "#C8D4E3",
             "minorgridcolor": "#C8D4E3",
             "startlinecolor": "#2a3f5f"
            },
            "type": "carpet"
           }
          ],
          "choropleth": [
           {
            "colorbar": {
             "outlinewidth": 0,
             "ticks": ""
            },
            "type": "choropleth"
           }
          ],
          "contour": [
           {
            "colorbar": {
             "outlinewidth": 0,
             "ticks": ""
            },
            "colorscale": [
             [
              0,
              "#0d0887"
             ],
             [
              0.1111111111111111,
              "#46039f"
             ],
             [
              0.2222222222222222,
              "#7201a8"
             ],
             [
              0.3333333333333333,
              "#9c179e"
             ],
             [
              0.4444444444444444,
              "#bd3786"
             ],
             [
              0.5555555555555556,
              "#d8576b"
             ],
             [
              0.6666666666666666,
              "#ed7953"
             ],
             [
              0.7777777777777778,
              "#fb9f3a"
             ],
             [
              0.8888888888888888,
              "#fdca26"
             ],
             [
              1,
              "#f0f921"
             ]
            ],
            "type": "contour"
           }
          ],
          "contourcarpet": [
           {
            "colorbar": {
             "outlinewidth": 0,
             "ticks": ""
            },
            "type": "contourcarpet"
           }
          ],
          "heatmap": [
           {
            "colorbar": {
             "outlinewidth": 0,
             "ticks": ""
            },
            "colorscale": [
             [
              0,
              "#0d0887"
             ],
             [
              0.1111111111111111,
              "#46039f"
             ],
             [
              0.2222222222222222,
              "#7201a8"
             ],
             [
              0.3333333333333333,
              "#9c179e"
             ],
             [
              0.4444444444444444,
              "#bd3786"
             ],
             [
              0.5555555555555556,
              "#d8576b"
             ],
             [
              0.6666666666666666,
              "#ed7953"
             ],
             [
              0.7777777777777778,
              "#fb9f3a"
             ],
             [
              0.8888888888888888,
              "#fdca26"
             ],
             [
              1,
              "#f0f921"
             ]
            ],
            "type": "heatmap"
           }
          ],
          "heatmapgl": [
           {
            "colorbar": {
             "outlinewidth": 0,
             "ticks": ""
            },
            "colorscale": [
             [
              0,
              "#0d0887"
             ],
             [
              0.1111111111111111,
              "#46039f"
             ],
             [
              0.2222222222222222,
              "#7201a8"
             ],
             [
              0.3333333333333333,
              "#9c179e"
             ],
             [
              0.4444444444444444,
              "#bd3786"
             ],
             [
              0.5555555555555556,
              "#d8576b"
             ],
             [
              0.6666666666666666,
              "#ed7953"
             ],
             [
              0.7777777777777778,
              "#fb9f3a"
             ],
             [
              0.8888888888888888,
              "#fdca26"
             ],
             [
              1,
              "#f0f921"
             ]
            ],
            "type": "heatmapgl"
           }
          ],
          "histogram": [
           {
            "marker": {
             "pattern": {
              "fillmode": "overlay",
              "size": 10,
              "solidity": 0.2
             }
            },
            "type": "histogram"
           }
          ],
          "histogram2d": [
           {
            "colorbar": {
             "outlinewidth": 0,
             "ticks": ""
            },
            "colorscale": [
             [
              0,
              "#0d0887"
             ],
             [
              0.1111111111111111,
              "#46039f"
             ],
             [
              0.2222222222222222,
              "#7201a8"
             ],
             [
              0.3333333333333333,
              "#9c179e"
             ],
             [
              0.4444444444444444,
              "#bd3786"
             ],
             [
              0.5555555555555556,
              "#d8576b"
             ],
             [
              0.6666666666666666,
              "#ed7953"
             ],
             [
              0.7777777777777778,
              "#fb9f3a"
             ],
             [
              0.8888888888888888,
              "#fdca26"
             ],
             [
              1,
              "#f0f921"
             ]
            ],
            "type": "histogram2d"
           }
          ],
          "histogram2dcontour": [
           {
            "colorbar": {
             "outlinewidth": 0,
             "ticks": ""
            },
            "colorscale": [
             [
              0,
              "#0d0887"
             ],
             [
              0.1111111111111111,
              "#46039f"
             ],
             [
              0.2222222222222222,
              "#7201a8"
             ],
             [
              0.3333333333333333,
              "#9c179e"
             ],
             [
              0.4444444444444444,
              "#bd3786"
             ],
             [
              0.5555555555555556,
              "#d8576b"
             ],
             [
              0.6666666666666666,
              "#ed7953"
             ],
             [
              0.7777777777777778,
              "#fb9f3a"
             ],
             [
              0.8888888888888888,
              "#fdca26"
             ],
             [
              1,
              "#f0f921"
             ]
            ],
            "type": "histogram2dcontour"
           }
          ],
          "mesh3d": [
           {
            "colorbar": {
             "outlinewidth": 0,
             "ticks": ""
            },
            "type": "mesh3d"
           }
          ],
          "parcoords": [
           {
            "line": {
             "colorbar": {
              "outlinewidth": 0,
              "ticks": ""
             }
            },
            "type": "parcoords"
           }
          ],
          "pie": [
           {
            "automargin": true,
            "type": "pie"
           }
          ],
          "scatter": [
           {
            "fillpattern": {
             "fillmode": "overlay",
             "size": 10,
             "solidity": 0.2
            },
            "type": "scatter"
           }
          ],
          "scatter3d": [
           {
            "line": {
             "colorbar": {
              "outlinewidth": 0,
              "ticks": ""
             }
            },
            "marker": {
             "colorbar": {
              "outlinewidth": 0,
              "ticks": ""
             }
            },
            "type": "scatter3d"
           }
          ],
          "scattercarpet": [
           {
            "marker": {
             "colorbar": {
              "outlinewidth": 0,
              "ticks": ""
             }
            },
            "type": "scattercarpet"
           }
          ],
          "scattergeo": [
           {
            "marker": {
             "colorbar": {
              "outlinewidth": 0,
              "ticks": ""
             }
            },
            "type": "scattergeo"
           }
          ],
          "scattergl": [
           {
            "marker": {
             "colorbar": {
              "outlinewidth": 0,
              "ticks": ""
             }
            },
            "type": "scattergl"
           }
          ],
          "scattermapbox": [
           {
            "marker": {
             "colorbar": {
              "outlinewidth": 0,
              "ticks": ""
             }
            },
            "type": "scattermapbox"
           }
          ],
          "scatterpolar": [
           {
            "marker": {
             "colorbar": {
              "outlinewidth": 0,
              "ticks": ""
             }
            },
            "type": "scatterpolar"
           }
          ],
          "scatterpolargl": [
           {
            "marker": {
             "colorbar": {
              "outlinewidth": 0,
              "ticks": ""
             }
            },
            "type": "scatterpolargl"
           }
          ],
          "scatterternary": [
           {
            "marker": {
             "colorbar": {
              "outlinewidth": 0,
              "ticks": ""
             }
            },
            "type": "scatterternary"
           }
          ],
          "surface": [
           {
            "colorbar": {
             "outlinewidth": 0,
             "ticks": ""
            },
            "colorscale": [
             [
              0,
              "#0d0887"
             ],
             [
              0.1111111111111111,
              "#46039f"
             ],
             [
              0.2222222222222222,
              "#7201a8"
             ],
             [
              0.3333333333333333,
              "#9c179e"
             ],
             [
              0.4444444444444444,
              "#bd3786"
             ],
             [
              0.5555555555555556,
              "#d8576b"
             ],
             [
              0.6666666666666666,
              "#ed7953"
             ],
             [
              0.7777777777777778,
              "#fb9f3a"
             ],
             [
              0.8888888888888888,
              "#fdca26"
             ],
             [
              1,
              "#f0f921"
             ]
            ],
            "type": "surface"
           }
          ],
          "table": [
           {
            "cells": {
             "fill": {
              "color": "#EBF0F8"
             },
             "line": {
              "color": "white"
             }
            },
            "header": {
             "fill": {
              "color": "#C8D4E3"
             },
             "line": {
              "color": "white"
             }
            },
            "type": "table"
           }
          ]
         },
         "layout": {
          "annotationdefaults": {
           "arrowcolor": "#2a3f5f",
           "arrowhead": 0,
           "arrowwidth": 1
          },
          "autotypenumbers": "strict",
          "coloraxis": {
           "colorbar": {
            "outlinewidth": 0,
            "ticks": ""
           }
          },
          "colorscale": {
           "diverging": [
            [
             0,
             "#8e0152"
            ],
            [
             0.1,
             "#c51b7d"
            ],
            [
             0.2,
             "#de77ae"
            ],
            [
             0.3,
             "#f1b6da"
            ],
            [
             0.4,
             "#fde0ef"
            ],
            [
             0.5,
             "#f7f7f7"
            ],
            [
             0.6,
             "#e6f5d0"
            ],
            [
             0.7,
             "#b8e186"
            ],
            [
             0.8,
             "#7fbc41"
            ],
            [
             0.9,
             "#4d9221"
            ],
            [
             1,
             "#276419"
            ]
           ],
           "sequential": [
            [
             0,
             "#0d0887"
            ],
            [
             0.1111111111111111,
             "#46039f"
            ],
            [
             0.2222222222222222,
             "#7201a8"
            ],
            [
             0.3333333333333333,
             "#9c179e"
            ],
            [
             0.4444444444444444,
             "#bd3786"
            ],
            [
             0.5555555555555556,
             "#d8576b"
            ],
            [
             0.6666666666666666,
             "#ed7953"
            ],
            [
             0.7777777777777778,
             "#fb9f3a"
            ],
            [
             0.8888888888888888,
             "#fdca26"
            ],
            [
             1,
             "#f0f921"
            ]
           ],
           "sequentialminus": [
            [
             0,
             "#0d0887"
            ],
            [
             0.1111111111111111,
             "#46039f"
            ],
            [
             0.2222222222222222,
             "#7201a8"
            ],
            [
             0.3333333333333333,
             "#9c179e"
            ],
            [
             0.4444444444444444,
             "#bd3786"
            ],
            [
             0.5555555555555556,
             "#d8576b"
            ],
            [
             0.6666666666666666,
             "#ed7953"
            ],
            [
             0.7777777777777778,
             "#fb9f3a"
            ],
            [
             0.8888888888888888,
             "#fdca26"
            ],
            [
             1,
             "#f0f921"
            ]
           ]
          },
          "colorway": [
           "#636efa",
           "#EF553B",
           "#00cc96",
           "#ab63fa",
           "#FFA15A",
           "#19d3f3",
           "#FF6692",
           "#B6E880",
           "#FF97FF",
           "#FECB52"
          ],
          "font": {
           "color": "#2a3f5f"
          },
          "geo": {
           "bgcolor": "white",
           "lakecolor": "white",
           "landcolor": "white",
           "showlakes": true,
           "showland": true,
           "subunitcolor": "#C8D4E3"
          },
          "hoverlabel": {
           "align": "left"
          },
          "hovermode": "closest",
          "mapbox": {
           "style": "light"
          },
          "paper_bgcolor": "white",
          "plot_bgcolor": "white",
          "polar": {
           "angularaxis": {
            "gridcolor": "#EBF0F8",
            "linecolor": "#EBF0F8",
            "ticks": ""
           },
           "bgcolor": "white",
           "radialaxis": {
            "gridcolor": "#EBF0F8",
            "linecolor": "#EBF0F8",
            "ticks": ""
           }
          },
          "scene": {
           "xaxis": {
            "backgroundcolor": "white",
            "gridcolor": "#DFE8F3",
            "gridwidth": 2,
            "linecolor": "#EBF0F8",
            "showbackground": true,
            "ticks": "",
            "zerolinecolor": "#EBF0F8"
           },
           "yaxis": {
            "backgroundcolor": "white",
            "gridcolor": "#DFE8F3",
            "gridwidth": 2,
            "linecolor": "#EBF0F8",
            "showbackground": true,
            "ticks": "",
            "zerolinecolor": "#EBF0F8"
           },
           "zaxis": {
            "backgroundcolor": "white",
            "gridcolor": "#DFE8F3",
            "gridwidth": 2,
            "linecolor": "#EBF0F8",
            "showbackground": true,
            "ticks": "",
            "zerolinecolor": "#EBF0F8"
           }
          },
          "shapedefaults": {
           "line": {
            "color": "#2a3f5f"
           }
          },
          "ternary": {
           "aaxis": {
            "gridcolor": "#DFE8F3",
            "linecolor": "#A2B1C6",
            "ticks": ""
           },
           "baxis": {
            "gridcolor": "#DFE8F3",
            "linecolor": "#A2B1C6",
            "ticks": ""
           },
           "bgcolor": "white",
           "caxis": {
            "gridcolor": "#DFE8F3",
            "linecolor": "#A2B1C6",
            "ticks": ""
           }
          },
          "title": {
           "x": 0.05
          },
          "xaxis": {
           "automargin": true,
           "gridcolor": "#EBF0F8",
           "linecolor": "#EBF0F8",
           "ticks": "",
           "title": {
            "standoff": 15
           },
           "zerolinecolor": "#EBF0F8",
           "zerolinewidth": 2
          },
          "yaxis": {
           "automargin": true,
           "gridcolor": "#EBF0F8",
           "linecolor": "#EBF0F8",
           "ticks": "",
           "title": {
            "standoff": 15
           },
           "zerolinecolor": "#EBF0F8",
           "zerolinewidth": 2
          }
         }
        },
        "title": {
         "text": "NU-sjukvården: Antal nationaliteter per artikel"
        },
        "xaxis": {
         "anchor": "y",
         "domain": [
          0,
          1
         ],
         "title": {
          "text": "Number of Distinct Countries"
         }
        },
        "yaxis": {
         "anchor": "x",
         "domain": [
          0,
          1
         ],
         "title": {
          "text": "Frequency"
         }
        }
       }
      }
     },
     "metadata": {},
     "output_type": "display_data"
    }
   ],
   "source": [
    "import plotly.express as px\n",
    "\n",
    "# Create a histogram for the countries_distinct_count column using Plotly\n",
    "fig = px.histogram(\n",
    "    df,\n",
    "    x='countries_distinct_count',\n",
    "    nbins=20,  # Set the number of bins\n",
    "    title='NU-sjukvården: Antal nationaliteter per artikel',\n",
    "    labels={'countries_distinct_count': 'Number of Distinct Countries'}\n",
    ")\n",
    "\n",
    "# Update layout for better visualization\n",
    "fig.update_layout(\n",
    "    xaxis_title='Number of Distinct Countries',\n",
    "    yaxis_title='Frequency',\n",
    "    bargap=0.1,  # Adjust gap between bars\n",
    "    template='plotly_white'\n",
    ")\n",
    "\n",
    "# Show the figure\n",
    "fig.show()"
   ]
  },
  {
   "cell_type": "code",
   "execution_count": 37,
   "metadata": {},
   "outputs": [
    {
     "data": {
      "application/vnd.plotly.v1+json": {
       "config": {
        "plotlyServerURL": "https://plot.ly"
       },
       "data": [
        {
         "alignmentgroup": "True",
         "bingroup": "x",
         "hovertemplate": "Field-Weighted Citation Impact (FWCI)=%{x}<br>count=%{y}<extra></extra>",
         "legendgroup": "",
         "marker": {
          "color": "#636efa",
          "pattern": {
           "shape": ""
          }
         },
         "name": "",
         "nbinsx": 100,
         "offsetgroup": "",
         "orientation": "v",
         "showlegend": false,
         "type": "histogram",
         "x": [
          70.014,
          57.315,
          3.53,
          40.925,
          53.859,
          20.765,
          24.275,
          10.565,
          5.618,
          11.62,
          22.045,
          35.03,
          35.03,
          31.371,
          22.717,
          30.946,
          13.02,
          5.835,
          21.328,
          31.639,
          14.102,
          5.953,
          29.335,
          22.992,
          7.29,
          13.296,
          13.141,
          4.685,
          4.685,
          9.235,
          9.825,
          15.274,
          13.64,
          13.165,
          12.094,
          13.847,
          9.592,
          17.198,
          2.972,
          10.85,
          12.765,
          7.656,
          6.894,
          1.102,
          7.109,
          13.713,
          13.647,
          10.13,
          27.513,
          5.906,
          6.578,
          6.058,
          4.79,
          5.172,
          2.147,
          2.815,
          6.013,
          9.124,
          9.947,
          9.247,
          6.27,
          10.512,
          5.066,
          5.202,
          6.923,
          6.27,
          5.656,
          1.223,
          3.089,
          6.25,
          4.358,
          6.943,
          7.146,
          0.998,
          13.647,
          5.621,
          4.856,
          null,
          5.789,
          5.035,
          6.707,
          9.409,
          1.767,
          5.74,
          2.641,
          2.817,
          null,
          7.575,
          4.253,
          4.253,
          8.99,
          8.976,
          0.924,
          10.523,
          2.007,
          2.668,
          1.202,
          2.919,
          5.817,
          9.762,
          0.895,
          7.339,
          1.414,
          5.895,
          6.074,
          3.129,
          4.474,
          9.685,
          6.474,
          5.784,
          5.092,
          9.654,
          6.331,
          7.051,
          0,
          0,
          7.524,
          0,
          2.114,
          4.678,
          4.323,
          3.76,
          6.501,
          2.831,
          3.434,
          4.101,
          3.641,
          1.761,
          2.106,
          2.06,
          4.261,
          2.107,
          0.945,
          2.258,
          2.005,
          5.934,
          3.193,
          9.861,
          5.459,
          5.858,
          3.563,
          5.141,
          3.987,
          3.695,
          3.593,
          9.333,
          1.071,
          3.322,
          0.904,
          2.395,
          1.755,
          5.32,
          2.834,
          0.672,
          1.84,
          2.456,
          1.339,
          0.479,
          4.976,
          3.877,
          2.341,
          6.923,
          2.848,
          3.323,
          1.802,
          3.999,
          3.394,
          2.666,
          3.394,
          3.394,
          3.216,
          3.472,
          5.592,
          6.474,
          3.889,
          3.667,
          4.942,
          27.513,
          4.102,
          5.503,
          4.209,
          0,
          1.557,
          4.345,
          2.478,
          2.395,
          2.364,
          3.655,
          3.352,
          1.568,
          1.602,
          4.358,
          2.258,
          1.609,
          1.609,
          0.939,
          1.621,
          4.985,
          1.673,
          2.666,
          2.176,
          0.452,
          null,
          5.592,
          2.392,
          5.401,
          2.053,
          3.761,
          2.058,
          4.133,
          2.714,
          1.206,
          3.156,
          0.687,
          4.249,
          3.396,
          3.396,
          1.17,
          0.851,
          null,
          2.176,
          3.448,
          3.262,
          2.509,
          2.007,
          1.193,
          2.441,
          2.955,
          2.298,
          3.56,
          3.237,
          1.067,
          3.386,
          2.257,
          3.116,
          3.603,
          1.419,
          2.701,
          2.026,
          1.736,
          3.649,
          1.184,
          1.306,
          1.091,
          2.279,
          1.359,
          1.564,
          1.82,
          1.847,
          2.144,
          0.818,
          2.579,
          1.007,
          0.865,
          0.818,
          2.749,
          1.984,
          0.197,
          2.367,
          1.137,
          1.244,
          1.601,
          1.663,
          1.715,
          0.301,
          1.339,
          1.441,
          3.029,
          0.819,
          3.046,
          2.007,
          1.393,
          2.174,
          0.865,
          1.806,
          0.852,
          2.22,
          0.431,
          1.728,
          3.444,
          2.079,
          0.881,
          2.099,
          2.17,
          2.929,
          3.469,
          2.934,
          3.523,
          null,
          0.869,
          2.986,
          4.837,
          1.644,
          1.109,
          1.822,
          0.686,
          1.995,
          1.12,
          1.378,
          1.17,
          1.404,
          1.508,
          1.508,
          0.978,
          0.945,
          1.747,
          0.947,
          2.282,
          1.989,
          2.342,
          0.864,
          1,
          1.932,
          2.155,
          2.251,
          3.083,
          1.942,
          1.928,
          3.386,
          1.109,
          0.389,
          0.976,
          1.85,
          0,
          1.321,
          0.613,
          1.33,
          4.822,
          0,
          1.162,
          1.314,
          1.416,
          1.133,
          1.731,
          2.282,
          0.823,
          1.045,
          1.55,
          0.983,
          1.7,
          1.326,
          2.182,
          1.369,
          1.984,
          0.502,
          1.415,
          1.823,
          2.54,
          1.008,
          0.218,
          0,
          1.173,
          0.965,
          2.927,
          0.261,
          1.045,
          1.045,
          0.823,
          0.694,
          0.864,
          1.283,
          0.955,
          1.102,
          1.183,
          1.488,
          1.928,
          1.619,
          1.108,
          1.252,
          0.812,
          0.867,
          1.293,
          1.759,
          0.654,
          1.466,
          0.93,
          0.93,
          2.927,
          1.389,
          1.254,
          1.73,
          2.175,
          1.608,
          2.458,
          2.202,
          2.257,
          0.396,
          2.257,
          1.344,
          0.875,
          1.644,
          1.564,
          1.954,
          0.719,
          1.056,
          0,
          1.595,
          0.684,
          1.977,
          7.524,
          0,
          0,
          0,
          0,
          0,
          0,
          0,
          0,
          0,
          0,
          0,
          0,
          0,
          0,
          0,
          0,
          0,
          0,
          0,
          null,
          null,
          null,
          1.514,
          1.389,
          0,
          1.14,
          1.7,
          0.819,
          3.771,
          2.237,
          null,
          4.167,
          1.19,
          1.345,
          1.303,
          0.607,
          1.352,
          1.561,
          1.16,
          0.864,
          1.617,
          0.455,
          3.296,
          0.684,
          0.882,
          0.448,
          0.448,
          1.108,
          null,
          1.561,
          0.995,
          0.568,
          0.568,
          1.16,
          1.254,
          0.449,
          1.041,
          0.93,
          0.897,
          0,
          0,
          0,
          0,
          0,
          0,
          0,
          0,
          0,
          0,
          null,
          null,
          2.368,
          0.347,
          0,
          0.468,
          0.867,
          0.528,
          0.753,
          0.598,
          0.221,
          0.93,
          1.331,
          0.971,
          1.027,
          0.703,
          0,
          0.536,
          0.695,
          0.893,
          0.115,
          3.298,
          0.41,
          5.316,
          0.184,
          1.118,
          1.028,
          0.69,
          1.2,
          1.331,
          0.971,
          0.383,
          0.869,
          0.893,
          0.684,
          0.684,
          0.797,
          0.575,
          0.384,
          0.32,
          0.893,
          0,
          1.098,
          0.453,
          0.775,
          2.644,
          0,
          0.204,
          0.315,
          0.888,
          0.796,
          0.733,
          0.602,
          0.539,
          0.991,
          1.05,
          0.938,
          1.055,
          0,
          0.529,
          0.362,
          0.171,
          0.171,
          0.837,
          0.506,
          0.133,
          0.924,
          8.677,
          0.819,
          0.964,
          0.668,
          0.791,
          0.521,
          0.31,
          null,
          0.338,
          0.379,
          0,
          0.704,
          0.201,
          0.565,
          0.368,
          0.547,
          0.753,
          0.601,
          0.462,
          0.119,
          0.223,
          0.554,
          0.75,
          null,
          0.212,
          0,
          0,
          0.3,
          0.231,
          0.799,
          0.614,
          0.291,
          0,
          0.401,
          0.647,
          0,
          0,
          0.807,
          0.564,
          0.725,
          0.173,
          0.657,
          0,
          null,
          0.407,
          0.462,
          0.462,
          0,
          0.407,
          0.574,
          0.18,
          0.73,
          0.395,
          0.647,
          0.316,
          0,
          0,
          0.201,
          0,
          3.766,
          0.326,
          0.407,
          3.528,
          0,
          0.283,
          0.283,
          null,
          0.161,
          0,
          null,
          0,
          0,
          0,
          0,
          0,
          null,
          0,
          0,
          0,
          0,
          0,
          0.881,
          null,
          0.785,
          0,
          0.251,
          0.148,
          0.596,
          0.939,
          0.168,
          0.939,
          0.113,
          0.288,
          0,
          0,
          0,
          0,
          0,
          0,
          0,
          0,
          0,
          0,
          0,
          0,
          0,
          0,
          0,
          0,
          null,
          0,
          0,
          0,
          0,
          0,
          0,
          0,
          0,
          0,
          0,
          0,
          0,
          null,
          0,
          0,
          0,
          0,
          0,
          0,
          0,
          0,
          0,
          0,
          null,
          0,
          0,
          0,
          0,
          0,
          0,
          0,
          0,
          0,
          0,
          0,
          0,
          0,
          0,
          0,
          0,
          0,
          0,
          0,
          0,
          0,
          0,
          null,
          null,
          null,
          0,
          0,
          null,
          0,
          0,
          null,
          0,
          0,
          0,
          0,
          0,
          null,
          0,
          0,
          0,
          0,
          0,
          0,
          null,
          0,
          null,
          0,
          0,
          0,
          0,
          0
         ],
         "xaxis": "x",
         "yaxis": "y"
        }
       ],
       "layout": {
        "bargap": 0.1,
        "barmode": "relative",
        "legend": {
         "tracegroupgap": 0
        },
        "template": {
         "data": {
          "bar": [
           {
            "error_x": {
             "color": "#2a3f5f"
            },
            "error_y": {
             "color": "#2a3f5f"
            },
            "marker": {
             "line": {
              "color": "white",
              "width": 0.5
             },
             "pattern": {
              "fillmode": "overlay",
              "size": 10,
              "solidity": 0.2
             }
            },
            "type": "bar"
           }
          ],
          "barpolar": [
           {
            "marker": {
             "line": {
              "color": "white",
              "width": 0.5
             },
             "pattern": {
              "fillmode": "overlay",
              "size": 10,
              "solidity": 0.2
             }
            },
            "type": "barpolar"
           }
          ],
          "carpet": [
           {
            "aaxis": {
             "endlinecolor": "#2a3f5f",
             "gridcolor": "#C8D4E3",
             "linecolor": "#C8D4E3",
             "minorgridcolor": "#C8D4E3",
             "startlinecolor": "#2a3f5f"
            },
            "baxis": {
             "endlinecolor": "#2a3f5f",
             "gridcolor": "#C8D4E3",
             "linecolor": "#C8D4E3",
             "minorgridcolor": "#C8D4E3",
             "startlinecolor": "#2a3f5f"
            },
            "type": "carpet"
           }
          ],
          "choropleth": [
           {
            "colorbar": {
             "outlinewidth": 0,
             "ticks": ""
            },
            "type": "choropleth"
           }
          ],
          "contour": [
           {
            "colorbar": {
             "outlinewidth": 0,
             "ticks": ""
            },
            "colorscale": [
             [
              0,
              "#0d0887"
             ],
             [
              0.1111111111111111,
              "#46039f"
             ],
             [
              0.2222222222222222,
              "#7201a8"
             ],
             [
              0.3333333333333333,
              "#9c179e"
             ],
             [
              0.4444444444444444,
              "#bd3786"
             ],
             [
              0.5555555555555556,
              "#d8576b"
             ],
             [
              0.6666666666666666,
              "#ed7953"
             ],
             [
              0.7777777777777778,
              "#fb9f3a"
             ],
             [
              0.8888888888888888,
              "#fdca26"
             ],
             [
              1,
              "#f0f921"
             ]
            ],
            "type": "contour"
           }
          ],
          "contourcarpet": [
           {
            "colorbar": {
             "outlinewidth": 0,
             "ticks": ""
            },
            "type": "contourcarpet"
           }
          ],
          "heatmap": [
           {
            "colorbar": {
             "outlinewidth": 0,
             "ticks": ""
            },
            "colorscale": [
             [
              0,
              "#0d0887"
             ],
             [
              0.1111111111111111,
              "#46039f"
             ],
             [
              0.2222222222222222,
              "#7201a8"
             ],
             [
              0.3333333333333333,
              "#9c179e"
             ],
             [
              0.4444444444444444,
              "#bd3786"
             ],
             [
              0.5555555555555556,
              "#d8576b"
             ],
             [
              0.6666666666666666,
              "#ed7953"
             ],
             [
              0.7777777777777778,
              "#fb9f3a"
             ],
             [
              0.8888888888888888,
              "#fdca26"
             ],
             [
              1,
              "#f0f921"
             ]
            ],
            "type": "heatmap"
           }
          ],
          "heatmapgl": [
           {
            "colorbar": {
             "outlinewidth": 0,
             "ticks": ""
            },
            "colorscale": [
             [
              0,
              "#0d0887"
             ],
             [
              0.1111111111111111,
              "#46039f"
             ],
             [
              0.2222222222222222,
              "#7201a8"
             ],
             [
              0.3333333333333333,
              "#9c179e"
             ],
             [
              0.4444444444444444,
              "#bd3786"
             ],
             [
              0.5555555555555556,
              "#d8576b"
             ],
             [
              0.6666666666666666,
              "#ed7953"
             ],
             [
              0.7777777777777778,
              "#fb9f3a"
             ],
             [
              0.8888888888888888,
              "#fdca26"
             ],
             [
              1,
              "#f0f921"
             ]
            ],
            "type": "heatmapgl"
           }
          ],
          "histogram": [
           {
            "marker": {
             "pattern": {
              "fillmode": "overlay",
              "size": 10,
              "solidity": 0.2
             }
            },
            "type": "histogram"
           }
          ],
          "histogram2d": [
           {
            "colorbar": {
             "outlinewidth": 0,
             "ticks": ""
            },
            "colorscale": [
             [
              0,
              "#0d0887"
             ],
             [
              0.1111111111111111,
              "#46039f"
             ],
             [
              0.2222222222222222,
              "#7201a8"
             ],
             [
              0.3333333333333333,
              "#9c179e"
             ],
             [
              0.4444444444444444,
              "#bd3786"
             ],
             [
              0.5555555555555556,
              "#d8576b"
             ],
             [
              0.6666666666666666,
              "#ed7953"
             ],
             [
              0.7777777777777778,
              "#fb9f3a"
             ],
             [
              0.8888888888888888,
              "#fdca26"
             ],
             [
              1,
              "#f0f921"
             ]
            ],
            "type": "histogram2d"
           }
          ],
          "histogram2dcontour": [
           {
            "colorbar": {
             "outlinewidth": 0,
             "ticks": ""
            },
            "colorscale": [
             [
              0,
              "#0d0887"
             ],
             [
              0.1111111111111111,
              "#46039f"
             ],
             [
              0.2222222222222222,
              "#7201a8"
             ],
             [
              0.3333333333333333,
              "#9c179e"
             ],
             [
              0.4444444444444444,
              "#bd3786"
             ],
             [
              0.5555555555555556,
              "#d8576b"
             ],
             [
              0.6666666666666666,
              "#ed7953"
             ],
             [
              0.7777777777777778,
              "#fb9f3a"
             ],
             [
              0.8888888888888888,
              "#fdca26"
             ],
             [
              1,
              "#f0f921"
             ]
            ],
            "type": "histogram2dcontour"
           }
          ],
          "mesh3d": [
           {
            "colorbar": {
             "outlinewidth": 0,
             "ticks": ""
            },
            "type": "mesh3d"
           }
          ],
          "parcoords": [
           {
            "line": {
             "colorbar": {
              "outlinewidth": 0,
              "ticks": ""
             }
            },
            "type": "parcoords"
           }
          ],
          "pie": [
           {
            "automargin": true,
            "type": "pie"
           }
          ],
          "scatter": [
           {
            "fillpattern": {
             "fillmode": "overlay",
             "size": 10,
             "solidity": 0.2
            },
            "type": "scatter"
           }
          ],
          "scatter3d": [
           {
            "line": {
             "colorbar": {
              "outlinewidth": 0,
              "ticks": ""
             }
            },
            "marker": {
             "colorbar": {
              "outlinewidth": 0,
              "ticks": ""
             }
            },
            "type": "scatter3d"
           }
          ],
          "scattercarpet": [
           {
            "marker": {
             "colorbar": {
              "outlinewidth": 0,
              "ticks": ""
             }
            },
            "type": "scattercarpet"
           }
          ],
          "scattergeo": [
           {
            "marker": {
             "colorbar": {
              "outlinewidth": 0,
              "ticks": ""
             }
            },
            "type": "scattergeo"
           }
          ],
          "scattergl": [
           {
            "marker": {
             "colorbar": {
              "outlinewidth": 0,
              "ticks": ""
             }
            },
            "type": "scattergl"
           }
          ],
          "scattermapbox": [
           {
            "marker": {
             "colorbar": {
              "outlinewidth": 0,
              "ticks": ""
             }
            },
            "type": "scattermapbox"
           }
          ],
          "scatterpolar": [
           {
            "marker": {
             "colorbar": {
              "outlinewidth": 0,
              "ticks": ""
             }
            },
            "type": "scatterpolar"
           }
          ],
          "scatterpolargl": [
           {
            "marker": {
             "colorbar": {
              "outlinewidth": 0,
              "ticks": ""
             }
            },
            "type": "scatterpolargl"
           }
          ],
          "scatterternary": [
           {
            "marker": {
             "colorbar": {
              "outlinewidth": 0,
              "ticks": ""
             }
            },
            "type": "scatterternary"
           }
          ],
          "surface": [
           {
            "colorbar": {
             "outlinewidth": 0,
             "ticks": ""
            },
            "colorscale": [
             [
              0,
              "#0d0887"
             ],
             [
              0.1111111111111111,
              "#46039f"
             ],
             [
              0.2222222222222222,
              "#7201a8"
             ],
             [
              0.3333333333333333,
              "#9c179e"
             ],
             [
              0.4444444444444444,
              "#bd3786"
             ],
             [
              0.5555555555555556,
              "#d8576b"
             ],
             [
              0.6666666666666666,
              "#ed7953"
             ],
             [
              0.7777777777777778,
              "#fb9f3a"
             ],
             [
              0.8888888888888888,
              "#fdca26"
             ],
             [
              1,
              "#f0f921"
             ]
            ],
            "type": "surface"
           }
          ],
          "table": [
           {
            "cells": {
             "fill": {
              "color": "#EBF0F8"
             },
             "line": {
              "color": "white"
             }
            },
            "header": {
             "fill": {
              "color": "#C8D4E3"
             },
             "line": {
              "color": "white"
             }
            },
            "type": "table"
           }
          ]
         },
         "layout": {
          "annotationdefaults": {
           "arrowcolor": "#2a3f5f",
           "arrowhead": 0,
           "arrowwidth": 1
          },
          "autotypenumbers": "strict",
          "coloraxis": {
           "colorbar": {
            "outlinewidth": 0,
            "ticks": ""
           }
          },
          "colorscale": {
           "diverging": [
            [
             0,
             "#8e0152"
            ],
            [
             0.1,
             "#c51b7d"
            ],
            [
             0.2,
             "#de77ae"
            ],
            [
             0.3,
             "#f1b6da"
            ],
            [
             0.4,
             "#fde0ef"
            ],
            [
             0.5,
             "#f7f7f7"
            ],
            [
             0.6,
             "#e6f5d0"
            ],
            [
             0.7,
             "#b8e186"
            ],
            [
             0.8,
             "#7fbc41"
            ],
            [
             0.9,
             "#4d9221"
            ],
            [
             1,
             "#276419"
            ]
           ],
           "sequential": [
            [
             0,
             "#0d0887"
            ],
            [
             0.1111111111111111,
             "#46039f"
            ],
            [
             0.2222222222222222,
             "#7201a8"
            ],
            [
             0.3333333333333333,
             "#9c179e"
            ],
            [
             0.4444444444444444,
             "#bd3786"
            ],
            [
             0.5555555555555556,
             "#d8576b"
            ],
            [
             0.6666666666666666,
             "#ed7953"
            ],
            [
             0.7777777777777778,
             "#fb9f3a"
            ],
            [
             0.8888888888888888,
             "#fdca26"
            ],
            [
             1,
             "#f0f921"
            ]
           ],
           "sequentialminus": [
            [
             0,
             "#0d0887"
            ],
            [
             0.1111111111111111,
             "#46039f"
            ],
            [
             0.2222222222222222,
             "#7201a8"
            ],
            [
             0.3333333333333333,
             "#9c179e"
            ],
            [
             0.4444444444444444,
             "#bd3786"
            ],
            [
             0.5555555555555556,
             "#d8576b"
            ],
            [
             0.6666666666666666,
             "#ed7953"
            ],
            [
             0.7777777777777778,
             "#fb9f3a"
            ],
            [
             0.8888888888888888,
             "#fdca26"
            ],
            [
             1,
             "#f0f921"
            ]
           ]
          },
          "colorway": [
           "#636efa",
           "#EF553B",
           "#00cc96",
           "#ab63fa",
           "#FFA15A",
           "#19d3f3",
           "#FF6692",
           "#B6E880",
           "#FF97FF",
           "#FECB52"
          ],
          "font": {
           "color": "#2a3f5f"
          },
          "geo": {
           "bgcolor": "white",
           "lakecolor": "white",
           "landcolor": "white",
           "showlakes": true,
           "showland": true,
           "subunitcolor": "#C8D4E3"
          },
          "hoverlabel": {
           "align": "left"
          },
          "hovermode": "closest",
          "mapbox": {
           "style": "light"
          },
          "paper_bgcolor": "white",
          "plot_bgcolor": "white",
          "polar": {
           "angularaxis": {
            "gridcolor": "#EBF0F8",
            "linecolor": "#EBF0F8",
            "ticks": ""
           },
           "bgcolor": "white",
           "radialaxis": {
            "gridcolor": "#EBF0F8",
            "linecolor": "#EBF0F8",
            "ticks": ""
           }
          },
          "scene": {
           "xaxis": {
            "backgroundcolor": "white",
            "gridcolor": "#DFE8F3",
            "gridwidth": 2,
            "linecolor": "#EBF0F8",
            "showbackground": true,
            "ticks": "",
            "zerolinecolor": "#EBF0F8"
           },
           "yaxis": {
            "backgroundcolor": "white",
            "gridcolor": "#DFE8F3",
            "gridwidth": 2,
            "linecolor": "#EBF0F8",
            "showbackground": true,
            "ticks": "",
            "zerolinecolor": "#EBF0F8"
           },
           "zaxis": {
            "backgroundcolor": "white",
            "gridcolor": "#DFE8F3",
            "gridwidth": 2,
            "linecolor": "#EBF0F8",
            "showbackground": true,
            "ticks": "",
            "zerolinecolor": "#EBF0F8"
           }
          },
          "shapedefaults": {
           "line": {
            "color": "#2a3f5f"
           }
          },
          "ternary": {
           "aaxis": {
            "gridcolor": "#DFE8F3",
            "linecolor": "#A2B1C6",
            "ticks": ""
           },
           "baxis": {
            "gridcolor": "#DFE8F3",
            "linecolor": "#A2B1C6",
            "ticks": ""
           },
           "bgcolor": "white",
           "caxis": {
            "gridcolor": "#DFE8F3",
            "linecolor": "#A2B1C6",
            "ticks": ""
           }
          },
          "title": {
           "x": 0.05
          },
          "xaxis": {
           "automargin": true,
           "gridcolor": "#EBF0F8",
           "linecolor": "#EBF0F8",
           "ticks": "",
           "title": {
            "standoff": 15
           },
           "zerolinecolor": "#EBF0F8",
           "zerolinewidth": 2
          },
          "yaxis": {
           "automargin": true,
           "gridcolor": "#EBF0F8",
           "linecolor": "#EBF0F8",
           "ticks": "",
           "title": {
            "standoff": 15
           },
           "zerolinecolor": "#EBF0F8",
           "zerolinewidth": 2
          }
         }
        },
        "title": {
         "text": "NU-sjukvården forskningskvalitet (FWCI)"
        },
        "xaxis": {
         "anchor": "y",
         "domain": [
          0,
          1
         ],
         "title": {
          "text": "FWCI"
         }
        },
        "yaxis": {
         "anchor": "x",
         "domain": [
          0,
          1
         ],
         "title": {
          "text": "Frequency"
         }
        }
       }
      }
     },
     "metadata": {},
     "output_type": "display_data"
    }
   ],
   "source": [
    "import plotly.express as px\n",
    "\n",
    "# Create a histogram for the FWCI column using Plotly\n",
    "fig = px.histogram(\n",
    "    df,\n",
    "    x='fwci',\n",
    "    nbins=100,  # Set the number of bins\n",
    "    title='NU-sjukvården forskningskvalitet (FWCI)',\n",
    "    labels={'fwci': 'Field-Weighted Citation Impact (FWCI)'},\n",
    ")\n",
    "\n",
    "# Update layout for better visualization\n",
    "fig.update_layout(\n",
    "    xaxis_title='FWCI',\n",
    "    yaxis_title='Frequency',\n",
    "    bargap=0.1,  # Adjust gap between bars\n",
    "    template='plotly_white'\n",
    ")\n",
    "\n",
    "# Show the figure\n",
    "fig.show()"
   ]
  },
  {
   "cell_type": "markdown",
   "metadata": {},
   "source": [
    "FWCI is the ratio of the actual number of citations received by an output to date and the `expected' number for an output with similar characteristics. `Expected' refers to average citations over the previous three years for all Scopus outputs of the same age, document type and field."
   ]
  },
  {
   "cell_type": "code",
   "execution_count": 39,
   "metadata": {},
   "outputs": [
    {
     "data": {
      "application/vnd.plotly.v1+json": {
       "config": {
        "plotlyServerURL": "https://plot.ly"
       },
       "data": [
        {
         "alignmentgroup": "True",
         "hovertemplate": "primary_topic.subfield.display_name=Economics and Econometrics<br>Publication Year=%{x}<br>Count of Publications=%{y}<extra></extra>",
         "legendgroup": "Economics and Econometrics",
         "marker": {
          "color": "#636efa",
          "pattern": {
           "shape": ""
          }
         },
         "name": "Economics and Econometrics",
         "offsetgroup": "Economics and Econometrics",
         "orientation": "v",
         "showlegend": true,
         "textposition": "auto",
         "type": "bar",
         "x": [
          1993
         ],
         "xaxis": "x",
         "y": [
          2
         ],
         "yaxis": "y"
        },
        {
         "alignmentgroup": "True",
         "hovertemplate": "primary_topic.subfield.display_name=Speech and Hearing<br>Publication Year=%{x}<br>Count of Publications=%{y}<extra></extra>",
         "legendgroup": "Speech and Hearing",
         "marker": {
          "color": "#EF553B",
          "pattern": {
           "shape": ""
          }
         },
         "name": "Speech and Hearing",
         "offsetgroup": "Speech and Hearing",
         "orientation": "v",
         "showlegend": true,
         "textposition": "auto",
         "type": "bar",
         "x": [
          1998,
          2001,
          2017,
          2021
         ],
         "xaxis": "x",
         "y": [
          1,
          1,
          1,
          1
         ],
         "yaxis": "y"
        },
        {
         "alignmentgroup": "True",
         "hovertemplate": "primary_topic.subfield.display_name=Experimental and Cognitive Psychology<br>Publication Year=%{x}<br>Count of Publications=%{y}<extra></extra>",
         "legendgroup": "Experimental and Cognitive Psychology",
         "marker": {
          "color": "#00cc96",
          "pattern": {
           "shape": ""
          }
         },
         "name": "Experimental and Cognitive Psychology",
         "offsetgroup": "Experimental and Cognitive Psychology",
         "orientation": "v",
         "showlegend": true,
         "textposition": "auto",
         "type": "bar",
         "x": [
          2000,
          2014,
          2018,
          2019
         ],
         "xaxis": "x",
         "y": [
          1,
          1,
          1,
          1
         ],
         "yaxis": "y"
        },
        {
         "alignmentgroup": "True",
         "hovertemplate": "primary_topic.subfield.display_name=Organizational Behavior and Human Resource Management<br>Publication Year=%{x}<br>Count of Publications=%{y}<extra></extra>",
         "legendgroup": "Organizational Behavior and Human Resource Management",
         "marker": {
          "color": "#ab63fa",
          "pattern": {
           "shape": ""
          }
         },
         "name": "Organizational Behavior and Human Resource Management",
         "offsetgroup": "Organizational Behavior and Human Resource Management",
         "orientation": "v",
         "showlegend": true,
         "textposition": "auto",
         "type": "bar",
         "x": [
          2000,
          2003,
          2022
         ],
         "xaxis": "x",
         "y": [
          1,
          1,
          1
         ],
         "yaxis": "y"
        },
        {
         "alignmentgroup": "True",
         "hovertemplate": "primary_topic.subfield.display_name=Artificial Intelligence<br>Publication Year=%{x}<br>Count of Publications=%{y}<extra></extra>",
         "legendgroup": "Artificial Intelligence",
         "marker": {
          "color": "#FFA15A",
          "pattern": {
           "shape": ""
          }
         },
         "name": "Artificial Intelligence",
         "offsetgroup": "Artificial Intelligence",
         "orientation": "v",
         "showlegend": true,
         "textposition": "auto",
         "type": "bar",
         "x": [
          2001,
          2021
         ],
         "xaxis": "x",
         "y": [
          1,
          1
         ],
         "yaxis": "y"
        },
        {
         "alignmentgroup": "True",
         "hovertemplate": "primary_topic.subfield.display_name=Language and Linguistics<br>Publication Year=%{x}<br>Count of Publications=%{y}<extra></extra>",
         "legendgroup": "Language and Linguistics",
         "marker": {
          "color": "#19d3f3",
          "pattern": {
           "shape": ""
          }
         },
         "name": "Language and Linguistics",
         "offsetgroup": "Language and Linguistics",
         "orientation": "v",
         "showlegend": true,
         "textposition": "auto",
         "type": "bar",
         "x": [
          2001,
          2019
         ],
         "xaxis": "x",
         "y": [
          1,
          1
         ],
         "yaxis": "y"
        },
        {
         "alignmentgroup": "True",
         "hovertemplate": "primary_topic.subfield.display_name=Pharmacology<br>Publication Year=%{x}<br>Count of Publications=%{y}<extra></extra>",
         "legendgroup": "Pharmacology",
         "marker": {
          "color": "#FF6692",
          "pattern": {
           "shape": ""
          }
         },
         "name": "Pharmacology",
         "offsetgroup": "Pharmacology",
         "orientation": "v",
         "showlegend": true,
         "textposition": "auto",
         "type": "bar",
         "x": [
          2001,
          2007,
          2023
         ],
         "xaxis": "x",
         "y": [
          1,
          1,
          1
         ],
         "yaxis": "y"
        },
        {
         "alignmentgroup": "True",
         "hovertemplate": "primary_topic.subfield.display_name=Philosophy<br>Publication Year=%{x}<br>Count of Publications=%{y}<extra></extra>",
         "legendgroup": "Philosophy",
         "marker": {
          "color": "#B6E880",
          "pattern": {
           "shape": ""
          }
         },
         "name": "Philosophy",
         "offsetgroup": "Philosophy",
         "orientation": "v",
         "showlegend": true,
         "textposition": "auto",
         "type": "bar",
         "x": [
          2002,
          2019,
          2020
         ],
         "xaxis": "x",
         "y": [
          1,
          1,
          1
         ],
         "yaxis": "y"
        },
        {
         "alignmentgroup": "True",
         "hovertemplate": "primary_topic.subfield.display_name=Cardiology and Cardiovascular Medicine<br>Publication Year=%{x}<br>Count of Publications=%{y}<extra></extra>",
         "legendgroup": "Cardiology and Cardiovascular Medicine",
         "marker": {
          "color": "#FF97FF",
          "pattern": {
           "shape": ""
          }
         },
         "name": "Cardiology and Cardiovascular Medicine",
         "offsetgroup": "Cardiology and Cardiovascular Medicine",
         "orientation": "v",
         "showlegend": true,
         "textposition": "auto",
         "type": "bar",
         "x": [
          2003,
          2009,
          2010,
          2011,
          2013,
          2014,
          2016,
          2017,
          2019,
          2020,
          2021,
          2023,
          2024
         ],
         "xaxis": "x",
         "y": [
          1,
          1,
          3,
          2,
          3,
          1,
          4,
          1,
          3,
          2,
          1,
          2,
          2
         ],
         "yaxis": "y"
        },
        {
         "alignmentgroup": "True",
         "hovertemplate": "primary_topic.subfield.display_name=Emergency Medicine<br>Publication Year=%{x}<br>Count of Publications=%{y}<extra></extra>",
         "legendgroup": "Emergency Medicine",
         "marker": {
          "color": "#FECB52",
          "pattern": {
           "shape": ""
          }
         },
         "name": "Emergency Medicine",
         "offsetgroup": "Emergency Medicine",
         "orientation": "v",
         "showlegend": true,
         "textposition": "auto",
         "type": "bar",
         "x": [
          2003,
          2009,
          2010,
          2012,
          2016,
          2018,
          2021,
          2022
         ],
         "xaxis": "x",
         "y": [
          1,
          1,
          2,
          1,
          1,
          1,
          2,
          2
         ],
         "yaxis": "y"
        },
        {
         "alignmentgroup": "True",
         "hovertemplate": "primary_topic.subfield.display_name=Hematology<br>Publication Year=%{x}<br>Count of Publications=%{y}<extra></extra>",
         "legendgroup": "Hematology",
         "marker": {
          "color": "#636efa",
          "pattern": {
           "shape": ""
          }
         },
         "name": "Hematology",
         "offsetgroup": "Hematology",
         "orientation": "v",
         "showlegend": true,
         "textposition": "auto",
         "type": "bar",
         "x": [
          2003,
          2012,
          2014,
          2016,
          2018,
          2019,
          2020,
          2021,
          2022,
          2023
         ],
         "xaxis": "x",
         "y": [
          1,
          1,
          1,
          1,
          1,
          1,
          3,
          1,
          1,
          1
         ],
         "yaxis": "y"
        },
        {
         "alignmentgroup": "True",
         "hovertemplate": "primary_topic.subfield.display_name=General Health Professions<br>Publication Year=%{x}<br>Count of Publications=%{y}<extra></extra>",
         "legendgroup": "General Health Professions",
         "marker": {
          "color": "#EF553B",
          "pattern": {
           "shape": ""
          }
         },
         "name": "General Health Professions",
         "offsetgroup": "General Health Professions",
         "orientation": "v",
         "showlegend": true,
         "textposition": "auto",
         "type": "bar",
         "x": [
          2004,
          2005,
          2007,
          2011,
          2012,
          2013,
          2017,
          2019,
          2021,
          2022,
          2023,
          2024
         ],
         "xaxis": "x",
         "y": [
          1,
          1,
          1,
          2,
          2,
          2,
          2,
          3,
          2,
          1,
          1,
          1
         ],
         "yaxis": "y"
        },
        {
         "alignmentgroup": "True",
         "hovertemplate": "primary_topic.subfield.display_name=Research and Theory<br>Publication Year=%{x}<br>Count of Publications=%{y}<extra></extra>",
         "legendgroup": "Research and Theory",
         "marker": {
          "color": "#00cc96",
          "pattern": {
           "shape": ""
          }
         },
         "name": "Research and Theory",
         "offsetgroup": "Research and Theory",
         "orientation": "v",
         "showlegend": true,
         "textposition": "auto",
         "type": "bar",
         "x": [
          2004,
          2014,
          2022
         ],
         "xaxis": "x",
         "y": [
          1,
          1,
          1
         ],
         "yaxis": "y"
        },
        {
         "alignmentgroup": "True",
         "hovertemplate": "primary_topic.subfield.display_name=Nutrition and Dietetics<br>Publication Year=%{x}<br>Count of Publications=%{y}<extra></extra>",
         "legendgroup": "Nutrition and Dietetics",
         "marker": {
          "color": "#ab63fa",
          "pattern": {
           "shape": ""
          }
         },
         "name": "Nutrition and Dietetics",
         "offsetgroup": "Nutrition and Dietetics",
         "orientation": "v",
         "showlegend": true,
         "textposition": "auto",
         "type": "bar",
         "x": [
          2005,
          2017
         ],
         "xaxis": "x",
         "y": [
          1,
          1
         ],
         "yaxis": "y"
        },
        {
         "alignmentgroup": "True",
         "hovertemplate": "primary_topic.subfield.display_name=Public Health, Environmental and Occupational Health<br>Publication Year=%{x}<br>Count of Publications=%{y}<extra></extra>",
         "legendgroup": "Public Health, Environmental and Occupational Health",
         "marker": {
          "color": "#FFA15A",
          "pattern": {
           "shape": ""
          }
         },
         "name": "Public Health, Environmental and Occupational Health",
         "offsetgroup": "Public Health, Environmental and Occupational Health",
         "orientation": "v",
         "showlegend": true,
         "textposition": "auto",
         "type": "bar",
         "x": [
          2005,
          2006,
          2014,
          2016,
          2018,
          2019,
          2020,
          2021,
          2022,
          2023,
          2024
         ],
         "xaxis": "x",
         "y": [
          1,
          1,
          2,
          2,
          1,
          2,
          1,
          3,
          2,
          3,
          2
         ],
         "yaxis": "y"
        },
        {
         "alignmentgroup": "True",
         "hovertemplate": "primary_topic.subfield.display_name=Surgery<br>Publication Year=%{x}<br>Count of Publications=%{y}<extra></extra>",
         "legendgroup": "Surgery",
         "marker": {
          "color": "#19d3f3",
          "pattern": {
           "shape": ""
          }
         },
         "name": "Surgery",
         "offsetgroup": "Surgery",
         "orientation": "v",
         "showlegend": true,
         "textposition": "auto",
         "type": "bar",
         "x": [
          2005,
          2006,
          2007,
          2008,
          2009,
          2010,
          2011,
          2012,
          2013,
          2014,
          2015,
          2016,
          2017,
          2018,
          2019,
          2020,
          2021,
          2022,
          2023,
          2024
         ],
         "xaxis": "x",
         "y": [
          1,
          2,
          1,
          1,
          4,
          5,
          5,
          7,
          5,
          7,
          5,
          9,
          7,
          10,
          4,
          10,
          7,
          5,
          10,
          12
         ],
         "yaxis": "y"
        },
        {
         "alignmentgroup": "True",
         "hovertemplate": "primary_topic.subfield.display_name=Psychiatry and Mental health<br>Publication Year=%{x}<br>Count of Publications=%{y}<extra></extra>",
         "legendgroup": "Psychiatry and Mental health",
         "marker": {
          "color": "#FF6692",
          "pattern": {
           "shape": ""
          }
         },
         "name": "Psychiatry and Mental health",
         "offsetgroup": "Psychiatry and Mental health",
         "orientation": "v",
         "showlegend": true,
         "textposition": "auto",
         "type": "bar",
         "x": [
          2006,
          2007,
          2009,
          2010,
          2011,
          2012,
          2015,
          2016,
          2017,
          2018,
          2019,
          2020,
          2021,
          2022,
          2023,
          2024
         ],
         "xaxis": "x",
         "y": [
          1,
          3,
          1,
          2,
          1,
          5,
          3,
          1,
          1,
          4,
          1,
          3,
          1,
          1,
          2,
          1
         ],
         "yaxis": "y"
        },
        {
         "alignmentgroup": "True",
         "hovertemplate": "primary_topic.subfield.display_name=Clinical Psychology<br>Publication Year=%{x}<br>Count of Publications=%{y}<extra></extra>",
         "legendgroup": "Clinical Psychology",
         "marker": {
          "color": "#B6E880",
          "pattern": {
           "shape": ""
          }
         },
         "name": "Clinical Psychology",
         "offsetgroup": "Clinical Psychology",
         "orientation": "v",
         "showlegend": true,
         "textposition": "auto",
         "type": "bar",
         "x": [
          2008,
          2009,
          2011,
          2014,
          2017,
          2020
         ],
         "xaxis": "x",
         "y": [
          2,
          1,
          2,
          1,
          1,
          1
         ],
         "yaxis": "y"
        },
        {
         "alignmentgroup": "True",
         "hovertemplate": "primary_topic.subfield.display_name=Obstetrics and Gynecology<br>Publication Year=%{x}<br>Count of Publications=%{y}<extra></extra>",
         "legendgroup": "Obstetrics and Gynecology",
         "marker": {
          "color": "#FF97FF",
          "pattern": {
           "shape": ""
          }
         },
         "name": "Obstetrics and Gynecology",
         "offsetgroup": "Obstetrics and Gynecology",
         "orientation": "v",
         "showlegend": true,
         "textposition": "auto",
         "type": "bar",
         "x": [
          2008,
          2009,
          2011,
          2015,
          2016,
          2017,
          2018,
          2019,
          2020,
          2021,
          2022,
          2023,
          2024
         ],
         "xaxis": "x",
         "y": [
          2,
          1,
          1,
          1,
          1,
          2,
          3,
          6,
          2,
          1,
          1,
          4,
          1
         ],
         "yaxis": "y"
        },
        {
         "alignmentgroup": "True",
         "hovertemplate": "primary_topic.subfield.display_name=Pediatrics, Perinatology and Child Health<br>Publication Year=%{x}<br>Count of Publications=%{y}<extra></extra>",
         "legendgroup": "Pediatrics, Perinatology and Child Health",
         "marker": {
          "color": "#FECB52",
          "pattern": {
           "shape": ""
          }
         },
         "name": "Pediatrics, Perinatology and Child Health",
         "offsetgroup": "Pediatrics, Perinatology and Child Health",
         "orientation": "v",
         "showlegend": true,
         "textposition": "auto",
         "type": "bar",
         "x": [
          2009,
          2022,
          2023
         ],
         "xaxis": "x",
         "y": [
          1,
          1,
          2
         ],
         "yaxis": "y"
        },
        {
         "alignmentgroup": "True",
         "hovertemplate": "primary_topic.subfield.display_name=Physiology<br>Publication Year=%{x}<br>Count of Publications=%{y}<extra></extra>",
         "legendgroup": "Physiology",
         "marker": {
          "color": "#636efa",
          "pattern": {
           "shape": ""
          }
         },
         "name": "Physiology",
         "offsetgroup": "Physiology",
         "orientation": "v",
         "showlegend": true,
         "textposition": "auto",
         "type": "bar",
         "x": [
          2009,
          2016,
          2017,
          2018,
          2019,
          2020,
          2021,
          2022,
          2023,
          2024
         ],
         "xaxis": "x",
         "y": [
          1,
          3,
          1,
          2,
          1,
          3,
          1,
          1,
          4,
          2
         ],
         "yaxis": "y"
        },
        {
         "alignmentgroup": "True",
         "hovertemplate": "primary_topic.subfield.display_name=Endocrinology, Diabetes and Metabolism<br>Publication Year=%{x}<br>Count of Publications=%{y}<extra></extra>",
         "legendgroup": "Endocrinology, Diabetes and Metabolism",
         "marker": {
          "color": "#EF553B",
          "pattern": {
           "shape": ""
          }
         },
         "name": "Endocrinology, Diabetes and Metabolism",
         "offsetgroup": "Endocrinology, Diabetes and Metabolism",
         "orientation": "v",
         "showlegend": true,
         "textposition": "auto",
         "type": "bar",
         "x": [
          2010,
          2011,
          2012,
          2013,
          2014,
          2015,
          2016,
          2017,
          2018,
          2019,
          2020,
          2021,
          2022,
          2023,
          2024
         ],
         "xaxis": "x",
         "y": [
          2,
          4,
          5,
          2,
          12,
          9,
          11,
          9,
          10,
          12,
          13,
          8,
          9,
          6,
          8
         ],
         "yaxis": "y"
        },
        {
         "alignmentgroup": "True",
         "hovertemplate": "primary_topic.subfield.display_name=Genetics<br>Publication Year=%{x}<br>Count of Publications=%{y}<extra></extra>",
         "legendgroup": "Genetics",
         "marker": {
          "color": "#00cc96",
          "pattern": {
           "shape": ""
          }
         },
         "name": "Genetics",
         "offsetgroup": "Genetics",
         "orientation": "v",
         "showlegend": true,
         "textposition": "auto",
         "type": "bar",
         "x": [
          2010,
          2011,
          2012,
          2013,
          2014,
          2015,
          2016,
          2017,
          2018,
          2019,
          2020,
          2021,
          2022,
          2023,
          2024
         ],
         "xaxis": "x",
         "y": [
          3,
          7,
          4,
          6,
          5,
          6,
          8,
          2,
          5,
          4,
          8,
          6,
          9,
          4,
          1
         ],
         "yaxis": "y"
        },
        {
         "alignmentgroup": "True",
         "hovertemplate": "primary_topic.subfield.display_name=Epidemiology<br>Publication Year=%{x}<br>Count of Publications=%{y}<extra></extra>",
         "legendgroup": "Epidemiology",
         "marker": {
          "color": "#ab63fa",
          "pattern": {
           "shape": ""
          }
         },
         "name": "Epidemiology",
         "offsetgroup": "Epidemiology",
         "orientation": "v",
         "showlegend": true,
         "textposition": "auto",
         "type": "bar",
         "x": [
          2011,
          2012,
          2013,
          2015,
          2016,
          2017,
          2018,
          2019,
          2020,
          2021,
          2022
         ],
         "xaxis": "x",
         "y": [
          1,
          1,
          2,
          1,
          1,
          1,
          1,
          1,
          1,
          1,
          3
         ],
         "yaxis": "y"
        },
        {
         "alignmentgroup": "True",
         "hovertemplate": "primary_topic.subfield.display_name=Molecular Biology<br>Publication Year=%{x}<br>Count of Publications=%{y}<extra></extra>",
         "legendgroup": "Molecular Biology",
         "marker": {
          "color": "#FFA15A",
          "pattern": {
           "shape": ""
          }
         },
         "name": "Molecular Biology",
         "offsetgroup": "Molecular Biology",
         "orientation": "v",
         "showlegend": true,
         "textposition": "auto",
         "type": "bar",
         "x": [
          2011,
          2012,
          2013,
          2014,
          2016,
          2017,
          2019,
          2020,
          2021,
          2022,
          2023
         ],
         "xaxis": "x",
         "y": [
          2,
          2,
          2,
          1,
          3,
          1,
          7,
          1,
          1,
          2,
          1
         ],
         "yaxis": "y"
        },
        {
         "alignmentgroup": "True",
         "hovertemplate": "primary_topic.subfield.display_name=Rehabilitation<br>Publication Year=%{x}<br>Count of Publications=%{y}<extra></extra>",
         "legendgroup": "Rehabilitation",
         "marker": {
          "color": "#19d3f3",
          "pattern": {
           "shape": ""
          }
         },
         "name": "Rehabilitation",
         "offsetgroup": "Rehabilitation",
         "orientation": "v",
         "showlegend": true,
         "textposition": "auto",
         "type": "bar",
         "x": [
          2011,
          2017
         ],
         "xaxis": "x",
         "y": [
          1,
          1
         ],
         "yaxis": "y"
        },
        {
         "alignmentgroup": "True",
         "hovertemplate": "primary_topic.subfield.display_name=Sociology and Political Science<br>Publication Year=%{x}<br>Count of Publications=%{y}<extra></extra>",
         "legendgroup": "Sociology and Political Science",
         "marker": {
          "color": "#FF6692",
          "pattern": {
           "shape": ""
          }
         },
         "name": "Sociology and Political Science",
         "offsetgroup": "Sociology and Political Science",
         "orientation": "v",
         "showlegend": true,
         "textposition": "auto",
         "type": "bar",
         "x": [
          2011,
          2013,
          2019,
          2020,
          2021,
          2022
         ],
         "xaxis": "x",
         "y": [
          1,
          1,
          1,
          2,
          2,
          1
         ],
         "yaxis": "y"
        },
        {
         "alignmentgroup": "True",
         "hovertemplate": "primary_topic.subfield.display_name=Oncology<br>Publication Year=%{x}<br>Count of Publications=%{y}<extra></extra>",
         "legendgroup": "Oncology",
         "marker": {
          "color": "#B6E880",
          "pattern": {
           "shape": ""
          }
         },
         "name": "Oncology",
         "offsetgroup": "Oncology",
         "orientation": "v",
         "showlegend": true,
         "textposition": "auto",
         "type": "bar",
         "x": [
          2012,
          2014,
          2015,
          2016,
          2018,
          2024
         ],
         "xaxis": "x",
         "y": [
          1,
          1,
          1,
          1,
          1,
          2
         ],
         "yaxis": "y"
        },
        {
         "alignmentgroup": "True",
         "hovertemplate": "primary_topic.subfield.display_name=Urology<br>Publication Year=%{x}<br>Count of Publications=%{y}<extra></extra>",
         "legendgroup": "Urology",
         "marker": {
          "color": "#FF97FF",
          "pattern": {
           "shape": ""
          }
         },
         "name": "Urology",
         "offsetgroup": "Urology",
         "orientation": "v",
         "showlegend": true,
         "textposition": "auto",
         "type": "bar",
         "x": [
          2012,
          2016,
          2019,
          2020,
          2021
         ],
         "xaxis": "x",
         "y": [
          1,
          1,
          1,
          1,
          1
         ],
         "yaxis": "y"
        },
        {
         "alignmentgroup": "True",
         "hovertemplate": "primary_topic.subfield.display_name=Cellular and Molecular Neuroscience<br>Publication Year=%{x}<br>Count of Publications=%{y}<extra></extra>",
         "legendgroup": "Cellular and Molecular Neuroscience",
         "marker": {
          "color": "#FECB52",
          "pattern": {
           "shape": ""
          }
         },
         "name": "Cellular and Molecular Neuroscience",
         "offsetgroup": "Cellular and Molecular Neuroscience",
         "orientation": "v",
         "showlegend": true,
         "textposition": "auto",
         "type": "bar",
         "x": [
          2013
         ],
         "xaxis": "x",
         "y": [
          2
         ],
         "yaxis": "y"
        },
        {
         "alignmentgroup": "True",
         "hovertemplate": "primary_topic.subfield.display_name=Cognitive Neuroscience<br>Publication Year=%{x}<br>Count of Publications=%{y}<extra></extra>",
         "legendgroup": "Cognitive Neuroscience",
         "marker": {
          "color": "#636efa",
          "pattern": {
           "shape": ""
          }
         },
         "name": "Cognitive Neuroscience",
         "offsetgroup": "Cognitive Neuroscience",
         "orientation": "v",
         "showlegend": true,
         "textposition": "auto",
         "type": "bar",
         "x": [
          2013,
          2016,
          2018,
          2019,
          2021
         ],
         "xaxis": "x",
         "y": [
          2,
          2,
          1,
          1,
          1
         ],
         "yaxis": "y"
        },
        {
         "alignmentgroup": "True",
         "hovertemplate": "primary_topic.subfield.display_name=Education<br>Publication Year=%{x}<br>Count of Publications=%{y}<extra></extra>",
         "legendgroup": "Education",
         "marker": {
          "color": "#EF553B",
          "pattern": {
           "shape": ""
          }
         },
         "name": "Education",
         "offsetgroup": "Education",
         "orientation": "v",
         "showlegend": true,
         "textposition": "auto",
         "type": "bar",
         "x": [
          2013,
          2016,
          2017,
          2019,
          2020,
          2023
         ],
         "xaxis": "x",
         "y": [
          1,
          1,
          1,
          1,
          1,
          1
         ],
         "yaxis": "y"
        },
        {
         "alignmentgroup": "True",
         "hovertemplate": "primary_topic.subfield.display_name=Geriatrics and Gerontology<br>Publication Year=%{x}<br>Count of Publications=%{y}<extra></extra>",
         "legendgroup": "Geriatrics and Gerontology",
         "marker": {
          "color": "#00cc96",
          "pattern": {
           "shape": ""
          }
         },
         "name": "Geriatrics and Gerontology",
         "offsetgroup": "Geriatrics and Gerontology",
         "orientation": "v",
         "showlegend": true,
         "textposition": "auto",
         "type": "bar",
         "x": [
          2013,
          2016,
          2017,
          2018,
          2019,
          2020,
          2021,
          2022,
          2023,
          2024
         ],
         "xaxis": "x",
         "y": [
          1,
          1,
          3,
          4,
          1,
          1,
          1,
          1,
          2,
          1
         ],
         "yaxis": "y"
        },
        {
         "alignmentgroup": "True",
         "hovertemplate": "primary_topic.subfield.display_name=Neurology<br>Publication Year=%{x}<br>Count of Publications=%{y}<extra></extra>",
         "legendgroup": "Neurology",
         "marker": {
          "color": "#ab63fa",
          "pattern": {
           "shape": ""
          }
         },
         "name": "Neurology",
         "offsetgroup": "Neurology",
         "orientation": "v",
         "showlegend": true,
         "textposition": "auto",
         "type": "bar",
         "x": [
          2013,
          2015
         ],
         "xaxis": "x",
         "y": [
          1,
          1
         ],
         "yaxis": "y"
        },
        {
         "alignmentgroup": "True",
         "hovertemplate": "primary_topic.subfield.display_name=Oral Surgery<br>Publication Year=%{x}<br>Count of Publications=%{y}<extra></extra>",
         "legendgroup": "Oral Surgery",
         "marker": {
          "color": "#FFA15A",
          "pattern": {
           "shape": ""
          }
         },
         "name": "Oral Surgery",
         "offsetgroup": "Oral Surgery",
         "orientation": "v",
         "showlegend": true,
         "textposition": "auto",
         "type": "bar",
         "x": [
          2013,
          2014,
          2015,
          2017,
          2018,
          2020,
          2021,
          2023,
          2024
         ],
         "xaxis": "x",
         "y": [
          2,
          1,
          1,
          3,
          1,
          3,
          1,
          2,
          1
         ],
         "yaxis": "y"
        },
        {
         "alignmentgroup": "True",
         "hovertemplate": "primary_topic.subfield.display_name=Orthopedics and Sports Medicine<br>Publication Year=%{x}<br>Count of Publications=%{y}<extra></extra>",
         "legendgroup": "Orthopedics and Sports Medicine",
         "marker": {
          "color": "#19d3f3",
          "pattern": {
           "shape": ""
          }
         },
         "name": "Orthopedics and Sports Medicine",
         "offsetgroup": "Orthopedics and Sports Medicine",
         "orientation": "v",
         "showlegend": true,
         "textposition": "auto",
         "type": "bar",
         "x": [
          2013,
          2014,
          2021
         ],
         "xaxis": "x",
         "y": [
          1,
          1,
          1
         ],
         "yaxis": "y"
        },
        {
         "alignmentgroup": "True",
         "hovertemplate": "primary_topic.subfield.display_name=Radiological and Ultrasound Technology<br>Publication Year=%{x}<br>Count of Publications=%{y}<extra></extra>",
         "legendgroup": "Radiological and Ultrasound Technology",
         "marker": {
          "color": "#FF6692",
          "pattern": {
           "shape": ""
          }
         },
         "name": "Radiological and Ultrasound Technology",
         "offsetgroup": "Radiological and Ultrasound Technology",
         "orientation": "v",
         "showlegend": true,
         "textposition": "auto",
         "type": "bar",
         "x": [
          2014,
          2016,
          2024
         ],
         "xaxis": "x",
         "y": [
          1,
          1,
          2
         ],
         "yaxis": "y"
        },
        {
         "alignmentgroup": "True",
         "hovertemplate": "primary_topic.subfield.display_name=Pulmonary and Respiratory Medicine<br>Publication Year=%{x}<br>Count of Publications=%{y}<extra></extra>",
         "legendgroup": "Pulmonary and Respiratory Medicine",
         "marker": {
          "color": "#B6E880",
          "pattern": {
           "shape": ""
          }
         },
         "name": "Pulmonary and Respiratory Medicine",
         "offsetgroup": "Pulmonary and Respiratory Medicine",
         "orientation": "v",
         "showlegend": true,
         "textposition": "auto",
         "type": "bar",
         "x": [
          2015,
          2016,
          2019,
          2021,
          2022,
          2023,
          2024
         ],
         "xaxis": "x",
         "y": [
          1,
          1,
          1,
          1,
          1,
          2,
          1
         ],
         "yaxis": "y"
        },
        {
         "alignmentgroup": "True",
         "hovertemplate": "primary_topic.subfield.display_name=Ophthalmology<br>Publication Year=%{x}<br>Count of Publications=%{y}<extra></extra>",
         "legendgroup": "Ophthalmology",
         "marker": {
          "color": "#FF97FF",
          "pattern": {
           "shape": ""
          }
         },
         "name": "Ophthalmology",
         "offsetgroup": "Ophthalmology",
         "orientation": "v",
         "showlegend": true,
         "textposition": "auto",
         "type": "bar",
         "x": [
          2016,
          2017,
          2020,
          2022,
          2023,
          2024
         ],
         "xaxis": "x",
         "y": [
          1,
          1,
          1,
          1,
          1,
          3
         ],
         "yaxis": "y"
        },
        {
         "alignmentgroup": "True",
         "hovertemplate": "primary_topic.subfield.display_name=Radiology, Nuclear Medicine and Imaging<br>Publication Year=%{x}<br>Count of Publications=%{y}<extra></extra>",
         "legendgroup": "Radiology, Nuclear Medicine and Imaging",
         "marker": {
          "color": "#FECB52",
          "pattern": {
           "shape": ""
          }
         },
         "name": "Radiology, Nuclear Medicine and Imaging",
         "offsetgroup": "Radiology, Nuclear Medicine and Imaging",
         "orientation": "v",
         "showlegend": true,
         "textposition": "auto",
         "type": "bar",
         "x": [
          2016,
          2017,
          2022
         ],
         "xaxis": "x",
         "y": [
          2,
          1,
          1
         ],
         "yaxis": "y"
        },
        {
         "alignmentgroup": "True",
         "hovertemplate": "primary_topic.subfield.display_name=Rheumatology<br>Publication Year=%{x}<br>Count of Publications=%{y}<extra></extra>",
         "legendgroup": "Rheumatology",
         "marker": {
          "color": "#636efa",
          "pattern": {
           "shape": ""
          }
         },
         "name": "Rheumatology",
         "offsetgroup": "Rheumatology",
         "orientation": "v",
         "showlegend": true,
         "textposition": "auto",
         "type": "bar",
         "x": [
          2016,
          2019,
          2023
         ],
         "xaxis": "x",
         "y": [
          1,
          3,
          2
         ],
         "yaxis": "y"
        },
        {
         "alignmentgroup": "True",
         "hovertemplate": "primary_topic.subfield.display_name=Biomedical Engineering<br>Publication Year=%{x}<br>Count of Publications=%{y}<extra></extra>",
         "legendgroup": "Biomedical Engineering",
         "marker": {
          "color": "#EF553B",
          "pattern": {
           "shape": ""
          }
         },
         "name": "Biomedical Engineering",
         "offsetgroup": "Biomedical Engineering",
         "orientation": "v",
         "showlegend": true,
         "textposition": "auto",
         "type": "bar",
         "x": [
          2017,
          2018,
          2021,
          2023,
          2024
         ],
         "xaxis": "x",
         "y": [
          3,
          1,
          1,
          1,
          1
         ],
         "yaxis": "y"
        },
        {
         "alignmentgroup": "True",
         "hovertemplate": "primary_topic.subfield.display_name=Communication<br>Publication Year=%{x}<br>Count of Publications=%{y}<extra></extra>",
         "legendgroup": "Communication",
         "marker": {
          "color": "#00cc96",
          "pattern": {
           "shape": ""
          }
         },
         "name": "Communication",
         "offsetgroup": "Communication",
         "orientation": "v",
         "showlegend": true,
         "textposition": "auto",
         "type": "bar",
         "x": [
          2017,
          2020
         ],
         "xaxis": "x",
         "y": [
          1,
          1
         ],
         "yaxis": "y"
        },
        {
         "alignmentgroup": "True",
         "hovertemplate": "primary_topic.subfield.display_name=Reproductive Medicine<br>Publication Year=%{x}<br>Count of Publications=%{y}<extra></extra>",
         "legendgroup": "Reproductive Medicine",
         "marker": {
          "color": "#ab63fa",
          "pattern": {
           "shape": ""
          }
         },
         "name": "Reproductive Medicine",
         "offsetgroup": "Reproductive Medicine",
         "orientation": "v",
         "showlegend": true,
         "textposition": "auto",
         "type": "bar",
         "x": [
          2017
         ],
         "xaxis": "x",
         "y": [
          2
         ],
         "yaxis": "y"
        },
        {
         "alignmentgroup": "True",
         "hovertemplate": "primary_topic.subfield.display_name=Dermatology<br>Publication Year=%{x}<br>Count of Publications=%{y}<extra></extra>",
         "legendgroup": "Dermatology",
         "marker": {
          "color": "#FFA15A",
          "pattern": {
           "shape": ""
          }
         },
         "name": "Dermatology",
         "offsetgroup": "Dermatology",
         "orientation": "v",
         "showlegend": true,
         "textposition": "auto",
         "type": "bar",
         "x": [
          2019,
          2020
         ],
         "xaxis": "x",
         "y": [
          1,
          1
         ],
         "yaxis": "y"
        },
        {
         "alignmentgroup": "True",
         "hovertemplate": "primary_topic.subfield.display_name=Immunology<br>Publication Year=%{x}<br>Count of Publications=%{y}<extra></extra>",
         "legendgroup": "Immunology",
         "marker": {
          "color": "#19d3f3",
          "pattern": {
           "shape": ""
          }
         },
         "name": "Immunology",
         "offsetgroup": "Immunology",
         "orientation": "v",
         "showlegend": true,
         "textposition": "auto",
         "type": "bar",
         "x": [
          2019,
          2022,
          2023
         ],
         "xaxis": "x",
         "y": [
          2,
          1,
          1
         ],
         "yaxis": "y"
        },
        {
         "alignmentgroup": "True",
         "hovertemplate": "primary_topic.subfield.display_name=Immunology and Allergy<br>Publication Year=%{x}<br>Count of Publications=%{y}<extra></extra>",
         "legendgroup": "Immunology and Allergy",
         "marker": {
          "color": "#FF6692",
          "pattern": {
           "shape": ""
          }
         },
         "name": "Immunology and Allergy",
         "offsetgroup": "Immunology and Allergy",
         "orientation": "v",
         "showlegend": true,
         "textposition": "auto",
         "type": "bar",
         "x": [
          2019,
          2020
         ],
         "xaxis": "x",
         "y": [
          1,
          1
         ],
         "yaxis": "y"
        },
        {
         "alignmentgroup": "True",
         "hovertemplate": "primary_topic.subfield.display_name=Nephrology<br>Publication Year=%{x}<br>Count of Publications=%{y}<extra></extra>",
         "legendgroup": "Nephrology",
         "marker": {
          "color": "#B6E880",
          "pattern": {
           "shape": ""
          }
         },
         "name": "Nephrology",
         "offsetgroup": "Nephrology",
         "orientation": "v",
         "showlegend": true,
         "textposition": "auto",
         "type": "bar",
         "x": [
          2019,
          2020
         ],
         "xaxis": "x",
         "y": [
          1,
          1
         ],
         "yaxis": "y"
        },
        {
         "alignmentgroup": "True",
         "hovertemplate": "primary_topic.subfield.display_name=Infectious Diseases<br>Publication Year=%{x}<br>Count of Publications=%{y}<extra></extra>",
         "legendgroup": "Infectious Diseases",
         "marker": {
          "color": "#FF97FF",
          "pattern": {
           "shape": ""
          }
         },
         "name": "Infectious Diseases",
         "offsetgroup": "Infectious Diseases",
         "orientation": "v",
         "showlegend": true,
         "textposition": "auto",
         "type": "bar",
         "x": [
          2020,
          2021,
          2022,
          2023
         ],
         "xaxis": "x",
         "y": [
          2,
          2,
          2,
          2
         ],
         "yaxis": "y"
        },
        {
         "alignmentgroup": "True",
         "hovertemplate": "primary_topic.subfield.display_name=Management Science and Operations Research<br>Publication Year=%{x}<br>Count of Publications=%{y}<extra></extra>",
         "legendgroup": "Management Science and Operations Research",
         "marker": {
          "color": "#FECB52",
          "pattern": {
           "shape": ""
          }
         },
         "name": "Management Science and Operations Research",
         "offsetgroup": "Management Science and Operations Research",
         "orientation": "v",
         "showlegend": true,
         "textposition": "auto",
         "type": "bar",
         "x": [
          2020,
          2021
         ],
         "xaxis": "x",
         "y": [
          1,
          1
         ],
         "yaxis": "y"
        },
        {
         "alignmentgroup": "True",
         "hovertemplate": "primary_topic.subfield.display_name=Otorhinolaryngology<br>Publication Year=%{x}<br>Count of Publications=%{y}<extra></extra>",
         "legendgroup": "Otorhinolaryngology",
         "marker": {
          "color": "#636efa",
          "pattern": {
           "shape": ""
          }
         },
         "name": "Otorhinolaryngology",
         "offsetgroup": "Otorhinolaryngology",
         "orientation": "v",
         "showlegend": true,
         "textposition": "auto",
         "type": "bar",
         "x": [
          2020,
          2022,
          2023,
          2024
         ],
         "xaxis": "x",
         "y": [
          1,
          1,
          1,
          2
         ],
         "yaxis": "y"
        },
        {
         "alignmentgroup": "True",
         "hovertemplate": "primary_topic.subfield.display_name=Critical Care and Intensive Care Medicine<br>Publication Year=%{x}<br>Count of Publications=%{y}<extra></extra>",
         "legendgroup": "Critical Care and Intensive Care Medicine",
         "marker": {
          "color": "#EF553B",
          "pattern": {
           "shape": ""
          }
         },
         "name": "Critical Care and Intensive Care Medicine",
         "offsetgroup": "Critical Care and Intensive Care Medicine",
         "orientation": "v",
         "showlegend": true,
         "textposition": "auto",
         "type": "bar",
         "x": [
          2021,
          2022
         ],
         "xaxis": "x",
         "y": [
          1,
          1
         ],
         "yaxis": "y"
        },
        {
         "alignmentgroup": "True",
         "hovertemplate": "primary_topic.subfield.display_name=Periodontics<br>Publication Year=%{x}<br>Count of Publications=%{y}<extra></extra>",
         "legendgroup": "Periodontics",
         "marker": {
          "color": "#00cc96",
          "pattern": {
           "shape": ""
          }
         },
         "name": "Periodontics",
         "offsetgroup": "Periodontics",
         "orientation": "v",
         "showlegend": true,
         "textposition": "auto",
         "type": "bar",
         "x": [
          2021,
          2022
         ],
         "xaxis": "x",
         "y": [
          2,
          1
         ],
         "yaxis": "y"
        }
       ],
       "layout": {
        "barmode": "relative",
        "legend": {
         "orientation": "v",
         "title": {
          "text": "Primary Topic"
         },
         "tracegroupgap": 0,
         "x": 1.02,
         "xanchor": "left",
         "y": 1,
         "yanchor": "top"
        },
        "template": {
         "data": {
          "bar": [
           {
            "error_x": {
             "color": "#2a3f5f"
            },
            "error_y": {
             "color": "#2a3f5f"
            },
            "marker": {
             "line": {
              "color": "#E5ECF6",
              "width": 0.5
             },
             "pattern": {
              "fillmode": "overlay",
              "size": 10,
              "solidity": 0.2
             }
            },
            "type": "bar"
           }
          ],
          "barpolar": [
           {
            "marker": {
             "line": {
              "color": "#E5ECF6",
              "width": 0.5
             },
             "pattern": {
              "fillmode": "overlay",
              "size": 10,
              "solidity": 0.2
             }
            },
            "type": "barpolar"
           }
          ],
          "carpet": [
           {
            "aaxis": {
             "endlinecolor": "#2a3f5f",
             "gridcolor": "white",
             "linecolor": "white",
             "minorgridcolor": "white",
             "startlinecolor": "#2a3f5f"
            },
            "baxis": {
             "endlinecolor": "#2a3f5f",
             "gridcolor": "white",
             "linecolor": "white",
             "minorgridcolor": "white",
             "startlinecolor": "#2a3f5f"
            },
            "type": "carpet"
           }
          ],
          "choropleth": [
           {
            "colorbar": {
             "outlinewidth": 0,
             "ticks": ""
            },
            "type": "choropleth"
           }
          ],
          "contour": [
           {
            "colorbar": {
             "outlinewidth": 0,
             "ticks": ""
            },
            "colorscale": [
             [
              0,
              "#0d0887"
             ],
             [
              0.1111111111111111,
              "#46039f"
             ],
             [
              0.2222222222222222,
              "#7201a8"
             ],
             [
              0.3333333333333333,
              "#9c179e"
             ],
             [
              0.4444444444444444,
              "#bd3786"
             ],
             [
              0.5555555555555556,
              "#d8576b"
             ],
             [
              0.6666666666666666,
              "#ed7953"
             ],
             [
              0.7777777777777778,
              "#fb9f3a"
             ],
             [
              0.8888888888888888,
              "#fdca26"
             ],
             [
              1,
              "#f0f921"
             ]
            ],
            "type": "contour"
           }
          ],
          "contourcarpet": [
           {
            "colorbar": {
             "outlinewidth": 0,
             "ticks": ""
            },
            "type": "contourcarpet"
           }
          ],
          "heatmap": [
           {
            "colorbar": {
             "outlinewidth": 0,
             "ticks": ""
            },
            "colorscale": [
             [
              0,
              "#0d0887"
             ],
             [
              0.1111111111111111,
              "#46039f"
             ],
             [
              0.2222222222222222,
              "#7201a8"
             ],
             [
              0.3333333333333333,
              "#9c179e"
             ],
             [
              0.4444444444444444,
              "#bd3786"
             ],
             [
              0.5555555555555556,
              "#d8576b"
             ],
             [
              0.6666666666666666,
              "#ed7953"
             ],
             [
              0.7777777777777778,
              "#fb9f3a"
             ],
             [
              0.8888888888888888,
              "#fdca26"
             ],
             [
              1,
              "#f0f921"
             ]
            ],
            "type": "heatmap"
           }
          ],
          "heatmapgl": [
           {
            "colorbar": {
             "outlinewidth": 0,
             "ticks": ""
            },
            "colorscale": [
             [
              0,
              "#0d0887"
             ],
             [
              0.1111111111111111,
              "#46039f"
             ],
             [
              0.2222222222222222,
              "#7201a8"
             ],
             [
              0.3333333333333333,
              "#9c179e"
             ],
             [
              0.4444444444444444,
              "#bd3786"
             ],
             [
              0.5555555555555556,
              "#d8576b"
             ],
             [
              0.6666666666666666,
              "#ed7953"
             ],
             [
              0.7777777777777778,
              "#fb9f3a"
             ],
             [
              0.8888888888888888,
              "#fdca26"
             ],
             [
              1,
              "#f0f921"
             ]
            ],
            "type": "heatmapgl"
           }
          ],
          "histogram": [
           {
            "marker": {
             "pattern": {
              "fillmode": "overlay",
              "size": 10,
              "solidity": 0.2
             }
            },
            "type": "histogram"
           }
          ],
          "histogram2d": [
           {
            "colorbar": {
             "outlinewidth": 0,
             "ticks": ""
            },
            "colorscale": [
             [
              0,
              "#0d0887"
             ],
             [
              0.1111111111111111,
              "#46039f"
             ],
             [
              0.2222222222222222,
              "#7201a8"
             ],
             [
              0.3333333333333333,
              "#9c179e"
             ],
             [
              0.4444444444444444,
              "#bd3786"
             ],
             [
              0.5555555555555556,
              "#d8576b"
             ],
             [
              0.6666666666666666,
              "#ed7953"
             ],
             [
              0.7777777777777778,
              "#fb9f3a"
             ],
             [
              0.8888888888888888,
              "#fdca26"
             ],
             [
              1,
              "#f0f921"
             ]
            ],
            "type": "histogram2d"
           }
          ],
          "histogram2dcontour": [
           {
            "colorbar": {
             "outlinewidth": 0,
             "ticks": ""
            },
            "colorscale": [
             [
              0,
              "#0d0887"
             ],
             [
              0.1111111111111111,
              "#46039f"
             ],
             [
              0.2222222222222222,
              "#7201a8"
             ],
             [
              0.3333333333333333,
              "#9c179e"
             ],
             [
              0.4444444444444444,
              "#bd3786"
             ],
             [
              0.5555555555555556,
              "#d8576b"
             ],
             [
              0.6666666666666666,
              "#ed7953"
             ],
             [
              0.7777777777777778,
              "#fb9f3a"
             ],
             [
              0.8888888888888888,
              "#fdca26"
             ],
             [
              1,
              "#f0f921"
             ]
            ],
            "type": "histogram2dcontour"
           }
          ],
          "mesh3d": [
           {
            "colorbar": {
             "outlinewidth": 0,
             "ticks": ""
            },
            "type": "mesh3d"
           }
          ],
          "parcoords": [
           {
            "line": {
             "colorbar": {
              "outlinewidth": 0,
              "ticks": ""
             }
            },
            "type": "parcoords"
           }
          ],
          "pie": [
           {
            "automargin": true,
            "type": "pie"
           }
          ],
          "scatter": [
           {
            "fillpattern": {
             "fillmode": "overlay",
             "size": 10,
             "solidity": 0.2
            },
            "type": "scatter"
           }
          ],
          "scatter3d": [
           {
            "line": {
             "colorbar": {
              "outlinewidth": 0,
              "ticks": ""
             }
            },
            "marker": {
             "colorbar": {
              "outlinewidth": 0,
              "ticks": ""
             }
            },
            "type": "scatter3d"
           }
          ],
          "scattercarpet": [
           {
            "marker": {
             "colorbar": {
              "outlinewidth": 0,
              "ticks": ""
             }
            },
            "type": "scattercarpet"
           }
          ],
          "scattergeo": [
           {
            "marker": {
             "colorbar": {
              "outlinewidth": 0,
              "ticks": ""
             }
            },
            "type": "scattergeo"
           }
          ],
          "scattergl": [
           {
            "marker": {
             "colorbar": {
              "outlinewidth": 0,
              "ticks": ""
             }
            },
            "type": "scattergl"
           }
          ],
          "scattermapbox": [
           {
            "marker": {
             "colorbar": {
              "outlinewidth": 0,
              "ticks": ""
             }
            },
            "type": "scattermapbox"
           }
          ],
          "scatterpolar": [
           {
            "marker": {
             "colorbar": {
              "outlinewidth": 0,
              "ticks": ""
             }
            },
            "type": "scatterpolar"
           }
          ],
          "scatterpolargl": [
           {
            "marker": {
             "colorbar": {
              "outlinewidth": 0,
              "ticks": ""
             }
            },
            "type": "scatterpolargl"
           }
          ],
          "scatterternary": [
           {
            "marker": {
             "colorbar": {
              "outlinewidth": 0,
              "ticks": ""
             }
            },
            "type": "scatterternary"
           }
          ],
          "surface": [
           {
            "colorbar": {
             "outlinewidth": 0,
             "ticks": ""
            },
            "colorscale": [
             [
              0,
              "#0d0887"
             ],
             [
              0.1111111111111111,
              "#46039f"
             ],
             [
              0.2222222222222222,
              "#7201a8"
             ],
             [
              0.3333333333333333,
              "#9c179e"
             ],
             [
              0.4444444444444444,
              "#bd3786"
             ],
             [
              0.5555555555555556,
              "#d8576b"
             ],
             [
              0.6666666666666666,
              "#ed7953"
             ],
             [
              0.7777777777777778,
              "#fb9f3a"
             ],
             [
              0.8888888888888888,
              "#fdca26"
             ],
             [
              1,
              "#f0f921"
             ]
            ],
            "type": "surface"
           }
          ],
          "table": [
           {
            "cells": {
             "fill": {
              "color": "#EBF0F8"
             },
             "line": {
              "color": "white"
             }
            },
            "header": {
             "fill": {
              "color": "#C8D4E3"
             },
             "line": {
              "color": "white"
             }
            },
            "type": "table"
           }
          ]
         },
         "layout": {
          "annotationdefaults": {
           "arrowcolor": "#2a3f5f",
           "arrowhead": 0,
           "arrowwidth": 1
          },
          "autotypenumbers": "strict",
          "coloraxis": {
           "colorbar": {
            "outlinewidth": 0,
            "ticks": ""
           }
          },
          "colorscale": {
           "diverging": [
            [
             0,
             "#8e0152"
            ],
            [
             0.1,
             "#c51b7d"
            ],
            [
             0.2,
             "#de77ae"
            ],
            [
             0.3,
             "#f1b6da"
            ],
            [
             0.4,
             "#fde0ef"
            ],
            [
             0.5,
             "#f7f7f7"
            ],
            [
             0.6,
             "#e6f5d0"
            ],
            [
             0.7,
             "#b8e186"
            ],
            [
             0.8,
             "#7fbc41"
            ],
            [
             0.9,
             "#4d9221"
            ],
            [
             1,
             "#276419"
            ]
           ],
           "sequential": [
            [
             0,
             "#0d0887"
            ],
            [
             0.1111111111111111,
             "#46039f"
            ],
            [
             0.2222222222222222,
             "#7201a8"
            ],
            [
             0.3333333333333333,
             "#9c179e"
            ],
            [
             0.4444444444444444,
             "#bd3786"
            ],
            [
             0.5555555555555556,
             "#d8576b"
            ],
            [
             0.6666666666666666,
             "#ed7953"
            ],
            [
             0.7777777777777778,
             "#fb9f3a"
            ],
            [
             0.8888888888888888,
             "#fdca26"
            ],
            [
             1,
             "#f0f921"
            ]
           ],
           "sequentialminus": [
            [
             0,
             "#0d0887"
            ],
            [
             0.1111111111111111,
             "#46039f"
            ],
            [
             0.2222222222222222,
             "#7201a8"
            ],
            [
             0.3333333333333333,
             "#9c179e"
            ],
            [
             0.4444444444444444,
             "#bd3786"
            ],
            [
             0.5555555555555556,
             "#d8576b"
            ],
            [
             0.6666666666666666,
             "#ed7953"
            ],
            [
             0.7777777777777778,
             "#fb9f3a"
            ],
            [
             0.8888888888888888,
             "#fdca26"
            ],
            [
             1,
             "#f0f921"
            ]
           ]
          },
          "colorway": [
           "#636efa",
           "#EF553B",
           "#00cc96",
           "#ab63fa",
           "#FFA15A",
           "#19d3f3",
           "#FF6692",
           "#B6E880",
           "#FF97FF",
           "#FECB52"
          ],
          "font": {
           "color": "#2a3f5f"
          },
          "geo": {
           "bgcolor": "white",
           "lakecolor": "white",
           "landcolor": "#E5ECF6",
           "showlakes": true,
           "showland": true,
           "subunitcolor": "white"
          },
          "hoverlabel": {
           "align": "left"
          },
          "hovermode": "closest",
          "mapbox": {
           "style": "light"
          },
          "paper_bgcolor": "white",
          "plot_bgcolor": "#E5ECF6",
          "polar": {
           "angularaxis": {
            "gridcolor": "white",
            "linecolor": "white",
            "ticks": ""
           },
           "bgcolor": "#E5ECF6",
           "radialaxis": {
            "gridcolor": "white",
            "linecolor": "white",
            "ticks": ""
           }
          },
          "scene": {
           "xaxis": {
            "backgroundcolor": "#E5ECF6",
            "gridcolor": "white",
            "gridwidth": 2,
            "linecolor": "white",
            "showbackground": true,
            "ticks": "",
            "zerolinecolor": "white"
           },
           "yaxis": {
            "backgroundcolor": "#E5ECF6",
            "gridcolor": "white",
            "gridwidth": 2,
            "linecolor": "white",
            "showbackground": true,
            "ticks": "",
            "zerolinecolor": "white"
           },
           "zaxis": {
            "backgroundcolor": "#E5ECF6",
            "gridcolor": "white",
            "gridwidth": 2,
            "linecolor": "white",
            "showbackground": true,
            "ticks": "",
            "zerolinecolor": "white"
           }
          },
          "shapedefaults": {
           "line": {
            "color": "#2a3f5f"
           }
          },
          "ternary": {
           "aaxis": {
            "gridcolor": "white",
            "linecolor": "white",
            "ticks": ""
           },
           "baxis": {
            "gridcolor": "white",
            "linecolor": "white",
            "ticks": ""
           },
           "bgcolor": "#E5ECF6",
           "caxis": {
            "gridcolor": "white",
            "linecolor": "white",
            "ticks": ""
           }
          },
          "title": {
           "x": 0.05
          },
          "xaxis": {
           "automargin": true,
           "gridcolor": "white",
           "linecolor": "white",
           "ticks": "",
           "title": {
            "standoff": 15
           },
           "zerolinecolor": "white",
           "zerolinewidth": 2
          },
          "yaxis": {
           "automargin": true,
           "gridcolor": "white",
           "linecolor": "white",
           "ticks": "",
           "title": {
            "standoff": 15
           },
           "zerolinecolor": "white",
           "zerolinewidth": 2
          }
         }
        },
        "title": {
         "text": "NU sjukvården antal artiklar publicerade per ämnesområde"
        },
        "xaxis": {
         "anchor": "y",
         "domain": [
          0,
          1
         ],
         "tickangle": 45,
         "title": {
          "text": "Publication Year"
         }
        },
        "yaxis": {
         "anchor": "x",
         "domain": [
          0,
          1
         ],
         "title": {
          "text": "Count of Publications"
         }
        }
       }
      }
     },
     "metadata": {},
     "output_type": "display_data"
    }
   ],
   "source": [
    "import pandas as pd\n",
    "import plotly.express as px\n",
    "\n",
    "# Creating a new DataFrame that groups by primary topic and counts the number of rows\n",
    "topic_counts = df['primary_topic.subfield.display_name'].value_counts()\n",
    "\n",
    "# Filtering the original DataFrame to include only topics with at least 5 publications\n",
    "filtered_df = df[df['primary_topic.subfield.display_name'].isin(topic_counts[topic_counts >= 2].index)]\n",
    "\n",
    "# Grouping the filtered DataFrame by publication year and primary topic\n",
    "filtered_df_grouped = filtered_df.groupby(['publication_year', 'primary_topic.subfield.display_name']).size().reset_index(name='count')\n",
    "\n",
    "# Plotting with Plotly\n",
    "fig = px.bar(\n",
    "    filtered_df_grouped,\n",
    "    x='publication_year',\n",
    "    y='count',\n",
    "    color='primary_topic.subfield.display_name',\n",
    "    title='NU sjukvården antal artiklar publicerade per ämnesområde',\n",
    "    labels={'publication_year': 'Publication Year', 'count': 'Count of Publications'},\n",
    ")\n",
    "\n",
    "fig.update_layout(\n",
    "    xaxis_title='Publication Year',\n",
    "    yaxis_title='Count of Publications',\n",
    "    legend_title='Primary Topic',\n",
    "    xaxis=dict(tickangle=45),\n",
    "    legend=dict(\n",
    "        title='Primary Topic',\n",
    "        orientation='v',\n",
    "        x=1.02,\n",
    "        y=1,\n",
    "        xanchor='left',\n",
    "        yanchor='top'\n",
    "    )\n",
    ")\n",
    "\n",
    "fig.show()"
   ]
  },
  {
   "cell_type": "code",
   "execution_count": 41,
   "metadata": {},
   "outputs": [
    {
     "data": {
      "application/vnd.plotly.v1+json": {
       "config": {
        "plotlyServerURL": "https://plot.ly"
       },
       "data": [
        {
         "alignmentgroup": "True",
         "hovertemplate": "Subfield=%{y}<br>Total Citation Count=%{x}<extra></extra>",
         "legendgroup": "Endocrinology, Diabetes and Metabolism",
         "marker": {
          "color": "#636efa"
         },
         "name": "Endocrinology, Diabetes and Metabolism",
         "notched": false,
         "offsetgroup": "Endocrinology, Diabetes and Metabolism",
         "orientation": "h",
         "showlegend": true,
         "type": "box",
         "x": [
          850,
          789,
          568,
          270,
          209,
          196,
          161,
          143,
          124,
          123,
          97,
          95,
          91,
          88,
          83,
          72,
          84,
          79,
          75,
          72,
          70,
          66,
          61,
          55,
          51,
          23,
          3,
          72,
          56,
          50,
          47,
          47,
          46,
          41,
          39,
          21,
          2,
          52,
          43,
          8,
          33,
          26,
          25,
          25,
          24,
          21,
          20,
          1,
          35,
          29,
          27,
          5,
          27,
          25,
          25,
          25,
          23,
          23,
          23,
          10,
          22,
          20,
          18,
          19,
          18,
          17,
          16,
          16,
          16,
          11,
          7,
          16,
          15,
          14,
          13,
          13,
          13,
          12,
          14,
          12,
          12,
          12,
          6,
          11,
          10,
          9,
          9,
          2,
          0,
          0,
          0,
          0,
          10,
          9,
          9,
          7,
          0,
          7,
          4,
          6,
          6,
          3,
          1,
          4,
          3,
          3,
          2,
          2,
          2,
          0,
          0,
          0,
          0,
          0,
          0,
          0,
          0,
          0,
          0,
          0
         ],
         "x0": " ",
         "xaxis": "x",
         "y": [
          "Endocrinology, Diabetes and Metabolism",
          "Endocrinology, Diabetes and Metabolism",
          "Endocrinology, Diabetes and Metabolism",
          "Endocrinology, Diabetes and Metabolism",
          "Endocrinology, Diabetes and Metabolism",
          "Endocrinology, Diabetes and Metabolism",
          "Endocrinology, Diabetes and Metabolism",
          "Endocrinology, Diabetes and Metabolism",
          "Endocrinology, Diabetes and Metabolism",
          "Endocrinology, Diabetes and Metabolism",
          "Endocrinology, Diabetes and Metabolism",
          "Endocrinology, Diabetes and Metabolism",
          "Endocrinology, Diabetes and Metabolism",
          "Endocrinology, Diabetes and Metabolism",
          "Endocrinology, Diabetes and Metabolism",
          "Endocrinology, Diabetes and Metabolism",
          "Endocrinology, Diabetes and Metabolism",
          "Endocrinology, Diabetes and Metabolism",
          "Endocrinology, Diabetes and Metabolism",
          "Endocrinology, Diabetes and Metabolism",
          "Endocrinology, Diabetes and Metabolism",
          "Endocrinology, Diabetes and Metabolism",
          "Endocrinology, Diabetes and Metabolism",
          "Endocrinology, Diabetes and Metabolism",
          "Endocrinology, Diabetes and Metabolism",
          "Endocrinology, Diabetes and Metabolism",
          "Endocrinology, Diabetes and Metabolism",
          "Endocrinology, Diabetes and Metabolism",
          "Endocrinology, Diabetes and Metabolism",
          "Endocrinology, Diabetes and Metabolism",
          "Endocrinology, Diabetes and Metabolism",
          "Endocrinology, Diabetes and Metabolism",
          "Endocrinology, Diabetes and Metabolism",
          "Endocrinology, Diabetes and Metabolism",
          "Endocrinology, Diabetes and Metabolism",
          "Endocrinology, Diabetes and Metabolism",
          "Endocrinology, Diabetes and Metabolism",
          "Endocrinology, Diabetes and Metabolism",
          "Endocrinology, Diabetes and Metabolism",
          "Endocrinology, Diabetes and Metabolism",
          "Endocrinology, Diabetes and Metabolism",
          "Endocrinology, Diabetes and Metabolism",
          "Endocrinology, Diabetes and Metabolism",
          "Endocrinology, Diabetes and Metabolism",
          "Endocrinology, Diabetes and Metabolism",
          "Endocrinology, Diabetes and Metabolism",
          "Endocrinology, Diabetes and Metabolism",
          "Endocrinology, Diabetes and Metabolism",
          "Endocrinology, Diabetes and Metabolism",
          "Endocrinology, Diabetes and Metabolism",
          "Endocrinology, Diabetes and Metabolism",
          "Endocrinology, Diabetes and Metabolism",
          "Endocrinology, Diabetes and Metabolism",
          "Endocrinology, Diabetes and Metabolism",
          "Endocrinology, Diabetes and Metabolism",
          "Endocrinology, Diabetes and Metabolism",
          "Endocrinology, Diabetes and Metabolism",
          "Endocrinology, Diabetes and Metabolism",
          "Endocrinology, Diabetes and Metabolism",
          "Endocrinology, Diabetes and Metabolism",
          "Endocrinology, Diabetes and Metabolism",
          "Endocrinology, Diabetes and Metabolism",
          "Endocrinology, Diabetes and Metabolism",
          "Endocrinology, Diabetes and Metabolism",
          "Endocrinology, Diabetes and Metabolism",
          "Endocrinology, Diabetes and Metabolism",
          "Endocrinology, Diabetes and Metabolism",
          "Endocrinology, Diabetes and Metabolism",
          "Endocrinology, Diabetes and Metabolism",
          "Endocrinology, Diabetes and Metabolism",
          "Endocrinology, Diabetes and Metabolism",
          "Endocrinology, Diabetes and Metabolism",
          "Endocrinology, Diabetes and Metabolism",
          "Endocrinology, Diabetes and Metabolism",
          "Endocrinology, Diabetes and Metabolism",
          "Endocrinology, Diabetes and Metabolism",
          "Endocrinology, Diabetes and Metabolism",
          "Endocrinology, Diabetes and Metabolism",
          "Endocrinology, Diabetes and Metabolism",
          "Endocrinology, Diabetes and Metabolism",
          "Endocrinology, Diabetes and Metabolism",
          "Endocrinology, Diabetes and Metabolism",
          "Endocrinology, Diabetes and Metabolism",
          "Endocrinology, Diabetes and Metabolism",
          "Endocrinology, Diabetes and Metabolism",
          "Endocrinology, Diabetes and Metabolism",
          "Endocrinology, Diabetes and Metabolism",
          "Endocrinology, Diabetes and Metabolism",
          "Endocrinology, Diabetes and Metabolism",
          "Endocrinology, Diabetes and Metabolism",
          "Endocrinology, Diabetes and Metabolism",
          "Endocrinology, Diabetes and Metabolism",
          "Endocrinology, Diabetes and Metabolism",
          "Endocrinology, Diabetes and Metabolism",
          "Endocrinology, Diabetes and Metabolism",
          "Endocrinology, Diabetes and Metabolism",
          "Endocrinology, Diabetes and Metabolism",
          "Endocrinology, Diabetes and Metabolism",
          "Endocrinology, Diabetes and Metabolism",
          "Endocrinology, Diabetes and Metabolism",
          "Endocrinology, Diabetes and Metabolism",
          "Endocrinology, Diabetes and Metabolism",
          "Endocrinology, Diabetes and Metabolism",
          "Endocrinology, Diabetes and Metabolism",
          "Endocrinology, Diabetes and Metabolism",
          "Endocrinology, Diabetes and Metabolism",
          "Endocrinology, Diabetes and Metabolism",
          "Endocrinology, Diabetes and Metabolism",
          "Endocrinology, Diabetes and Metabolism",
          "Endocrinology, Diabetes and Metabolism",
          "Endocrinology, Diabetes and Metabolism",
          "Endocrinology, Diabetes and Metabolism",
          "Endocrinology, Diabetes and Metabolism",
          "Endocrinology, Diabetes and Metabolism",
          "Endocrinology, Diabetes and Metabolism",
          "Endocrinology, Diabetes and Metabolism",
          "Endocrinology, Diabetes and Metabolism",
          "Endocrinology, Diabetes and Metabolism",
          "Endocrinology, Diabetes and Metabolism",
          "Endocrinology, Diabetes and Metabolism"
         ],
         "y0": " ",
         "yaxis": "y"
        },
        {
         "alignmentgroup": "True",
         "hovertemplate": "Subfield=%{y}<br>Total Citation Count=%{x}<extra></extra>",
         "legendgroup": "Biomedical Engineering",
         "marker": {
          "color": "#EF553B"
         },
         "name": "Biomedical Engineering",
         "notched": false,
         "offsetgroup": "Biomedical Engineering",
         "orientation": "h",
         "showlegend": true,
         "type": "box",
         "x": [
          573,
          60,
          50,
          25,
          0,
          1,
          2
         ],
         "x0": " ",
         "xaxis": "x",
         "y": [
          "Biomedical Engineering",
          "Biomedical Engineering",
          "Biomedical Engineering",
          "Biomedical Engineering",
          "Biomedical Engineering",
          "Biomedical Engineering",
          "Biomedical Engineering"
         ],
         "y0": " ",
         "yaxis": "y"
        },
        {
         "alignmentgroup": "True",
         "hovertemplate": "Subfield=%{y}<br>Total Citation Count=%{x}<extra></extra>",
         "legendgroup": "Genetics",
         "marker": {
          "color": "#00cc96"
         },
         "name": "Genetics",
         "notched": false,
         "offsetgroup": "Genetics",
         "orientation": "h",
         "showlegend": true,
         "type": "box",
         "x": [
          573,
          362,
          306,
          53,
          128,
          109,
          42,
          71,
          44,
          34,
          71,
          66,
          62,
          53,
          53,
          36,
          50,
          48,
          7,
          37,
          22,
          14,
          1,
          24,
          24,
          24,
          22,
          20,
          20,
          12,
          8,
          13,
          12,
          12,
          11,
          9,
          11,
          2,
          9,
          8,
          5,
          9,
          8,
          7,
          7,
          5,
          5,
          1,
          1,
          5,
          4,
          3,
          4,
          4,
          4,
          3,
          3,
          3,
          3,
          2,
          2,
          2,
          2,
          1,
          1,
          1,
          1,
          0,
          0,
          0,
          0,
          0,
          0,
          0,
          0,
          0,
          0,
          0
         ],
         "x0": " ",
         "xaxis": "x",
         "y": [
          "Genetics",
          "Genetics",
          "Genetics",
          "Genetics",
          "Genetics",
          "Genetics",
          "Genetics",
          "Genetics",
          "Genetics",
          "Genetics",
          "Genetics",
          "Genetics",
          "Genetics",
          "Genetics",
          "Genetics",
          "Genetics",
          "Genetics",
          "Genetics",
          "Genetics",
          "Genetics",
          "Genetics",
          "Genetics",
          "Genetics",
          "Genetics",
          "Genetics",
          "Genetics",
          "Genetics",
          "Genetics",
          "Genetics",
          "Genetics",
          "Genetics",
          "Genetics",
          "Genetics",
          "Genetics",
          "Genetics",
          "Genetics",
          "Genetics",
          "Genetics",
          "Genetics",
          "Genetics",
          "Genetics",
          "Genetics",
          "Genetics",
          "Genetics",
          "Genetics",
          "Genetics",
          "Genetics",
          "Genetics",
          "Genetics",
          "Genetics",
          "Genetics",
          "Genetics",
          "Genetics",
          "Genetics",
          "Genetics",
          "Genetics",
          "Genetics",
          "Genetics",
          "Genetics",
          "Genetics",
          "Genetics",
          "Genetics",
          "Genetics",
          "Genetics",
          "Genetics",
          "Genetics",
          "Genetics",
          "Genetics",
          "Genetics",
          "Genetics",
          "Genetics",
          "Genetics",
          "Genetics",
          "Genetics",
          "Genetics",
          "Genetics",
          "Genetics",
          "Genetics"
         ],
         "y0": " ",
         "yaxis": "y"
        },
        {
         "alignmentgroup": "True",
         "hovertemplate": "Subfield=%{y}<br>Total Citation Count=%{x}<extra></extra>",
         "legendgroup": "Surgery",
         "marker": {
          "color": "#ab63fa"
         },
         "name": "Surgery",
         "notched": false,
         "offsetgroup": "Surgery",
         "orientation": "h",
         "showlegend": true,
         "type": "box",
         "x": [
          347,
          220,
          210,
          209,
          176,
          174,
          156,
          110,
          91,
          29,
          6,
          117,
          78,
          73,
          67,
          56,
          56,
          54,
          77,
          60,
          45,
          25,
          40,
          39,
          33,
          32,
          30,
          21,
          6,
          1,
          47,
          39,
          38,
          27,
          21,
          33,
          29,
          26,
          26,
          4,
          4,
          4,
          36,
          27,
          20,
          19,
          22,
          22,
          21,
          19,
          12,
          8,
          18,
          17,
          15,
          7,
          3,
          15,
          14,
          14,
          14,
          13,
          13,
          12,
          10,
          10,
          5,
          2,
          2,
          0,
          0,
          0,
          0,
          9,
          8,
          10,
          0,
          0,
          0,
          0,
          0,
          0,
          7,
          6,
          5,
          1,
          4,
          4,
          3,
          4,
          3,
          3,
          3,
          3,
          3,
          2,
          2,
          2,
          1,
          1,
          1,
          1,
          1,
          0,
          0,
          1,
          0,
          0,
          0,
          0,
          0,
          0,
          0,
          0,
          0,
          0,
          0
         ],
         "x0": " ",
         "xaxis": "x",
         "y": [
          "Surgery",
          "Surgery",
          "Surgery",
          "Surgery",
          "Surgery",
          "Surgery",
          "Surgery",
          "Surgery",
          "Surgery",
          "Surgery",
          "Surgery",
          "Surgery",
          "Surgery",
          "Surgery",
          "Surgery",
          "Surgery",
          "Surgery",
          "Surgery",
          "Surgery",
          "Surgery",
          "Surgery",
          "Surgery",
          "Surgery",
          "Surgery",
          "Surgery",
          "Surgery",
          "Surgery",
          "Surgery",
          "Surgery",
          "Surgery",
          "Surgery",
          "Surgery",
          "Surgery",
          "Surgery",
          "Surgery",
          "Surgery",
          "Surgery",
          "Surgery",
          "Surgery",
          "Surgery",
          "Surgery",
          "Surgery",
          "Surgery",
          "Surgery",
          "Surgery",
          "Surgery",
          "Surgery",
          "Surgery",
          "Surgery",
          "Surgery",
          "Surgery",
          "Surgery",
          "Surgery",
          "Surgery",
          "Surgery",
          "Surgery",
          "Surgery",
          "Surgery",
          "Surgery",
          "Surgery",
          "Surgery",
          "Surgery",
          "Surgery",
          "Surgery",
          "Surgery",
          "Surgery",
          "Surgery",
          "Surgery",
          "Surgery",
          "Surgery",
          "Surgery",
          "Surgery",
          "Surgery",
          "Surgery",
          "Surgery",
          "Surgery",
          "Surgery",
          "Surgery",
          "Surgery",
          "Surgery",
          "Surgery",
          "Surgery",
          "Surgery",
          "Surgery",
          "Surgery",
          "Surgery",
          "Surgery",
          "Surgery",
          "Surgery",
          "Surgery",
          "Surgery",
          "Surgery",
          "Surgery",
          "Surgery",
          "Surgery",
          "Surgery",
          "Surgery",
          "Surgery",
          "Surgery",
          "Surgery",
          "Surgery",
          "Surgery",
          "Surgery",
          "Surgery",
          "Surgery",
          "Surgery",
          "Surgery",
          "Surgery",
          "Surgery",
          "Surgery",
          "Surgery",
          "Surgery",
          "Surgery",
          "Surgery",
          "Surgery",
          "Surgery",
          "Surgery"
         ],
         "y0": " ",
         "yaxis": "y"
        },
        {
         "alignmentgroup": "True",
         "hovertemplate": "Subfield=%{y}<br>Total Citation Count=%{x}<extra></extra>",
         "legendgroup": "Oral Surgery",
         "marker": {
          "color": "#FFA15A"
         },
         "name": "Oral Surgery",
         "notched": false,
         "offsetgroup": "Oral Surgery",
         "orientation": "h",
         "showlegend": true,
         "type": "box",
         "x": [
          279,
          138,
          136,
          94,
          76,
          10,
          23,
          13,
          0,
          7,
          6,
          5,
          1,
          4,
          0
         ],
         "x0": " ",
         "xaxis": "x",
         "y": [
          "Oral Surgery",
          "Oral Surgery",
          "Oral Surgery",
          "Oral Surgery",
          "Oral Surgery",
          "Oral Surgery",
          "Oral Surgery",
          "Oral Surgery",
          "Oral Surgery",
          "Oral Surgery",
          "Oral Surgery",
          "Oral Surgery",
          "Oral Surgery",
          "Oral Surgery",
          "Oral Surgery"
         ],
         "y0": " ",
         "yaxis": "y"
        },
        {
         "alignmentgroup": "True",
         "hovertemplate": "Subfield=%{y}<br>Total Citation Count=%{x}<extra></extra>",
         "legendgroup": "Urology",
         "marker": {
          "color": "#19d3f3"
         },
         "name": "Urology",
         "notched": false,
         "offsetgroup": "Urology",
         "orientation": "h",
         "showlegend": true,
         "type": "box",
         "x": [
          172,
          147,
          15,
          5,
          2
         ],
         "x0": " ",
         "xaxis": "x",
         "y": [
          "Urology",
          "Urology",
          "Urology",
          "Urology",
          "Urology"
         ],
         "y0": " ",
         "yaxis": "y"
        },
        {
         "alignmentgroup": "True",
         "hovertemplate": "Subfield=%{y}<br>Total Citation Count=%{x}<extra></extra>",
         "legendgroup": "Geriatrics and Gerontology",
         "marker": {
          "color": "#FF6692"
         },
         "name": "Geriatrics and Gerontology",
         "notched": false,
         "offsetgroup": "Geriatrics and Gerontology",
         "orientation": "h",
         "showlegend": true,
         "type": "box",
         "x": [
          30,
          87,
          58,
          2,
          23,
          32,
          30,
          27,
          19,
          19,
          16,
          7,
          13,
          12,
          9,
          0
         ],
         "x0": " ",
         "xaxis": "x",
         "y": [
          "Geriatrics and Gerontology",
          "Geriatrics and Gerontology",
          "Geriatrics and Gerontology",
          "Geriatrics and Gerontology",
          "Geriatrics and Gerontology",
          "Geriatrics and Gerontology",
          "Geriatrics and Gerontology",
          "Geriatrics and Gerontology",
          "Geriatrics and Gerontology",
          "Geriatrics and Gerontology",
          "Geriatrics and Gerontology",
          "Geriatrics and Gerontology",
          "Geriatrics and Gerontology",
          "Geriatrics and Gerontology",
          "Geriatrics and Gerontology",
          "Geriatrics and Gerontology"
         ],
         "y0": " ",
         "yaxis": "y"
        },
        {
         "alignmentgroup": "True",
         "hovertemplate": "Subfield=%{y}<br>Total Citation Count=%{x}<extra></extra>",
         "legendgroup": "General Health Professions",
         "marker": {
          "color": "#B6E880"
         },
         "name": "General Health Professions",
         "notched": false,
         "offsetgroup": "General Health Professions",
         "orientation": "h",
         "showlegend": true,
         "type": "box",
         "x": [
          283,
          32,
          72,
          29,
          3,
          17,
          15,
          13,
          10,
          0,
          9,
          7,
          2,
          1,
          0,
          0,
          0,
          0,
          0
         ],
         "x0": " ",
         "xaxis": "x",
         "y": [
          "General Health Professions",
          "General Health Professions",
          "General Health Professions",
          "General Health Professions",
          "General Health Professions",
          "General Health Professions",
          "General Health Professions",
          "General Health Professions",
          "General Health Professions",
          "General Health Professions",
          "General Health Professions",
          "General Health Professions",
          "General Health Professions",
          "General Health Professions",
          "General Health Professions",
          "General Health Professions",
          "General Health Professions",
          "General Health Professions",
          "General Health Professions"
         ],
         "y0": " ",
         "yaxis": "y"
        },
        {
         "alignmentgroup": "True",
         "hovertemplate": "Subfield=%{y}<br>Total Citation Count=%{x}<extra></extra>",
         "legendgroup": "Public Health, Environmental and Occupational Health",
         "marker": {
          "color": "#FF97FF"
         },
         "name": "Public Health, Environmental and Occupational Health",
         "notched": false,
         "offsetgroup": "Public Health, Environmental and Occupational Health",
         "orientation": "h",
         "showlegend": true,
         "type": "box",
         "x": [
          176,
          27,
          6,
          15,
          25,
          25,
          2,
          0,
          0,
          3,
          4,
          3,
          1,
          0,
          1,
          0,
          0,
          0,
          0,
          0
         ],
         "x0": " ",
         "xaxis": "x",
         "y": [
          "Public Health, Environmental and Occupational Health",
          "Public Health, Environmental and Occupational Health",
          "Public Health, Environmental and Occupational Health",
          "Public Health, Environmental and Occupational Health",
          "Public Health, Environmental and Occupational Health",
          "Public Health, Environmental and Occupational Health",
          "Public Health, Environmental and Occupational Health",
          "Public Health, Environmental and Occupational Health",
          "Public Health, Environmental and Occupational Health",
          "Public Health, Environmental and Occupational Health",
          "Public Health, Environmental and Occupational Health",
          "Public Health, Environmental and Occupational Health",
          "Public Health, Environmental and Occupational Health",
          "Public Health, Environmental and Occupational Health",
          "Public Health, Environmental and Occupational Health",
          "Public Health, Environmental and Occupational Health",
          "Public Health, Environmental and Occupational Health",
          "Public Health, Environmental and Occupational Health",
          "Public Health, Environmental and Occupational Health",
          "Public Health, Environmental and Occupational Health"
         ],
         "y0": " ",
         "yaxis": "y"
        },
        {
         "alignmentgroup": "True",
         "hovertemplate": "Subfield=%{y}<br>Total Citation Count=%{x}<extra></extra>",
         "legendgroup": "Pharmacology",
         "marker": {
          "color": "#FECB52"
         },
         "name": "Pharmacology",
         "notched": false,
         "offsetgroup": "Pharmacology",
         "orientation": "h",
         "showlegend": true,
         "type": "box",
         "x": [
          147,
          49,
          2
         ],
         "x0": " ",
         "xaxis": "x",
         "y": [
          "Pharmacology",
          "Pharmacology",
          "Pharmacology"
         ],
         "y0": " ",
         "yaxis": "y"
        },
        {
         "alignmentgroup": "True",
         "hovertemplate": "Subfield=%{y}<br>Total Citation Count=%{x}<extra></extra>",
         "legendgroup": "Cardiology and Cardiovascular Medicine",
         "marker": {
          "color": "#636efa"
         },
         "name": "Cardiology and Cardiovascular Medicine",
         "notched": false,
         "offsetgroup": "Cardiology and Cardiovascular Medicine",
         "orientation": "h",
         "showlegend": true,
         "type": "box",
         "x": [
          100,
          108,
          89,
          59,
          74,
          57,
          46,
          41,
          43,
          32,
          26,
          19,
          18,
          17,
          13,
          31,
          9,
          2,
          0,
          8,
          0,
          1,
          1,
          0,
          0,
          0
         ],
         "x0": " ",
         "xaxis": "x",
         "y": [
          "Cardiology and Cardiovascular Medicine",
          "Cardiology and Cardiovascular Medicine",
          "Cardiology and Cardiovascular Medicine",
          "Cardiology and Cardiovascular Medicine",
          "Cardiology and Cardiovascular Medicine",
          "Cardiology and Cardiovascular Medicine",
          "Cardiology and Cardiovascular Medicine",
          "Cardiology and Cardiovascular Medicine",
          "Cardiology and Cardiovascular Medicine",
          "Cardiology and Cardiovascular Medicine",
          "Cardiology and Cardiovascular Medicine",
          "Cardiology and Cardiovascular Medicine",
          "Cardiology and Cardiovascular Medicine",
          "Cardiology and Cardiovascular Medicine",
          "Cardiology and Cardiovascular Medicine",
          "Cardiology and Cardiovascular Medicine",
          "Cardiology and Cardiovascular Medicine",
          "Cardiology and Cardiovascular Medicine",
          "Cardiology and Cardiovascular Medicine",
          "Cardiology and Cardiovascular Medicine",
          "Cardiology and Cardiovascular Medicine",
          "Cardiology and Cardiovascular Medicine",
          "Cardiology and Cardiovascular Medicine",
          "Cardiology and Cardiovascular Medicine",
          "Cardiology and Cardiovascular Medicine",
          "Cardiology and Cardiovascular Medicine"
         ],
         "y0": " ",
         "yaxis": "y"
        },
        {
         "alignmentgroup": "True",
         "hovertemplate": "Subfield=%{y}<br>Total Citation Count=%{x}<extra></extra>",
         "legendgroup": "Communication",
         "marker": {
          "color": "#EF553B"
         },
         "name": "Communication",
         "notched": false,
         "offsetgroup": "Communication",
         "orientation": "h",
         "showlegend": true,
         "type": "box",
         "x": [
          95,
          14
         ],
         "x0": " ",
         "xaxis": "x",
         "y": [
          "Communication",
          "Communication"
         ],
         "y0": " ",
         "yaxis": "y"
        },
        {
         "alignmentgroup": "True",
         "hovertemplate": "Subfield=%{y}<br>Total Citation Count=%{x}<extra></extra>",
         "legendgroup": "Pulmonary and Respiratory Medicine",
         "marker": {
          "color": "#00cc96"
         },
         "name": "Pulmonary and Respiratory Medicine",
         "notched": false,
         "offsetgroup": "Pulmonary and Respiratory Medicine",
         "orientation": "h",
         "showlegend": true,
         "type": "box",
         "x": [
          88,
          19,
          1,
          15,
          2,
          5,
          0,
          0
         ],
         "x0": " ",
         "xaxis": "x",
         "y": [
          "Pulmonary and Respiratory Medicine",
          "Pulmonary and Respiratory Medicine",
          "Pulmonary and Respiratory Medicine",
          "Pulmonary and Respiratory Medicine",
          "Pulmonary and Respiratory Medicine",
          "Pulmonary and Respiratory Medicine",
          "Pulmonary and Respiratory Medicine",
          "Pulmonary and Respiratory Medicine"
         ],
         "y0": " ",
         "yaxis": "y"
        },
        {
         "alignmentgroup": "True",
         "hovertemplate": "Subfield=%{y}<br>Total Citation Count=%{x}<extra></extra>",
         "legendgroup": "Physiology",
         "marker": {
          "color": "#ab63fa"
         },
         "name": "Physiology",
         "notched": false,
         "offsetgroup": "Physiology",
         "orientation": "h",
         "showlegend": true,
         "type": "box",
         "x": [
          84,
          2,
          2,
          33,
          16,
          14,
          12,
          18,
          11,
          12,
          12,
          11,
          11,
          2,
          2,
          1,
          1,
          2,
          2
         ],
         "x0": " ",
         "xaxis": "x",
         "y": [
          "Physiology",
          "Physiology",
          "Physiology",
          "Physiology",
          "Physiology",
          "Physiology",
          "Physiology",
          "Physiology",
          "Physiology",
          "Physiology",
          "Physiology",
          "Physiology",
          "Physiology",
          "Physiology",
          "Physiology",
          "Physiology",
          "Physiology",
          "Physiology",
          "Physiology"
         ],
         "y0": " ",
         "yaxis": "y"
        },
        {
         "alignmentgroup": "True",
         "hovertemplate": "Subfield=%{y}<br>Total Citation Count=%{x}<extra></extra>",
         "legendgroup": "Nutrition and Dietetics",
         "marker": {
          "color": "#FFA15A"
         },
         "name": "Nutrition and Dietetics",
         "notched": false,
         "offsetgroup": "Nutrition and Dietetics",
         "orientation": "h",
         "showlegend": true,
         "type": "box",
         "x": [
          142,
          1
         ],
         "x0": " ",
         "xaxis": "x",
         "y": [
          "Nutrition and Dietetics",
          "Nutrition and Dietetics"
         ],
         "y0": " ",
         "yaxis": "y"
        },
        {
         "alignmentgroup": "True",
         "hovertemplate": "Subfield=%{y}<br>Total Citation Count=%{x}<extra></extra>",
         "legendgroup": "Psychiatry and Mental health",
         "marker": {
          "color": "#19d3f3"
         },
         "name": "Psychiatry and Mental health",
         "notched": false,
         "offsetgroup": "Psychiatry and Mental health",
         "orientation": "h",
         "showlegend": true,
         "type": "box",
         "x": [
          110,
          39,
          81,
          57,
          38,
          30,
          35,
          19,
          30,
          17,
          15,
          15,
          13,
          17,
          10,
          2,
          8,
          8,
          8,
          8,
          0,
          6,
          5,
          4,
          4,
          2,
          2,
          1,
          0,
          0,
          0
         ],
         "x0": " ",
         "xaxis": "x",
         "y": [
          "Psychiatry and Mental health",
          "Psychiatry and Mental health",
          "Psychiatry and Mental health",
          "Psychiatry and Mental health",
          "Psychiatry and Mental health",
          "Psychiatry and Mental health",
          "Psychiatry and Mental health",
          "Psychiatry and Mental health",
          "Psychiatry and Mental health",
          "Psychiatry and Mental health",
          "Psychiatry and Mental health",
          "Psychiatry and Mental health",
          "Psychiatry and Mental health",
          "Psychiatry and Mental health",
          "Psychiatry and Mental health",
          "Psychiatry and Mental health",
          "Psychiatry and Mental health",
          "Psychiatry and Mental health",
          "Psychiatry and Mental health",
          "Psychiatry and Mental health",
          "Psychiatry and Mental health",
          "Psychiatry and Mental health",
          "Psychiatry and Mental health",
          "Psychiatry and Mental health",
          "Psychiatry and Mental health",
          "Psychiatry and Mental health",
          "Psychiatry and Mental health",
          "Psychiatry and Mental health",
          "Psychiatry and Mental health",
          "Psychiatry and Mental health",
          "Psychiatry and Mental health"
         ],
         "y0": " ",
         "yaxis": "y"
        },
        {
         "alignmentgroup": "True",
         "hovertemplate": "Subfield=%{y}<br>Total Citation Count=%{x}<extra></extra>",
         "legendgroup": "Obstetrics and Gynecology",
         "marker": {
          "color": "#FF6692"
         },
         "name": "Obstetrics and Gynecology",
         "notched": false,
         "offsetgroup": "Obstetrics and Gynecology",
         "orientation": "h",
         "showlegend": true,
         "type": "box",
         "x": [
          88,
          10,
          65,
          36,
          31,
          24,
          17,
          18,
          3,
          14,
          14,
          13,
          0,
          8,
          8,
          7,
          6,
          3,
          0,
          0,
          0,
          0,
          0,
          0,
          0,
          0
         ],
         "x0": " ",
         "xaxis": "x",
         "y": [
          "Obstetrics and Gynecology",
          "Obstetrics and Gynecology",
          "Obstetrics and Gynecology",
          "Obstetrics and Gynecology",
          "Obstetrics and Gynecology",
          "Obstetrics and Gynecology",
          "Obstetrics and Gynecology",
          "Obstetrics and Gynecology",
          "Obstetrics and Gynecology",
          "Obstetrics and Gynecology",
          "Obstetrics and Gynecology",
          "Obstetrics and Gynecology",
          "Obstetrics and Gynecology",
          "Obstetrics and Gynecology",
          "Obstetrics and Gynecology",
          "Obstetrics and Gynecology",
          "Obstetrics and Gynecology",
          "Obstetrics and Gynecology",
          "Obstetrics and Gynecology",
          "Obstetrics and Gynecology",
          "Obstetrics and Gynecology",
          "Obstetrics and Gynecology",
          "Obstetrics and Gynecology",
          "Obstetrics and Gynecology",
          "Obstetrics and Gynecology",
          "Obstetrics and Gynecology"
         ],
         "y0": " ",
         "yaxis": "y"
        },
        {
         "alignmentgroup": "True",
         "hovertemplate": "Subfield=%{y}<br>Total Citation Count=%{x}<extra></extra>",
         "legendgroup": "Oncology",
         "marker": {
          "color": "#B6E880"
         },
         "name": "Oncology",
         "notched": false,
         "offsetgroup": "Oncology",
         "orientation": "h",
         "showlegend": true,
         "type": "box",
         "x": [
          64,
          3,
          56,
          56,
          27,
          0,
          8
         ],
         "x0": " ",
         "xaxis": "x",
         "y": [
          "Oncology",
          "Oncology",
          "Oncology",
          "Oncology",
          "Oncology",
          "Oncology",
          "Oncology"
         ],
         "y0": " ",
         "yaxis": "y"
        },
        {
         "alignmentgroup": "True",
         "hovertemplate": "Subfield=%{y}<br>Total Citation Count=%{x}<extra></extra>",
         "legendgroup": "Cancer Research",
         "marker": {
          "color": "#FF97FF"
         },
         "name": "Cancer Research",
         "notched": false,
         "offsetgroup": "Cancer Research",
         "orientation": "h",
         "showlegend": true,
         "type": "box",
         "x": [
          44
         ],
         "x0": " ",
         "xaxis": "x",
         "y": [
          "Cancer Research"
         ],
         "y0": " ",
         "yaxis": "y"
        },
        {
         "alignmentgroup": "True",
         "hovertemplate": "Subfield=%{y}<br>Total Citation Count=%{x}<extra></extra>",
         "legendgroup": "Emergency Medicine",
         "marker": {
          "color": "#FECB52"
         },
         "name": "Emergency Medicine",
         "notched": false,
         "offsetgroup": "Emergency Medicine",
         "orientation": "h",
         "showlegend": true,
         "type": "box",
         "x": [
          83,
          33,
          26,
          26,
          8,
          8,
          14,
          3,
          3,
          3,
          1
         ],
         "x0": " ",
         "xaxis": "x",
         "y": [
          "Emergency Medicine",
          "Emergency Medicine",
          "Emergency Medicine",
          "Emergency Medicine",
          "Emergency Medicine",
          "Emergency Medicine",
          "Emergency Medicine",
          "Emergency Medicine",
          "Emergency Medicine",
          "Emergency Medicine",
          "Emergency Medicine"
         ],
         "y0": " ",
         "yaxis": "y"
        },
        {
         "alignmentgroup": "True",
         "hovertemplate": "Subfield=%{y}<br>Total Citation Count=%{x}<extra></extra>",
         "legendgroup": "Radiological and Ultrasound Technology",
         "marker": {
          "color": "#636efa"
         },
         "name": "Radiological and Ultrasound Technology",
         "notched": false,
         "offsetgroup": "Radiological and Ultrasound Technology",
         "orientation": "h",
         "showlegend": true,
         "type": "box",
         "x": [
          55,
          0,
          0,
          7
         ],
         "x0": " ",
         "xaxis": "x",
         "y": [
          "Radiological and Ultrasound Technology",
          "Radiological and Ultrasound Technology",
          "Radiological and Ultrasound Technology",
          "Radiological and Ultrasound Technology"
         ],
         "y0": " ",
         "yaxis": "y"
        },
        {
         "alignmentgroup": "True",
         "hovertemplate": "Subfield=%{y}<br>Total Citation Count=%{x}<extra></extra>",
         "legendgroup": "Molecular Biology",
         "marker": {
          "color": "#EF553B"
         },
         "name": "Molecular Biology",
         "notched": false,
         "offsetgroup": "Molecular Biology",
         "orientation": "h",
         "showlegend": true,
         "type": "box",
         "x": [
          55,
          40,
          36,
          22,
          9,
          18,
          16,
          11,
          13,
          11,
          11,
          8,
          1,
          2,
          3,
          2,
          2,
          0,
          0,
          0,
          0,
          0,
          0
         ],
         "x0": " ",
         "xaxis": "x",
         "y": [
          "Molecular Biology",
          "Molecular Biology",
          "Molecular Biology",
          "Molecular Biology",
          "Molecular Biology",
          "Molecular Biology",
          "Molecular Biology",
          "Molecular Biology",
          "Molecular Biology",
          "Molecular Biology",
          "Molecular Biology",
          "Molecular Biology",
          "Molecular Biology",
          "Molecular Biology",
          "Molecular Biology",
          "Molecular Biology",
          "Molecular Biology",
          "Molecular Biology",
          "Molecular Biology",
          "Molecular Biology",
          "Molecular Biology",
          "Molecular Biology",
          "Molecular Biology"
         ],
         "y0": " ",
         "yaxis": "y"
        },
        {
         "alignmentgroup": "True",
         "hovertemplate": "Subfield=%{y}<br>Total Citation Count=%{x}<extra></extra>",
         "legendgroup": "Reproductive Medicine",
         "marker": {
          "color": "#00cc96"
         },
         "name": "Reproductive Medicine",
         "notched": false,
         "offsetgroup": "Reproductive Medicine",
         "orientation": "h",
         "showlegend": true,
         "type": "box",
         "x": [
          52,
          3
         ],
         "x0": " ",
         "xaxis": "x",
         "y": [
          "Reproductive Medicine",
          "Reproductive Medicine"
         ],
         "y0": " ",
         "yaxis": "y"
        },
        {
         "alignmentgroup": "True",
         "hovertemplate": "Subfield=%{y}<br>Total Citation Count=%{x}<extra></extra>",
         "legendgroup": "Speech and Hearing",
         "marker": {
          "color": "#ab63fa"
         },
         "name": "Speech and Hearing",
         "notched": false,
         "offsetgroup": "Speech and Hearing",
         "orientation": "h",
         "showlegend": true,
         "type": "box",
         "x": [
          48,
          68,
          27,
          0
         ],
         "x0": " ",
         "xaxis": "x",
         "y": [
          "Speech and Hearing",
          "Speech and Hearing",
          "Speech and Hearing",
          "Speech and Hearing"
         ],
         "y0": " ",
         "yaxis": "y"
        },
        {
         "alignmentgroup": "True",
         "hovertemplate": "Subfield=%{y}<br>Total Citation Count=%{x}<extra></extra>",
         "legendgroup": "Sociology and Political Science",
         "marker": {
          "color": "#FFA15A"
         },
         "name": "Sociology and Political Science",
         "notched": false,
         "offsetgroup": "Sociology and Political Science",
         "orientation": "h",
         "showlegend": true,
         "type": "box",
         "x": [
          27,
          28,
          25,
          9,
          8,
          9,
          5,
          1
         ],
         "x0": " ",
         "xaxis": "x",
         "y": [
          "Sociology and Political Science",
          "Sociology and Political Science",
          "Sociology and Political Science",
          "Sociology and Political Science",
          "Sociology and Political Science",
          "Sociology and Political Science",
          "Sociology and Political Science",
          "Sociology and Political Science"
         ],
         "y0": " ",
         "yaxis": "y"
        },
        {
         "alignmentgroup": "True",
         "hovertemplate": "Subfield=%{y}<br>Total Citation Count=%{x}<extra></extra>",
         "legendgroup": "Epidemiology",
         "marker": {
          "color": "#19d3f3"
         },
         "name": "Epidemiology",
         "notched": false,
         "offsetgroup": "Epidemiology",
         "orientation": "h",
         "showlegend": true,
         "type": "box",
         "x": [
          19,
          35,
          16,
          21,
          20,
          19,
          20,
          11,
          16,
          11,
          6,
          8,
          1,
          0
         ],
         "x0": " ",
         "xaxis": "x",
         "y": [
          "Epidemiology",
          "Epidemiology",
          "Epidemiology",
          "Epidemiology",
          "Epidemiology",
          "Epidemiology",
          "Epidemiology",
          "Epidemiology",
          "Epidemiology",
          "Epidemiology",
          "Epidemiology",
          "Epidemiology",
          "Epidemiology",
          "Epidemiology"
         ],
         "y0": " ",
         "yaxis": "y"
        },
        {
         "alignmentgroup": "True",
         "hovertemplate": "Subfield=%{y}<br>Total Citation Count=%{x}<extra></extra>",
         "legendgroup": "Rheumatology",
         "marker": {
          "color": "#FF6692"
         },
         "name": "Rheumatology",
         "notched": false,
         "offsetgroup": "Rheumatology",
         "orientation": "h",
         "showlegend": true,
         "type": "box",
         "x": [
          9,
          22,
          16,
          8,
          0,
          0
         ],
         "x0": " ",
         "xaxis": "x",
         "y": [
          "Rheumatology",
          "Rheumatology",
          "Rheumatology",
          "Rheumatology",
          "Rheumatology",
          "Rheumatology"
         ],
         "y0": " ",
         "yaxis": "y"
        },
        {
         "alignmentgroup": "True",
         "hovertemplate": "Subfield=%{y}<br>Total Citation Count=%{x}<extra></extra>",
         "legendgroup": "Ophthalmology",
         "marker": {
          "color": "#B6E880"
         },
         "name": "Ophthalmology",
         "notched": false,
         "offsetgroup": "Ophthalmology",
         "orientation": "h",
         "showlegend": true,
         "type": "box",
         "x": [
          2,
          23,
          14,
          12,
          2,
          0,
          0,
          2
         ],
         "x0": " ",
         "xaxis": "x",
         "y": [
          "Ophthalmology",
          "Ophthalmology",
          "Ophthalmology",
          "Ophthalmology",
          "Ophthalmology",
          "Ophthalmology",
          "Ophthalmology",
          "Ophthalmology"
         ],
         "y0": " ",
         "yaxis": "y"
        },
        {
         "alignmentgroup": "True",
         "hovertemplate": "Subfield=%{y}<br>Total Citation Count=%{x}<extra></extra>",
         "legendgroup": "Clinical Psychology",
         "marker": {
          "color": "#FF97FF"
         },
         "name": "Clinical Psychology",
         "notched": false,
         "offsetgroup": "Clinical Psychology",
         "orientation": "h",
         "showlegend": true,
         "type": "box",
         "x": [
          56,
          55,
          19,
          12,
          9,
          8,
          0,
          0
         ],
         "x0": " ",
         "xaxis": "x",
         "y": [
          "Clinical Psychology",
          "Clinical Psychology",
          "Clinical Psychology",
          "Clinical Psychology",
          "Clinical Psychology",
          "Clinical Psychology",
          "Clinical Psychology",
          "Clinical Psychology"
         ],
         "y0": " ",
         "yaxis": "y"
        },
        {
         "alignmentgroup": "True",
         "hovertemplate": "Subfield=%{y}<br>Total Citation Count=%{x}<extra></extra>",
         "legendgroup": "Cognitive Neuroscience",
         "marker": {
          "color": "#FECB52"
         },
         "name": "Cognitive Neuroscience",
         "notched": false,
         "offsetgroup": "Cognitive Neuroscience",
         "orientation": "h",
         "showlegend": true,
         "type": "box",
         "x": [
          48,
          27,
          27,
          19,
          7,
          7,
          1
         ],
         "x0": " ",
         "xaxis": "x",
         "y": [
          "Cognitive Neuroscience",
          "Cognitive Neuroscience",
          "Cognitive Neuroscience",
          "Cognitive Neuroscience",
          "Cognitive Neuroscience",
          "Cognitive Neuroscience",
          "Cognitive Neuroscience"
         ],
         "y0": " ",
         "yaxis": "y"
        },
        {
         "alignmentgroup": "True",
         "hovertemplate": "Subfield=%{y}<br>Total Citation Count=%{x}<extra></extra>",
         "legendgroup": "Neurology",
         "marker": {
          "color": "#636efa"
         },
         "name": "Neurology",
         "notched": false,
         "offsetgroup": "Neurology",
         "orientation": "h",
         "showlegend": true,
         "type": "box",
         "x": [
          46,
          16
         ],
         "x0": " ",
         "xaxis": "x",
         "y": [
          "Neurology",
          "Neurology"
         ],
         "y0": " ",
         "yaxis": "y"
        },
        {
         "alignmentgroup": "True",
         "hovertemplate": "Subfield=%{y}<br>Total Citation Count=%{x}<extra></extra>",
         "legendgroup": "Hematology",
         "marker": {
          "color": "#EF553B"
         },
         "name": "Hematology",
         "notched": false,
         "offsetgroup": "Hematology",
         "orientation": "h",
         "showlegend": true,
         "type": "box",
         "x": [
          45,
          35,
          21,
          21,
          38,
          6,
          4,
          0,
          1,
          0,
          0,
          0
         ],
         "x0": " ",
         "xaxis": "x",
         "y": [
          "Hematology",
          "Hematology",
          "Hematology",
          "Hematology",
          "Hematology",
          "Hematology",
          "Hematology",
          "Hematology",
          "Hematology",
          "Hematology",
          "Hematology",
          "Hematology"
         ],
         "y0": " ",
         "yaxis": "y"
        },
        {
         "alignmentgroup": "True",
         "hovertemplate": "Subfield=%{y}<br>Total Citation Count=%{x}<extra></extra>",
         "legendgroup": "Periodontics",
         "marker": {
          "color": "#00cc96"
         },
         "name": "Periodontics",
         "notched": false,
         "offsetgroup": "Periodontics",
         "orientation": "h",
         "showlegend": true,
         "type": "box",
         "x": [
          26,
          15,
          8
         ],
         "x0": " ",
         "xaxis": "x",
         "y": [
          "Periodontics",
          "Periodontics",
          "Periodontics"
         ],
         "y0": " ",
         "yaxis": "y"
        },
        {
         "alignmentgroup": "True",
         "hovertemplate": "Subfield=%{y}<br>Total Citation Count=%{x}<extra></extra>",
         "legendgroup": "Infectious Diseases",
         "marker": {
          "color": "#ab63fa"
         },
         "name": "Infectious Diseases",
         "notched": false,
         "offsetgroup": "Infectious Diseases",
         "orientation": "h",
         "showlegend": true,
         "type": "box",
         "x": [
          7,
          9,
          13,
          2,
          6,
          0,
          0,
          0
         ],
         "x0": " ",
         "xaxis": "x",
         "y": [
          "Infectious Diseases",
          "Infectious Diseases",
          "Infectious Diseases",
          "Infectious Diseases",
          "Infectious Diseases",
          "Infectious Diseases",
          "Infectious Diseases",
          "Infectious Diseases"
         ],
         "y0": " ",
         "yaxis": "y"
        },
        {
         "alignmentgroup": "True",
         "hovertemplate": "Subfield=%{y}<br>Total Citation Count=%{x}<extra></extra>",
         "legendgroup": "Cellular and Molecular Neuroscience",
         "marker": {
          "color": "#FFA15A"
         },
         "name": "Cellular and Molecular Neuroscience",
         "notched": false,
         "offsetgroup": "Cellular and Molecular Neuroscience",
         "orientation": "h",
         "showlegend": true,
         "type": "box",
         "x": [
          36,
          22
         ],
         "x0": " ",
         "xaxis": "x",
         "y": [
          "Cellular and Molecular Neuroscience",
          "Cellular and Molecular Neuroscience"
         ],
         "y0": " ",
         "yaxis": "y"
        },
        {
         "alignmentgroup": "True",
         "hovertemplate": "Subfield=%{y}<br>Total Citation Count=%{x}<extra></extra>",
         "legendgroup": "Nephrology",
         "marker": {
          "color": "#19d3f3"
         },
         "name": "Nephrology",
         "notched": false,
         "offsetgroup": "Nephrology",
         "orientation": "h",
         "showlegend": true,
         "type": "box",
         "x": [
          25,
          25
         ],
         "x0": " ",
         "xaxis": "x",
         "y": [
          "Nephrology",
          "Nephrology"
         ],
         "y0": " ",
         "yaxis": "y"
        },
        {
         "alignmentgroup": "True",
         "hovertemplate": "Subfield=%{y}<br>Total Citation Count=%{x}<extra></extra>",
         "legendgroup": "Pathology and Forensic Medicine",
         "marker": {
          "color": "#FF6692"
         },
         "name": "Pathology and Forensic Medicine",
         "notched": false,
         "offsetgroup": "Pathology and Forensic Medicine",
         "orientation": "h",
         "showlegend": true,
         "type": "box",
         "x": [
          58
         ],
         "x0": " ",
         "xaxis": "x",
         "y": [
          "Pathology and Forensic Medicine"
         ],
         "y0": " ",
         "yaxis": "y"
        },
        {
         "alignmentgroup": "True",
         "hovertemplate": "Subfield=%{y}<br>Total Citation Count=%{x}<extra></extra>",
         "legendgroup": "Pediatrics, Perinatology and Child Health",
         "marker": {
          "color": "#B6E880"
         },
         "name": "Pediatrics, Perinatology and Child Health",
         "notched": false,
         "offsetgroup": "Pediatrics, Perinatology and Child Health",
         "orientation": "h",
         "showlegend": true,
         "type": "box",
         "x": [
          42,
          2,
          2,
          0
         ],
         "x0": " ",
         "xaxis": "x",
         "y": [
          "Pediatrics, Perinatology and Child Health",
          "Pediatrics, Perinatology and Child Health",
          "Pediatrics, Perinatology and Child Health",
          "Pediatrics, Perinatology and Child Health"
         ],
         "y0": " ",
         "yaxis": "y"
        },
        {
         "alignmentgroup": "True",
         "hovertemplate": "Subfield=%{y}<br>Total Citation Count=%{x}<extra></extra>",
         "legendgroup": "Health",
         "marker": {
          "color": "#FF97FF"
         },
         "name": "Health",
         "notched": false,
         "offsetgroup": "Health",
         "orientation": "h",
         "showlegend": true,
         "type": "box",
         "x": [
          37
         ],
         "x0": " ",
         "xaxis": "x",
         "y": [
          "Health"
         ],
         "y0": " ",
         "yaxis": "y"
        },
        {
         "alignmentgroup": "True",
         "hovertemplate": "Subfield=%{y}<br>Total Citation Count=%{x}<extra></extra>",
         "legendgroup": "Orthodontics",
         "marker": {
          "color": "#FECB52"
         },
         "name": "Orthodontics",
         "notched": false,
         "offsetgroup": "Orthodontics",
         "orientation": "h",
         "showlegend": true,
         "type": "box",
         "x": [
          16
         ],
         "x0": " ",
         "xaxis": "x",
         "y": [
          "Orthodontics"
         ],
         "y0": " ",
         "yaxis": "y"
        },
        {
         "alignmentgroup": "True",
         "hovertemplate": "Subfield=%{y}<br>Total Citation Count=%{x}<extra></extra>",
         "legendgroup": "Gastroenterology",
         "marker": {
          "color": "#636efa"
         },
         "name": "Gastroenterology",
         "notched": false,
         "offsetgroup": "Gastroenterology",
         "orientation": "h",
         "showlegend": true,
         "type": "box",
         "x": [
          3
         ],
         "x0": " ",
         "xaxis": "x",
         "y": [
          "Gastroenterology"
         ],
         "y0": " ",
         "yaxis": "y"
        },
        {
         "alignmentgroup": "True",
         "hovertemplate": "Subfield=%{y}<br>Total Citation Count=%{x}<extra></extra>",
         "legendgroup": "Critical Care and Intensive Care Medicine",
         "marker": {
          "color": "#EF553B"
         },
         "name": "Critical Care and Intensive Care Medicine",
         "notched": false,
         "offsetgroup": "Critical Care and Intensive Care Medicine",
         "orientation": "h",
         "showlegend": true,
         "type": "box",
         "x": [
          11,
          3
         ],
         "x0": " ",
         "xaxis": "x",
         "y": [
          "Critical Care and Intensive Care Medicine",
          "Critical Care and Intensive Care Medicine"
         ],
         "y0": " ",
         "yaxis": "y"
        },
        {
         "alignmentgroup": "True",
         "hovertemplate": "Subfield=%{y}<br>Total Citation Count=%{x}<extra></extra>",
         "legendgroup": "Orthopedics and Sports Medicine",
         "marker": {
          "color": "#00cc96"
         },
         "name": "Orthopedics and Sports Medicine",
         "notched": false,
         "offsetgroup": "Orthopedics and Sports Medicine",
         "orientation": "h",
         "showlegend": true,
         "type": "box",
         "x": [
          16,
          4,
          0
         ],
         "x0": " ",
         "xaxis": "x",
         "y": [
          "Orthopedics and Sports Medicine",
          "Orthopedics and Sports Medicine",
          "Orthopedics and Sports Medicine"
         ],
         "y0": " ",
         "yaxis": "y"
        },
        {
         "alignmentgroup": "True",
         "hovertemplate": "Subfield=%{y}<br>Total Citation Count=%{x}<extra></extra>",
         "legendgroup": "Experimental and Cognitive Psychology",
         "marker": {
          "color": "#ab63fa"
         },
         "name": "Experimental and Cognitive Psychology",
         "notched": false,
         "offsetgroup": "Experimental and Cognitive Psychology",
         "orientation": "h",
         "showlegend": true,
         "type": "box",
         "x": [
          11,
          10,
          1,
          0
         ],
         "x0": " ",
         "xaxis": "x",
         "y": [
          "Experimental and Cognitive Psychology",
          "Experimental and Cognitive Psychology",
          "Experimental and Cognitive Psychology",
          "Experimental and Cognitive Psychology"
         ],
         "y0": " ",
         "yaxis": "y"
        },
        {
         "alignmentgroup": "True",
         "hovertemplate": "Subfield=%{y}<br>Total Citation Count=%{x}<extra></extra>",
         "legendgroup": "Rehabilitation",
         "marker": {
          "color": "#FFA15A"
         },
         "name": "Rehabilitation",
         "notched": false,
         "offsetgroup": "Rehabilitation",
         "orientation": "h",
         "showlegend": true,
         "type": "box",
         "x": [
          11,
          6
         ],
         "x0": " ",
         "xaxis": "x",
         "y": [
          "Rehabilitation",
          "Rehabilitation"
         ],
         "y0": " ",
         "yaxis": "y"
        },
        {
         "alignmentgroup": "True",
         "hovertemplate": "Subfield=%{y}<br>Total Citation Count=%{x}<extra></extra>",
         "legendgroup": "Human-Computer Interaction",
         "marker": {
          "color": "#19d3f3"
         },
         "name": "Human-Computer Interaction",
         "notched": false,
         "offsetgroup": "Human-Computer Interaction",
         "orientation": "h",
         "showlegend": true,
         "type": "box",
         "x": [
          0
         ],
         "x0": " ",
         "xaxis": "x",
         "y": [
          "Human-Computer Interaction"
         ],
         "y0": " ",
         "yaxis": "y"
        },
        {
         "alignmentgroup": "True",
         "hovertemplate": "Subfield=%{y}<br>Total Citation Count=%{x}<extra></extra>",
         "legendgroup": "Medical Laboratory Technology",
         "marker": {
          "color": "#FF6692"
         },
         "name": "Medical Laboratory Technology",
         "notched": false,
         "offsetgroup": "Medical Laboratory Technology",
         "orientation": "h",
         "showlegend": true,
         "type": "box",
         "x": [
          0
         ],
         "x0": " ",
         "xaxis": "x",
         "y": [
          "Medical Laboratory Technology"
         ],
         "y0": " ",
         "yaxis": "y"
        },
        {
         "alignmentgroup": "True",
         "hovertemplate": "Subfield=%{y}<br>Total Citation Count=%{x}<extra></extra>",
         "legendgroup": "Anesthesiology and Pain Medicine",
         "marker": {
          "color": "#B6E880"
         },
         "name": "Anesthesiology and Pain Medicine",
         "notched": false,
         "offsetgroup": "Anesthesiology and Pain Medicine",
         "orientation": "h",
         "showlegend": true,
         "type": "box",
         "x": [
          0
         ],
         "x0": " ",
         "xaxis": "x",
         "y": [
          "Anesthesiology and Pain Medicine"
         ],
         "y0": " ",
         "yaxis": "y"
        },
        {
         "alignmentgroup": "True",
         "hovertemplate": "Subfield=%{y}<br>Total Citation Count=%{x}<extra></extra>",
         "legendgroup": "Otorhinolaryngology",
         "marker": {
          "color": "#FF97FF"
         },
         "name": "Otorhinolaryngology",
         "notched": false,
         "offsetgroup": "Otorhinolaryngology",
         "orientation": "h",
         "showlegend": true,
         "type": "box",
         "x": [
          0,
          0,
          1,
          4,
          1
         ],
         "x0": " ",
         "xaxis": "x",
         "y": [
          "Otorhinolaryngology",
          "Otorhinolaryngology",
          "Otorhinolaryngology",
          "Otorhinolaryngology",
          "Otorhinolaryngology"
         ],
         "y0": " ",
         "yaxis": "y"
        },
        {
         "alignmentgroup": "True",
         "hovertemplate": "Subfield=%{y}<br>Total Citation Count=%{x}<extra></extra>",
         "legendgroup": "Information Systems",
         "marker": {
          "color": "#FECB52"
         },
         "name": "Information Systems",
         "notched": false,
         "offsetgroup": "Information Systems",
         "orientation": "h",
         "showlegend": true,
         "type": "box",
         "x": [
          9
         ],
         "x0": " ",
         "xaxis": "x",
         "y": [
          "Information Systems"
         ],
         "y0": " ",
         "yaxis": "y"
        },
        {
         "alignmentgroup": "True",
         "hovertemplate": "Subfield=%{y}<br>Total Citation Count=%{x}<extra></extra>",
         "legendgroup": "Developmental and Educational Psychology",
         "marker": {
          "color": "#636efa"
         },
         "name": "Developmental and Educational Psychology",
         "notched": false,
         "offsetgroup": "Developmental and Educational Psychology",
         "orientation": "h",
         "showlegend": true,
         "type": "box",
         "x": [
          9
         ],
         "x0": " ",
         "xaxis": "x",
         "y": [
          "Developmental and Educational Psychology"
         ],
         "y0": " ",
         "yaxis": "y"
        },
        {
         "alignmentgroup": "True",
         "hovertemplate": "Subfield=%{y}<br>Total Citation Count=%{x}<extra></extra>",
         "legendgroup": "Radiology, Nuclear Medicine and Imaging",
         "marker": {
          "color": "#EF553B"
         },
         "name": "Radiology, Nuclear Medicine and Imaging",
         "notched": false,
         "offsetgroup": "Radiology, Nuclear Medicine and Imaging",
         "orientation": "h",
         "showlegend": true,
         "type": "box",
         "x": [
          8,
          3,
          0,
          0
         ],
         "x0": " ",
         "xaxis": "x",
         "y": [
          "Radiology, Nuclear Medicine and Imaging",
          "Radiology, Nuclear Medicine and Imaging",
          "Radiology, Nuclear Medicine and Imaging",
          "Radiology, Nuclear Medicine and Imaging"
         ],
         "y0": " ",
         "yaxis": "y"
        },
        {
         "alignmentgroup": "True",
         "hovertemplate": "Subfield=%{y}<br>Total Citation Count=%{x}<extra></extra>",
         "legendgroup": "Artificial Intelligence",
         "marker": {
          "color": "#00cc96"
         },
         "name": "Artificial Intelligence",
         "notched": false,
         "offsetgroup": "Artificial Intelligence",
         "orientation": "h",
         "showlegend": true,
         "type": "box",
         "x": [
          17,
          5
         ],
         "x0": " ",
         "xaxis": "x",
         "y": [
          "Artificial Intelligence",
          "Artificial Intelligence"
         ],
         "y0": " ",
         "yaxis": "y"
        },
        {
         "alignmentgroup": "True",
         "hovertemplate": "Subfield=%{y}<br>Total Citation Count=%{x}<extra></extra>",
         "legendgroup": "Research and Theory",
         "marker": {
          "color": "#ab63fa"
         },
         "name": "Research and Theory",
         "notched": false,
         "offsetgroup": "Research and Theory",
         "orientation": "h",
         "showlegend": true,
         "type": "box",
         "x": [
          4,
          9,
          3
         ],
         "x0": " ",
         "xaxis": "x",
         "y": [
          "Research and Theory",
          "Research and Theory",
          "Research and Theory"
         ],
         "y0": " ",
         "yaxis": "y"
        },
        {
         "alignmentgroup": "True",
         "hovertemplate": "Subfield=%{y}<br>Total Citation Count=%{x}<extra></extra>",
         "legendgroup": "Education",
         "marker": {
          "color": "#FFA15A"
         },
         "name": "Education",
         "notched": false,
         "offsetgroup": "Education",
         "orientation": "h",
         "showlegend": true,
         "type": "box",
         "x": [
          5,
          1,
          1,
          0,
          0,
          0
         ],
         "x0": " ",
         "xaxis": "x",
         "y": [
          "Education",
          "Education",
          "Education",
          "Education",
          "Education",
          "Education"
         ],
         "y0": " ",
         "yaxis": "y"
        },
        {
         "alignmentgroup": "True",
         "hovertemplate": "Subfield=%{y}<br>Total Citation Count=%{x}<extra></extra>",
         "legendgroup": "Language and Linguistics",
         "marker": {
          "color": "#19d3f3"
         },
         "name": "Language and Linguistics",
         "notched": false,
         "offsetgroup": "Language and Linguistics",
         "orientation": "h",
         "showlegend": true,
         "type": "box",
         "x": [
          12,
          0
         ],
         "x0": " ",
         "xaxis": "x",
         "y": [
          "Language and Linguistics",
          "Language and Linguistics"
         ],
         "y0": " ",
         "yaxis": "y"
        },
        {
         "alignmentgroup": "True",
         "hovertemplate": "Subfield=%{y}<br>Total Citation Count=%{x}<extra></extra>",
         "legendgroup": "Immunology",
         "marker": {
          "color": "#FF6692"
         },
         "name": "Immunology",
         "notched": false,
         "offsetgroup": "Immunology",
         "orientation": "h",
         "showlegend": true,
         "type": "box",
         "x": [
          1,
          3,
          3,
          0
         ],
         "x0": " ",
         "xaxis": "x",
         "y": [
          "Immunology",
          "Immunology",
          "Immunology",
          "Immunology"
         ],
         "y0": " ",
         "yaxis": "y"
        },
        {
         "alignmentgroup": "True",
         "hovertemplate": "Subfield=%{y}<br>Total Citation Count=%{x}<extra></extra>",
         "legendgroup": "Economics and Econometrics",
         "marker": {
          "color": "#B6E880"
         },
         "name": "Economics and Econometrics",
         "notched": false,
         "offsetgroup": "Economics and Econometrics",
         "orientation": "h",
         "showlegend": true,
         "type": "box",
         "x": [
          13,
          4
         ],
         "x0": " ",
         "xaxis": "x",
         "y": [
          "Economics and Econometrics",
          "Economics and Econometrics"
         ],
         "y0": " ",
         "yaxis": "y"
        },
        {
         "alignmentgroup": "True",
         "hovertemplate": "Subfield=%{y}<br>Total Citation Count=%{x}<extra></extra>",
         "legendgroup": "Social Psychology",
         "marker": {
          "color": "#FF97FF"
         },
         "name": "Social Psychology",
         "notched": false,
         "offsetgroup": "Social Psychology",
         "orientation": "h",
         "showlegend": true,
         "type": "box",
         "x": [
          5
         ],
         "x0": " ",
         "xaxis": "x",
         "y": [
          "Social Psychology"
         ],
         "y0": " ",
         "yaxis": "y"
        },
        {
         "alignmentgroup": "True",
         "hovertemplate": "Subfield=%{y}<br>Total Citation Count=%{x}<extra></extra>",
         "legendgroup": "Immunology and Allergy",
         "marker": {
          "color": "#FECB52"
         },
         "name": "Immunology and Allergy",
         "notched": false,
         "offsetgroup": "Immunology and Allergy",
         "orientation": "h",
         "showlegend": true,
         "type": "box",
         "x": [
          4,
          3
         ],
         "x0": " ",
         "xaxis": "x",
         "y": [
          "Immunology and Allergy",
          "Immunology and Allergy"
         ],
         "y0": " ",
         "yaxis": "y"
        },
        {
         "alignmentgroup": "True",
         "hovertemplate": "Subfield=%{y}<br>Total Citation Count=%{x}<extra></extra>",
         "legendgroup": "Applied Psychology",
         "marker": {
          "color": "#636efa"
         },
         "name": "Applied Psychology",
         "notched": false,
         "offsetgroup": "Applied Psychology",
         "orientation": "h",
         "showlegend": true,
         "type": "box",
         "x": [
          4
         ],
         "x0": " ",
         "xaxis": "x",
         "y": [
          "Applied Psychology"
         ],
         "y0": " ",
         "yaxis": "y"
        },
        {
         "alignmentgroup": "True",
         "hovertemplate": "Subfield=%{y}<br>Total Citation Count=%{x}<extra></extra>",
         "legendgroup": "Strategy and Management",
         "marker": {
          "color": "#EF553B"
         },
         "name": "Strategy and Management",
         "notched": false,
         "offsetgroup": "Strategy and Management",
         "orientation": "h",
         "showlegend": true,
         "type": "box",
         "x": [
          4
         ],
         "x0": " ",
         "xaxis": "x",
         "y": [
          "Strategy and Management"
         ],
         "y0": " ",
         "yaxis": "y"
        },
        {
         "alignmentgroup": "True",
         "hovertemplate": "Subfield=%{y}<br>Total Citation Count=%{x}<extra></extra>",
         "legendgroup": "Family Practice",
         "marker": {
          "color": "#00cc96"
         },
         "name": "Family Practice",
         "notched": false,
         "offsetgroup": "Family Practice",
         "orientation": "h",
         "showlegend": true,
         "type": "box",
         "x": [
          3
         ],
         "x0": " ",
         "xaxis": "x",
         "y": [
          "Family Practice"
         ],
         "y0": " ",
         "yaxis": "y"
        },
        {
         "alignmentgroup": "True",
         "hovertemplate": "Subfield=%{y}<br>Total Citation Count=%{x}<extra></extra>",
         "legendgroup": "Dermatology",
         "marker": {
          "color": "#ab63fa"
         },
         "name": "Dermatology",
         "notched": false,
         "offsetgroup": "Dermatology",
         "orientation": "h",
         "showlegend": true,
         "type": "box",
         "x": [
          3,
          3
         ],
         "x0": " ",
         "xaxis": "x",
         "y": [
          "Dermatology",
          "Dermatology"
         ],
         "y0": " ",
         "yaxis": "y"
        },
        {
         "alignmentgroup": "True",
         "hovertemplate": "Subfield=%{y}<br>Total Citation Count=%{x}<extra></extra>",
         "legendgroup": "Neuropsychology and Physiological Psychology",
         "marker": {
          "color": "#FFA15A"
         },
         "name": "Neuropsychology and Physiological Psychology",
         "notched": false,
         "offsetgroup": "Neuropsychology and Physiological Psychology",
         "orientation": "h",
         "showlegend": true,
         "type": "box",
         "x": [
          4
         ],
         "x0": " ",
         "xaxis": "x",
         "y": [
          "Neuropsychology and Physiological Psychology"
         ],
         "y0": " ",
         "yaxis": "y"
        },
        {
         "alignmentgroup": "True",
         "hovertemplate": "Subfield=%{y}<br>Total Citation Count=%{x}<extra></extra>",
         "legendgroup": "Occupational Therapy",
         "marker": {
          "color": "#19d3f3"
         },
         "name": "Occupational Therapy",
         "notched": false,
         "offsetgroup": "Occupational Therapy",
         "orientation": "h",
         "showlegend": true,
         "type": "box",
         "x": [
          1
         ],
         "x0": " ",
         "xaxis": "x",
         "y": [
          "Occupational Therapy"
         ],
         "y0": " ",
         "yaxis": "y"
        },
        {
         "alignmentgroup": "True",
         "hovertemplate": "Subfield=%{y}<br>Total Citation Count=%{x}<extra></extra>",
         "legendgroup": "Management Science and Operations Research",
         "marker": {
          "color": "#FF6692"
         },
         "name": "Management Science and Operations Research",
         "notched": false,
         "offsetgroup": "Management Science and Operations Research",
         "orientation": "h",
         "showlegend": true,
         "type": "box",
         "x": [
          1,
          1
         ],
         "x0": " ",
         "xaxis": "x",
         "y": [
          "Management Science and Operations Research",
          "Management Science and Operations Research"
         ],
         "y0": " ",
         "yaxis": "y"
        },
        {
         "alignmentgroup": "True",
         "hovertemplate": "Subfield=%{y}<br>Total Citation Count=%{x}<extra></extra>",
         "legendgroup": "Biochemistry",
         "marker": {
          "color": "#B6E880"
         },
         "name": "Biochemistry",
         "notched": false,
         "offsetgroup": "Biochemistry",
         "orientation": "h",
         "showlegend": true,
         "type": "box",
         "x": [
          1
         ],
         "x0": " ",
         "xaxis": "x",
         "y": [
          "Biochemistry"
         ],
         "y0": " ",
         "yaxis": "y"
        },
        {
         "alignmentgroup": "True",
         "hovertemplate": "Subfield=%{y}<br>Total Citation Count=%{x}<extra></extra>",
         "legendgroup": "Organizational Behavior and Human Resource Management",
         "marker": {
          "color": "#FF97FF"
         },
         "name": "Organizational Behavior and Human Resource Management",
         "notched": false,
         "offsetgroup": "Organizational Behavior and Human Resource Management",
         "orientation": "h",
         "showlegend": true,
         "type": "box",
         "x": [
          1,
          0,
          0
         ],
         "x0": " ",
         "xaxis": "x",
         "y": [
          "Organizational Behavior and Human Resource Management",
          "Organizational Behavior and Human Resource Management",
          "Organizational Behavior and Human Resource Management"
         ],
         "y0": " ",
         "yaxis": "y"
        },
        {
         "alignmentgroup": "True",
         "hovertemplate": "Subfield=%{y}<br>Total Citation Count=%{x}<extra></extra>",
         "legendgroup": "Philosophy",
         "marker": {
          "color": "#636efa"
         },
         "name": "Philosophy",
         "notched": false,
         "offsetgroup": "Philosophy",
         "orientation": "h",
         "showlegend": true,
         "type": "box",
         "x": [
          0,
          0,
          0
         ],
         "x0": " ",
         "xaxis": "x",
         "y": [
          "Philosophy",
          "Philosophy",
          "Philosophy"
         ],
         "y0": " ",
         "yaxis": "y"
        },
        {
         "alignmentgroup": "True",
         "hovertemplate": "Subfield=%{y}<br>Total Citation Count=%{x}<extra></extra>",
         "legendgroup": "Complementary and Manual Therapy",
         "marker": {
          "color": "#EF553B"
         },
         "name": "Complementary and Manual Therapy",
         "notched": false,
         "offsetgroup": "Complementary and Manual Therapy",
         "orientation": "h",
         "showlegend": true,
         "type": "box",
         "x": [
          0
         ],
         "x0": " ",
         "xaxis": "x",
         "y": [
          "Complementary and Manual Therapy"
         ],
         "y0": " ",
         "yaxis": "y"
        },
        {
         "alignmentgroup": "True",
         "hovertemplate": "Subfield=%{y}<br>Total Citation Count=%{x}<extra></extra>",
         "legendgroup": "Mechanical Engineering",
         "marker": {
          "color": "#00cc96"
         },
         "name": "Mechanical Engineering",
         "notched": false,
         "offsetgroup": "Mechanical Engineering",
         "orientation": "h",
         "showlegend": true,
         "type": "box",
         "x": [
          0
         ],
         "x0": " ",
         "xaxis": "x",
         "y": [
          "Mechanical Engineering"
         ],
         "y0": " ",
         "yaxis": "y"
        }
       ],
       "layout": {
        "boxmode": "overlay",
        "height": 800,
        "legend": {
         "title": {
          "text": "Subfield"
         },
         "tracegroupgap": 0
        },
        "showlegend": false,
        "template": {
         "data": {
          "bar": [
           {
            "error_x": {
             "color": "#2a3f5f"
            },
            "error_y": {
             "color": "#2a3f5f"
            },
            "marker": {
             "line": {
              "color": "#E5ECF6",
              "width": 0.5
             },
             "pattern": {
              "fillmode": "overlay",
              "size": 10,
              "solidity": 0.2
             }
            },
            "type": "bar"
           }
          ],
          "barpolar": [
           {
            "marker": {
             "line": {
              "color": "#E5ECF6",
              "width": 0.5
             },
             "pattern": {
              "fillmode": "overlay",
              "size": 10,
              "solidity": 0.2
             }
            },
            "type": "barpolar"
           }
          ],
          "carpet": [
           {
            "aaxis": {
             "endlinecolor": "#2a3f5f",
             "gridcolor": "white",
             "linecolor": "white",
             "minorgridcolor": "white",
             "startlinecolor": "#2a3f5f"
            },
            "baxis": {
             "endlinecolor": "#2a3f5f",
             "gridcolor": "white",
             "linecolor": "white",
             "minorgridcolor": "white",
             "startlinecolor": "#2a3f5f"
            },
            "type": "carpet"
           }
          ],
          "choropleth": [
           {
            "colorbar": {
             "outlinewidth": 0,
             "ticks": ""
            },
            "type": "choropleth"
           }
          ],
          "contour": [
           {
            "colorbar": {
             "outlinewidth": 0,
             "ticks": ""
            },
            "colorscale": [
             [
              0,
              "#0d0887"
             ],
             [
              0.1111111111111111,
              "#46039f"
             ],
             [
              0.2222222222222222,
              "#7201a8"
             ],
             [
              0.3333333333333333,
              "#9c179e"
             ],
             [
              0.4444444444444444,
              "#bd3786"
             ],
             [
              0.5555555555555556,
              "#d8576b"
             ],
             [
              0.6666666666666666,
              "#ed7953"
             ],
             [
              0.7777777777777778,
              "#fb9f3a"
             ],
             [
              0.8888888888888888,
              "#fdca26"
             ],
             [
              1,
              "#f0f921"
             ]
            ],
            "type": "contour"
           }
          ],
          "contourcarpet": [
           {
            "colorbar": {
             "outlinewidth": 0,
             "ticks": ""
            },
            "type": "contourcarpet"
           }
          ],
          "heatmap": [
           {
            "colorbar": {
             "outlinewidth": 0,
             "ticks": ""
            },
            "colorscale": [
             [
              0,
              "#0d0887"
             ],
             [
              0.1111111111111111,
              "#46039f"
             ],
             [
              0.2222222222222222,
              "#7201a8"
             ],
             [
              0.3333333333333333,
              "#9c179e"
             ],
             [
              0.4444444444444444,
              "#bd3786"
             ],
             [
              0.5555555555555556,
              "#d8576b"
             ],
             [
              0.6666666666666666,
              "#ed7953"
             ],
             [
              0.7777777777777778,
              "#fb9f3a"
             ],
             [
              0.8888888888888888,
              "#fdca26"
             ],
             [
              1,
              "#f0f921"
             ]
            ],
            "type": "heatmap"
           }
          ],
          "heatmapgl": [
           {
            "colorbar": {
             "outlinewidth": 0,
             "ticks": ""
            },
            "colorscale": [
             [
              0,
              "#0d0887"
             ],
             [
              0.1111111111111111,
              "#46039f"
             ],
             [
              0.2222222222222222,
              "#7201a8"
             ],
             [
              0.3333333333333333,
              "#9c179e"
             ],
             [
              0.4444444444444444,
              "#bd3786"
             ],
             [
              0.5555555555555556,
              "#d8576b"
             ],
             [
              0.6666666666666666,
              "#ed7953"
             ],
             [
              0.7777777777777778,
              "#fb9f3a"
             ],
             [
              0.8888888888888888,
              "#fdca26"
             ],
             [
              1,
              "#f0f921"
             ]
            ],
            "type": "heatmapgl"
           }
          ],
          "histogram": [
           {
            "marker": {
             "pattern": {
              "fillmode": "overlay",
              "size": 10,
              "solidity": 0.2
             }
            },
            "type": "histogram"
           }
          ],
          "histogram2d": [
           {
            "colorbar": {
             "outlinewidth": 0,
             "ticks": ""
            },
            "colorscale": [
             [
              0,
              "#0d0887"
             ],
             [
              0.1111111111111111,
              "#46039f"
             ],
             [
              0.2222222222222222,
              "#7201a8"
             ],
             [
              0.3333333333333333,
              "#9c179e"
             ],
             [
              0.4444444444444444,
              "#bd3786"
             ],
             [
              0.5555555555555556,
              "#d8576b"
             ],
             [
              0.6666666666666666,
              "#ed7953"
             ],
             [
              0.7777777777777778,
              "#fb9f3a"
             ],
             [
              0.8888888888888888,
              "#fdca26"
             ],
             [
              1,
              "#f0f921"
             ]
            ],
            "type": "histogram2d"
           }
          ],
          "histogram2dcontour": [
           {
            "colorbar": {
             "outlinewidth": 0,
             "ticks": ""
            },
            "colorscale": [
             [
              0,
              "#0d0887"
             ],
             [
              0.1111111111111111,
              "#46039f"
             ],
             [
              0.2222222222222222,
              "#7201a8"
             ],
             [
              0.3333333333333333,
              "#9c179e"
             ],
             [
              0.4444444444444444,
              "#bd3786"
             ],
             [
              0.5555555555555556,
              "#d8576b"
             ],
             [
              0.6666666666666666,
              "#ed7953"
             ],
             [
              0.7777777777777778,
              "#fb9f3a"
             ],
             [
              0.8888888888888888,
              "#fdca26"
             ],
             [
              1,
              "#f0f921"
             ]
            ],
            "type": "histogram2dcontour"
           }
          ],
          "mesh3d": [
           {
            "colorbar": {
             "outlinewidth": 0,
             "ticks": ""
            },
            "type": "mesh3d"
           }
          ],
          "parcoords": [
           {
            "line": {
             "colorbar": {
              "outlinewidth": 0,
              "ticks": ""
             }
            },
            "type": "parcoords"
           }
          ],
          "pie": [
           {
            "automargin": true,
            "type": "pie"
           }
          ],
          "scatter": [
           {
            "fillpattern": {
             "fillmode": "overlay",
             "size": 10,
             "solidity": 0.2
            },
            "type": "scatter"
           }
          ],
          "scatter3d": [
           {
            "line": {
             "colorbar": {
              "outlinewidth": 0,
              "ticks": ""
             }
            },
            "marker": {
             "colorbar": {
              "outlinewidth": 0,
              "ticks": ""
             }
            },
            "type": "scatter3d"
           }
          ],
          "scattercarpet": [
           {
            "marker": {
             "colorbar": {
              "outlinewidth": 0,
              "ticks": ""
             }
            },
            "type": "scattercarpet"
           }
          ],
          "scattergeo": [
           {
            "marker": {
             "colorbar": {
              "outlinewidth": 0,
              "ticks": ""
             }
            },
            "type": "scattergeo"
           }
          ],
          "scattergl": [
           {
            "marker": {
             "colorbar": {
              "outlinewidth": 0,
              "ticks": ""
             }
            },
            "type": "scattergl"
           }
          ],
          "scattermapbox": [
           {
            "marker": {
             "colorbar": {
              "outlinewidth": 0,
              "ticks": ""
             }
            },
            "type": "scattermapbox"
           }
          ],
          "scatterpolar": [
           {
            "marker": {
             "colorbar": {
              "outlinewidth": 0,
              "ticks": ""
             }
            },
            "type": "scatterpolar"
           }
          ],
          "scatterpolargl": [
           {
            "marker": {
             "colorbar": {
              "outlinewidth": 0,
              "ticks": ""
             }
            },
            "type": "scatterpolargl"
           }
          ],
          "scatterternary": [
           {
            "marker": {
             "colorbar": {
              "outlinewidth": 0,
              "ticks": ""
             }
            },
            "type": "scatterternary"
           }
          ],
          "surface": [
           {
            "colorbar": {
             "outlinewidth": 0,
             "ticks": ""
            },
            "colorscale": [
             [
              0,
              "#0d0887"
             ],
             [
              0.1111111111111111,
              "#46039f"
             ],
             [
              0.2222222222222222,
              "#7201a8"
             ],
             [
              0.3333333333333333,
              "#9c179e"
             ],
             [
              0.4444444444444444,
              "#bd3786"
             ],
             [
              0.5555555555555556,
              "#d8576b"
             ],
             [
              0.6666666666666666,
              "#ed7953"
             ],
             [
              0.7777777777777778,
              "#fb9f3a"
             ],
             [
              0.8888888888888888,
              "#fdca26"
             ],
             [
              1,
              "#f0f921"
             ]
            ],
            "type": "surface"
           }
          ],
          "table": [
           {
            "cells": {
             "fill": {
              "color": "#EBF0F8"
             },
             "line": {
              "color": "white"
             }
            },
            "header": {
             "fill": {
              "color": "#C8D4E3"
             },
             "line": {
              "color": "white"
             }
            },
            "type": "table"
           }
          ]
         },
         "layout": {
          "annotationdefaults": {
           "arrowcolor": "#2a3f5f",
           "arrowhead": 0,
           "arrowwidth": 1
          },
          "autotypenumbers": "strict",
          "coloraxis": {
           "colorbar": {
            "outlinewidth": 0,
            "ticks": ""
           }
          },
          "colorscale": {
           "diverging": [
            [
             0,
             "#8e0152"
            ],
            [
             0.1,
             "#c51b7d"
            ],
            [
             0.2,
             "#de77ae"
            ],
            [
             0.3,
             "#f1b6da"
            ],
            [
             0.4,
             "#fde0ef"
            ],
            [
             0.5,
             "#f7f7f7"
            ],
            [
             0.6,
             "#e6f5d0"
            ],
            [
             0.7,
             "#b8e186"
            ],
            [
             0.8,
             "#7fbc41"
            ],
            [
             0.9,
             "#4d9221"
            ],
            [
             1,
             "#276419"
            ]
           ],
           "sequential": [
            [
             0,
             "#0d0887"
            ],
            [
             0.1111111111111111,
             "#46039f"
            ],
            [
             0.2222222222222222,
             "#7201a8"
            ],
            [
             0.3333333333333333,
             "#9c179e"
            ],
            [
             0.4444444444444444,
             "#bd3786"
            ],
            [
             0.5555555555555556,
             "#d8576b"
            ],
            [
             0.6666666666666666,
             "#ed7953"
            ],
            [
             0.7777777777777778,
             "#fb9f3a"
            ],
            [
             0.8888888888888888,
             "#fdca26"
            ],
            [
             1,
             "#f0f921"
            ]
           ],
           "sequentialminus": [
            [
             0,
             "#0d0887"
            ],
            [
             0.1111111111111111,
             "#46039f"
            ],
            [
             0.2222222222222222,
             "#7201a8"
            ],
            [
             0.3333333333333333,
             "#9c179e"
            ],
            [
             0.4444444444444444,
             "#bd3786"
            ],
            [
             0.5555555555555556,
             "#d8576b"
            ],
            [
             0.6666666666666666,
             "#ed7953"
            ],
            [
             0.7777777777777778,
             "#fb9f3a"
            ],
            [
             0.8888888888888888,
             "#fdca26"
            ],
            [
             1,
             "#f0f921"
            ]
           ]
          },
          "colorway": [
           "#636efa",
           "#EF553B",
           "#00cc96",
           "#ab63fa",
           "#FFA15A",
           "#19d3f3",
           "#FF6692",
           "#B6E880",
           "#FF97FF",
           "#FECB52"
          ],
          "font": {
           "color": "#2a3f5f"
          },
          "geo": {
           "bgcolor": "white",
           "lakecolor": "white",
           "landcolor": "#E5ECF6",
           "showlakes": true,
           "showland": true,
           "subunitcolor": "white"
          },
          "hoverlabel": {
           "align": "left"
          },
          "hovermode": "closest",
          "mapbox": {
           "style": "light"
          },
          "paper_bgcolor": "white",
          "plot_bgcolor": "#E5ECF6",
          "polar": {
           "angularaxis": {
            "gridcolor": "white",
            "linecolor": "white",
            "ticks": ""
           },
           "bgcolor": "#E5ECF6",
           "radialaxis": {
            "gridcolor": "white",
            "linecolor": "white",
            "ticks": ""
           }
          },
          "scene": {
           "xaxis": {
            "backgroundcolor": "#E5ECF6",
            "gridcolor": "white",
            "gridwidth": 2,
            "linecolor": "white",
            "showbackground": true,
            "ticks": "",
            "zerolinecolor": "white"
           },
           "yaxis": {
            "backgroundcolor": "#E5ECF6",
            "gridcolor": "white",
            "gridwidth": 2,
            "linecolor": "white",
            "showbackground": true,
            "ticks": "",
            "zerolinecolor": "white"
           },
           "zaxis": {
            "backgroundcolor": "#E5ECF6",
            "gridcolor": "white",
            "gridwidth": 2,
            "linecolor": "white",
            "showbackground": true,
            "ticks": "",
            "zerolinecolor": "white"
           }
          },
          "shapedefaults": {
           "line": {
            "color": "#2a3f5f"
           }
          },
          "ternary": {
           "aaxis": {
            "gridcolor": "white",
            "linecolor": "white",
            "ticks": ""
           },
           "baxis": {
            "gridcolor": "white",
            "linecolor": "white",
            "ticks": ""
           },
           "bgcolor": "#E5ECF6",
           "caxis": {
            "gridcolor": "white",
            "linecolor": "white",
            "ticks": ""
           }
          },
          "title": {
           "x": 0.05
          },
          "xaxis": {
           "automargin": true,
           "gridcolor": "white",
           "linecolor": "white",
           "ticks": "",
           "title": {
            "standoff": 15
           },
           "zerolinecolor": "white",
           "zerolinewidth": 2
          },
          "yaxis": {
           "automargin": true,
           "gridcolor": "white",
           "linecolor": "white",
           "ticks": "",
           "title": {
            "standoff": 15
           },
           "zerolinecolor": "white",
           "zerolinewidth": 2
          }
         }
        },
        "title": {
         "text": "NU-sjukvården: Antal citat (ej normaliserat) per ämnesområde"
        },
        "xaxis": {
         "anchor": "y",
         "domain": [
          0,
          1
         ],
         "title": {
          "text": "Citation Count"
         }
        },
        "yaxis": {
         "anchor": "x",
         "categoryarray": [
          "Mechanical Engineering",
          "Complementary and Manual Therapy",
          "Philosophy",
          null,
          "Organizational Behavior and Human Resource Management",
          "Biochemistry",
          "Management Science and Operations Research",
          "Occupational Therapy",
          "Neuropsychology and Physiological Psychology",
          "Dermatology",
          "Family Practice",
          "Strategy and Management",
          "Applied Psychology",
          "Immunology and Allergy",
          "Social Psychology",
          "Economics and Econometrics",
          "Immunology",
          "Language and Linguistics",
          "Education",
          "Research and Theory",
          "Artificial Intelligence",
          "Radiology, Nuclear Medicine and Imaging",
          "Developmental and Educational Psychology",
          "Information Systems",
          "Otorhinolaryngology",
          "Anesthesiology and Pain Medicine",
          "Medical Laboratory Technology",
          "Human-Computer Interaction",
          "Rehabilitation",
          "Experimental and Cognitive Psychology",
          "Orthopedics and Sports Medicine",
          "Critical Care and Intensive Care Medicine",
          "Gastroenterology",
          "Orthodontics",
          "Health",
          "Pediatrics, Perinatology and Child Health",
          "Pathology and Forensic Medicine",
          "Nephrology",
          "Cellular and Molecular Neuroscience",
          "Infectious Diseases",
          "Periodontics",
          "Hematology",
          "Neurology",
          "Cognitive Neuroscience",
          "Clinical Psychology",
          "Ophthalmology",
          "Rheumatology",
          "Epidemiology",
          "Sociology and Political Science",
          "Speech and Hearing",
          "Reproductive Medicine",
          "Molecular Biology",
          "Radiological and Ultrasound Technology",
          "Emergency Medicine",
          "Cancer Research",
          "Oncology",
          "Obstetrics and Gynecology",
          "Psychiatry and Mental health",
          "Nutrition and Dietetics",
          "Physiology",
          "Pulmonary and Respiratory Medicine",
          "Communication",
          "Cardiology and Cardiovascular Medicine",
          "Pharmacology",
          "Public Health, Environmental and Occupational Health",
          "General Health Professions",
          "Geriatrics and Gerontology",
          "Urology",
          "Oral Surgery",
          "Surgery",
          "Genetics",
          "Biomedical Engineering",
          "Endocrinology, Diabetes and Metabolism"
         ],
         "categoryorder": "array",
         "domain": [
          0,
          1
         ],
         "title": {
          "text": "Subfield"
         }
        }
       }
      }
     },
     "metadata": {},
     "output_type": "display_data"
    }
   ],
   "source": [
    "import pandas as pd\n",
    "import plotly.express as px\n",
    "\n",
    "# Create a boxplot for the citation count grouped by primary subfield, rotated 90 degrees\n",
    "fig = px.box(\n",
    "    df, \n",
    "    y='primary_topic.subfield.display_name', \n",
    "    x='cited_by_count', \n",
    "    title='NU-sjukvården: Antal citat (ej normaliserat) per ämnesområde',\n",
    "    labels={\n",
    "        'primary_topic.subfield.display_name': 'Subfield',\n",
    "        'cited_by_count': 'Total Citation Count'\n",
    "    },\n",
    "    color='primary_topic.subfield.display_name'  # Optional: Color by subfield for clarity\n",
    ")\n",
    "\n",
    "# Update layout for better readability\n",
    "fig.update_layout(\n",
    "    yaxis_title='Subfield',\n",
    "    xaxis_title='Citation Count',\n",
    "    showlegend=False,\n",
    "    height=800  # Adjust height if necessary to fit all subfields\n",
    ")\n",
    "\n",
    "# Show the boxplot\n",
    "fig.show()"
   ]
  },
  {
   "cell_type": "code",
   "execution_count": 42,
   "metadata": {},
   "outputs": [
    {
     "data": {
      "application/vnd.plotly.v1+json": {
       "config": {
        "plotlyServerURL": "https://plot.ly"
       },
       "data": [
        {
         "alignmentgroup": "True",
         "hovertemplate": "primary_topic.display_name=Health Economics and Quality of Life Assessment<br>Publication Year=%{x}<br>Count of Publications=%{y}<extra></extra>",
         "legendgroup": "Health Economics and Quality of Life Assessment",
         "marker": {
          "color": "#636efa",
          "pattern": {
           "shape": ""
          }
         },
         "name": "Health Economics and Quality of Life Assessment",
         "offsetgroup": "Health Economics and Quality of Life Assessment",
         "orientation": "v",
         "showlegend": true,
         "textposition": "auto",
         "type": "bar",
         "x": [
          1993
         ],
         "xaxis": "x",
         "y": [
          2
         ],
         "yaxis": "y"
        },
        {
         "alignmentgroup": "True",
         "hovertemplate": "primary_topic.display_name=Dysphagia and Swallowing Disorders<br>Publication Year=%{x}<br>Count of Publications=%{y}<extra></extra>",
         "legendgroup": "Dysphagia and Swallowing Disorders",
         "marker": {
          "color": "#EF553B",
          "pattern": {
           "shape": ""
          }
         },
         "name": "Dysphagia and Swallowing Disorders",
         "offsetgroup": "Dysphagia and Swallowing Disorders",
         "orientation": "v",
         "showlegend": true,
         "textposition": "auto",
         "type": "bar",
         "x": [
          1998,
          2017
         ],
         "xaxis": "x",
         "y": [
          1,
          1
         ],
         "yaxis": "y"
        },
        {
         "alignmentgroup": "True",
         "hovertemplate": "primary_topic.display_name=Philosophical Perspectives on Health and Psychiatry<br>Publication Year=%{x}<br>Count of Publications=%{y}<extra></extra>",
         "legendgroup": "Philosophical Perspectives on Health and Psychiatry",
         "marker": {
          "color": "#00cc96",
          "pattern": {
           "shape": ""
          }
         },
         "name": "Philosophical Perspectives on Health and Psychiatry",
         "offsetgroup": "Philosophical Perspectives on Health and Psychiatry",
         "orientation": "v",
         "showlegend": true,
         "textposition": "auto",
         "type": "bar",
         "x": [
          2002,
          2019,
          2020
         ],
         "xaxis": "x",
         "y": [
          1,
          1,
          1
         ],
         "yaxis": "y"
        },
        {
         "alignmentgroup": "True",
         "hovertemplate": "primary_topic.display_name=Acute Myeloid Leukemia<br>Publication Year=%{x}<br>Count of Publications=%{y}<extra></extra>",
         "legendgroup": "Acute Myeloid Leukemia",
         "marker": {
          "color": "#ab63fa",
          "pattern": {
           "shape": ""
          }
         },
         "name": "Acute Myeloid Leukemia",
         "offsetgroup": "Acute Myeloid Leukemia",
         "orientation": "v",
         "showlegend": true,
         "textposition": "auto",
         "type": "bar",
         "x": [
          2003,
          2020,
          2023
         ],
         "xaxis": "x",
         "y": [
          1,
          1,
          1
         ],
         "yaxis": "y"
        },
        {
         "alignmentgroup": "True",
         "hovertemplate": "primary_topic.display_name=Improving Communication in Referral Process<br>Publication Year=%{x}<br>Count of Publications=%{y}<extra></extra>",
         "legendgroup": "Improving Communication in Referral Process",
         "marker": {
          "color": "#FFA15A",
          "pattern": {
           "shape": ""
          }
         },
         "name": "Improving Communication in Referral Process",
         "offsetgroup": "Improving Communication in Referral Process",
         "orientation": "v",
         "showlegend": true,
         "textposition": "auto",
         "type": "bar",
         "x": [
          2003,
          2022
         ],
         "xaxis": "x",
         "y": [
          1,
          1
         ],
         "yaxis": "y"
        },
        {
         "alignmentgroup": "True",
         "hovertemplate": "primary_topic.display_name=Management of Cardiac Arrest and Resuscitation<br>Publication Year=%{x}<br>Count of Publications=%{y}<extra></extra>",
         "legendgroup": "Management of Cardiac Arrest and Resuscitation",
         "marker": {
          "color": "#19d3f3",
          "pattern": {
           "shape": ""
          }
         },
         "name": "Management of Cardiac Arrest and Resuscitation",
         "offsetgroup": "Management of Cardiac Arrest and Resuscitation",
         "orientation": "v",
         "showlegend": true,
         "textposition": "auto",
         "type": "bar",
         "x": [
          2003,
          2010,
          2018
         ],
         "xaxis": "x",
         "y": [
          1,
          2,
          1
         ],
         "yaxis": "y"
        },
        {
         "alignmentgroup": "True",
         "hovertemplate": "primary_topic.display_name=Qualitative Content Analysis in Nursing Research<br>Publication Year=%{x}<br>Count of Publications=%{y}<extra></extra>",
         "legendgroup": "Qualitative Content Analysis in Nursing Research",
         "marker": {
          "color": "#FF6692",
          "pattern": {
           "shape": ""
          }
         },
         "name": "Qualitative Content Analysis in Nursing Research",
         "offsetgroup": "Qualitative Content Analysis in Nursing Research",
         "orientation": "v",
         "showlegend": true,
         "textposition": "auto",
         "type": "bar",
         "x": [
          2004,
          2014,
          2022
         ],
         "xaxis": "x",
         "y": [
          1,
          1,
          1
         ],
         "yaxis": "y"
        },
        {
         "alignmentgroup": "True",
         "hovertemplate": "primary_topic.display_name=Salutogenesis and Sense of Coherence in Health<br>Publication Year=%{x}<br>Count of Publications=%{y}<extra></extra>",
         "legendgroup": "Salutogenesis and Sense of Coherence in Health",
         "marker": {
          "color": "#B6E880",
          "pattern": {
           "shape": ""
          }
         },
         "name": "Salutogenesis and Sense of Coherence in Health",
         "offsetgroup": "Salutogenesis and Sense of Coherence in Health",
         "orientation": "v",
         "showlegend": true,
         "textposition": "auto",
         "type": "bar",
         "x": [
          2004,
          2011,
          2017,
          2019,
          2024
         ],
         "xaxis": "x",
         "y": [
          1,
          1,
          1,
          1,
          1
         ],
         "yaxis": "y"
        },
        {
         "alignmentgroup": "True",
         "hovertemplate": "primary_topic.display_name=Anterior Cruciate Ligament Injuries in Athletes<br>Publication Year=%{x}<br>Count of Publications=%{y}<extra></extra>",
         "legendgroup": "Anterior Cruciate Ligament Injuries in Athletes",
         "marker": {
          "color": "#FF97FF",
          "pattern": {
           "shape": ""
          }
         },
         "name": "Anterior Cruciate Ligament Injuries in Athletes",
         "offsetgroup": "Anterior Cruciate Ligament Injuries in Athletes",
         "orientation": "v",
         "showlegend": true,
         "textposition": "auto",
         "type": "bar",
         "x": [
          2005,
          2006,
          2009,
          2010,
          2011,
          2012,
          2013,
          2014,
          2015,
          2016,
          2017,
          2018,
          2019,
          2020,
          2022,
          2023,
          2024
         ],
         "xaxis": "x",
         "y": [
          1,
          1,
          1,
          4,
          1,
          5,
          3,
          5,
          2,
          5,
          3,
          5,
          2,
          2,
          2,
          1,
          1
         ],
         "yaxis": "y"
        },
        {
         "alignmentgroup": "True",
         "hovertemplate": "primary_topic.display_name=Factors Affecting Medical School Selection and Performance<br>Publication Year=%{x}<br>Count of Publications=%{y}<extra></extra>",
         "legendgroup": "Factors Affecting Medical School Selection and Performance",
         "marker": {
          "color": "#FECB52",
          "pattern": {
           "shape": ""
          }
         },
         "name": "Factors Affecting Medical School Selection and Performance",
         "offsetgroup": "Factors Affecting Medical School Selection and Performance",
         "orientation": "v",
         "showlegend": true,
         "textposition": "auto",
         "type": "bar",
         "x": [
          2005,
          2006
         ],
         "xaxis": "x",
         "y": [
          1,
          1
         ],
         "yaxis": "y"
        },
        {
         "alignmentgroup": "True",
         "hovertemplate": "primary_topic.display_name=Impact of Burnout on Healthcare Professionals and Students<br>Publication Year=%{x}<br>Count of Publications=%{y}<extra></extra>",
         "legendgroup": "Impact of Burnout on Healthcare Professionals and Students",
         "marker": {
          "color": "#636efa",
          "pattern": {
           "shape": ""
          }
         },
         "name": "Impact of Burnout on Healthcare Professionals and Students",
         "offsetgroup": "Impact of Burnout on Healthcare Professionals and Students",
         "orientation": "v",
         "showlegend": true,
         "textposition": "auto",
         "type": "bar",
         "x": [
          2005,
          2019
         ],
         "xaxis": "x",
         "y": [
          1,
          1
         ],
         "yaxis": "y"
        },
        {
         "alignmentgroup": "True",
         "hovertemplate": "primary_topic.display_name=Schizophrenia Research and Treatment<br>Publication Year=%{x}<br>Count of Publications=%{y}<extra></extra>",
         "legendgroup": "Schizophrenia Research and Treatment",
         "marker": {
          "color": "#EF553B",
          "pattern": {
           "shape": ""
          }
         },
         "name": "Schizophrenia Research and Treatment",
         "offsetgroup": "Schizophrenia Research and Treatment",
         "orientation": "v",
         "showlegend": true,
         "textposition": "auto",
         "type": "bar",
         "x": [
          2006,
          2007,
          2009,
          2011,
          2012,
          2015,
          2016,
          2018,
          2019,
          2020,
          2021,
          2023
         ],
         "xaxis": "x",
         "y": [
          1,
          3,
          1,
          1,
          3,
          3,
          1,
          4,
          1,
          2,
          1,
          2
         ],
         "yaxis": "y"
        },
        {
         "alignmentgroup": "True",
         "hovertemplate": "primary_topic.display_name=Shoulder Pathology and Treatment Outcomes<br>Publication Year=%{x}<br>Count of Publications=%{y}<extra></extra>",
         "legendgroup": "Shoulder Pathology and Treatment Outcomes",
         "marker": {
          "color": "#00cc96",
          "pattern": {
           "shape": ""
          }
         },
         "name": "Shoulder Pathology and Treatment Outcomes",
         "offsetgroup": "Shoulder Pathology and Treatment Outcomes",
         "orientation": "v",
         "showlegend": true,
         "textposition": "auto",
         "type": "bar",
         "x": [
          2006,
          2009,
          2011,
          2012,
          2014,
          2015,
          2017,
          2018,
          2019,
          2020,
          2021
         ],
         "xaxis": "x",
         "y": [
          1,
          1,
          1,
          2,
          1,
          1,
          3,
          3,
          2,
          3,
          1
         ],
         "yaxis": "y"
        },
        {
         "alignmentgroup": "True",
         "hovertemplate": "primary_topic.display_name=Hip Arthroplasty Techniques and Materials<br>Publication Year=%{x}<br>Count of Publications=%{y}<extra></extra>",
         "legendgroup": "Hip Arthroplasty Techniques and Materials",
         "marker": {
          "color": "#ab63fa",
          "pattern": {
           "shape": ""
          }
         },
         "name": "Hip Arthroplasty Techniques and Materials",
         "offsetgroup": "Hip Arthroplasty Techniques and Materials",
         "orientation": "v",
         "showlegend": true,
         "textposition": "auto",
         "type": "bar",
         "x": [
          2007,
          2015,
          2016,
          2018,
          2021,
          2023
         ],
         "xaxis": "x",
         "y": [
          1,
          1,
          1,
          1,
          1,
          1
         ],
         "yaxis": "y"
        },
        {
         "alignmentgroup": "True",
         "hovertemplate": "primary_topic.display_name=Diagnosis and Management of Eosinophilic Esophagitis<br>Publication Year=%{x}<br>Count of Publications=%{y}<extra></extra>",
         "legendgroup": "Diagnosis and Management of Eosinophilic Esophagitis",
         "marker": {
          "color": "#FFA15A",
          "pattern": {
           "shape": ""
          }
         },
         "name": "Diagnosis and Management of Eosinophilic Esophagitis",
         "offsetgroup": "Diagnosis and Management of Eosinophilic Esophagitis",
         "orientation": "v",
         "showlegend": true,
         "textposition": "auto",
         "type": "bar",
         "x": [
          2008,
          2020,
          2021,
          2022,
          2023,
          2024
         ],
         "xaxis": "x",
         "y": [
          1,
          2,
          1,
          1,
          3,
          4
         ],
         "yaxis": "y"
        },
        {
         "alignmentgroup": "True",
         "hovertemplate": "primary_topic.display_name=Impact of Mental Illness on Family Caregivers<br>Publication Year=%{x}<br>Count of Publications=%{y}<extra></extra>",
         "legendgroup": "Impact of Mental Illness on Family Caregivers",
         "marker": {
          "color": "#19d3f3",
          "pattern": {
           "shape": ""
          }
         },
         "name": "Impact of Mental Illness on Family Caregivers",
         "offsetgroup": "Impact of Mental Illness on Family Caregivers",
         "orientation": "v",
         "showlegend": true,
         "textposition": "auto",
         "type": "bar",
         "x": [
          2008,
          2009,
          2011,
          2017
         ],
         "xaxis": "x",
         "y": [
          1,
          1,
          1,
          1
         ],
         "yaxis": "y"
        },
        {
         "alignmentgroup": "True",
         "hovertemplate": "primary_topic.display_name=Maternal and Neonatal Outcomes of Cesarean Section<br>Publication Year=%{x}<br>Count of Publications=%{y}<extra></extra>",
         "legendgroup": "Maternal and Neonatal Outcomes of Cesarean Section",
         "marker": {
          "color": "#FF6692",
          "pattern": {
           "shape": ""
          }
         },
         "name": "Maternal and Neonatal Outcomes of Cesarean Section",
         "offsetgroup": "Maternal and Neonatal Outcomes of Cesarean Section",
         "orientation": "v",
         "showlegend": true,
         "textposition": "auto",
         "type": "bar",
         "x": [
          2008,
          2009,
          2011,
          2016,
          2017,
          2018,
          2019,
          2020,
          2021,
          2022,
          2023,
          2024
         ],
         "xaxis": "x",
         "y": [
          2,
          1,
          1,
          1,
          2,
          2,
          5,
          2,
          1,
          1,
          1,
          1
         ],
         "yaxis": "y"
        },
        {
         "alignmentgroup": "True",
         "hovertemplate": "primary_topic.display_name=Cardiac Rehabilitation and Cardiovascular Health Interventions<br>Publication Year=%{x}<br>Count of Publications=%{y}<extra></extra>",
         "legendgroup": "Cardiac Rehabilitation and Cardiovascular Health Interventions",
         "marker": {
          "color": "#B6E880",
          "pattern": {
           "shape": ""
          }
         },
         "name": "Cardiac Rehabilitation and Cardiovascular Health Interventions",
         "offsetgroup": "Cardiac Rehabilitation and Cardiovascular Health Interventions",
         "orientation": "v",
         "showlegend": true,
         "textposition": "auto",
         "type": "bar",
         "x": [
          2009,
          2010,
          2013
         ],
         "xaxis": "x",
         "y": [
          1,
          3,
          1
         ],
         "yaxis": "y"
        },
        {
         "alignmentgroup": "True",
         "hovertemplate": "primary_topic.display_name=Emergency Department Crowding<br>Publication Year=%{x}<br>Count of Publications=%{y}<extra></extra>",
         "legendgroup": "Emergency Department Crowding",
         "marker": {
          "color": "#FF97FF",
          "pattern": {
           "shape": ""
          }
         },
         "name": "Emergency Department Crowding",
         "offsetgroup": "Emergency Department Crowding",
         "orientation": "v",
         "showlegend": true,
         "textposition": "auto",
         "type": "bar",
         "x": [
          2009,
          2012,
          2016,
          2021,
          2022
         ],
         "xaxis": "x",
         "y": [
          1,
          1,
          1,
          2,
          2
         ],
         "yaxis": "y"
        },
        {
         "alignmentgroup": "True",
         "hovertemplate": "primary_topic.display_name=Femoroacetabular Impingement Syndrome and Hip Pathology<br>Publication Year=%{x}<br>Count of Publications=%{y}<extra></extra>",
         "legendgroup": "Femoroacetabular Impingement Syndrome and Hip Pathology",
         "marker": {
          "color": "#FECB52",
          "pattern": {
           "shape": ""
          }
         },
         "name": "Femoroacetabular Impingement Syndrome and Hip Pathology",
         "offsetgroup": "Femoroacetabular Impingement Syndrome and Hip Pathology",
         "orientation": "v",
         "showlegend": true,
         "textposition": "auto",
         "type": "bar",
         "x": [
          2009,
          2011
         ],
         "xaxis": "x",
         "y": [
          2,
          1
         ],
         "yaxis": "y"
        },
        {
         "alignmentgroup": "True",
         "hovertemplate": "primary_topic.display_name=Pediatric Cancer and Quality of Life<br>Publication Year=%{x}<br>Count of Publications=%{y}<extra></extra>",
         "legendgroup": "Pediatric Cancer and Quality of Life",
         "marker": {
          "color": "#636efa",
          "pattern": {
           "shape": ""
          }
         },
         "name": "Pediatric Cancer and Quality of Life",
         "offsetgroup": "Pediatric Cancer and Quality of Life",
         "orientation": "v",
         "showlegend": true,
         "textposition": "auto",
         "type": "bar",
         "x": [
          2009,
          2023
         ],
         "xaxis": "x",
         "y": [
          1,
          1
         ],
         "yaxis": "y"
        },
        {
         "alignmentgroup": "True",
         "hovertemplate": "primary_topic.display_name=Attention-Deficit/Hyperactivity Disorder<br>Publication Year=%{x}<br>Count of Publications=%{y}<extra></extra>",
         "legendgroup": "Attention-Deficit/Hyperactivity Disorder",
         "marker": {
          "color": "#EF553B",
          "pattern": {
           "shape": ""
          }
         },
         "name": "Attention-Deficit/Hyperactivity Disorder",
         "offsetgroup": "Attention-Deficit/Hyperactivity Disorder",
         "orientation": "v",
         "showlegend": true,
         "textposition": "auto",
         "type": "bar",
         "x": [
          2010,
          2012,
          2017,
          2020,
          2022,
          2024
         ],
         "xaxis": "x",
         "y": [
          2,
          2,
          1,
          1,
          1,
          1
         ],
         "yaxis": "y"
        },
        {
         "alignmentgroup": "True",
         "hovertemplate": "primary_topic.display_name=Incidence and Management of Hip Fractures<br>Publication Year=%{x}<br>Count of Publications=%{y}<extra></extra>",
         "legendgroup": "Incidence and Management of Hip Fractures",
         "marker": {
          "color": "#00cc96",
          "pattern": {
           "shape": ""
          }
         },
         "name": "Incidence and Management of Hip Fractures",
         "offsetgroup": "Incidence and Management of Hip Fractures",
         "orientation": "v",
         "showlegend": true,
         "textposition": "auto",
         "type": "bar",
         "x": [
          2010,
          2020
         ],
         "xaxis": "x",
         "y": [
          1,
          1
         ],
         "yaxis": "y"
        },
        {
         "alignmentgroup": "True",
         "hovertemplate": "primary_topic.display_name=Management of Diabetes Mellitus and Hypoglycemia<br>Publication Year=%{x}<br>Count of Publications=%{y}<extra></extra>",
         "legendgroup": "Management of Diabetes Mellitus and Hypoglycemia",
         "marker": {
          "color": "#ab63fa",
          "pattern": {
           "shape": ""
          }
         },
         "name": "Management of Diabetes Mellitus and Hypoglycemia",
         "offsetgroup": "Management of Diabetes Mellitus and Hypoglycemia",
         "orientation": "v",
         "showlegend": true,
         "textposition": "auto",
         "type": "bar",
         "x": [
          2010,
          2011,
          2012,
          2013,
          2014,
          2015,
          2016,
          2017,
          2018,
          2019,
          2020,
          2021,
          2022,
          2023,
          2024
         ],
         "xaxis": "x",
         "y": [
          1,
          3,
          3,
          2,
          9,
          2,
          8,
          7,
          5,
          7,
          9,
          5,
          4,
          4,
          7
         ],
         "yaxis": "y"
        },
        {
         "alignmentgroup": "True",
         "hovertemplate": "primary_topic.display_name=Molecular Pathogenesis of Myeloproliferative Disorders<br>Publication Year=%{x}<br>Count of Publications=%{y}<extra></extra>",
         "legendgroup": "Molecular Pathogenesis of Myeloproliferative Disorders",
         "marker": {
          "color": "#FFA15A",
          "pattern": {
           "shape": ""
          }
         },
         "name": "Molecular Pathogenesis of Myeloproliferative Disorders",
         "offsetgroup": "Molecular Pathogenesis of Myeloproliferative Disorders",
         "orientation": "v",
         "showlegend": true,
         "textposition": "auto",
         "type": "bar",
         "x": [
          2010,
          2011,
          2012,
          2013,
          2014,
          2015,
          2016,
          2017,
          2018,
          2019,
          2020,
          2021,
          2022,
          2023,
          2024
         ],
         "xaxis": "x",
         "y": [
          3,
          6,
          4,
          6,
          4,
          6,
          7,
          2,
          3,
          3,
          5,
          2,
          4,
          2,
          1
         ],
         "yaxis": "y"
        },
        {
         "alignmentgroup": "True",
         "hovertemplate": "primary_topic.display_name=Atrial Fibrillation<br>Publication Year=%{x}<br>Count of Publications=%{y}<extra></extra>",
         "legendgroup": "Atrial Fibrillation",
         "marker": {
          "color": "#19d3f3",
          "pattern": {
           "shape": ""
          }
         },
         "name": "Atrial Fibrillation",
         "offsetgroup": "Atrial Fibrillation",
         "orientation": "v",
         "showlegend": true,
         "textposition": "auto",
         "type": "bar",
         "x": [
          2011,
          2017,
          2019,
          2020
         ],
         "xaxis": "x",
         "y": [
          1,
          1,
          1,
          1
         ],
         "yaxis": "y"
        },
        {
         "alignmentgroup": "True",
         "hovertemplate": "primary_topic.display_name=Diagnosis and Treatment of Diverticulitis<br>Publication Year=%{x}<br>Count of Publications=%{y}<extra></extra>",
         "legendgroup": "Diagnosis and Treatment of Diverticulitis",
         "marker": {
          "color": "#FF6692",
          "pattern": {
           "shape": ""
          }
         },
         "name": "Diagnosis and Treatment of Diverticulitis",
         "offsetgroup": "Diagnosis and Treatment of Diverticulitis",
         "orientation": "v",
         "showlegend": true,
         "textposition": "auto",
         "type": "bar",
         "x": [
          2011,
          2014,
          2016,
          2020,
          2021,
          2023,
          2024
         ],
         "xaxis": "x",
         "y": [
          1,
          1,
          1,
          1,
          1,
          1,
          2
         ],
         "yaxis": "y"
        },
        {
         "alignmentgroup": "True",
         "hovertemplate": "primary_topic.display_name=Epidemiology and Management of Maxillofacial Trauma<br>Publication Year=%{x}<br>Count of Publications=%{y}<extra></extra>",
         "legendgroup": "Epidemiology and Management of Maxillofacial Trauma",
         "marker": {
          "color": "#B6E880",
          "pattern": {
           "shape": ""
          }
         },
         "name": "Epidemiology and Management of Maxillofacial Trauma",
         "offsetgroup": "Epidemiology and Management of Maxillofacial Trauma",
         "orientation": "v",
         "showlegend": true,
         "textposition": "auto",
         "type": "bar",
         "x": [
          2011,
          2017
         ],
         "xaxis": "x",
         "y": [
          1,
          1
         ],
         "yaxis": "y"
        },
        {
         "alignmentgroup": "True",
         "hovertemplate": "primary_topic.display_name=Genomic Aberrations and Treatment of Chronic Lymphocytic Leukemia<br>Publication Year=%{x}<br>Count of Publications=%{y}<extra></extra>",
         "legendgroup": "Genomic Aberrations and Treatment of Chronic Lymphocytic Leukemia",
         "marker": {
          "color": "#FF97FF",
          "pattern": {
           "shape": ""
          }
         },
         "name": "Genomic Aberrations and Treatment of Chronic Lymphocytic Leukemia",
         "offsetgroup": "Genomic Aberrations and Treatment of Chronic Lymphocytic Leukemia",
         "orientation": "v",
         "showlegend": true,
         "textposition": "auto",
         "type": "bar",
         "x": [
          2011,
          2016
         ],
         "xaxis": "x",
         "y": [
          1,
          1
         ],
         "yaxis": "y"
        },
        {
         "alignmentgroup": "True",
         "hovertemplate": "primary_topic.display_name=Human Papillomavirus and Cervical Cancer Epidemiology<br>Publication Year=%{x}<br>Count of Publications=%{y}<extra></extra>",
         "legendgroup": "Human Papillomavirus and Cervical Cancer Epidemiology",
         "marker": {
          "color": "#FECB52",
          "pattern": {
           "shape": ""
          }
         },
         "name": "Human Papillomavirus and Cervical Cancer Epidemiology",
         "offsetgroup": "Human Papillomavirus and Cervical Cancer Epidemiology",
         "orientation": "v",
         "showlegend": true,
         "textposition": "auto",
         "type": "bar",
         "x": [
          2011,
          2012,
          2022
         ],
         "xaxis": "x",
         "y": [
          1,
          1,
          1
         ],
         "yaxis": "y"
        },
        {
         "alignmentgroup": "True",
         "hovertemplate": "primary_topic.display_name=Management of Diabetes Mellitus and Cardiovascular Risk<br>Publication Year=%{x}<br>Count of Publications=%{y}<extra></extra>",
         "legendgroup": "Management of Diabetes Mellitus and Cardiovascular Risk",
         "marker": {
          "color": "#636efa",
          "pattern": {
           "shape": ""
          }
         },
         "name": "Management of Diabetes Mellitus and Cardiovascular Risk",
         "offsetgroup": "Management of Diabetes Mellitus and Cardiovascular Risk",
         "orientation": "v",
         "showlegend": true,
         "textposition": "auto",
         "type": "bar",
         "x": [
          2011,
          2012,
          2014,
          2015,
          2016,
          2017,
          2018,
          2019,
          2020,
          2021,
          2022,
          2024
         ],
         "xaxis": "x",
         "y": [
          1,
          1,
          2,
          7,
          3,
          1,
          5,
          4,
          3,
          2,
          4,
          1
         ],
         "yaxis": "y"
        },
        {
         "alignmentgroup": "True",
         "hovertemplate": "primary_topic.display_name=Molecular Mechanisms of Inflammasome Activation and Regulation<br>Publication Year=%{x}<br>Count of Publications=%{y}<extra></extra>",
         "legendgroup": "Molecular Mechanisms of Inflammasome Activation and Regulation",
         "marker": {
          "color": "#EF553B",
          "pattern": {
           "shape": ""
          }
         },
         "name": "Molecular Mechanisms of Inflammasome Activation and Regulation",
         "offsetgroup": "Molecular Mechanisms of Inflammasome Activation and Regulation",
         "orientation": "v",
         "showlegend": true,
         "textposition": "auto",
         "type": "bar",
         "x": [
          2011,
          2012,
          2013,
          2016,
          2017,
          2019,
          2022,
          2023
         ],
         "xaxis": "x",
         "y": [
          1,
          2,
          2,
          3,
          1,
          7,
          1,
          1
         ],
         "yaxis": "y"
        },
        {
         "alignmentgroup": "True",
         "hovertemplate": "primary_topic.display_name=Perioperative Cardiac Risk Assessment and Management<br>Publication Year=%{x}<br>Count of Publications=%{y}<extra></extra>",
         "legendgroup": "Perioperative Cardiac Risk Assessment and Management",
         "marker": {
          "color": "#00cc96",
          "pattern": {
           "shape": ""
          }
         },
         "name": "Perioperative Cardiac Risk Assessment and Management",
         "offsetgroup": "Perioperative Cardiac Risk Assessment and Management",
         "orientation": "v",
         "showlegend": true,
         "textposition": "auto",
         "type": "bar",
         "x": [
          2011,
          2020,
          2021,
          2023,
          2024
         ],
         "xaxis": "x",
         "y": [
          1,
          1,
          1,
          1,
          1
         ],
         "yaxis": "y"
        },
        {
         "alignmentgroup": "True",
         "hovertemplate": "primary_topic.display_name=Principles and Interventions in Stroke Rehabilitation<br>Publication Year=%{x}<br>Count of Publications=%{y}<extra></extra>",
         "legendgroup": "Principles and Interventions in Stroke Rehabilitation",
         "marker": {
          "color": "#ab63fa",
          "pattern": {
           "shape": ""
          }
         },
         "name": "Principles and Interventions in Stroke Rehabilitation",
         "offsetgroup": "Principles and Interventions in Stroke Rehabilitation",
         "orientation": "v",
         "showlegend": true,
         "textposition": "auto",
         "type": "bar",
         "x": [
          2011,
          2017
         ],
         "xaxis": "x",
         "y": [
          1,
          1
         ],
         "yaxis": "y"
        },
        {
         "alignmentgroup": "True",
         "hovertemplate": "primary_topic.display_name=Colorectal Cancer Research and Treatment<br>Publication Year=%{x}<br>Count of Publications=%{y}<extra></extra>",
         "legendgroup": "Colorectal Cancer Research and Treatment",
         "marker": {
          "color": "#FFA15A",
          "pattern": {
           "shape": ""
          }
         },
         "name": "Colorectal Cancer Research and Treatment",
         "offsetgroup": "Colorectal Cancer Research and Treatment",
         "orientation": "v",
         "showlegend": true,
         "textposition": "auto",
         "type": "bar",
         "x": [
          2012,
          2014,
          2015,
          2016,
          2018,
          2024
         ],
         "xaxis": "x",
         "y": [
          1,
          1,
          1,
          1,
          1,
          1
         ],
         "yaxis": "y"
        },
        {
         "alignmentgroup": "True",
         "hovertemplate": "primary_topic.display_name=Diagnosis and Treatment of Multiple Myeloma<br>Publication Year=%{x}<br>Count of Publications=%{y}<extra></extra>",
         "legendgroup": "Diagnosis and Treatment of Multiple Myeloma",
         "marker": {
          "color": "#19d3f3",
          "pattern": {
           "shape": ""
          }
         },
         "name": "Diagnosis and Treatment of Multiple Myeloma",
         "offsetgroup": "Diagnosis and Treatment of Multiple Myeloma",
         "orientation": "v",
         "showlegend": true,
         "textposition": "auto",
         "type": "bar",
         "x": [
          2012,
          2020,
          2022
         ],
         "xaxis": "x",
         "y": [
          1,
          2,
          1
         ],
         "yaxis": "y"
        },
        {
         "alignmentgroup": "True",
         "hovertemplate": "primary_topic.display_name=Impact of Hyperglycemia on Health Outcomes<br>Publication Year=%{x}<br>Count of Publications=%{y}<extra></extra>",
         "legendgroup": "Impact of Hyperglycemia on Health Outcomes",
         "marker": {
          "color": "#FF6692",
          "pattern": {
           "shape": ""
          }
         },
         "name": "Impact of Hyperglycemia on Health Outcomes",
         "offsetgroup": "Impact of Hyperglycemia on Health Outcomes",
         "orientation": "v",
         "showlegend": true,
         "textposition": "auto",
         "type": "bar",
         "x": [
          2012,
          2014,
          2020
         ],
         "xaxis": "x",
         "y": [
          1,
          1,
          1
         ],
         "yaxis": "y"
        },
        {
         "alignmentgroup": "True",
         "hovertemplate": "primary_topic.display_name=Implementation of Evidence-Based Practice in Healthcare<br>Publication Year=%{x}<br>Count of Publications=%{y}<extra></extra>",
         "legendgroup": "Implementation of Evidence-Based Practice in Healthcare",
         "marker": {
          "color": "#B6E880",
          "pattern": {
           "shape": ""
          }
         },
         "name": "Implementation of Evidence-Based Practice in Healthcare",
         "offsetgroup": "Implementation of Evidence-Based Practice in Healthcare",
         "orientation": "v",
         "showlegend": true,
         "textposition": "auto",
         "type": "bar",
         "x": [
          2012,
          2017
         ],
         "xaxis": "x",
         "y": [
          1,
          1
         ],
         "yaxis": "y"
        },
        {
         "alignmentgroup": "True",
         "hovertemplate": "primary_topic.display_name=Standardisation of Lower Urinary Tract Function<br>Publication Year=%{x}<br>Count of Publications=%{y}<extra></extra>",
         "legendgroup": "Standardisation of Lower Urinary Tract Function",
         "marker": {
          "color": "#FF97FF",
          "pattern": {
           "shape": ""
          }
         },
         "name": "Standardisation of Lower Urinary Tract Function",
         "offsetgroup": "Standardisation of Lower Urinary Tract Function",
         "orientation": "v",
         "showlegend": true,
         "textposition": "auto",
         "type": "bar",
         "x": [
          2012,
          2020,
          2021
         ],
         "xaxis": "x",
         "y": [
          1,
          1,
          1
         ],
         "yaxis": "y"
        },
        {
         "alignmentgroup": "True",
         "hovertemplate": "primary_topic.display_name=Adaptation of Tendon and Skeletal Muscle to Mechanical Loading<br>Publication Year=%{x}<br>Count of Publications=%{y}<extra></extra>",
         "legendgroup": "Adaptation of Tendon and Skeletal Muscle to Mechanical Loading",
         "marker": {
          "color": "#FECB52",
          "pattern": {
           "shape": ""
          }
         },
         "name": "Adaptation of Tendon and Skeletal Muscle to Mechanical Loading",
         "offsetgroup": "Adaptation of Tendon and Skeletal Muscle to Mechanical Loading",
         "orientation": "v",
         "showlegend": true,
         "textposition": "auto",
         "type": "bar",
         "x": [
          2013,
          2014,
          2021
         ],
         "xaxis": "x",
         "y": [
          1,
          1,
          1
         ],
         "yaxis": "y"
        },
        {
         "alignmentgroup": "True",
         "hovertemplate": "primary_topic.display_name=Autism Spectrum Disorders<br>Publication Year=%{x}<br>Count of Publications=%{y}<extra></extra>",
         "legendgroup": "Autism Spectrum Disorders",
         "marker": {
          "color": "#636efa",
          "pattern": {
           "shape": ""
          }
         },
         "name": "Autism Spectrum Disorders",
         "offsetgroup": "Autism Spectrum Disorders",
         "orientation": "v",
         "showlegend": true,
         "textposition": "auto",
         "type": "bar",
         "x": [
          2013,
          2016,
          2018,
          2019,
          2021
         ],
         "xaxis": "x",
         "y": [
          2,
          2,
          1,
          1,
          1
         ],
         "yaxis": "y"
        },
        {
         "alignmentgroup": "True",
         "hovertemplate": "primary_topic.display_name=Clinical Studies on Coronary Stents and Revascularization<br>Publication Year=%{x}<br>Count of Publications=%{y}<extra></extra>",
         "legendgroup": "Clinical Studies on Coronary Stents and Revascularization",
         "marker": {
          "color": "#EF553B",
          "pattern": {
           "shape": ""
          }
         },
         "name": "Clinical Studies on Coronary Stents and Revascularization",
         "offsetgroup": "Clinical Studies on Coronary Stents and Revascularization",
         "orientation": "v",
         "showlegend": true,
         "textposition": "auto",
         "type": "bar",
         "x": [
          2013,
          2016
         ],
         "xaxis": "x",
         "y": [
          1,
          1
         ],
         "yaxis": "y"
        },
        {
         "alignmentgroup": "True",
         "hovertemplate": "primary_topic.display_name=Dental Implantology and Peri-implant Diseases<br>Publication Year=%{x}<br>Count of Publications=%{y}<extra></extra>",
         "legendgroup": "Dental Implantology and Peri-implant Diseases",
         "marker": {
          "color": "#00cc96",
          "pattern": {
           "shape": ""
          }
         },
         "name": "Dental Implantology and Peri-implant Diseases",
         "offsetgroup": "Dental Implantology and Peri-implant Diseases",
         "orientation": "v",
         "showlegend": true,
         "textposition": "auto",
         "type": "bar",
         "x": [
          2013,
          2014,
          2015,
          2017,
          2018,
          2020,
          2021,
          2023,
          2024
         ],
         "xaxis": "x",
         "y": [
          2,
          1,
          1,
          3,
          1,
          3,
          1,
          2,
          1
         ],
         "yaxis": "y"
        },
        {
         "alignmentgroup": "True",
         "hovertemplate": "primary_topic.display_name=Frailty in Older Adults and Geriatric Care<br>Publication Year=%{x}<br>Count of Publications=%{y}<extra></extra>",
         "legendgroup": "Frailty in Older Adults and Geriatric Care",
         "marker": {
          "color": "#ab63fa",
          "pattern": {
           "shape": ""
          }
         },
         "name": "Frailty in Older Adults and Geriatric Care",
         "offsetgroup": "Frailty in Older Adults and Geriatric Care",
         "orientation": "v",
         "showlegend": true,
         "textposition": "auto",
         "type": "bar",
         "x": [
          2013,
          2016,
          2017,
          2018,
          2019,
          2020,
          2021,
          2022,
          2023,
          2024
         ],
         "xaxis": "x",
         "y": [
          1,
          1,
          2,
          4,
          1,
          1,
          1,
          1,
          2,
          1
         ],
         "yaxis": "y"
        },
        {
         "alignmentgroup": "True",
         "hovertemplate": "primary_topic.display_name=Management and Epidemiology of Pneumonia<br>Publication Year=%{x}<br>Count of Publications=%{y}<extra></extra>",
         "legendgroup": "Management and Epidemiology of Pneumonia",
         "marker": {
          "color": "#FFA15A",
          "pattern": {
           "shape": ""
          }
         },
         "name": "Management and Epidemiology of Pneumonia",
         "offsetgroup": "Management and Epidemiology of Pneumonia",
         "orientation": "v",
         "showlegend": true,
         "textposition": "auto",
         "type": "bar",
         "x": [
          2013,
          2016
         ],
         "xaxis": "x",
         "y": [
          1,
          1
         ],
         "yaxis": "y"
        },
        {
         "alignmentgroup": "True",
         "hovertemplate": "primary_topic.display_name=Recommendations for Cardiac Chamber Quantification by Echocardiography<br>Publication Year=%{x}<br>Count of Publications=%{y}<extra></extra>",
         "legendgroup": "Recommendations for Cardiac Chamber Quantification by Echocardiography",
         "marker": {
          "color": "#19d3f3",
          "pattern": {
           "shape": ""
          }
         },
         "name": "Recommendations for Cardiac Chamber Quantification by Echocardiography",
         "offsetgroup": "Recommendations for Cardiac Chamber Quantification by Echocardiography",
         "orientation": "v",
         "showlegend": true,
         "textposition": "auto",
         "type": "bar",
         "x": [
          2013,
          2016,
          2019,
          2024
         ],
         "xaxis": "x",
         "y": [
          2,
          1,
          1,
          1
         ],
         "yaxis": "y"
        },
        {
         "alignmentgroup": "True",
         "hovertemplate": "primary_topic.display_name=Research Methodology in Social Sciences and Education<br>Publication Year=%{x}<br>Count of Publications=%{y}<extra></extra>",
         "legendgroup": "Research Methodology in Social Sciences and Education",
         "marker": {
          "color": "#FF6692",
          "pattern": {
           "shape": ""
          }
         },
         "name": "Research Methodology in Social Sciences and Education",
         "offsetgroup": "Research Methodology in Social Sciences and Education",
         "orientation": "v",
         "showlegend": true,
         "textposition": "auto",
         "type": "bar",
         "x": [
          2013,
          2017,
          2019
         ],
         "xaxis": "x",
         "y": [
          1,
          1,
          1
         ],
         "yaxis": "y"
        },
        {
         "alignmentgroup": "True",
         "hovertemplate": "primary_topic.display_name=Strategies to Reduce Low-Value Health Care Services<br>Publication Year=%{x}<br>Count of Publications=%{y}<extra></extra>",
         "legendgroup": "Strategies to Reduce Low-Value Health Care Services",
         "marker": {
          "color": "#B6E880",
          "pattern": {
           "shape": ""
          }
         },
         "name": "Strategies to Reduce Low-Value Health Care Services",
         "offsetgroup": "Strategies to Reduce Low-Value Health Care Services",
         "orientation": "v",
         "showlegend": true,
         "textposition": "auto",
         "type": "bar",
         "x": [
          2013,
          2021
         ],
         "xaxis": "x",
         "y": [
          1,
          1
         ],
         "yaxis": "y"
        },
        {
         "alignmentgroup": "True",
         "hovertemplate": "primary_topic.display_name=Arterial Stiffness and Cardiovascular Health<br>Publication Year=%{x}<br>Count of Publications=%{y}<extra></extra>",
         "legendgroup": "Arterial Stiffness and Cardiovascular Health",
         "marker": {
          "color": "#FF97FF",
          "pattern": {
           "shape": ""
          }
         },
         "name": "Arterial Stiffness and Cardiovascular Health",
         "offsetgroup": "Arterial Stiffness and Cardiovascular Health",
         "orientation": "v",
         "showlegend": true,
         "textposition": "auto",
         "type": "bar",
         "x": [
          2014,
          2023
         ],
         "xaxis": "x",
         "y": [
          1,
          1
         ],
         "yaxis": "y"
        },
        {
         "alignmentgroup": "True",
         "hovertemplate": "primary_topic.display_name=Diagnosis and Management of Ectopic Pregnancy<br>Publication Year=%{x}<br>Count of Publications=%{y}<extra></extra>",
         "legendgroup": "Diagnosis and Management of Ectopic Pregnancy",
         "marker": {
          "color": "#FECB52",
          "pattern": {
           "shape": ""
          }
         },
         "name": "Diagnosis and Management of Ectopic Pregnancy",
         "offsetgroup": "Diagnosis and Management of Ectopic Pregnancy",
         "orientation": "v",
         "showlegend": true,
         "textposition": "auto",
         "type": "bar",
         "x": [
          2014
         ],
         "xaxis": "x",
         "y": [
          2
         ],
         "yaxis": "y"
        },
        {
         "alignmentgroup": "True",
         "hovertemplate": "primary_topic.display_name=Genetics and Pathogenesis of Type 1 Diabetes<br>Publication Year=%{x}<br>Count of Publications=%{y}<extra></extra>",
         "legendgroup": "Genetics and Pathogenesis of Type 1 Diabetes",
         "marker": {
          "color": "#636efa",
          "pattern": {
           "shape": ""
          }
         },
         "name": "Genetics and Pathogenesis of Type 1 Diabetes",
         "offsetgroup": "Genetics and Pathogenesis of Type 1 Diabetes",
         "orientation": "v",
         "showlegend": true,
         "textposition": "auto",
         "type": "bar",
         "x": [
          2014,
          2018,
          2019,
          2020,
          2021,
          2022,
          2023
         ],
         "xaxis": "x",
         "y": [
          1,
          2,
          1,
          3,
          3,
          5,
          2
         ],
         "yaxis": "y"
        },
        {
         "alignmentgroup": "True",
         "hovertemplate": "primary_topic.display_name=Hematopoietic Stem Cell Biology<br>Publication Year=%{x}<br>Count of Publications=%{y}<extra></extra>",
         "legendgroup": "Hematopoietic Stem Cell Biology",
         "marker": {
          "color": "#EF553B",
          "pattern": {
           "shape": ""
          }
         },
         "name": "Hematopoietic Stem Cell Biology",
         "offsetgroup": "Hematopoietic Stem Cell Biology",
         "orientation": "v",
         "showlegend": true,
         "textposition": "auto",
         "type": "bar",
         "x": [
          2014,
          2016,
          2018,
          2021
         ],
         "xaxis": "x",
         "y": [
          1,
          1,
          1,
          1
         ],
         "yaxis": "y"
        },
        {
         "alignmentgroup": "True",
         "hovertemplate": "primary_topic.display_name=Network Analysis of Psychopathology and Mental Disorders<br>Publication Year=%{x}<br>Count of Publications=%{y}<extra></extra>",
         "legendgroup": "Network Analysis of Psychopathology and Mental Disorders",
         "marker": {
          "color": "#00cc96",
          "pattern": {
           "shape": ""
          }
         },
         "name": "Network Analysis of Psychopathology and Mental Disorders",
         "offsetgroup": "Network Analysis of Psychopathology and Mental Disorders",
         "orientation": "v",
         "showlegend": true,
         "textposition": "auto",
         "type": "bar",
         "x": [
          2014,
          2018,
          2019
         ],
         "xaxis": "x",
         "y": [
          1,
          1,
          1
         ],
         "yaxis": "y"
        },
        {
         "alignmentgroup": "True",
         "hovertemplate": "primary_topic.display_name=Epidemiology and Management of Stroke<br>Publication Year=%{x}<br>Count of Publications=%{y}<extra></extra>",
         "legendgroup": "Epidemiology and Management of Stroke",
         "marker": {
          "color": "#ab63fa",
          "pattern": {
           "shape": ""
          }
         },
         "name": "Epidemiology and Management of Stroke",
         "offsetgroup": "Epidemiology and Management of Stroke",
         "orientation": "v",
         "showlegend": true,
         "textposition": "auto",
         "type": "bar",
         "x": [
          2015,
          2017,
          2018,
          2019
         ],
         "xaxis": "x",
         "y": [
          1,
          1,
          1,
          1
         ],
         "yaxis": "y"
        },
        {
         "alignmentgroup": "True",
         "hovertemplate": "primary_topic.display_name=Impact of Gestational Diabetes Mellitus on Pregnancy<br>Publication Year=%{x}<br>Count of Publications=%{y}<extra></extra>",
         "legendgroup": "Impact of Gestational Diabetes Mellitus on Pregnancy",
         "marker": {
          "color": "#FFA15A",
          "pattern": {
           "shape": ""
          }
         },
         "name": "Impact of Gestational Diabetes Mellitus on Pregnancy",
         "offsetgroup": "Impact of Gestational Diabetes Mellitus on Pregnancy",
         "orientation": "v",
         "showlegend": true,
         "textposition": "auto",
         "type": "bar",
         "x": [
          2015,
          2018,
          2019
         ],
         "xaxis": "x",
         "y": [
          1,
          1,
          1
         ],
         "yaxis": "y"
        },
        {
         "alignmentgroup": "True",
         "hovertemplate": "primary_topic.display_name=Age-Related Macular Degeneration Research<br>Publication Year=%{x}<br>Count of Publications=%{y}<extra></extra>",
         "legendgroup": "Age-Related Macular Degeneration Research",
         "marker": {
          "color": "#19d3f3",
          "pattern": {
           "shape": ""
          }
         },
         "name": "Age-Related Macular Degeneration Research",
         "offsetgroup": "Age-Related Macular Degeneration Research",
         "orientation": "v",
         "showlegend": true,
         "textposition": "auto",
         "type": "bar",
         "x": [
          2016,
          2017,
          2020,
          2024
         ],
         "xaxis": "x",
         "y": [
          1,
          1,
          1,
          1
         ],
         "yaxis": "y"
        },
        {
         "alignmentgroup": "True",
         "hovertemplate": "primary_topic.display_name=Antiplatelet Therapy in Cardiovascular Disease<br>Publication Year=%{x}<br>Count of Publications=%{y}<extra></extra>",
         "legendgroup": "Antiplatelet Therapy in Cardiovascular Disease",
         "marker": {
          "color": "#FF6692",
          "pattern": {
           "shape": ""
          }
         },
         "name": "Antiplatelet Therapy in Cardiovascular Disease",
         "offsetgroup": "Antiplatelet Therapy in Cardiovascular Disease",
         "orientation": "v",
         "showlegend": true,
         "textposition": "auto",
         "type": "bar",
         "x": [
          2016
         ],
         "xaxis": "x",
         "y": [
          3
         ],
         "yaxis": "y"
        },
        {
         "alignmentgroup": "True",
         "hovertemplate": "primary_topic.display_name=Applications of Platelet-Rich Plasma in Regenerative Medicine<br>Publication Year=%{x}<br>Count of Publications=%{y}<extra></extra>",
         "legendgroup": "Applications of Platelet-Rich Plasma in Regenerative Medicine",
         "marker": {
          "color": "#B6E880",
          "pattern": {
           "shape": ""
          }
         },
         "name": "Applications of Platelet-Rich Plasma in Regenerative Medicine",
         "offsetgroup": "Applications of Platelet-Rich Plasma in Regenerative Medicine",
         "orientation": "v",
         "showlegend": true,
         "textposition": "auto",
         "type": "bar",
         "x": [
          2016,
          2019
         ],
         "xaxis": "x",
         "y": [
          1,
          1
         ],
         "yaxis": "y"
        },
        {
         "alignmentgroup": "True",
         "hovertemplate": "primary_topic.display_name=Autoinflammatory Bone Disorders<br>Publication Year=%{x}<br>Count of Publications=%{y}<extra></extra>",
         "legendgroup": "Autoinflammatory Bone Disorders",
         "marker": {
          "color": "#FF97FF",
          "pattern": {
           "shape": ""
          }
         },
         "name": "Autoinflammatory Bone Disorders",
         "offsetgroup": "Autoinflammatory Bone Disorders",
         "orientation": "v",
         "showlegend": true,
         "textposition": "auto",
         "type": "bar",
         "x": [
          2016,
          2019
         ],
         "xaxis": "x",
         "y": [
          1,
          1
         ],
         "yaxis": "y"
        },
        {
         "alignmentgroup": "True",
         "hovertemplate": "primary_topic.display_name=Diagnosis and Treatment of Carotid Artery Disease<br>Publication Year=%{x}<br>Count of Publications=%{y}<extra></extra>",
         "legendgroup": "Diagnosis and Treatment of Carotid Artery Disease",
         "marker": {
          "color": "#FECB52",
          "pattern": {
           "shape": ""
          }
         },
         "name": "Diagnosis and Treatment of Carotid Artery Disease",
         "offsetgroup": "Diagnosis and Treatment of Carotid Artery Disease",
         "orientation": "v",
         "showlegend": true,
         "textposition": "auto",
         "type": "bar",
         "x": [
          2016,
          2023
         ],
         "xaxis": "x",
         "y": [
          1,
          1
         ],
         "yaxis": "y"
        },
        {
         "alignmentgroup": "True",
         "hovertemplate": "primary_topic.display_name=Family-Centered Care in Intensive Care Units<br>Publication Year=%{x}<br>Count of Publications=%{y}<extra></extra>",
         "legendgroup": "Family-Centered Care in Intensive Care Units",
         "marker": {
          "color": "#636efa",
          "pattern": {
           "shape": ""
          }
         },
         "name": "Family-Centered Care in Intensive Care Units",
         "offsetgroup": "Family-Centered Care in Intensive Care Units",
         "orientation": "v",
         "showlegend": true,
         "textposition": "auto",
         "type": "bar",
         "x": [
          2016,
          2024
         ],
         "xaxis": "x",
         "y": [
          1,
          2
         ],
         "yaxis": "y"
        },
        {
         "alignmentgroup": "True",
         "hovertemplate": "primary_topic.display_name=Health Risks of Medical Imaging Radiation Exposure<br>Publication Year=%{x}<br>Count of Publications=%{y}<extra></extra>",
         "legendgroup": "Health Risks of Medical Imaging Radiation Exposure",
         "marker": {
          "color": "#EF553B",
          "pattern": {
           "shape": ""
          }
         },
         "name": "Health Risks of Medical Imaging Radiation Exposure",
         "offsetgroup": "Health Risks of Medical Imaging Radiation Exposure",
         "orientation": "v",
         "showlegend": true,
         "textposition": "auto",
         "type": "bar",
         "x": [
          2016
         ],
         "xaxis": "x",
         "y": [
          2
         ],
         "yaxis": "y"
        },
        {
         "alignmentgroup": "True",
         "hovertemplate": "primary_topic.display_name=Integration of Palliative Care in End-of-Life<br>Publication Year=%{x}<br>Count of Publications=%{y}<extra></extra>",
         "legendgroup": "Integration of Palliative Care in End-of-Life",
         "marker": {
          "color": "#00cc96",
          "pattern": {
           "shape": ""
          }
         },
         "name": "Integration of Palliative Care in End-of-Life",
         "offsetgroup": "Integration of Palliative Care in End-of-Life",
         "orientation": "v",
         "showlegend": true,
         "textposition": "auto",
         "type": "bar",
         "x": [
          2016,
          2018
         ],
         "xaxis": "x",
         "y": [
          1,
          1
         ],
         "yaxis": "y"
        },
        {
         "alignmentgroup": "True",
         "hovertemplate": "primary_topic.display_name=Laboratory Medicine and Testing Procedures<br>Publication Year=%{x}<br>Count of Publications=%{y}<extra></extra>",
         "legendgroup": "Laboratory Medicine and Testing Procedures",
         "marker": {
          "color": "#ab63fa",
          "pattern": {
           "shape": ""
          }
         },
         "name": "Laboratory Medicine and Testing Procedures",
         "offsetgroup": "Laboratory Medicine and Testing Procedures",
         "orientation": "v",
         "showlegend": true,
         "textposition": "auto",
         "type": "bar",
         "x": [
          2016,
          2017,
          2018,
          2019
         ],
         "xaxis": "x",
         "y": [
          2,
          1,
          1,
          1
         ],
         "yaxis": "y"
        },
        {
         "alignmentgroup": "True",
         "hovertemplate": "primary_topic.display_name=Transformation of Medical Education and Professionalism<br>Publication Year=%{x}<br>Count of Publications=%{y}<extra></extra>",
         "legendgroup": "Transformation of Medical Education and Professionalism",
         "marker": {
          "color": "#FFA15A",
          "pattern": {
           "shape": ""
          }
         },
         "name": "Transformation of Medical Education and Professionalism",
         "offsetgroup": "Transformation of Medical Education and Professionalism",
         "orientation": "v",
         "showlegend": true,
         "textposition": "auto",
         "type": "bar",
         "x": [
          2016,
          2019,
          2021,
          2023,
          2024
         ],
         "xaxis": "x",
         "y": [
          1,
          1,
          3,
          2,
          1
         ],
         "yaxis": "y"
        },
        {
         "alignmentgroup": "True",
         "hovertemplate": "primary_topic.display_name=Transformative Potential of Blended Learning in Education<br>Publication Year=%{x}<br>Count of Publications=%{y}<extra></extra>",
         "legendgroup": "Transformative Potential of Blended Learning in Education",
         "marker": {
          "color": "#19d3f3",
          "pattern": {
           "shape": ""
          }
         },
         "name": "Transformative Potential of Blended Learning in Education",
         "offsetgroup": "Transformative Potential of Blended Learning in Education",
         "orientation": "v",
         "showlegend": true,
         "textposition": "auto",
         "type": "bar",
         "x": [
          2016,
          2023
         ],
         "xaxis": "x",
         "y": [
          1,
          1
         ],
         "yaxis": "y"
        },
        {
         "alignmentgroup": "True",
         "hovertemplate": "primary_topic.display_name=Bone Tissue Engineering and Biomaterials<br>Publication Year=%{x}<br>Count of Publications=%{y}<extra></extra>",
         "legendgroup": "Bone Tissue Engineering and Biomaterials",
         "marker": {
          "color": "#FF6692",
          "pattern": {
           "shape": ""
          }
         },
         "name": "Bone Tissue Engineering and Biomaterials",
         "offsetgroup": "Bone Tissue Engineering and Biomaterials",
         "orientation": "v",
         "showlegend": true,
         "textposition": "auto",
         "type": "bar",
         "x": [
          2017,
          2018,
          2023
         ],
         "xaxis": "x",
         "y": [
          2,
          1,
          1
         ],
         "yaxis": "y"
        },
        {
         "alignmentgroup": "True",
         "hovertemplate": "primary_topic.display_name=Management of Primary Aldosteronism<br>Publication Year=%{x}<br>Count of Publications=%{y}<extra></extra>",
         "legendgroup": "Management of Primary Aldosteronism",
         "marker": {
          "color": "#B6E880",
          "pattern": {
           "shape": ""
          }
         },
         "name": "Management of Primary Aldosteronism",
         "offsetgroup": "Management of Primary Aldosteronism",
         "orientation": "v",
         "showlegend": true,
         "textposition": "auto",
         "type": "bar",
         "x": [
          2017,
          2023
         ],
         "xaxis": "x",
         "y": [
          1,
          1
         ],
         "yaxis": "y"
        },
        {
         "alignmentgroup": "True",
         "hovertemplate": "primary_topic.display_name=Diagnosis and Treatment of Voice Disorders<br>Publication Year=%{x}<br>Count of Publications=%{y}<extra></extra>",
         "legendgroup": "Diagnosis and Treatment of Voice Disorders",
         "marker": {
          "color": "#FF97FF",
          "pattern": {
           "shape": ""
          }
         },
         "name": "Diagnosis and Treatment of Voice Disorders",
         "offsetgroup": "Diagnosis and Treatment of Voice Disorders",
         "orientation": "v",
         "showlegend": true,
         "textposition": "auto",
         "type": "bar",
         "x": [
          2018,
          2020,
          2022,
          2024
         ],
         "xaxis": "x",
         "y": [
          1,
          1,
          1,
          1
         ],
         "yaxis": "y"
        },
        {
         "alignmentgroup": "True",
         "hovertemplate": "primary_topic.display_name=Effects of Bariatric Surgery on Obesity and Diabetes<br>Publication Year=%{x}<br>Count of Publications=%{y}<extra></extra>",
         "legendgroup": "Effects of Bariatric Surgery on Obesity and Diabetes",
         "marker": {
          "color": "#FECB52",
          "pattern": {
           "shape": ""
          }
         },
         "name": "Effects of Bariatric Surgery on Obesity and Diabetes",
         "offsetgroup": "Effects of Bariatric Surgery on Obesity and Diabetes",
         "orientation": "v",
         "showlegend": true,
         "textposition": "auto",
         "type": "bar",
         "x": [
          2018,
          2023,
          2024
         ],
         "xaxis": "x",
         "y": [
          1,
          1,
          2
         ],
         "yaxis": "y"
        },
        {
         "alignmentgroup": "True",
         "hovertemplate": "primary_topic.display_name=Chronic Kidney Disease and its Implications<br>Publication Year=%{x}<br>Count of Publications=%{y}<extra></extra>",
         "legendgroup": "Chronic Kidney Disease and its Implications",
         "marker": {
          "color": "#636efa",
          "pattern": {
           "shape": ""
          }
         },
         "name": "Chronic Kidney Disease and its Implications",
         "offsetgroup": "Chronic Kidney Disease and its Implications",
         "orientation": "v",
         "showlegend": true,
         "textposition": "auto",
         "type": "bar",
         "x": [
          2019,
          2020
         ],
         "xaxis": "x",
         "y": [
          1,
          1
         ],
         "yaxis": "y"
        },
        {
         "alignmentgroup": "True",
         "hovertemplate": "primary_topic.display_name=Genetic Basis of Primary Immunodeficiency Disorders<br>Publication Year=%{x}<br>Count of Publications=%{y}<extra></extra>",
         "legendgroup": "Genetic Basis of Primary Immunodeficiency Disorders",
         "marker": {
          "color": "#EF553B",
          "pattern": {
           "shape": ""
          }
         },
         "name": "Genetic Basis of Primary Immunodeficiency Disorders",
         "offsetgroup": "Genetic Basis of Primary Immunodeficiency Disorders",
         "orientation": "v",
         "showlegend": true,
         "textposition": "auto",
         "type": "bar",
         "x": [
          2019
         ],
         "xaxis": "x",
         "y": [
          2
         ],
         "yaxis": "y"
        },
        {
         "alignmentgroup": "True",
         "hovertemplate": "primary_topic.display_name=Prevention and Management of Diabetic Foot Ulcers<br>Publication Year=%{x}<br>Count of Publications=%{y}<extra></extra>",
         "legendgroup": "Prevention and Management of Diabetic Foot Ulcers",
         "marker": {
          "color": "#00cc96",
          "pattern": {
           "shape": ""
          }
         },
         "name": "Prevention and Management of Diabetic Foot Ulcers",
         "offsetgroup": "Prevention and Management of Diabetic Foot Ulcers",
         "orientation": "v",
         "showlegend": true,
         "textposition": "auto",
         "type": "bar",
         "x": [
          2019,
          2021
         ],
         "xaxis": "x",
         "y": [
          1,
          1
         ],
         "yaxis": "y"
        },
        {
         "alignmentgroup": "True",
         "hovertemplate": "primary_topic.display_name=Sociomateriality in Information Systems Research<br>Publication Year=%{x}<br>Count of Publications=%{y}<extra></extra>",
         "legendgroup": "Sociomateriality in Information Systems Research",
         "marker": {
          "color": "#ab63fa",
          "pattern": {
           "shape": ""
          }
         },
         "name": "Sociomateriality in Information Systems Research",
         "offsetgroup": "Sociomateriality in Information Systems Research",
         "orientation": "v",
         "showlegend": true,
         "textposition": "auto",
         "type": "bar",
         "x": [
          2019,
          2020,
          2021,
          2022
         ],
         "xaxis": "x",
         "y": [
          1,
          1,
          2,
          1
         ],
         "yaxis": "y"
        },
        {
         "alignmentgroup": "True",
         "hovertemplate": "primary_topic.display_name=Diagnosis and Management of Otitis Media<br>Publication Year=%{x}<br>Count of Publications=%{y}<extra></extra>",
         "legendgroup": "Diagnosis and Management of Otitis Media",
         "marker": {
          "color": "#FFA15A",
          "pattern": {
           "shape": ""
          }
         },
         "name": "Diagnosis and Management of Otitis Media",
         "offsetgroup": "Diagnosis and Management of Otitis Media",
         "orientation": "v",
         "showlegend": true,
         "textposition": "auto",
         "type": "bar",
         "x": [
          2020,
          2023,
          2024
         ],
         "xaxis": "x",
         "y": [
          1,
          1,
          1
         ],
         "yaxis": "y"
        },
        {
         "alignmentgroup": "True",
         "hovertemplate": "primary_topic.display_name=Ebola Virus Research and Outbreaks<br>Publication Year=%{x}<br>Count of Publications=%{y}<extra></extra>",
         "legendgroup": "Ebola Virus Research and Outbreaks",
         "marker": {
          "color": "#19d3f3",
          "pattern": {
           "shape": ""
          }
         },
         "name": "Ebola Virus Research and Outbreaks",
         "offsetgroup": "Ebola Virus Research and Outbreaks",
         "orientation": "v",
         "showlegend": true,
         "textposition": "auto",
         "type": "bar",
         "x": [
          2020,
          2022
         ],
         "xaxis": "x",
         "y": [
          1,
          1
         ],
         "yaxis": "y"
        },
        {
         "alignmentgroup": "True",
         "hovertemplate": "primary_topic.display_name=Epigenetic Modifications and Their Functional Implications<br>Publication Year=%{x}<br>Count of Publications=%{y}<extra></extra>",
         "legendgroup": "Epigenetic Modifications and Their Functional Implications",
         "marker": {
          "color": "#FF6692",
          "pattern": {
           "shape": ""
          }
         },
         "name": "Epigenetic Modifications and Their Functional Implications",
         "offsetgroup": "Epigenetic Modifications and Their Functional Implications",
         "orientation": "v",
         "showlegend": true,
         "textposition": "auto",
         "type": "bar",
         "x": [
          2020,
          2021
         ],
         "xaxis": "x",
         "y": [
          1,
          1
         ],
         "yaxis": "y"
        },
        {
         "alignmentgroup": "True",
         "hovertemplate": "primary_topic.display_name=Global Burden of Group A Streptococcal Diseases<br>Publication Year=%{x}<br>Count of Publications=%{y}<extra></extra>",
         "legendgroup": "Global Burden of Group A Streptococcal Diseases",
         "marker": {
          "color": "#B6E880",
          "pattern": {
           "shape": ""
          }
         },
         "name": "Global Burden of Group A Streptococcal Diseases",
         "offsetgroup": "Global Burden of Group A Streptococcal Diseases",
         "orientation": "v",
         "showlegend": true,
         "textposition": "auto",
         "type": "bar",
         "x": [
          2020,
          2024
         ],
         "xaxis": "x",
         "y": [
          1,
          1
         ],
         "yaxis": "y"
        },
        {
         "alignmentgroup": "True",
         "hovertemplate": "primary_topic.display_name=System Dynamics Modeling and Applications<br>Publication Year=%{x}<br>Count of Publications=%{y}<extra></extra>",
         "legendgroup": "System Dynamics Modeling and Applications",
         "marker": {
          "color": "#FF97FF",
          "pattern": {
           "shape": ""
          }
         },
         "name": "System Dynamics Modeling and Applications",
         "offsetgroup": "System Dynamics Modeling and Applications",
         "orientation": "v",
         "showlegend": true,
         "textposition": "auto",
         "type": "bar",
         "x": [
          2020,
          2021
         ],
         "xaxis": "x",
         "y": [
          1,
          1
         ],
         "yaxis": "y"
        },
        {
         "alignmentgroup": "True",
         "hovertemplate": "primary_topic.display_name=Tuberous Sclerosis Complex and Related Disorders<br>Publication Year=%{x}<br>Count of Publications=%{y}<extra></extra>",
         "legendgroup": "Tuberous Sclerosis Complex and Related Disorders",
         "marker": {
          "color": "#FECB52",
          "pattern": {
           "shape": ""
          }
         },
         "name": "Tuberous Sclerosis Complex and Related Disorders",
         "offsetgroup": "Tuberous Sclerosis Complex and Related Disorders",
         "orientation": "v",
         "showlegend": true,
         "textposition": "auto",
         "type": "bar",
         "x": [
          2020,
          2023
         ],
         "xaxis": "x",
         "y": [
          1,
          1
         ],
         "yaxis": "y"
        },
        {
         "alignmentgroup": "True",
         "hovertemplate": "primary_topic.display_name=Coronavirus Disease 2019<br>Publication Year=%{x}<br>Count of Publications=%{y}<extra></extra>",
         "legendgroup": "Coronavirus Disease 2019",
         "marker": {
          "color": "#636efa",
          "pattern": {
           "shape": ""
          }
         },
         "name": "Coronavirus Disease 2019",
         "offsetgroup": "Coronavirus Disease 2019",
         "orientation": "v",
         "showlegend": true,
         "textposition": "auto",
         "type": "bar",
         "x": [
          2021,
          2022,
          2023
         ],
         "xaxis": "x",
         "y": [
          1,
          1,
          2
         ],
         "yaxis": "y"
        },
        {
         "alignmentgroup": "True",
         "hovertemplate": "primary_topic.display_name=Diagnosis and Treatment of Prosthetic Joint Infections<br>Publication Year=%{x}<br>Count of Publications=%{y}<extra></extra>",
         "legendgroup": "Diagnosis and Treatment of Prosthetic Joint Infections",
         "marker": {
          "color": "#EF553B",
          "pattern": {
           "shape": ""
          }
         },
         "name": "Diagnosis and Treatment of Prosthetic Joint Infections",
         "offsetgroup": "Diagnosis and Treatment of Prosthetic Joint Infections",
         "orientation": "v",
         "showlegend": true,
         "textposition": "auto",
         "type": "bar",
         "x": [
          2021,
          2024
         ],
         "xaxis": "x",
         "y": [
          1,
          1
         ],
         "yaxis": "y"
        },
        {
         "alignmentgroup": "True",
         "hovertemplate": "primary_topic.display_name=Dual-Energy Computed Tomography<br>Publication Year=%{x}<br>Count of Publications=%{y}<extra></extra>",
         "legendgroup": "Dual-Energy Computed Tomography",
         "marker": {
          "color": "#00cc96",
          "pattern": {
           "shape": ""
          }
         },
         "name": "Dual-Energy Computed Tomography",
         "offsetgroup": "Dual-Energy Computed Tomography",
         "orientation": "v",
         "showlegend": true,
         "textposition": "auto",
         "type": "bar",
         "x": [
          2021,
          2024
         ],
         "xaxis": "x",
         "y": [
          1,
          1
         ],
         "yaxis": "y"
        },
        {
         "alignmentgroup": "True",
         "hovertemplate": "primary_topic.display_name=Effects of Ketogenic Diet on Health<br>Publication Year=%{x}<br>Count of Publications=%{y}<extra></extra>",
         "legendgroup": "Effects of Ketogenic Diet on Health",
         "marker": {
          "color": "#ab63fa",
          "pattern": {
           "shape": ""
          }
         },
         "name": "Effects of Ketogenic Diet on Health",
         "offsetgroup": "Effects of Ketogenic Diet on Health",
         "orientation": "v",
         "showlegend": true,
         "textposition": "auto",
         "type": "bar",
         "x": [
          2021,
          2023,
          2024
         ],
         "xaxis": "x",
         "y": [
          1,
          2,
          1
         ],
         "yaxis": "y"
        },
        {
         "alignmentgroup": "True",
         "hovertemplate": "primary_topic.display_name=Oral Mucosal Disorders and Malignant Transformation Risk<br>Publication Year=%{x}<br>Count of Publications=%{y}<extra></extra>",
         "legendgroup": "Oral Mucosal Disorders and Malignant Transformation Risk",
         "marker": {
          "color": "#FFA15A",
          "pattern": {
           "shape": ""
          }
         },
         "name": "Oral Mucosal Disorders and Malignant Transformation Risk",
         "offsetgroup": "Oral Mucosal Disorders and Malignant Transformation Risk",
         "orientation": "v",
         "showlegend": true,
         "textposition": "auto",
         "type": "bar",
         "x": [
          2021,
          2022
         ],
         "xaxis": "x",
         "y": [
          2,
          1
         ],
         "yaxis": "y"
        },
        {
         "alignmentgroup": "True",
         "hovertemplate": "primary_topic.display_name=Diagnosis and Treatment of Bladder Cancer<br>Publication Year=%{x}<br>Count of Publications=%{y}<extra></extra>",
         "legendgroup": "Diagnosis and Treatment of Bladder Cancer",
         "marker": {
          "color": "#19d3f3",
          "pattern": {
           "shape": ""
          }
         },
         "name": "Diagnosis and Treatment of Bladder Cancer",
         "offsetgroup": "Diagnosis and Treatment of Bladder Cancer",
         "orientation": "v",
         "showlegend": true,
         "textposition": "auto",
         "type": "bar",
         "x": [
          2022,
          2023,
          2024
         ],
         "xaxis": "x",
         "y": [
          2,
          2,
          1
         ],
         "yaxis": "y"
        },
        {
         "alignmentgroup": "True",
         "hovertemplate": "primary_topic.display_name=Global Prevalence and Treatment of Glaucoma<br>Publication Year=%{x}<br>Count of Publications=%{y}<extra></extra>",
         "legendgroup": "Global Prevalence and Treatment of Glaucoma",
         "marker": {
          "color": "#FF6692",
          "pattern": {
           "shape": ""
          }
         },
         "name": "Global Prevalence and Treatment of Glaucoma",
         "offsetgroup": "Global Prevalence and Treatment of Glaucoma",
         "orientation": "v",
         "showlegend": true,
         "textposition": "auto",
         "type": "bar",
         "x": [
          2022,
          2023,
          2024
         ],
         "xaxis": "x",
         "y": [
          1,
          1,
          1
         ],
         "yaxis": "y"
        },
        {
         "alignmentgroup": "True",
         "hovertemplate": "primary_topic.display_name=Pathophysiology and Management of Preeclampsia<br>Publication Year=%{x}<br>Count of Publications=%{y}<extra></extra>",
         "legendgroup": "Pathophysiology and Management of Preeclampsia",
         "marker": {
          "color": "#B6E880",
          "pattern": {
           "shape": ""
          }
         },
         "name": "Pathophysiology and Management of Preeclampsia",
         "offsetgroup": "Pathophysiology and Management of Preeclampsia",
         "orientation": "v",
         "showlegend": true,
         "textposition": "auto",
         "type": "bar",
         "x": [
          2023
         ],
         "xaxis": "x",
         "y": [
          2
         ],
         "yaxis": "y"
        },
        {
         "alignmentgroup": "True",
         "hovertemplate": "primary_topic.display_name=Projections and Outcomes of Arthroplasty Surgery in the US<br>Publication Year=%{x}<br>Count of Publications=%{y}<extra></extra>",
         "legendgroup": "Projections and Outcomes of Arthroplasty Surgery in the US",
         "marker": {
          "color": "#FF97FF",
          "pattern": {
           "shape": ""
          }
         },
         "name": "Projections and Outcomes of Arthroplasty Surgery in the US",
         "offsetgroup": "Projections and Outcomes of Arthroplasty Surgery in the US",
         "orientation": "v",
         "showlegend": true,
         "textposition": "auto",
         "type": "bar",
         "x": [
          2023,
          2024
         ],
         "xaxis": "x",
         "y": [
          1,
          1
         ],
         "yaxis": "y"
        }
       ],
       "layout": {
        "barmode": "relative",
        "legend": {
         "orientation": "v",
         "title": {
          "text": "Primary Topic"
         },
         "tracegroupgap": 0,
         "x": 1.02,
         "xanchor": "left",
         "y": 1,
         "yanchor": "top"
        },
        "template": {
         "data": {
          "bar": [
           {
            "error_x": {
             "color": "#2a3f5f"
            },
            "error_y": {
             "color": "#2a3f5f"
            },
            "marker": {
             "line": {
              "color": "#E5ECF6",
              "width": 0.5
             },
             "pattern": {
              "fillmode": "overlay",
              "size": 10,
              "solidity": 0.2
             }
            },
            "type": "bar"
           }
          ],
          "barpolar": [
           {
            "marker": {
             "line": {
              "color": "#E5ECF6",
              "width": 0.5
             },
             "pattern": {
              "fillmode": "overlay",
              "size": 10,
              "solidity": 0.2
             }
            },
            "type": "barpolar"
           }
          ],
          "carpet": [
           {
            "aaxis": {
             "endlinecolor": "#2a3f5f",
             "gridcolor": "white",
             "linecolor": "white",
             "minorgridcolor": "white",
             "startlinecolor": "#2a3f5f"
            },
            "baxis": {
             "endlinecolor": "#2a3f5f",
             "gridcolor": "white",
             "linecolor": "white",
             "minorgridcolor": "white",
             "startlinecolor": "#2a3f5f"
            },
            "type": "carpet"
           }
          ],
          "choropleth": [
           {
            "colorbar": {
             "outlinewidth": 0,
             "ticks": ""
            },
            "type": "choropleth"
           }
          ],
          "contour": [
           {
            "colorbar": {
             "outlinewidth": 0,
             "ticks": ""
            },
            "colorscale": [
             [
              0,
              "#0d0887"
             ],
             [
              0.1111111111111111,
              "#46039f"
             ],
             [
              0.2222222222222222,
              "#7201a8"
             ],
             [
              0.3333333333333333,
              "#9c179e"
             ],
             [
              0.4444444444444444,
              "#bd3786"
             ],
             [
              0.5555555555555556,
              "#d8576b"
             ],
             [
              0.6666666666666666,
              "#ed7953"
             ],
             [
              0.7777777777777778,
              "#fb9f3a"
             ],
             [
              0.8888888888888888,
              "#fdca26"
             ],
             [
              1,
              "#f0f921"
             ]
            ],
            "type": "contour"
           }
          ],
          "contourcarpet": [
           {
            "colorbar": {
             "outlinewidth": 0,
             "ticks": ""
            },
            "type": "contourcarpet"
           }
          ],
          "heatmap": [
           {
            "colorbar": {
             "outlinewidth": 0,
             "ticks": ""
            },
            "colorscale": [
             [
              0,
              "#0d0887"
             ],
             [
              0.1111111111111111,
              "#46039f"
             ],
             [
              0.2222222222222222,
              "#7201a8"
             ],
             [
              0.3333333333333333,
              "#9c179e"
             ],
             [
              0.4444444444444444,
              "#bd3786"
             ],
             [
              0.5555555555555556,
              "#d8576b"
             ],
             [
              0.6666666666666666,
              "#ed7953"
             ],
             [
              0.7777777777777778,
              "#fb9f3a"
             ],
             [
              0.8888888888888888,
              "#fdca26"
             ],
             [
              1,
              "#f0f921"
             ]
            ],
            "type": "heatmap"
           }
          ],
          "heatmapgl": [
           {
            "colorbar": {
             "outlinewidth": 0,
             "ticks": ""
            },
            "colorscale": [
             [
              0,
              "#0d0887"
             ],
             [
              0.1111111111111111,
              "#46039f"
             ],
             [
              0.2222222222222222,
              "#7201a8"
             ],
             [
              0.3333333333333333,
              "#9c179e"
             ],
             [
              0.4444444444444444,
              "#bd3786"
             ],
             [
              0.5555555555555556,
              "#d8576b"
             ],
             [
              0.6666666666666666,
              "#ed7953"
             ],
             [
              0.7777777777777778,
              "#fb9f3a"
             ],
             [
              0.8888888888888888,
              "#fdca26"
             ],
             [
              1,
              "#f0f921"
             ]
            ],
            "type": "heatmapgl"
           }
          ],
          "histogram": [
           {
            "marker": {
             "pattern": {
              "fillmode": "overlay",
              "size": 10,
              "solidity": 0.2
             }
            },
            "type": "histogram"
           }
          ],
          "histogram2d": [
           {
            "colorbar": {
             "outlinewidth": 0,
             "ticks": ""
            },
            "colorscale": [
             [
              0,
              "#0d0887"
             ],
             [
              0.1111111111111111,
              "#46039f"
             ],
             [
              0.2222222222222222,
              "#7201a8"
             ],
             [
              0.3333333333333333,
              "#9c179e"
             ],
             [
              0.4444444444444444,
              "#bd3786"
             ],
             [
              0.5555555555555556,
              "#d8576b"
             ],
             [
              0.6666666666666666,
              "#ed7953"
             ],
             [
              0.7777777777777778,
              "#fb9f3a"
             ],
             [
              0.8888888888888888,
              "#fdca26"
             ],
             [
              1,
              "#f0f921"
             ]
            ],
            "type": "histogram2d"
           }
          ],
          "histogram2dcontour": [
           {
            "colorbar": {
             "outlinewidth": 0,
             "ticks": ""
            },
            "colorscale": [
             [
              0,
              "#0d0887"
             ],
             [
              0.1111111111111111,
              "#46039f"
             ],
             [
              0.2222222222222222,
              "#7201a8"
             ],
             [
              0.3333333333333333,
              "#9c179e"
             ],
             [
              0.4444444444444444,
              "#bd3786"
             ],
             [
              0.5555555555555556,
              "#d8576b"
             ],
             [
              0.6666666666666666,
              "#ed7953"
             ],
             [
              0.7777777777777778,
              "#fb9f3a"
             ],
             [
              0.8888888888888888,
              "#fdca26"
             ],
             [
              1,
              "#f0f921"
             ]
            ],
            "type": "histogram2dcontour"
           }
          ],
          "mesh3d": [
           {
            "colorbar": {
             "outlinewidth": 0,
             "ticks": ""
            },
            "type": "mesh3d"
           }
          ],
          "parcoords": [
           {
            "line": {
             "colorbar": {
              "outlinewidth": 0,
              "ticks": ""
             }
            },
            "type": "parcoords"
           }
          ],
          "pie": [
           {
            "automargin": true,
            "type": "pie"
           }
          ],
          "scatter": [
           {
            "fillpattern": {
             "fillmode": "overlay",
             "size": 10,
             "solidity": 0.2
            },
            "type": "scatter"
           }
          ],
          "scatter3d": [
           {
            "line": {
             "colorbar": {
              "outlinewidth": 0,
              "ticks": ""
             }
            },
            "marker": {
             "colorbar": {
              "outlinewidth": 0,
              "ticks": ""
             }
            },
            "type": "scatter3d"
           }
          ],
          "scattercarpet": [
           {
            "marker": {
             "colorbar": {
              "outlinewidth": 0,
              "ticks": ""
             }
            },
            "type": "scattercarpet"
           }
          ],
          "scattergeo": [
           {
            "marker": {
             "colorbar": {
              "outlinewidth": 0,
              "ticks": ""
             }
            },
            "type": "scattergeo"
           }
          ],
          "scattergl": [
           {
            "marker": {
             "colorbar": {
              "outlinewidth": 0,
              "ticks": ""
             }
            },
            "type": "scattergl"
           }
          ],
          "scattermapbox": [
           {
            "marker": {
             "colorbar": {
              "outlinewidth": 0,
              "ticks": ""
             }
            },
            "type": "scattermapbox"
           }
          ],
          "scatterpolar": [
           {
            "marker": {
             "colorbar": {
              "outlinewidth": 0,
              "ticks": ""
             }
            },
            "type": "scatterpolar"
           }
          ],
          "scatterpolargl": [
           {
            "marker": {
             "colorbar": {
              "outlinewidth": 0,
              "ticks": ""
             }
            },
            "type": "scatterpolargl"
           }
          ],
          "scatterternary": [
           {
            "marker": {
             "colorbar": {
              "outlinewidth": 0,
              "ticks": ""
             }
            },
            "type": "scatterternary"
           }
          ],
          "surface": [
           {
            "colorbar": {
             "outlinewidth": 0,
             "ticks": ""
            },
            "colorscale": [
             [
              0,
              "#0d0887"
             ],
             [
              0.1111111111111111,
              "#46039f"
             ],
             [
              0.2222222222222222,
              "#7201a8"
             ],
             [
              0.3333333333333333,
              "#9c179e"
             ],
             [
              0.4444444444444444,
              "#bd3786"
             ],
             [
              0.5555555555555556,
              "#d8576b"
             ],
             [
              0.6666666666666666,
              "#ed7953"
             ],
             [
              0.7777777777777778,
              "#fb9f3a"
             ],
             [
              0.8888888888888888,
              "#fdca26"
             ],
             [
              1,
              "#f0f921"
             ]
            ],
            "type": "surface"
           }
          ],
          "table": [
           {
            "cells": {
             "fill": {
              "color": "#EBF0F8"
             },
             "line": {
              "color": "white"
             }
            },
            "header": {
             "fill": {
              "color": "#C8D4E3"
             },
             "line": {
              "color": "white"
             }
            },
            "type": "table"
           }
          ]
         },
         "layout": {
          "annotationdefaults": {
           "arrowcolor": "#2a3f5f",
           "arrowhead": 0,
           "arrowwidth": 1
          },
          "autotypenumbers": "strict",
          "coloraxis": {
           "colorbar": {
            "outlinewidth": 0,
            "ticks": ""
           }
          },
          "colorscale": {
           "diverging": [
            [
             0,
             "#8e0152"
            ],
            [
             0.1,
             "#c51b7d"
            ],
            [
             0.2,
             "#de77ae"
            ],
            [
             0.3,
             "#f1b6da"
            ],
            [
             0.4,
             "#fde0ef"
            ],
            [
             0.5,
             "#f7f7f7"
            ],
            [
             0.6,
             "#e6f5d0"
            ],
            [
             0.7,
             "#b8e186"
            ],
            [
             0.8,
             "#7fbc41"
            ],
            [
             0.9,
             "#4d9221"
            ],
            [
             1,
             "#276419"
            ]
           ],
           "sequential": [
            [
             0,
             "#0d0887"
            ],
            [
             0.1111111111111111,
             "#46039f"
            ],
            [
             0.2222222222222222,
             "#7201a8"
            ],
            [
             0.3333333333333333,
             "#9c179e"
            ],
            [
             0.4444444444444444,
             "#bd3786"
            ],
            [
             0.5555555555555556,
             "#d8576b"
            ],
            [
             0.6666666666666666,
             "#ed7953"
            ],
            [
             0.7777777777777778,
             "#fb9f3a"
            ],
            [
             0.8888888888888888,
             "#fdca26"
            ],
            [
             1,
             "#f0f921"
            ]
           ],
           "sequentialminus": [
            [
             0,
             "#0d0887"
            ],
            [
             0.1111111111111111,
             "#46039f"
            ],
            [
             0.2222222222222222,
             "#7201a8"
            ],
            [
             0.3333333333333333,
             "#9c179e"
            ],
            [
             0.4444444444444444,
             "#bd3786"
            ],
            [
             0.5555555555555556,
             "#d8576b"
            ],
            [
             0.6666666666666666,
             "#ed7953"
            ],
            [
             0.7777777777777778,
             "#fb9f3a"
            ],
            [
             0.8888888888888888,
             "#fdca26"
            ],
            [
             1,
             "#f0f921"
            ]
           ]
          },
          "colorway": [
           "#636efa",
           "#EF553B",
           "#00cc96",
           "#ab63fa",
           "#FFA15A",
           "#19d3f3",
           "#FF6692",
           "#B6E880",
           "#FF97FF",
           "#FECB52"
          ],
          "font": {
           "color": "#2a3f5f"
          },
          "geo": {
           "bgcolor": "white",
           "lakecolor": "white",
           "landcolor": "#E5ECF6",
           "showlakes": true,
           "showland": true,
           "subunitcolor": "white"
          },
          "hoverlabel": {
           "align": "left"
          },
          "hovermode": "closest",
          "mapbox": {
           "style": "light"
          },
          "paper_bgcolor": "white",
          "plot_bgcolor": "#E5ECF6",
          "polar": {
           "angularaxis": {
            "gridcolor": "white",
            "linecolor": "white",
            "ticks": ""
           },
           "bgcolor": "#E5ECF6",
           "radialaxis": {
            "gridcolor": "white",
            "linecolor": "white",
            "ticks": ""
           }
          },
          "scene": {
           "xaxis": {
            "backgroundcolor": "#E5ECF6",
            "gridcolor": "white",
            "gridwidth": 2,
            "linecolor": "white",
            "showbackground": true,
            "ticks": "",
            "zerolinecolor": "white"
           },
           "yaxis": {
            "backgroundcolor": "#E5ECF6",
            "gridcolor": "white",
            "gridwidth": 2,
            "linecolor": "white",
            "showbackground": true,
            "ticks": "",
            "zerolinecolor": "white"
           },
           "zaxis": {
            "backgroundcolor": "#E5ECF6",
            "gridcolor": "white",
            "gridwidth": 2,
            "linecolor": "white",
            "showbackground": true,
            "ticks": "",
            "zerolinecolor": "white"
           }
          },
          "shapedefaults": {
           "line": {
            "color": "#2a3f5f"
           }
          },
          "ternary": {
           "aaxis": {
            "gridcolor": "white",
            "linecolor": "white",
            "ticks": ""
           },
           "baxis": {
            "gridcolor": "white",
            "linecolor": "white",
            "ticks": ""
           },
           "bgcolor": "#E5ECF6",
           "caxis": {
            "gridcolor": "white",
            "linecolor": "white",
            "ticks": ""
           }
          },
          "title": {
           "x": 0.05
          },
          "xaxis": {
           "automargin": true,
           "gridcolor": "white",
           "linecolor": "white",
           "ticks": "",
           "title": {
            "standoff": 15
           },
           "zerolinecolor": "white",
           "zerolinewidth": 2
          },
          "yaxis": {
           "automargin": true,
           "gridcolor": "white",
           "linecolor": "white",
           "ticks": "",
           "title": {
            "standoff": 15
           },
           "zerolinecolor": "white",
           "zerolinewidth": 2
          }
         }
        },
        "title": {
         "text": "NU sjukvården: Antal artiklar per subkategori"
        },
        "xaxis": {
         "anchor": "y",
         "domain": [
          0,
          1
         ],
         "tickangle": 45,
         "title": {
          "text": "Publication Year"
         }
        },
        "yaxis": {
         "anchor": "x",
         "domain": [
          0,
          1
         ],
         "title": {
          "text": "Count of Publications"
         }
        }
       }
      }
     },
     "metadata": {},
     "output_type": "display_data"
    }
   ],
   "source": [
    "import pandas as pd\n",
    "import plotly.express as px\n",
    "\n",
    "# Creating a new DataFrame that groups by primary topic and counts the number of rows\n",
    "topic_counts = df['primary_topic.display_name'].value_counts()\n",
    "\n",
    "# Filtering the original DataFrame to include only topics with at least 5 publications\n",
    "filtered_df = df[df['primary_topic.display_name'].isin(topic_counts[topic_counts >= 2].index)]\n",
    "\n",
    "# Grouping the filtered DataFrame by publication year and primary topic\n",
    "filtered_df_grouped = filtered_df.groupby(['publication_year', 'primary_topic.display_name']).size().reset_index(name='count')\n",
    "\n",
    "# Plotting with Plotly\n",
    "fig = px.bar(\n",
    "    filtered_df_grouped,\n",
    "    x='publication_year',\n",
    "    y='count',\n",
    "    color='primary_topic.display_name',\n",
    "    title='NU sjukvården: Antal artiklar per subkategori',\n",
    "    labels={'publication_year': 'Publication Year', 'count': 'Count of Publications'},\n",
    ")\n",
    "\n",
    "fig.update_layout(\n",
    "    xaxis_title='Publication Year',\n",
    "    yaxis_title='Count of Publications',\n",
    "    legend_title='Primary Topic',\n",
    "    xaxis=dict(tickangle=45),\n",
    "    legend=dict(\n",
    "        title='Primary Topic',\n",
    "        orientation='v',\n",
    "        x=1.02,\n",
    "        y=1,\n",
    "        xanchor='left',\n",
    "        yanchor='top'\n",
    "    )\n",
    ")\n",
    "\n",
    "fig.show()"
   ]
  },
  {
   "cell_type": "code",
   "execution_count": 43,
   "metadata": {},
   "outputs": [
    {
     "data": {
      "application/vnd.plotly.v1+json": {
       "config": {
        "plotlyServerURL": "https://plot.ly"
       },
       "data": [
        {
         "alignmentgroup": "True",
         "hovertemplate": "primary_topic.field.display_name=Economics, Econometrics and Finance<br>Publication Year=%{x}<br>Count of Publications=%{y}<extra></extra>",
         "legendgroup": "Economics, Econometrics and Finance",
         "marker": {
          "color": "#636efa",
          "pattern": {
           "shape": ""
          }
         },
         "name": "Economics, Econometrics and Finance",
         "offsetgroup": "Economics, Econometrics and Finance",
         "orientation": "v",
         "showlegend": true,
         "textposition": "auto",
         "type": "bar",
         "x": [
          1993
         ],
         "xaxis": "x",
         "y": [
          2
         ],
         "yaxis": "y"
        },
        {
         "alignmentgroup": "True",
         "hovertemplate": "primary_topic.field.display_name=Health Professions<br>Publication Year=%{x}<br>Count of Publications=%{y}<extra></extra>",
         "legendgroup": "Health Professions",
         "marker": {
          "color": "#EF553B",
          "pattern": {
           "shape": ""
          }
         },
         "name": "Health Professions",
         "offsetgroup": "Health Professions",
         "orientation": "v",
         "showlegend": true,
         "textposition": "auto",
         "type": "bar",
         "x": [
          1998,
          2001,
          2004,
          2005,
          2007,
          2011,
          2012,
          2013,
          2014,
          2016,
          2017,
          2018,
          2019,
          2021,
          2022,
          2023,
          2024
         ],
         "xaxis": "x",
         "y": [
          1,
          1,
          1,
          1,
          1,
          2,
          2,
          2,
          1,
          1,
          3,
          1,
          4,
          3,
          1,
          1,
          4
         ],
         "yaxis": "y"
        },
        {
         "alignmentgroup": "True",
         "hovertemplate": "primary_topic.field.display_name=Business, Management and Accounting<br>Publication Year=%{x}<br>Count of Publications=%{y}<extra></extra>",
         "legendgroup": "Business, Management and Accounting",
         "marker": {
          "color": "#00cc96",
          "pattern": {
           "shape": ""
          }
         },
         "name": "Business, Management and Accounting",
         "offsetgroup": "Business, Management and Accounting",
         "orientation": "v",
         "showlegend": true,
         "textposition": "auto",
         "type": "bar",
         "x": [
          2000,
          2003,
          2020,
          2022
         ],
         "xaxis": "x",
         "y": [
          1,
          1,
          1,
          1
         ],
         "yaxis": "y"
        },
        {
         "alignmentgroup": "True",
         "hovertemplate": "primary_topic.field.display_name=Psychology<br>Publication Year=%{x}<br>Count of Publications=%{y}<extra></extra>",
         "legendgroup": "Psychology",
         "marker": {
          "color": "#ab63fa",
          "pattern": {
           "shape": ""
          }
         },
         "name": "Psychology",
         "offsetgroup": "Psychology",
         "orientation": "v",
         "showlegend": true,
         "textposition": "auto",
         "type": "bar",
         "x": [
          2000,
          2005,
          2008,
          2009,
          2011,
          2014,
          2017,
          2018,
          2019,
          2020
         ],
         "xaxis": "x",
         "y": [
          1,
          1,
          2,
          1,
          2,
          2,
          1,
          2,
          2,
          2
         ],
         "yaxis": "y"
        },
        {
         "alignmentgroup": "True",
         "hovertemplate": "primary_topic.field.display_name=Arts and Humanities<br>Publication Year=%{x}<br>Count of Publications=%{y}<extra></extra>",
         "legendgroup": "Arts and Humanities",
         "marker": {
          "color": "#FFA15A",
          "pattern": {
           "shape": ""
          }
         },
         "name": "Arts and Humanities",
         "offsetgroup": "Arts and Humanities",
         "orientation": "v",
         "showlegend": true,
         "textposition": "auto",
         "type": "bar",
         "x": [
          2001,
          2002,
          2019,
          2020
         ],
         "xaxis": "x",
         "y": [
          1,
          1,
          2,
          1
         ],
         "yaxis": "y"
        },
        {
         "alignmentgroup": "True",
         "hovertemplate": "primary_topic.field.display_name=Computer Science<br>Publication Year=%{x}<br>Count of Publications=%{y}<extra></extra>",
         "legendgroup": "Computer Science",
         "marker": {
          "color": "#19d3f3",
          "pattern": {
           "shape": ""
          }
         },
         "name": "Computer Science",
         "offsetgroup": "Computer Science",
         "orientation": "v",
         "showlegend": true,
         "textposition": "auto",
         "type": "bar",
         "x": [
          2001,
          2018,
          2021,
          2024
         ],
         "xaxis": "x",
         "y": [
          1,
          1,
          1,
          1
         ],
         "yaxis": "y"
        },
        {
         "alignmentgroup": "True",
         "hovertemplate": "primary_topic.field.display_name=Medicine<br>Publication Year=%{x}<br>Count of Publications=%{y}<extra></extra>",
         "legendgroup": "Medicine",
         "marker": {
          "color": "#FF6692",
          "pattern": {
           "shape": ""
          }
         },
         "name": "Medicine",
         "offsetgroup": "Medicine",
         "orientation": "v",
         "showlegend": true,
         "textposition": "auto",
         "type": "bar",
         "x": [
          2001,
          2002,
          2003,
          2005,
          2006,
          2007,
          2008,
          2009,
          2010,
          2011,
          2012,
          2013,
          2014,
          2015,
          2016,
          2017,
          2018,
          2019,
          2020,
          2021,
          2022,
          2023,
          2024
         ],
         "xaxis": "x",
         "y": [
          1,
          1,
          3,
          2,
          4,
          5,
          3,
          10,
          17,
          22,
          26,
          20,
          29,
          28,
          51,
          32,
          41,
          43,
          52,
          37,
          38,
          48,
          39
         ],
         "yaxis": "y"
        },
        {
         "alignmentgroup": "True",
         "hovertemplate": "primary_topic.field.display_name=Nursing<br>Publication Year=%{x}<br>Count of Publications=%{y}<extra></extra>",
         "legendgroup": "Nursing",
         "marker": {
          "color": "#B6E880",
          "pattern": {
           "shape": ""
          }
         },
         "name": "Nursing",
         "offsetgroup": "Nursing",
         "orientation": "v",
         "showlegend": true,
         "textposition": "auto",
         "type": "bar",
         "x": [
          2004,
          2005,
          2014,
          2017,
          2022
         ],
         "xaxis": "x",
         "y": [
          1,
          1,
          1,
          1,
          1
         ],
         "yaxis": "y"
        },
        {
         "alignmentgroup": "True",
         "hovertemplate": "primary_topic.field.display_name=Social Sciences<br>Publication Year=%{x}<br>Count of Publications=%{y}<extra></extra>",
         "legendgroup": "Social Sciences",
         "marker": {
          "color": "#FF97FF",
          "pattern": {
           "shape": ""
          }
         },
         "name": "Social Sciences",
         "offsetgroup": "Social Sciences",
         "orientation": "v",
         "showlegend": true,
         "textposition": "auto",
         "type": "bar",
         "x": [
          2005,
          2011,
          2013,
          2016,
          2017,
          2019,
          2020,
          2021,
          2022,
          2023
         ],
         "xaxis": "x",
         "y": [
          1,
          1,
          2,
          1,
          2,
          2,
          4,
          2,
          1,
          1
         ],
         "yaxis": "y"
        },
        {
         "alignmentgroup": "True",
         "hovertemplate": "primary_topic.field.display_name=Biochemistry, Genetics and Molecular Biology<br>Publication Year=%{x}<br>Count of Publications=%{y}<extra></extra>",
         "legendgroup": "Biochemistry, Genetics and Molecular Biology",
         "marker": {
          "color": "#FECB52",
          "pattern": {
           "shape": ""
          }
         },
         "name": "Biochemistry, Genetics and Molecular Biology",
         "offsetgroup": "Biochemistry, Genetics and Molecular Biology",
         "orientation": "v",
         "showlegend": true,
         "textposition": "auto",
         "type": "bar",
         "x": [
          2011,
          2012,
          2013,
          2014,
          2016,
          2017,
          2018,
          2019,
          2020,
          2021,
          2022,
          2023
         ],
         "xaxis": "x",
         "y": [
          2,
          2,
          2,
          2,
          3,
          1,
          2,
          8,
          5,
          4,
          7,
          3
         ],
         "yaxis": "y"
        },
        {
         "alignmentgroup": "True",
         "hovertemplate": "primary_topic.field.display_name=Dentistry<br>Publication Year=%{x}<br>Count of Publications=%{y}<extra></extra>",
         "legendgroup": "Dentistry",
         "marker": {
          "color": "#636efa",
          "pattern": {
           "shape": ""
          }
         },
         "name": "Dentistry",
         "offsetgroup": "Dentistry",
         "orientation": "v",
         "showlegend": true,
         "textposition": "auto",
         "type": "bar",
         "x": [
          2013,
          2014,
          2015,
          2017,
          2018,
          2020,
          2021,
          2022,
          2023,
          2024
         ],
         "xaxis": "x",
         "y": [
          2,
          1,
          1,
          3,
          1,
          4,
          3,
          1,
          2,
          1
         ],
         "yaxis": "y"
        },
        {
         "alignmentgroup": "True",
         "hovertemplate": "primary_topic.field.display_name=Neuroscience<br>Publication Year=%{x}<br>Count of Publications=%{y}<extra></extra>",
         "legendgroup": "Neuroscience",
         "marker": {
          "color": "#EF553B",
          "pattern": {
           "shape": ""
          }
         },
         "name": "Neuroscience",
         "offsetgroup": "Neuroscience",
         "orientation": "v",
         "showlegend": true,
         "textposition": "auto",
         "type": "bar",
         "x": [
          2013,
          2016,
          2018,
          2019,
          2021
         ],
         "xaxis": "x",
         "y": [
          5,
          2,
          1,
          1,
          1
         ],
         "yaxis": "y"
        },
        {
         "alignmentgroup": "True",
         "hovertemplate": "primary_topic.field.display_name=Engineering<br>Publication Year=%{x}<br>Count of Publications=%{y}<extra></extra>",
         "legendgroup": "Engineering",
         "marker": {
          "color": "#00cc96",
          "pattern": {
           "shape": ""
          }
         },
         "name": "Engineering",
         "offsetgroup": "Engineering",
         "orientation": "v",
         "showlegend": true,
         "textposition": "auto",
         "type": "bar",
         "x": [
          2017,
          2018,
          2021,
          2023,
          2024
         ],
         "xaxis": "x",
         "y": [
          3,
          1,
          2,
          1,
          1
         ],
         "yaxis": "y"
        },
        {
         "alignmentgroup": "True",
         "hovertemplate": "primary_topic.field.display_name=Immunology and Microbiology<br>Publication Year=%{x}<br>Count of Publications=%{y}<extra></extra>",
         "legendgroup": "Immunology and Microbiology",
         "marker": {
          "color": "#ab63fa",
          "pattern": {
           "shape": ""
          }
         },
         "name": "Immunology and Microbiology",
         "offsetgroup": "Immunology and Microbiology",
         "orientation": "v",
         "showlegend": true,
         "textposition": "auto",
         "type": "bar",
         "x": [
          2019,
          2022,
          2023
         ],
         "xaxis": "x",
         "y": [
          2,
          1,
          1
         ],
         "yaxis": "y"
        },
        {
         "alignmentgroup": "True",
         "hovertemplate": "primary_topic.field.display_name=Decision Sciences<br>Publication Year=%{x}<br>Count of Publications=%{y}<extra></extra>",
         "legendgroup": "Decision Sciences",
         "marker": {
          "color": "#FFA15A",
          "pattern": {
           "shape": ""
          }
         },
         "name": "Decision Sciences",
         "offsetgroup": "Decision Sciences",
         "orientation": "v",
         "showlegend": true,
         "textposition": "auto",
         "type": "bar",
         "x": [
          2020,
          2021
         ],
         "xaxis": "x",
         "y": [
          1,
          1
         ],
         "yaxis": "y"
        }
       ],
       "layout": {
        "barmode": "relative",
        "legend": {
         "orientation": "v",
         "title": {
          "text": "Primary Topic"
         },
         "tracegroupgap": 0,
         "x": 1.02,
         "xanchor": "left",
         "y": 1,
         "yanchor": "top"
        },
        "template": {
         "data": {
          "bar": [
           {
            "error_x": {
             "color": "#2a3f5f"
            },
            "error_y": {
             "color": "#2a3f5f"
            },
            "marker": {
             "line": {
              "color": "#E5ECF6",
              "width": 0.5
             },
             "pattern": {
              "fillmode": "overlay",
              "size": 10,
              "solidity": 0.2
             }
            },
            "type": "bar"
           }
          ],
          "barpolar": [
           {
            "marker": {
             "line": {
              "color": "#E5ECF6",
              "width": 0.5
             },
             "pattern": {
              "fillmode": "overlay",
              "size": 10,
              "solidity": 0.2
             }
            },
            "type": "barpolar"
           }
          ],
          "carpet": [
           {
            "aaxis": {
             "endlinecolor": "#2a3f5f",
             "gridcolor": "white",
             "linecolor": "white",
             "minorgridcolor": "white",
             "startlinecolor": "#2a3f5f"
            },
            "baxis": {
             "endlinecolor": "#2a3f5f",
             "gridcolor": "white",
             "linecolor": "white",
             "minorgridcolor": "white",
             "startlinecolor": "#2a3f5f"
            },
            "type": "carpet"
           }
          ],
          "choropleth": [
           {
            "colorbar": {
             "outlinewidth": 0,
             "ticks": ""
            },
            "type": "choropleth"
           }
          ],
          "contour": [
           {
            "colorbar": {
             "outlinewidth": 0,
             "ticks": ""
            },
            "colorscale": [
             [
              0,
              "#0d0887"
             ],
             [
              0.1111111111111111,
              "#46039f"
             ],
             [
              0.2222222222222222,
              "#7201a8"
             ],
             [
              0.3333333333333333,
              "#9c179e"
             ],
             [
              0.4444444444444444,
              "#bd3786"
             ],
             [
              0.5555555555555556,
              "#d8576b"
             ],
             [
              0.6666666666666666,
              "#ed7953"
             ],
             [
              0.7777777777777778,
              "#fb9f3a"
             ],
             [
              0.8888888888888888,
              "#fdca26"
             ],
             [
              1,
              "#f0f921"
             ]
            ],
            "type": "contour"
           }
          ],
          "contourcarpet": [
           {
            "colorbar": {
             "outlinewidth": 0,
             "ticks": ""
            },
            "type": "contourcarpet"
           }
          ],
          "heatmap": [
           {
            "colorbar": {
             "outlinewidth": 0,
             "ticks": ""
            },
            "colorscale": [
             [
              0,
              "#0d0887"
             ],
             [
              0.1111111111111111,
              "#46039f"
             ],
             [
              0.2222222222222222,
              "#7201a8"
             ],
             [
              0.3333333333333333,
              "#9c179e"
             ],
             [
              0.4444444444444444,
              "#bd3786"
             ],
             [
              0.5555555555555556,
              "#d8576b"
             ],
             [
              0.6666666666666666,
              "#ed7953"
             ],
             [
              0.7777777777777778,
              "#fb9f3a"
             ],
             [
              0.8888888888888888,
              "#fdca26"
             ],
             [
              1,
              "#f0f921"
             ]
            ],
            "type": "heatmap"
           }
          ],
          "heatmapgl": [
           {
            "colorbar": {
             "outlinewidth": 0,
             "ticks": ""
            },
            "colorscale": [
             [
              0,
              "#0d0887"
             ],
             [
              0.1111111111111111,
              "#46039f"
             ],
             [
              0.2222222222222222,
              "#7201a8"
             ],
             [
              0.3333333333333333,
              "#9c179e"
             ],
             [
              0.4444444444444444,
              "#bd3786"
             ],
             [
              0.5555555555555556,
              "#d8576b"
             ],
             [
              0.6666666666666666,
              "#ed7953"
             ],
             [
              0.7777777777777778,
              "#fb9f3a"
             ],
             [
              0.8888888888888888,
              "#fdca26"
             ],
             [
              1,
              "#f0f921"
             ]
            ],
            "type": "heatmapgl"
           }
          ],
          "histogram": [
           {
            "marker": {
             "pattern": {
              "fillmode": "overlay",
              "size": 10,
              "solidity": 0.2
             }
            },
            "type": "histogram"
           }
          ],
          "histogram2d": [
           {
            "colorbar": {
             "outlinewidth": 0,
             "ticks": ""
            },
            "colorscale": [
             [
              0,
              "#0d0887"
             ],
             [
              0.1111111111111111,
              "#46039f"
             ],
             [
              0.2222222222222222,
              "#7201a8"
             ],
             [
              0.3333333333333333,
              "#9c179e"
             ],
             [
              0.4444444444444444,
              "#bd3786"
             ],
             [
              0.5555555555555556,
              "#d8576b"
             ],
             [
              0.6666666666666666,
              "#ed7953"
             ],
             [
              0.7777777777777778,
              "#fb9f3a"
             ],
             [
              0.8888888888888888,
              "#fdca26"
             ],
             [
              1,
              "#f0f921"
             ]
            ],
            "type": "histogram2d"
           }
          ],
          "histogram2dcontour": [
           {
            "colorbar": {
             "outlinewidth": 0,
             "ticks": ""
            },
            "colorscale": [
             [
              0,
              "#0d0887"
             ],
             [
              0.1111111111111111,
              "#46039f"
             ],
             [
              0.2222222222222222,
              "#7201a8"
             ],
             [
              0.3333333333333333,
              "#9c179e"
             ],
             [
              0.4444444444444444,
              "#bd3786"
             ],
             [
              0.5555555555555556,
              "#d8576b"
             ],
             [
              0.6666666666666666,
              "#ed7953"
             ],
             [
              0.7777777777777778,
              "#fb9f3a"
             ],
             [
              0.8888888888888888,
              "#fdca26"
             ],
             [
              1,
              "#f0f921"
             ]
            ],
            "type": "histogram2dcontour"
           }
          ],
          "mesh3d": [
           {
            "colorbar": {
             "outlinewidth": 0,
             "ticks": ""
            },
            "type": "mesh3d"
           }
          ],
          "parcoords": [
           {
            "line": {
             "colorbar": {
              "outlinewidth": 0,
              "ticks": ""
             }
            },
            "type": "parcoords"
           }
          ],
          "pie": [
           {
            "automargin": true,
            "type": "pie"
           }
          ],
          "scatter": [
           {
            "fillpattern": {
             "fillmode": "overlay",
             "size": 10,
             "solidity": 0.2
            },
            "type": "scatter"
           }
          ],
          "scatter3d": [
           {
            "line": {
             "colorbar": {
              "outlinewidth": 0,
              "ticks": ""
             }
            },
            "marker": {
             "colorbar": {
              "outlinewidth": 0,
              "ticks": ""
             }
            },
            "type": "scatter3d"
           }
          ],
          "scattercarpet": [
           {
            "marker": {
             "colorbar": {
              "outlinewidth": 0,
              "ticks": ""
             }
            },
            "type": "scattercarpet"
           }
          ],
          "scattergeo": [
           {
            "marker": {
             "colorbar": {
              "outlinewidth": 0,
              "ticks": ""
             }
            },
            "type": "scattergeo"
           }
          ],
          "scattergl": [
           {
            "marker": {
             "colorbar": {
              "outlinewidth": 0,
              "ticks": ""
             }
            },
            "type": "scattergl"
           }
          ],
          "scattermapbox": [
           {
            "marker": {
             "colorbar": {
              "outlinewidth": 0,
              "ticks": ""
             }
            },
            "type": "scattermapbox"
           }
          ],
          "scatterpolar": [
           {
            "marker": {
             "colorbar": {
              "outlinewidth": 0,
              "ticks": ""
             }
            },
            "type": "scatterpolar"
           }
          ],
          "scatterpolargl": [
           {
            "marker": {
             "colorbar": {
              "outlinewidth": 0,
              "ticks": ""
             }
            },
            "type": "scatterpolargl"
           }
          ],
          "scatterternary": [
           {
            "marker": {
             "colorbar": {
              "outlinewidth": 0,
              "ticks": ""
             }
            },
            "type": "scatterternary"
           }
          ],
          "surface": [
           {
            "colorbar": {
             "outlinewidth": 0,
             "ticks": ""
            },
            "colorscale": [
             [
              0,
              "#0d0887"
             ],
             [
              0.1111111111111111,
              "#46039f"
             ],
             [
              0.2222222222222222,
              "#7201a8"
             ],
             [
              0.3333333333333333,
              "#9c179e"
             ],
             [
              0.4444444444444444,
              "#bd3786"
             ],
             [
              0.5555555555555556,
              "#d8576b"
             ],
             [
              0.6666666666666666,
              "#ed7953"
             ],
             [
              0.7777777777777778,
              "#fb9f3a"
             ],
             [
              0.8888888888888888,
              "#fdca26"
             ],
             [
              1,
              "#f0f921"
             ]
            ],
            "type": "surface"
           }
          ],
          "table": [
           {
            "cells": {
             "fill": {
              "color": "#EBF0F8"
             },
             "line": {
              "color": "white"
             }
            },
            "header": {
             "fill": {
              "color": "#C8D4E3"
             },
             "line": {
              "color": "white"
             }
            },
            "type": "table"
           }
          ]
         },
         "layout": {
          "annotationdefaults": {
           "arrowcolor": "#2a3f5f",
           "arrowhead": 0,
           "arrowwidth": 1
          },
          "autotypenumbers": "strict",
          "coloraxis": {
           "colorbar": {
            "outlinewidth": 0,
            "ticks": ""
           }
          },
          "colorscale": {
           "diverging": [
            [
             0,
             "#8e0152"
            ],
            [
             0.1,
             "#c51b7d"
            ],
            [
             0.2,
             "#de77ae"
            ],
            [
             0.3,
             "#f1b6da"
            ],
            [
             0.4,
             "#fde0ef"
            ],
            [
             0.5,
             "#f7f7f7"
            ],
            [
             0.6,
             "#e6f5d0"
            ],
            [
             0.7,
             "#b8e186"
            ],
            [
             0.8,
             "#7fbc41"
            ],
            [
             0.9,
             "#4d9221"
            ],
            [
             1,
             "#276419"
            ]
           ],
           "sequential": [
            [
             0,
             "#0d0887"
            ],
            [
             0.1111111111111111,
             "#46039f"
            ],
            [
             0.2222222222222222,
             "#7201a8"
            ],
            [
             0.3333333333333333,
             "#9c179e"
            ],
            [
             0.4444444444444444,
             "#bd3786"
            ],
            [
             0.5555555555555556,
             "#d8576b"
            ],
            [
             0.6666666666666666,
             "#ed7953"
            ],
            [
             0.7777777777777778,
             "#fb9f3a"
            ],
            [
             0.8888888888888888,
             "#fdca26"
            ],
            [
             1,
             "#f0f921"
            ]
           ],
           "sequentialminus": [
            [
             0,
             "#0d0887"
            ],
            [
             0.1111111111111111,
             "#46039f"
            ],
            [
             0.2222222222222222,
             "#7201a8"
            ],
            [
             0.3333333333333333,
             "#9c179e"
            ],
            [
             0.4444444444444444,
             "#bd3786"
            ],
            [
             0.5555555555555556,
             "#d8576b"
            ],
            [
             0.6666666666666666,
             "#ed7953"
            ],
            [
             0.7777777777777778,
             "#fb9f3a"
            ],
            [
             0.8888888888888888,
             "#fdca26"
            ],
            [
             1,
             "#f0f921"
            ]
           ]
          },
          "colorway": [
           "#636efa",
           "#EF553B",
           "#00cc96",
           "#ab63fa",
           "#FFA15A",
           "#19d3f3",
           "#FF6692",
           "#B6E880",
           "#FF97FF",
           "#FECB52"
          ],
          "font": {
           "color": "#2a3f5f"
          },
          "geo": {
           "bgcolor": "white",
           "lakecolor": "white",
           "landcolor": "#E5ECF6",
           "showlakes": true,
           "showland": true,
           "subunitcolor": "white"
          },
          "hoverlabel": {
           "align": "left"
          },
          "hovermode": "closest",
          "mapbox": {
           "style": "light"
          },
          "paper_bgcolor": "white",
          "plot_bgcolor": "#E5ECF6",
          "polar": {
           "angularaxis": {
            "gridcolor": "white",
            "linecolor": "white",
            "ticks": ""
           },
           "bgcolor": "#E5ECF6",
           "radialaxis": {
            "gridcolor": "white",
            "linecolor": "white",
            "ticks": ""
           }
          },
          "scene": {
           "xaxis": {
            "backgroundcolor": "#E5ECF6",
            "gridcolor": "white",
            "gridwidth": 2,
            "linecolor": "white",
            "showbackground": true,
            "ticks": "",
            "zerolinecolor": "white"
           },
           "yaxis": {
            "backgroundcolor": "#E5ECF6",
            "gridcolor": "white",
            "gridwidth": 2,
            "linecolor": "white",
            "showbackground": true,
            "ticks": "",
            "zerolinecolor": "white"
           },
           "zaxis": {
            "backgroundcolor": "#E5ECF6",
            "gridcolor": "white",
            "gridwidth": 2,
            "linecolor": "white",
            "showbackground": true,
            "ticks": "",
            "zerolinecolor": "white"
           }
          },
          "shapedefaults": {
           "line": {
            "color": "#2a3f5f"
           }
          },
          "ternary": {
           "aaxis": {
            "gridcolor": "white",
            "linecolor": "white",
            "ticks": ""
           },
           "baxis": {
            "gridcolor": "white",
            "linecolor": "white",
            "ticks": ""
           },
           "bgcolor": "#E5ECF6",
           "caxis": {
            "gridcolor": "white",
            "linecolor": "white",
            "ticks": ""
           }
          },
          "title": {
           "x": 0.05
          },
          "xaxis": {
           "automargin": true,
           "gridcolor": "white",
           "linecolor": "white",
           "ticks": "",
           "title": {
            "standoff": 15
           },
           "zerolinecolor": "white",
           "zerolinewidth": 2
          },
          "yaxis": {
           "automargin": true,
           "gridcolor": "white",
           "linecolor": "white",
           "ticks": "",
           "title": {
            "standoff": 15
           },
           "zerolinecolor": "white",
           "zerolinewidth": 2
          }
         }
        },
        "title": {
         "text": "NU sjukvården, antal artiklar per övergripande disciplin"
        },
        "xaxis": {
         "anchor": "y",
         "domain": [
          0,
          1
         ],
         "tickangle": 45,
         "title": {
          "text": "Publication Year"
         }
        },
        "yaxis": {
         "anchor": "x",
         "domain": [
          0,
          1
         ],
         "title": {
          "text": "Count of Publications"
         }
        }
       }
      }
     },
     "metadata": {},
     "output_type": "display_data"
    }
   ],
   "source": [
    "\n",
    "import pandas as pd\n",
    "import plotly.express as px\n",
    "\n",
    "# Creating a new DataFrame that groups by primary topic and counts the number of rows\n",
    "topic_counts = df['primary_topic.field.display_name'].value_counts()\n",
    "\n",
    "# Filtering the original DataFrame to include only topics with at least 5 publications\n",
    "filtered_df = df[df['primary_topic.field.display_name'].isin(topic_counts[topic_counts >= 2].index)]\n",
    "\n",
    "# Grouping the filtered DataFrame by publication year and primary topic\n",
    "filtered_df_grouped = filtered_df.groupby(['publication_year', 'primary_topic.field.display_name']).size().reset_index(name='count')\n",
    "\n",
    "# Plotting with Plotly\n",
    "fig = px.bar(\n",
    "    filtered_df_grouped,\n",
    "    x='publication_year',\n",
    "    y='count',\n",
    "    color='primary_topic.field.display_name',\n",
    "    title='NU sjukvården, antal artiklar per övergripande disciplin',\n",
    "    labels={'publication_year': 'Publication Year', 'count': 'Count of Publications'},\n",
    ")\n",
    "\n",
    "fig.update_layout(\n",
    "    xaxis_title='Publication Year',\n",
    "    yaxis_title='Count of Publications',\n",
    "    legend_title='Primary Topic',\n",
    "    xaxis=dict(tickangle=45),\n",
    "    legend=dict(\n",
    "        title='Primary Topic',\n",
    "        orientation='v',\n",
    "        x=1.02,\n",
    "        y=1,\n",
    "        xanchor='left',\n",
    "        yanchor='top'\n",
    "    )\n",
    ")\n",
    "\n",
    "fig.show()\n"
   ]
  },
  {
   "cell_type": "code",
   "execution_count": 44,
   "metadata": {},
   "outputs": [
    {
     "data": {
      "application/vnd.plotly.v1+json": {
       "config": {
        "plotlyServerURL": "https://plot.ly"
       },
       "data": [
        {
         "alignmentgroup": "True",
         "hovertemplate": "Source Display Name=%{x}<br>Number of Publications=%{y}<extra></extra>",
         "legendgroup": "",
         "marker": {
          "color": "#636efa",
          "pattern": {
           "shape": ""
          }
         },
         "name": "",
         "offsetgroup": "",
         "orientation": "v",
         "showlegend": false,
         "textposition": "auto",
         "type": "bar",
         "x": [
          "Blood",
          "Pediatric Diabetes",
          "Knee Surgery Sports Traumatology Arthroscopy",
          "PubMed",
          "The American Journal of Sports Medicine",
          "Diabetes Care",
          "Arthroscopy The Journal of Arthroscopic and Related Surgery",
          "Springer eBooks",
          "Journal of Diabetes Science and Technology",
          "European Journal Of Haematology",
          "Primary care diabetes",
          "Acta Paediatrica",
          "Diabetes Technology & Therapeutics",
          "Scandinavian Journal of Urology",
          "Schizophrenia Research",
          "Clinical Oral Implants Research",
          "Orthopaedic Journal of Sports Medicine",
          "Diabetes Obesity and Metabolism",
          "Sexual & Reproductive Healthcare",
          "Clinical Interventions in Aging",
          "Acta Obstetricia Et Gynecologica Scandinavica",
          "International Journal of Oral and Maxillofacial Surgery",
          "Diabetologia",
          "BMJ Open Diabetes Research & Care",
          "British Journal of Haematology",
          "Research Square (Research Square)",
          "Clinical Chemistry and Laboratory Medicine (CCLM)",
          "Psychiatry Research",
          "Schizophrenia Bulletin",
          "BMC Medical Education",
          "British journal of surgery",
          "Clinical Implant Dentistry and Related Research",
          "European Psychiatry",
          "Journal of Voice",
          "Annals of Surgery",
          "International Journal of Colorectal Disease",
          "Haematologica",
          "Diabetic Medicine",
          "Scandinavian Journal of Medicine and Science in Sports",
          "European Journal of Cardiovascular Nursing",
          "BMJ Open",
          "Diabetes Therapy",
          "Research in Developmental Disabilities",
          "The Lancet Regional Health - Europe",
          "Scandinavian Journal of Gastroenterology",
          "Journal of Advanced Nursing",
          "Journal of Internal Medicine",
          "Journal of the American College of Cardiology",
          "Studies in health technology and informatics",
          "Nordic Journal of Psychiatry",
          "Heart",
          "Diseases of the Esophagus",
          "New England Journal of Medicine",
          "The Lancet Diabetes & Endocrinology",
          "International Emergency Nursing",
          "Radiation Protection Dosimetry",
          "Colorectal Disease",
          "The American Journal of Emergency Medicine",
          "Advances in Physiotherapy",
          "Journal of Diabetes and its Complications",
          "BMJ",
          "Journal of Clinical Medicine",
          "BMC Pregnancy and Childbirth",
          "Lecture notes in information systems and organisation",
          "Acta Biomaterialia",
          "Cardiovascular Diabetology",
          "The Journal of Clinical Endocrinology & Metabolism",
          "Archives of Medical Science",
          "Journal of Psychiatric and Mental Health Nursing",
          "The Lancet",
          "Canadian Journal of Diabetes",
          "Läkartidningen/Läkartidningen",
          "Journal of Nursing Management",
          "European Journal of Vascular and Endovascular Surgery",
          "Schizophrenia Research Cognition",
          "Obesity",
          "Clinical Otolaryngology",
          "BMC Geriatrics",
          "Circulation",
          "Frontiers in Immunology",
          "Geriatrics",
          "Diabetes/Metabolism Research and Reviews",
          "PLoS ONE",
          "Journal of the American Heart Association",
          "Acta Anaesthesiologica Scandinavica",
          "Pediatric Rheumatology",
          "Leukemia Research",
          "Biology of Blood and Marrow Transplantation",
          "Open Heart",
          "BMC Emergency Medicine",
          "IntechOpen eBooks",
          "Clinical & Experimental Immunology",
          "HemaSphere",
          "Clinical Lymphoma Myeloma & Leukemia",
          "Advances in Laboratory Medicine / Avances en Medicina de Laboratorio",
          "Ophthalmology Glaucoma",
          "Osteoarthritis and Cartilage",
          "Diabetes Research and Clinical Practice",
          "European Journal of Preventive Cardiology",
          "Obstetric Anesthesia Digest",
          "Scandinavian Journal of Educational Research",
          "BJUI Compass",
          "Bone Marrow Transplantation",
          "Head & Neck",
          "Clinical and Vaccine Immunology",
          "Trials",
          "Hormone Research in Paediatrics",
          "Scientific Reports",
          "Social Psychiatry and Psychiatric Epidemiology",
          "International Journal of Gynecology & Obstetrics",
          "Leukemia & lymphoma/Leukemia and lymphoma",
          "Women and Birth",
          "International Journal of Nursing Practice",
          "Blood Advances",
          "Gastroenterology",
          "Obesity Science & Practice",
          "Proceedings of the ... Annual Hawaii International Conference on System Sciences/Proceedings of the Annual Hawaii International Conference on System Sciences",
          "Journal of Autism and Developmental Disorders",
          "IJID Regions",
          "Frontiers in Endocrinology",
          "Frontiers in Nutrition",
          "BJR|Open",
          "Frontiers in Oncology",
          "Orphanet Journal of Rare Diseases",
          "BDJ",
          "Dentistry Journal",
          "Acta Diabetologica",
          "Foundations and Trends® in Information Systems",
          "Health An Interdisciplinary Journal for the Social Study of Health Illness and Medicine",
          "Annals of Medicine",
          "SAGE Open",
          "Digestive Diseases and Sciences",
          "Interacting with Computers",
          "Rheumatology",
          "BMC Medical Informatics and Decision Making",
          "Scandinavian Journal of Public Health",
          "BJS Open",
          "Journal of Clinical Research in Pediatric Endocrinology",
          "International Journal of Cardiology",
          "Lecture notes in business information processing",
          "Journal of Diabetes & Metabolism",
          "BMC Research Notes",
          "Journal of Orthopaedic Surgery and Research",
          "Journal of Speech Language and Hearing Research",
          "Nurse Education in Practice",
          "International Journal on Disability and Human Development",
          "Clinical Oral Investigations",
          "Annals of Clinical Microbiology and Antimicrobials",
          "Proceedings of the National Academy of Sciences",
          "Acta Ophthalmologica",
          "Cerebrovascular Diseases",
          "Learning in Health and Social Care",
          "BMC Pulmonary Medicine",
          "IFIP advances in information and communication technology",
          "Diabetes and Vascular Disease Research",
          "Bone & Joint Open",
          "Frontiers in Clinical Diabetes and Healthcare",
          "Indian Journal of Ophthalmology",
          "Open Journal of Nursing",
          "Child & Family Behavior Therapy",
          "Archive of Urological Research",
          "European Neuropsychopharmacology",
          "Value in Health",
          "Clinical Nursing Studies",
          "Oral and Maxillofacial Surgery Cases",
          "Maternal and Child Health Journal",
          "medRxiv (Cold Spring Harbor Laboratory)",
          "International Journal of Anatomy Radiology and Surgery",
          "Annals of General Psychiatry",
          "Socialmedicinsk tidskrift",
          "Current Medical Imaging Formerly Current Medical Imaging Reviews",
          "Journal of Nursing Education and Practice",
          "SSRN Electronic Journal",
          "Occupational Therapy in Mental Health",
          "Obstetrical & Gynecological Survey",
          "International Journal of Health Policy and Management",
          "International Journal of Nursing and Midwifery",
          "Cancer Medicine",
          "Frontiers in Physiology",
          "Therapeutic Advances in Psychopharmacology",
          "American Journal of Case Reports",
          "Journal of Cranio-Maxillofacial Surgery",
          "European Archives of Oto-Rhino-Laryngology",
          "Journal of European CME",
          "Arthroplasty Today",
          "Journal of the American Psychiatric Nurses Association",
          "Arthroscopy Techniques",
          "Nursing Science Quarterly",
          "Contact Dermatitis",
          "Pediatric Surgery International",
          "Case Reports in Dermatology",
          "Translational Sports Medicine",
          "European Journal of Anaesthesiology",
          "BMC Gastroenterology",
          "Journal of Bone and Joint Infection",
          "BMC Health Services Research",
          "Issues in Mental Health Nursing",
          "Patient Preference and Adherence",
          "Journal of Clinical Nursing",
          "World Journal of Colorectal Surgery",
          "Systematic Reviews",
          "Scandinavian Journal of Psychology",
          "Arthritis & Rheumatism",
          "PsyCh Journal",
          "Neuroscience",
          "Health Informatics Journal",
          "Kidney International Reports",
          "Microorganisms",
          "Acta Orthopaedica",
          "Clinical Practice and Epidemiology in Mental Health",
          "Midwifery",
          "Journal of Neural Transmission",
          "International Journal of Surgery",
          "European Journal of Oncology Nursing",
          "Journal of Rehabilitation Medicine",
          "Clinical Orthopaedics and Related Research",
          "La Presse Médicale",
          "European Journal of Neuroscience",
          "Cancer",
          "Neuropsychiatric Disease and Treatment",
          "Clinical and Experimental Dental Research",
          "Trials in Vaccinology",
          "Drug Healthcare and Patient Safety",
          "JMIR Diabetes",
          "European Heart Journal Acute Cardiovascular Care",
          "Oral Oncology",
          "European Heart Journal",
          "JAMA",
          "Journal Of Clinical Periodontology",
          "Spine",
          "Biomaterials",
          "Journal of Epidemiology & Community Health",
          "Environmental Research",
          "The Journal of Cardiovascular Nursing",
          "International Journal of Molecular Sciences",
          "EClinicalMedicine",
          "JAMA Surgery",
          "Thrombosis Research",
          "Health Policy",
          "European Journal of Internal Medicine",
          "Nutrients",
          "Studies in Continuing Education",
          "American Journal of Obstetrics and Gynecology",
          "European Urology Focus",
          "Clinical Radiology",
          "Periodontology 2000",
          "World Journal of Surgical Oncology",
          "Journal of Psychiatric Research",
          "Journal of the American Medical Directors Association",
          "BMC Obesity",
          "American Heart Journal",
          "Molecules",
          "Archives of Clinical Neuropsychology",
          "International Journal of COPD",
          "Acta Neurologica Scandinavica",
          "Future Science OA",
          "International Journal of Qualitative Studies on Health and Well-Being",
          "Clinical Endocrinology",
          "European Journal of Physical and Rehabilitation Medicine",
          "Archives of Psychiatric Nursing",
          "Journal of the Medical Library Association JMLA",
          "The Anatolian Journal of Cardiology",
          "BMC Urology",
          "Paediatric and Neonatal Pain",
          "World Journal of Surgery",
          "Acta Oncologica",
          "Pediatric Transplantation",
          "Hypertension",
          "JOGN Nursing",
          "Clinical ophthalmology",
          "International Journal of Environmental Research and Public Health",
          "Annals of Surgery Open",
          "Public Health Nursing",
          "Acta Oto-Laryngologica",
          "Injury",
          "BMC Pediatrics",
          "Journal of Geriatric Physical Therapy",
          "RMD Open",
          "International Journal of Surgery Case Reports",
          "Journal of Continuing Education in the Health Professions",
          "Infectious Diseases",
          "BMC Surgery",
          "Journal of Oral Pathology and Medicine",
          "Blood Cancer Journal",
          "Rhinology Journal",
          "Journal of Clinical Microbiology",
          "Dental Traumatology",
          "European Journal Of Oral Sciences",
          "Upsala Journal of Medical Sciences",
          "Mechanisms of Ageing and Development",
          "International Journal of Obstetric Anesthesia",
          "World Journal of Clinical Cases",
          "Advances in Therapy",
          "Psychological Reports",
          "Journal of Clinical Virology",
          "Brain Research",
          "Oral Surgery Oral Medicine Oral Pathology and Oral Radiology",
          "Journal of Clinical Hypertension",
          "LUTS Lower Urinary Tract Symptoms"
         ],
         "xaxis": "x",
         "y": [
          30,
          25,
          22,
          18,
          16,
          16,
          14,
          14,
          12,
          11,
          11,
          10,
          10,
          10,
          9,
          7,
          7,
          7,
          7,
          6,
          6,
          6,
          6,
          5,
          5,
          5,
          5,
          5,
          5,
          5,
          4,
          4,
          4,
          4,
          4,
          4,
          4,
          4,
          3,
          3,
          3,
          3,
          3,
          3,
          3,
          3,
          3,
          3,
          3,
          3,
          3,
          3,
          3,
          3,
          3,
          3,
          3,
          2,
          2,
          2,
          2,
          2,
          2,
          2,
          2,
          2,
          2,
          2,
          2,
          2,
          2,
          2,
          2,
          2,
          2,
          2,
          2,
          2,
          2,
          2,
          2,
          2,
          2,
          2,
          2,
          2,
          2,
          2,
          2,
          2,
          2,
          2,
          2,
          2,
          2,
          2,
          2,
          2,
          2,
          2,
          2,
          2,
          2,
          2,
          2,
          2,
          2,
          2,
          2,
          2,
          2,
          2,
          2,
          2,
          2,
          2,
          2,
          2,
          1,
          1,
          1,
          1,
          1,
          1,
          1,
          1,
          1,
          1,
          1,
          1,
          1,
          1,
          1,
          1,
          1,
          1,
          1,
          1,
          1,
          1,
          1,
          1,
          1,
          1,
          1,
          1,
          1,
          1,
          1,
          1,
          1,
          1,
          1,
          1,
          1,
          1,
          1,
          1,
          1,
          1,
          1,
          1,
          1,
          1,
          1,
          1,
          1,
          1,
          1,
          1,
          1,
          1,
          1,
          1,
          1,
          1,
          1,
          1,
          1,
          1,
          1,
          1,
          1,
          1,
          1,
          1,
          1,
          1,
          1,
          1,
          1,
          1,
          1,
          1,
          1,
          1,
          1,
          1,
          1,
          1,
          1,
          1,
          1,
          1,
          1,
          1,
          1,
          1,
          1,
          1,
          1,
          1,
          1,
          1,
          1,
          1,
          1,
          1,
          1,
          1,
          1,
          1,
          1,
          1,
          1,
          1,
          1,
          1,
          1,
          1,
          1,
          1,
          1,
          1,
          1,
          1,
          1,
          1,
          1,
          1,
          1,
          1,
          1,
          1,
          1,
          1,
          1,
          1,
          1,
          1,
          1,
          1,
          1,
          1,
          1,
          1,
          1,
          1,
          1,
          1,
          1,
          1,
          1,
          1,
          1,
          1,
          1,
          1,
          1,
          1,
          1,
          1,
          1,
          1,
          1,
          1,
          1,
          1,
          1,
          1,
          1,
          1,
          1,
          1,
          1,
          1,
          1,
          1,
          1,
          1,
          1,
          1,
          1,
          1,
          1,
          1,
          1,
          1,
          1
         ],
         "yaxis": "y"
        }
       ],
       "layout": {
        "barmode": "relative",
        "legend": {
         "tracegroupgap": 0
        },
        "template": {
         "data": {
          "bar": [
           {
            "error_x": {
             "color": "#2a3f5f"
            },
            "error_y": {
             "color": "#2a3f5f"
            },
            "marker": {
             "line": {
              "color": "white",
              "width": 0.5
             },
             "pattern": {
              "fillmode": "overlay",
              "size": 10,
              "solidity": 0.2
             }
            },
            "type": "bar"
           }
          ],
          "barpolar": [
           {
            "marker": {
             "line": {
              "color": "white",
              "width": 0.5
             },
             "pattern": {
              "fillmode": "overlay",
              "size": 10,
              "solidity": 0.2
             }
            },
            "type": "barpolar"
           }
          ],
          "carpet": [
           {
            "aaxis": {
             "endlinecolor": "#2a3f5f",
             "gridcolor": "#C8D4E3",
             "linecolor": "#C8D4E3",
             "minorgridcolor": "#C8D4E3",
             "startlinecolor": "#2a3f5f"
            },
            "baxis": {
             "endlinecolor": "#2a3f5f",
             "gridcolor": "#C8D4E3",
             "linecolor": "#C8D4E3",
             "minorgridcolor": "#C8D4E3",
             "startlinecolor": "#2a3f5f"
            },
            "type": "carpet"
           }
          ],
          "choropleth": [
           {
            "colorbar": {
             "outlinewidth": 0,
             "ticks": ""
            },
            "type": "choropleth"
           }
          ],
          "contour": [
           {
            "colorbar": {
             "outlinewidth": 0,
             "ticks": ""
            },
            "colorscale": [
             [
              0,
              "#0d0887"
             ],
             [
              0.1111111111111111,
              "#46039f"
             ],
             [
              0.2222222222222222,
              "#7201a8"
             ],
             [
              0.3333333333333333,
              "#9c179e"
             ],
             [
              0.4444444444444444,
              "#bd3786"
             ],
             [
              0.5555555555555556,
              "#d8576b"
             ],
             [
              0.6666666666666666,
              "#ed7953"
             ],
             [
              0.7777777777777778,
              "#fb9f3a"
             ],
             [
              0.8888888888888888,
              "#fdca26"
             ],
             [
              1,
              "#f0f921"
             ]
            ],
            "type": "contour"
           }
          ],
          "contourcarpet": [
           {
            "colorbar": {
             "outlinewidth": 0,
             "ticks": ""
            },
            "type": "contourcarpet"
           }
          ],
          "heatmap": [
           {
            "colorbar": {
             "outlinewidth": 0,
             "ticks": ""
            },
            "colorscale": [
             [
              0,
              "#0d0887"
             ],
             [
              0.1111111111111111,
              "#46039f"
             ],
             [
              0.2222222222222222,
              "#7201a8"
             ],
             [
              0.3333333333333333,
              "#9c179e"
             ],
             [
              0.4444444444444444,
              "#bd3786"
             ],
             [
              0.5555555555555556,
              "#d8576b"
             ],
             [
              0.6666666666666666,
              "#ed7953"
             ],
             [
              0.7777777777777778,
              "#fb9f3a"
             ],
             [
              0.8888888888888888,
              "#fdca26"
             ],
             [
              1,
              "#f0f921"
             ]
            ],
            "type": "heatmap"
           }
          ],
          "heatmapgl": [
           {
            "colorbar": {
             "outlinewidth": 0,
             "ticks": ""
            },
            "colorscale": [
             [
              0,
              "#0d0887"
             ],
             [
              0.1111111111111111,
              "#46039f"
             ],
             [
              0.2222222222222222,
              "#7201a8"
             ],
             [
              0.3333333333333333,
              "#9c179e"
             ],
             [
              0.4444444444444444,
              "#bd3786"
             ],
             [
              0.5555555555555556,
              "#d8576b"
             ],
             [
              0.6666666666666666,
              "#ed7953"
             ],
             [
              0.7777777777777778,
              "#fb9f3a"
             ],
             [
              0.8888888888888888,
              "#fdca26"
             ],
             [
              1,
              "#f0f921"
             ]
            ],
            "type": "heatmapgl"
           }
          ],
          "histogram": [
           {
            "marker": {
             "pattern": {
              "fillmode": "overlay",
              "size": 10,
              "solidity": 0.2
             }
            },
            "type": "histogram"
           }
          ],
          "histogram2d": [
           {
            "colorbar": {
             "outlinewidth": 0,
             "ticks": ""
            },
            "colorscale": [
             [
              0,
              "#0d0887"
             ],
             [
              0.1111111111111111,
              "#46039f"
             ],
             [
              0.2222222222222222,
              "#7201a8"
             ],
             [
              0.3333333333333333,
              "#9c179e"
             ],
             [
              0.4444444444444444,
              "#bd3786"
             ],
             [
              0.5555555555555556,
              "#d8576b"
             ],
             [
              0.6666666666666666,
              "#ed7953"
             ],
             [
              0.7777777777777778,
              "#fb9f3a"
             ],
             [
              0.8888888888888888,
              "#fdca26"
             ],
             [
              1,
              "#f0f921"
             ]
            ],
            "type": "histogram2d"
           }
          ],
          "histogram2dcontour": [
           {
            "colorbar": {
             "outlinewidth": 0,
             "ticks": ""
            },
            "colorscale": [
             [
              0,
              "#0d0887"
             ],
             [
              0.1111111111111111,
              "#46039f"
             ],
             [
              0.2222222222222222,
              "#7201a8"
             ],
             [
              0.3333333333333333,
              "#9c179e"
             ],
             [
              0.4444444444444444,
              "#bd3786"
             ],
             [
              0.5555555555555556,
              "#d8576b"
             ],
             [
              0.6666666666666666,
              "#ed7953"
             ],
             [
              0.7777777777777778,
              "#fb9f3a"
             ],
             [
              0.8888888888888888,
              "#fdca26"
             ],
             [
              1,
              "#f0f921"
             ]
            ],
            "type": "histogram2dcontour"
           }
          ],
          "mesh3d": [
           {
            "colorbar": {
             "outlinewidth": 0,
             "ticks": ""
            },
            "type": "mesh3d"
           }
          ],
          "parcoords": [
           {
            "line": {
             "colorbar": {
              "outlinewidth": 0,
              "ticks": ""
             }
            },
            "type": "parcoords"
           }
          ],
          "pie": [
           {
            "automargin": true,
            "type": "pie"
           }
          ],
          "scatter": [
           {
            "fillpattern": {
             "fillmode": "overlay",
             "size": 10,
             "solidity": 0.2
            },
            "type": "scatter"
           }
          ],
          "scatter3d": [
           {
            "line": {
             "colorbar": {
              "outlinewidth": 0,
              "ticks": ""
             }
            },
            "marker": {
             "colorbar": {
              "outlinewidth": 0,
              "ticks": ""
             }
            },
            "type": "scatter3d"
           }
          ],
          "scattercarpet": [
           {
            "marker": {
             "colorbar": {
              "outlinewidth": 0,
              "ticks": ""
             }
            },
            "type": "scattercarpet"
           }
          ],
          "scattergeo": [
           {
            "marker": {
             "colorbar": {
              "outlinewidth": 0,
              "ticks": ""
             }
            },
            "type": "scattergeo"
           }
          ],
          "scattergl": [
           {
            "marker": {
             "colorbar": {
              "outlinewidth": 0,
              "ticks": ""
             }
            },
            "type": "scattergl"
           }
          ],
          "scattermapbox": [
           {
            "marker": {
             "colorbar": {
              "outlinewidth": 0,
              "ticks": ""
             }
            },
            "type": "scattermapbox"
           }
          ],
          "scatterpolar": [
           {
            "marker": {
             "colorbar": {
              "outlinewidth": 0,
              "ticks": ""
             }
            },
            "type": "scatterpolar"
           }
          ],
          "scatterpolargl": [
           {
            "marker": {
             "colorbar": {
              "outlinewidth": 0,
              "ticks": ""
             }
            },
            "type": "scatterpolargl"
           }
          ],
          "scatterternary": [
           {
            "marker": {
             "colorbar": {
              "outlinewidth": 0,
              "ticks": ""
             }
            },
            "type": "scatterternary"
           }
          ],
          "surface": [
           {
            "colorbar": {
             "outlinewidth": 0,
             "ticks": ""
            },
            "colorscale": [
             [
              0,
              "#0d0887"
             ],
             [
              0.1111111111111111,
              "#46039f"
             ],
             [
              0.2222222222222222,
              "#7201a8"
             ],
             [
              0.3333333333333333,
              "#9c179e"
             ],
             [
              0.4444444444444444,
              "#bd3786"
             ],
             [
              0.5555555555555556,
              "#d8576b"
             ],
             [
              0.6666666666666666,
              "#ed7953"
             ],
             [
              0.7777777777777778,
              "#fb9f3a"
             ],
             [
              0.8888888888888888,
              "#fdca26"
             ],
             [
              1,
              "#f0f921"
             ]
            ],
            "type": "surface"
           }
          ],
          "table": [
           {
            "cells": {
             "fill": {
              "color": "#EBF0F8"
             },
             "line": {
              "color": "white"
             }
            },
            "header": {
             "fill": {
              "color": "#C8D4E3"
             },
             "line": {
              "color": "white"
             }
            },
            "type": "table"
           }
          ]
         },
         "layout": {
          "annotationdefaults": {
           "arrowcolor": "#2a3f5f",
           "arrowhead": 0,
           "arrowwidth": 1
          },
          "autotypenumbers": "strict",
          "coloraxis": {
           "colorbar": {
            "outlinewidth": 0,
            "ticks": ""
           }
          },
          "colorscale": {
           "diverging": [
            [
             0,
             "#8e0152"
            ],
            [
             0.1,
             "#c51b7d"
            ],
            [
             0.2,
             "#de77ae"
            ],
            [
             0.3,
             "#f1b6da"
            ],
            [
             0.4,
             "#fde0ef"
            ],
            [
             0.5,
             "#f7f7f7"
            ],
            [
             0.6,
             "#e6f5d0"
            ],
            [
             0.7,
             "#b8e186"
            ],
            [
             0.8,
             "#7fbc41"
            ],
            [
             0.9,
             "#4d9221"
            ],
            [
             1,
             "#276419"
            ]
           ],
           "sequential": [
            [
             0,
             "#0d0887"
            ],
            [
             0.1111111111111111,
             "#46039f"
            ],
            [
             0.2222222222222222,
             "#7201a8"
            ],
            [
             0.3333333333333333,
             "#9c179e"
            ],
            [
             0.4444444444444444,
             "#bd3786"
            ],
            [
             0.5555555555555556,
             "#d8576b"
            ],
            [
             0.6666666666666666,
             "#ed7953"
            ],
            [
             0.7777777777777778,
             "#fb9f3a"
            ],
            [
             0.8888888888888888,
             "#fdca26"
            ],
            [
             1,
             "#f0f921"
            ]
           ],
           "sequentialminus": [
            [
             0,
             "#0d0887"
            ],
            [
             0.1111111111111111,
             "#46039f"
            ],
            [
             0.2222222222222222,
             "#7201a8"
            ],
            [
             0.3333333333333333,
             "#9c179e"
            ],
            [
             0.4444444444444444,
             "#bd3786"
            ],
            [
             0.5555555555555556,
             "#d8576b"
            ],
            [
             0.6666666666666666,
             "#ed7953"
            ],
            [
             0.7777777777777778,
             "#fb9f3a"
            ],
            [
             0.8888888888888888,
             "#fdca26"
            ],
            [
             1,
             "#f0f921"
            ]
           ]
          },
          "colorway": [
           "#636efa",
           "#EF553B",
           "#00cc96",
           "#ab63fa",
           "#FFA15A",
           "#19d3f3",
           "#FF6692",
           "#B6E880",
           "#FF97FF",
           "#FECB52"
          ],
          "font": {
           "color": "#2a3f5f"
          },
          "geo": {
           "bgcolor": "white",
           "lakecolor": "white",
           "landcolor": "white",
           "showlakes": true,
           "showland": true,
           "subunitcolor": "#C8D4E3"
          },
          "hoverlabel": {
           "align": "left"
          },
          "hovermode": "closest",
          "mapbox": {
           "style": "light"
          },
          "paper_bgcolor": "white",
          "plot_bgcolor": "white",
          "polar": {
           "angularaxis": {
            "gridcolor": "#EBF0F8",
            "linecolor": "#EBF0F8",
            "ticks": ""
           },
           "bgcolor": "white",
           "radialaxis": {
            "gridcolor": "#EBF0F8",
            "linecolor": "#EBF0F8",
            "ticks": ""
           }
          },
          "scene": {
           "xaxis": {
            "backgroundcolor": "white",
            "gridcolor": "#DFE8F3",
            "gridwidth": 2,
            "linecolor": "#EBF0F8",
            "showbackground": true,
            "ticks": "",
            "zerolinecolor": "#EBF0F8"
           },
           "yaxis": {
            "backgroundcolor": "white",
            "gridcolor": "#DFE8F3",
            "gridwidth": 2,
            "linecolor": "#EBF0F8",
            "showbackground": true,
            "ticks": "",
            "zerolinecolor": "#EBF0F8"
           },
           "zaxis": {
            "backgroundcolor": "white",
            "gridcolor": "#DFE8F3",
            "gridwidth": 2,
            "linecolor": "#EBF0F8",
            "showbackground": true,
            "ticks": "",
            "zerolinecolor": "#EBF0F8"
           }
          },
          "shapedefaults": {
           "line": {
            "color": "#2a3f5f"
           }
          },
          "ternary": {
           "aaxis": {
            "gridcolor": "#DFE8F3",
            "linecolor": "#A2B1C6",
            "ticks": ""
           },
           "baxis": {
            "gridcolor": "#DFE8F3",
            "linecolor": "#A2B1C6",
            "ticks": ""
           },
           "bgcolor": "white",
           "caxis": {
            "gridcolor": "#DFE8F3",
            "linecolor": "#A2B1C6",
            "ticks": ""
           }
          },
          "title": {
           "x": 0.05
          },
          "xaxis": {
           "automargin": true,
           "gridcolor": "#EBF0F8",
           "linecolor": "#EBF0F8",
           "ticks": "",
           "title": {
            "standoff": 15
           },
           "zerolinecolor": "#EBF0F8",
           "zerolinewidth": 2
          },
          "yaxis": {
           "automargin": true,
           "gridcolor": "#EBF0F8",
           "linecolor": "#EBF0F8",
           "ticks": "",
           "title": {
            "standoff": 15
           },
           "zerolinecolor": "#EBF0F8",
           "zerolinewidth": 2
          }
         }
        },
        "title": {
         "text": "Var publicerar NU sjukvården?"
        },
        "xaxis": {
         "anchor": "y",
         "domain": [
          0,
          1
         ],
         "tickangle": -45,
         "title": {
          "text": "Source Display Name"
         }
        },
        "yaxis": {
         "anchor": "x",
         "domain": [
          0,
          1
         ],
         "title": {
          "text": "Number of Publications"
         }
        }
       }
      }
     },
     "metadata": {},
     "output_type": "display_data"
    }
   ],
   "source": [
    "import plotly.express as px\n",
    "\n",
    "# Count the occurrences of each source display name\n",
    "source_counts = df['primary_location.source.display_name'].value_counts().reset_index()\n",
    "source_counts.columns = ['Source', 'Count']\n",
    "\n",
    "# Create a bar chart using Plotly\n",
    "fig = px.bar(\n",
    "    source_counts,\n",
    "    x='Source',\n",
    "    y='Count',\n",
    "    title='Var publicerar NU sjukvården?',\n",
    "    labels={'Source': 'Source Display Name', 'Count': 'Number of Publications'},\n",
    "    template='plotly_white'\n",
    ")\n",
    "\n",
    "# Update layout for better readability\n",
    "fig.update_layout(\n",
    "    xaxis_title='Source Display Name',\n",
    "    yaxis_title='Number of Publications',\n",
    "    xaxis_tickangle=-45  # Rotate x-axis labels for better readability\n",
    ")\n",
    "\n",
    "# Show the figure\n",
    "fig.show()"
   ]
  },
  {
   "cell_type": "code",
   "execution_count": 45,
   "metadata": {},
   "outputs": [
    {
     "data": {
      "application/vnd.plotly.v1+json": {
       "config": {
        "plotlyServerURL": "https://plot.ly"
       },
       "data": [
        {
         "hovertemplate": "x: %{x}<br>y: %{y}<br>color: [%{z[0]}, %{z[1]}, %{z[2]}]<extra></extra>",
         "name": "0",
         "source": "data:image/png;base64,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",
         "type": "image",
         "xaxis": "x",
         "yaxis": "y"
        }
       ],
       "layout": {
        "template": {
         "data": {
          "bar": [
           {
            "error_x": {
             "color": "#2a3f5f"
            },
            "error_y": {
             "color": "#2a3f5f"
            },
            "marker": {
             "line": {
              "color": "#E5ECF6",
              "width": 0.5
             },
             "pattern": {
              "fillmode": "overlay",
              "size": 10,
              "solidity": 0.2
             }
            },
            "type": "bar"
           }
          ],
          "barpolar": [
           {
            "marker": {
             "line": {
              "color": "#E5ECF6",
              "width": 0.5
             },
             "pattern": {
              "fillmode": "overlay",
              "size": 10,
              "solidity": 0.2
             }
            },
            "type": "barpolar"
           }
          ],
          "carpet": [
           {
            "aaxis": {
             "endlinecolor": "#2a3f5f",
             "gridcolor": "white",
             "linecolor": "white",
             "minorgridcolor": "white",
             "startlinecolor": "#2a3f5f"
            },
            "baxis": {
             "endlinecolor": "#2a3f5f",
             "gridcolor": "white",
             "linecolor": "white",
             "minorgridcolor": "white",
             "startlinecolor": "#2a3f5f"
            },
            "type": "carpet"
           }
          ],
          "choropleth": [
           {
            "colorbar": {
             "outlinewidth": 0,
             "ticks": ""
            },
            "type": "choropleth"
           }
          ],
          "contour": [
           {
            "colorbar": {
             "outlinewidth": 0,
             "ticks": ""
            },
            "colorscale": [
             [
              0,
              "#0d0887"
             ],
             [
              0.1111111111111111,
              "#46039f"
             ],
             [
              0.2222222222222222,
              "#7201a8"
             ],
             [
              0.3333333333333333,
              "#9c179e"
             ],
             [
              0.4444444444444444,
              "#bd3786"
             ],
             [
              0.5555555555555556,
              "#d8576b"
             ],
             [
              0.6666666666666666,
              "#ed7953"
             ],
             [
              0.7777777777777778,
              "#fb9f3a"
             ],
             [
              0.8888888888888888,
              "#fdca26"
             ],
             [
              1,
              "#f0f921"
             ]
            ],
            "type": "contour"
           }
          ],
          "contourcarpet": [
           {
            "colorbar": {
             "outlinewidth": 0,
             "ticks": ""
            },
            "type": "contourcarpet"
           }
          ],
          "heatmap": [
           {
            "colorbar": {
             "outlinewidth": 0,
             "ticks": ""
            },
            "colorscale": [
             [
              0,
              "#0d0887"
             ],
             [
              0.1111111111111111,
              "#46039f"
             ],
             [
              0.2222222222222222,
              "#7201a8"
             ],
             [
              0.3333333333333333,
              "#9c179e"
             ],
             [
              0.4444444444444444,
              "#bd3786"
             ],
             [
              0.5555555555555556,
              "#d8576b"
             ],
             [
              0.6666666666666666,
              "#ed7953"
             ],
             [
              0.7777777777777778,
              "#fb9f3a"
             ],
             [
              0.8888888888888888,
              "#fdca26"
             ],
             [
              1,
              "#f0f921"
             ]
            ],
            "type": "heatmap"
           }
          ],
          "heatmapgl": [
           {
            "colorbar": {
             "outlinewidth": 0,
             "ticks": ""
            },
            "colorscale": [
             [
              0,
              "#0d0887"
             ],
             [
              0.1111111111111111,
              "#46039f"
             ],
             [
              0.2222222222222222,
              "#7201a8"
             ],
             [
              0.3333333333333333,
              "#9c179e"
             ],
             [
              0.4444444444444444,
              "#bd3786"
             ],
             [
              0.5555555555555556,
              "#d8576b"
             ],
             [
              0.6666666666666666,
              "#ed7953"
             ],
             [
              0.7777777777777778,
              "#fb9f3a"
             ],
             [
              0.8888888888888888,
              "#fdca26"
             ],
             [
              1,
              "#f0f921"
             ]
            ],
            "type": "heatmapgl"
           }
          ],
          "histogram": [
           {
            "marker": {
             "pattern": {
              "fillmode": "overlay",
              "size": 10,
              "solidity": 0.2
             }
            },
            "type": "histogram"
           }
          ],
          "histogram2d": [
           {
            "colorbar": {
             "outlinewidth": 0,
             "ticks": ""
            },
            "colorscale": [
             [
              0,
              "#0d0887"
             ],
             [
              0.1111111111111111,
              "#46039f"
             ],
             [
              0.2222222222222222,
              "#7201a8"
             ],
             [
              0.3333333333333333,
              "#9c179e"
             ],
             [
              0.4444444444444444,
              "#bd3786"
             ],
             [
              0.5555555555555556,
              "#d8576b"
             ],
             [
              0.6666666666666666,
              "#ed7953"
             ],
             [
              0.7777777777777778,
              "#fb9f3a"
             ],
             [
              0.8888888888888888,
              "#fdca26"
             ],
             [
              1,
              "#f0f921"
             ]
            ],
            "type": "histogram2d"
           }
          ],
          "histogram2dcontour": [
           {
            "colorbar": {
             "outlinewidth": 0,
             "ticks": ""
            },
            "colorscale": [
             [
              0,
              "#0d0887"
             ],
             [
              0.1111111111111111,
              "#46039f"
             ],
             [
              0.2222222222222222,
              "#7201a8"
             ],
             [
              0.3333333333333333,
              "#9c179e"
             ],
             [
              0.4444444444444444,
              "#bd3786"
             ],
             [
              0.5555555555555556,
              "#d8576b"
             ],
             [
              0.6666666666666666,
              "#ed7953"
             ],
             [
              0.7777777777777778,
              "#fb9f3a"
             ],
             [
              0.8888888888888888,
              "#fdca26"
             ],
             [
              1,
              "#f0f921"
             ]
            ],
            "type": "histogram2dcontour"
           }
          ],
          "mesh3d": [
           {
            "colorbar": {
             "outlinewidth": 0,
             "ticks": ""
            },
            "type": "mesh3d"
           }
          ],
          "parcoords": [
           {
            "line": {
             "colorbar": {
              "outlinewidth": 0,
              "ticks": ""
             }
            },
            "type": "parcoords"
           }
          ],
          "pie": [
           {
            "automargin": true,
            "type": "pie"
           }
          ],
          "scatter": [
           {
            "fillpattern": {
             "fillmode": "overlay",
             "size": 10,
             "solidity": 0.2
            },
            "type": "scatter"
           }
          ],
          "scatter3d": [
           {
            "line": {
             "colorbar": {
              "outlinewidth": 0,
              "ticks": ""
             }
            },
            "marker": {
             "colorbar": {
              "outlinewidth": 0,
              "ticks": ""
             }
            },
            "type": "scatter3d"
           }
          ],
          "scattercarpet": [
           {
            "marker": {
             "colorbar": {
              "outlinewidth": 0,
              "ticks": ""
             }
            },
            "type": "scattercarpet"
           }
          ],
          "scattergeo": [
           {
            "marker": {
             "colorbar": {
              "outlinewidth": 0,
              "ticks": ""
             }
            },
            "type": "scattergeo"
           }
          ],
          "scattergl": [
           {
            "marker": {
             "colorbar": {
              "outlinewidth": 0,
              "ticks": ""
             }
            },
            "type": "scattergl"
           }
          ],
          "scattermapbox": [
           {
            "marker": {
             "colorbar": {
              "outlinewidth": 0,
              "ticks": ""
             }
            },
            "type": "scattermapbox"
           }
          ],
          "scatterpolar": [
           {
            "marker": {
             "colorbar": {
              "outlinewidth": 0,
              "ticks": ""
             }
            },
            "type": "scatterpolar"
           }
          ],
          "scatterpolargl": [
           {
            "marker": {
             "colorbar": {
              "outlinewidth": 0,
              "ticks": ""
             }
            },
            "type": "scatterpolargl"
           }
          ],
          "scatterternary": [
           {
            "marker": {
             "colorbar": {
              "outlinewidth": 0,
              "ticks": ""
             }
            },
            "type": "scatterternary"
           }
          ],
          "surface": [
           {
            "colorbar": {
             "outlinewidth": 0,
             "ticks": ""
            },
            "colorscale": [
             [
              0,
              "#0d0887"
             ],
             [
              0.1111111111111111,
              "#46039f"
             ],
             [
              0.2222222222222222,
              "#7201a8"
             ],
             [
              0.3333333333333333,
              "#9c179e"
             ],
             [
              0.4444444444444444,
              "#bd3786"
             ],
             [
              0.5555555555555556,
              "#d8576b"
             ],
             [
              0.6666666666666666,
              "#ed7953"
             ],
             [
              0.7777777777777778,
              "#fb9f3a"
             ],
             [
              0.8888888888888888,
              "#fdca26"
             ],
             [
              1,
              "#f0f921"
             ]
            ],
            "type": "surface"
           }
          ],
          "table": [
           {
            "cells": {
             "fill": {
              "color": "#EBF0F8"
             },
             "line": {
              "color": "white"
             }
            },
            "header": {
             "fill": {
              "color": "#C8D4E3"
             },
             "line": {
              "color": "white"
             }
            },
            "type": "table"
           }
          ]
         },
         "layout": {
          "annotationdefaults": {
           "arrowcolor": "#2a3f5f",
           "arrowhead": 0,
           "arrowwidth": 1
          },
          "autotypenumbers": "strict",
          "coloraxis": {
           "colorbar": {
            "outlinewidth": 0,
            "ticks": ""
           }
          },
          "colorscale": {
           "diverging": [
            [
             0,
             "#8e0152"
            ],
            [
             0.1,
             "#c51b7d"
            ],
            [
             0.2,
             "#de77ae"
            ],
            [
             0.3,
             "#f1b6da"
            ],
            [
             0.4,
             "#fde0ef"
            ],
            [
             0.5,
             "#f7f7f7"
            ],
            [
             0.6,
             "#e6f5d0"
            ],
            [
             0.7,
             "#b8e186"
            ],
            [
             0.8,
             "#7fbc41"
            ],
            [
             0.9,
             "#4d9221"
            ],
            [
             1,
             "#276419"
            ]
           ],
           "sequential": [
            [
             0,
             "#0d0887"
            ],
            [
             0.1111111111111111,
             "#46039f"
            ],
            [
             0.2222222222222222,
             "#7201a8"
            ],
            [
             0.3333333333333333,
             "#9c179e"
            ],
            [
             0.4444444444444444,
             "#bd3786"
            ],
            [
             0.5555555555555556,
             "#d8576b"
            ],
            [
             0.6666666666666666,
             "#ed7953"
            ],
            [
             0.7777777777777778,
             "#fb9f3a"
            ],
            [
             0.8888888888888888,
             "#fdca26"
            ],
            [
             1,
             "#f0f921"
            ]
           ],
           "sequentialminus": [
            [
             0,
             "#0d0887"
            ],
            [
             0.1111111111111111,
             "#46039f"
            ],
            [
             0.2222222222222222,
             "#7201a8"
            ],
            [
             0.3333333333333333,
             "#9c179e"
            ],
            [
             0.4444444444444444,
             "#bd3786"
            ],
            [
             0.5555555555555556,
             "#d8576b"
            ],
            [
             0.6666666666666666,
             "#ed7953"
            ],
            [
             0.7777777777777778,
             "#fb9f3a"
            ],
            [
             0.8888888888888888,
             "#fdca26"
            ],
            [
             1,
             "#f0f921"
            ]
           ]
          },
          "colorway": [
           "#636efa",
           "#EF553B",
           "#00cc96",
           "#ab63fa",
           "#FFA15A",
           "#19d3f3",
           "#FF6692",
           "#B6E880",
           "#FF97FF",
           "#FECB52"
          ],
          "font": {
           "color": "#2a3f5f"
          },
          "geo": {
           "bgcolor": "white",
           "lakecolor": "white",
           "landcolor": "#E5ECF6",
           "showlakes": true,
           "showland": true,
           "subunitcolor": "white"
          },
          "hoverlabel": {
           "align": "left"
          },
          "hovermode": "closest",
          "mapbox": {
           "style": "light"
          },
          "paper_bgcolor": "white",
          "plot_bgcolor": "#E5ECF6",
          "polar": {
           "angularaxis": {
            "gridcolor": "white",
            "linecolor": "white",
            "ticks": ""
           },
           "bgcolor": "#E5ECF6",
           "radialaxis": {
            "gridcolor": "white",
            "linecolor": "white",
            "ticks": ""
           }
          },
          "scene": {
           "xaxis": {
            "backgroundcolor": "#E5ECF6",
            "gridcolor": "white",
            "gridwidth": 2,
            "linecolor": "white",
            "showbackground": true,
            "ticks": "",
            "zerolinecolor": "white"
           },
           "yaxis": {
            "backgroundcolor": "#E5ECF6",
            "gridcolor": "white",
            "gridwidth": 2,
            "linecolor": "white",
            "showbackground": true,
            "ticks": "",
            "zerolinecolor": "white"
           },
           "zaxis": {
            "backgroundcolor": "#E5ECF6",
            "gridcolor": "white",
            "gridwidth": 2,
            "linecolor": "white",
            "showbackground": true,
            "ticks": "",
            "zerolinecolor": "white"
           }
          },
          "shapedefaults": {
           "line": {
            "color": "#2a3f5f"
           }
          },
          "ternary": {
           "aaxis": {
            "gridcolor": "white",
            "linecolor": "white",
            "ticks": ""
           },
           "baxis": {
            "gridcolor": "white",
            "linecolor": "white",
            "ticks": ""
           },
           "bgcolor": "#E5ECF6",
           "caxis": {
            "gridcolor": "white",
            "linecolor": "white",
            "ticks": ""
           }
          },
          "title": {
           "x": 0.05
          },
          "xaxis": {
           "automargin": true,
           "gridcolor": "white",
           "linecolor": "white",
           "ticks": "",
           "title": {
            "standoff": 15
           },
           "zerolinecolor": "white",
           "zerolinewidth": 2
          },
          "yaxis": {
           "automargin": true,
           "gridcolor": "white",
           "linecolor": "white",
           "ticks": "",
           "title": {
            "standoff": 15
           },
           "zerolinecolor": "white",
           "zerolinewidth": 2
          }
         }
        },
        "title": {
         "text": "MeSH-termer, ordmoln"
        },
        "xaxis": {
         "anchor": "y",
         "domain": [
          0,
          1
         ],
         "showticklabels": false
        },
        "yaxis": {
         "anchor": "x",
         "domain": [
          0,
          1
         ],
         "showticklabels": false
        }
       }
      }
     },
     "metadata": {},
     "output_type": "display_data"
    }
   ],
   "source": [
    "import pandas as pd\n",
    "from wordcloud import WordCloud\n",
    "import plotly.express as px\n",
    "import matplotlib.pyplot as plt\n",
    "import numpy as np\n",
    "\n",
    "# Assuming your DataFrame is named df and has the column 'keywords.display_name'\n",
    "\n",
    "# Combine all keywords into a single string\n",
    "all_keywords = ' '.join(df['keywords.display_name'].dropna())\n",
    "\n",
    "# Split the string into individual keywords using the separator '|'\n",
    "all_keywords_list = all_keywords.split('|')\n",
    "\n",
    "# Join the keywords back into a single string, separated by spaces\n",
    "keywords_text = ' '.join(all_keywords_list)\n",
    "\n",
    "# Create a word cloud\n",
    "wordcloud = WordCloud(width=800, height=400, background_color='white', collocations=False).generate(keywords_text)\n",
    "\n",
    "# Save the word cloud image as an array\n",
    "image_array = np.array(wordcloud)\n",
    "\n",
    "# Plotly does not directly support word clouds, so we display the image\n",
    "fig = px.imshow(image_array, title=\"MeSH-termer, ordmoln\")\n",
    "fig.update_xaxes(showticklabels=False).update_yaxes(showticklabels=False)\n",
    "fig.show()"
   ]
  },
  {
   "cell_type": "code",
   "execution_count": 46,
   "metadata": {},
   "outputs": [
    {
     "data": {
      "application/vnd.plotly.v1+json": {
       "config": {
        "plotlyServerURL": "https://plot.ly"
       },
       "data": [
        {
         "alignmentgroup": "True",
         "hovertemplate": "Country=%{x}<br>Number of Publications=%{marker.color}<extra></extra>",
         "legendgroup": "",
         "marker": {
          "color": [
           2647,
           455,
           433,
           294,
           199,
           191,
           185,
           184,
           182,
           151,
           137,
           99,
           74,
           59,
           55,
           43,
           38,
           35,
           31,
           28,
           26,
           24,
           23,
           17,
           14,
           14,
           13,
           13,
           13,
           12,
           12,
           11,
           10,
           10,
           10,
           9,
           9,
           9,
           9,
           8,
           8,
           7,
           7,
           7,
           7,
           7,
           6,
           6,
           6,
           6,
           6,
           5,
           5,
           5,
           5,
           5,
           5,
           4,
           4,
           4,
           4,
           4,
           4,
           3,
           3,
           3,
           3,
           3,
           3,
           3,
           2,
           2,
           2,
           2,
           2,
           2,
           2,
           2,
           2,
           2,
           2,
           2,
           2,
           2,
           1,
           1,
           1,
           1,
           1,
           1,
           1,
           1,
           1,
           1,
           1,
           1,
           1,
           1,
           1,
           1,
           1,
           1,
           1,
           1,
           1,
           1,
           1,
           1,
           1,
           1,
           1,
           1,
           1,
           1,
           1,
           1,
           1,
           1,
           1,
           1,
           1,
           1,
           1,
           1,
           1,
           1,
           1,
           1,
           1,
           1,
           1,
           1,
           1,
           1,
           1,
           1,
           1,
           1,
           1,
           1,
           1,
           1,
           1,
           1
          ],
          "coloraxis": "coloraxis",
          "pattern": {
           "shape": ""
          }
         },
         "name": "",
         "offsetgroup": "",
         "orientation": "v",
         "showlegend": false,
         "textposition": "auto",
         "type": "bar",
         "x": [
          "SE",
          "US",
          "SE SE",
          "IT",
          "",
          "GB",
          "DE",
          "DK",
          "NL",
          "ES",
          "FR",
          "NO",
          "CN",
          "AU",
          "CH",
          "AT",
          "FI",
          "BE",
          "US SE",
          "SE US",
          "CA",
          "CZ",
          "SA",
          "AR",
          "UY",
          "PR",
          "GR",
          " SE",
          "SI",
          "HR",
          "TR",
          "RS",
          "IS",
          "IN",
          "PL",
          "IT SE",
          "SE ",
          "IE",
          "DK SE",
          "SE GB",
          "NL SE",
          "JP",
          "SE ES",
          "SE DK",
          "IL",
          "SE NO",
          "NO SE",
          "ES SE",
          "LU",
          "SE SE SE",
          "BG",
          "SE NL",
          "SE IT",
          "SE AU",
          "GB SE",
          "EE",
          "US DK",
          "PT",
          "NO US",
          "FR SE",
          "NZ",
          "RO",
          "SE FR",
          "SE IS",
          "ZA",
          "SG",
          "KW",
          "US US",
          "SE DE",
          "HU",
          "EE SE",
          " US",
          "US ",
          "IE SE",
          "SE CA",
          "TR SE",
          "SE EE",
          "ES US",
          "AU SE",
          "CZ SE",
          "ML",
          "SE BE",
          "KE",
          "DK IT",
          "SE IR",
          "NL ",
          "GB DE",
          "PT SE",
          "SE BR",
          "LT",
          "DE US",
          "CA CA",
          "CA SE",
          "US DE",
          "BY",
          "IR",
          "FR DE",
          "LT SE",
          "DE IT",
          "US AU",
          "BA",
          "CL NO",
          "US NO",
          "NO IT",
          "US SE SE",
          " SE US",
          "CL SE",
          "AU US",
          " SE SE",
          "UA",
          "SE SE SE SE",
          "PS",
          "BR",
          "SE SE US",
          "GB IT",
          "PH SE",
          "SE IL",
          "US ES",
          "GB BE",
          "IT US",
          "NL BE",
          "CN SE",
          "SE LU",
          "EC",
          "IE NL",
          " NO",
          "BW",
          "MU",
          "BE SE",
          "SE CH",
          "DK GB",
          "CA DK",
          "ES DE",
          "NL US",
          "SE CZ",
          "BE DK",
          "CO",
          "SA NO",
          "SE SI",
          "CL GB",
          "GB NO",
          "NO NL",
          "SE TR",
          "SE SE SE DK"
         ],
         "xaxis": "x",
         "y": [
          2647,
          455,
          433,
          294,
          199,
          191,
          185,
          184,
          182,
          151,
          137,
          99,
          74,
          59,
          55,
          43,
          38,
          35,
          31,
          28,
          26,
          24,
          23,
          17,
          14,
          14,
          13,
          13,
          13,
          12,
          12,
          11,
          10,
          10,
          10,
          9,
          9,
          9,
          9,
          8,
          8,
          7,
          7,
          7,
          7,
          7,
          6,
          6,
          6,
          6,
          6,
          5,
          5,
          5,
          5,
          5,
          5,
          4,
          4,
          4,
          4,
          4,
          4,
          3,
          3,
          3,
          3,
          3,
          3,
          3,
          2,
          2,
          2,
          2,
          2,
          2,
          2,
          2,
          2,
          2,
          2,
          2,
          2,
          2,
          1,
          1,
          1,
          1,
          1,
          1,
          1,
          1,
          1,
          1,
          1,
          1,
          1,
          1,
          1,
          1,
          1,
          1,
          1,
          1,
          1,
          1,
          1,
          1,
          1,
          1,
          1,
          1,
          1,
          1,
          1,
          1,
          1,
          1,
          1,
          1,
          1,
          1,
          1,
          1,
          1,
          1,
          1,
          1,
          1,
          1,
          1,
          1,
          1,
          1,
          1,
          1,
          1,
          1,
          1,
          1,
          1,
          1,
          1,
          1
         ],
         "yaxis": "y"
        }
       ],
       "layout": {
        "barmode": "relative",
        "coloraxis": {
         "colorbar": {
          "title": {
           "text": "Number of Publications"
          }
         },
         "colorscale": [
          [
           0,
           "#440154"
          ],
          [
           0.1111111111111111,
           "#482878"
          ],
          [
           0.2222222222222222,
           "#3e4989"
          ],
          [
           0.3333333333333333,
           "#31688e"
          ],
          [
           0.4444444444444444,
           "#26828e"
          ],
          [
           0.5555555555555556,
           "#1f9e89"
          ],
          [
           0.6666666666666666,
           "#35b779"
          ],
          [
           0.7777777777777778,
           "#6ece58"
          ],
          [
           0.8888888888888888,
           "#b5de2b"
          ],
          [
           1,
           "#fde725"
          ]
         ]
        },
        "legend": {
         "tracegroupgap": 0
        },
        "template": {
         "data": {
          "bar": [
           {
            "error_x": {
             "color": "#2a3f5f"
            },
            "error_y": {
             "color": "#2a3f5f"
            },
            "marker": {
             "line": {
              "color": "#E5ECF6",
              "width": 0.5
             },
             "pattern": {
              "fillmode": "overlay",
              "size": 10,
              "solidity": 0.2
             }
            },
            "type": "bar"
           }
          ],
          "barpolar": [
           {
            "marker": {
             "line": {
              "color": "#E5ECF6",
              "width": 0.5
             },
             "pattern": {
              "fillmode": "overlay",
              "size": 10,
              "solidity": 0.2
             }
            },
            "type": "barpolar"
           }
          ],
          "carpet": [
           {
            "aaxis": {
             "endlinecolor": "#2a3f5f",
             "gridcolor": "white",
             "linecolor": "white",
             "minorgridcolor": "white",
             "startlinecolor": "#2a3f5f"
            },
            "baxis": {
             "endlinecolor": "#2a3f5f",
             "gridcolor": "white",
             "linecolor": "white",
             "minorgridcolor": "white",
             "startlinecolor": "#2a3f5f"
            },
            "type": "carpet"
           }
          ],
          "choropleth": [
           {
            "colorbar": {
             "outlinewidth": 0,
             "ticks": ""
            },
            "type": "choropleth"
           }
          ],
          "contour": [
           {
            "colorbar": {
             "outlinewidth": 0,
             "ticks": ""
            },
            "colorscale": [
             [
              0,
              "#0d0887"
             ],
             [
              0.1111111111111111,
              "#46039f"
             ],
             [
              0.2222222222222222,
              "#7201a8"
             ],
             [
              0.3333333333333333,
              "#9c179e"
             ],
             [
              0.4444444444444444,
              "#bd3786"
             ],
             [
              0.5555555555555556,
              "#d8576b"
             ],
             [
              0.6666666666666666,
              "#ed7953"
             ],
             [
              0.7777777777777778,
              "#fb9f3a"
             ],
             [
              0.8888888888888888,
              "#fdca26"
             ],
             [
              1,
              "#f0f921"
             ]
            ],
            "type": "contour"
           }
          ],
          "contourcarpet": [
           {
            "colorbar": {
             "outlinewidth": 0,
             "ticks": ""
            },
            "type": "contourcarpet"
           }
          ],
          "heatmap": [
           {
            "colorbar": {
             "outlinewidth": 0,
             "ticks": ""
            },
            "colorscale": [
             [
              0,
              "#0d0887"
             ],
             [
              0.1111111111111111,
              "#46039f"
             ],
             [
              0.2222222222222222,
              "#7201a8"
             ],
             [
              0.3333333333333333,
              "#9c179e"
             ],
             [
              0.4444444444444444,
              "#bd3786"
             ],
             [
              0.5555555555555556,
              "#d8576b"
             ],
             [
              0.6666666666666666,
              "#ed7953"
             ],
             [
              0.7777777777777778,
              "#fb9f3a"
             ],
             [
              0.8888888888888888,
              "#fdca26"
             ],
             [
              1,
              "#f0f921"
             ]
            ],
            "type": "heatmap"
           }
          ],
          "heatmapgl": [
           {
            "colorbar": {
             "outlinewidth": 0,
             "ticks": ""
            },
            "colorscale": [
             [
              0,
              "#0d0887"
             ],
             [
              0.1111111111111111,
              "#46039f"
             ],
             [
              0.2222222222222222,
              "#7201a8"
             ],
             [
              0.3333333333333333,
              "#9c179e"
             ],
             [
              0.4444444444444444,
              "#bd3786"
             ],
             [
              0.5555555555555556,
              "#d8576b"
             ],
             [
              0.6666666666666666,
              "#ed7953"
             ],
             [
              0.7777777777777778,
              "#fb9f3a"
             ],
             [
              0.8888888888888888,
              "#fdca26"
             ],
             [
              1,
              "#f0f921"
             ]
            ],
            "type": "heatmapgl"
           }
          ],
          "histogram": [
           {
            "marker": {
             "pattern": {
              "fillmode": "overlay",
              "size": 10,
              "solidity": 0.2
             }
            },
            "type": "histogram"
           }
          ],
          "histogram2d": [
           {
            "colorbar": {
             "outlinewidth": 0,
             "ticks": ""
            },
            "colorscale": [
             [
              0,
              "#0d0887"
             ],
             [
              0.1111111111111111,
              "#46039f"
             ],
             [
              0.2222222222222222,
              "#7201a8"
             ],
             [
              0.3333333333333333,
              "#9c179e"
             ],
             [
              0.4444444444444444,
              "#bd3786"
             ],
             [
              0.5555555555555556,
              "#d8576b"
             ],
             [
              0.6666666666666666,
              "#ed7953"
             ],
             [
              0.7777777777777778,
              "#fb9f3a"
             ],
             [
              0.8888888888888888,
              "#fdca26"
             ],
             [
              1,
              "#f0f921"
             ]
            ],
            "type": "histogram2d"
           }
          ],
          "histogram2dcontour": [
           {
            "colorbar": {
             "outlinewidth": 0,
             "ticks": ""
            },
            "colorscale": [
             [
              0,
              "#0d0887"
             ],
             [
              0.1111111111111111,
              "#46039f"
             ],
             [
              0.2222222222222222,
              "#7201a8"
             ],
             [
              0.3333333333333333,
              "#9c179e"
             ],
             [
              0.4444444444444444,
              "#bd3786"
             ],
             [
              0.5555555555555556,
              "#d8576b"
             ],
             [
              0.6666666666666666,
              "#ed7953"
             ],
             [
              0.7777777777777778,
              "#fb9f3a"
             ],
             [
              0.8888888888888888,
              "#fdca26"
             ],
             [
              1,
              "#f0f921"
             ]
            ],
            "type": "histogram2dcontour"
           }
          ],
          "mesh3d": [
           {
            "colorbar": {
             "outlinewidth": 0,
             "ticks": ""
            },
            "type": "mesh3d"
           }
          ],
          "parcoords": [
           {
            "line": {
             "colorbar": {
              "outlinewidth": 0,
              "ticks": ""
             }
            },
            "type": "parcoords"
           }
          ],
          "pie": [
           {
            "automargin": true,
            "type": "pie"
           }
          ],
          "scatter": [
           {
            "fillpattern": {
             "fillmode": "overlay",
             "size": 10,
             "solidity": 0.2
            },
            "type": "scatter"
           }
          ],
          "scatter3d": [
           {
            "line": {
             "colorbar": {
              "outlinewidth": 0,
              "ticks": ""
             }
            },
            "marker": {
             "colorbar": {
              "outlinewidth": 0,
              "ticks": ""
             }
            },
            "type": "scatter3d"
           }
          ],
          "scattercarpet": [
           {
            "marker": {
             "colorbar": {
              "outlinewidth": 0,
              "ticks": ""
             }
            },
            "type": "scattercarpet"
           }
          ],
          "scattergeo": [
           {
            "marker": {
             "colorbar": {
              "outlinewidth": 0,
              "ticks": ""
             }
            },
            "type": "scattergeo"
           }
          ],
          "scattergl": [
           {
            "marker": {
             "colorbar": {
              "outlinewidth": 0,
              "ticks": ""
             }
            },
            "type": "scattergl"
           }
          ],
          "scattermapbox": [
           {
            "marker": {
             "colorbar": {
              "outlinewidth": 0,
              "ticks": ""
             }
            },
            "type": "scattermapbox"
           }
          ],
          "scatterpolar": [
           {
            "marker": {
             "colorbar": {
              "outlinewidth": 0,
              "ticks": ""
             }
            },
            "type": "scatterpolar"
           }
          ],
          "scatterpolargl": [
           {
            "marker": {
             "colorbar": {
              "outlinewidth": 0,
              "ticks": ""
             }
            },
            "type": "scatterpolargl"
           }
          ],
          "scatterternary": [
           {
            "marker": {
             "colorbar": {
              "outlinewidth": 0,
              "ticks": ""
             }
            },
            "type": "scatterternary"
           }
          ],
          "surface": [
           {
            "colorbar": {
             "outlinewidth": 0,
             "ticks": ""
            },
            "colorscale": [
             [
              0,
              "#0d0887"
             ],
             [
              0.1111111111111111,
              "#46039f"
             ],
             [
              0.2222222222222222,
              "#7201a8"
             ],
             [
              0.3333333333333333,
              "#9c179e"
             ],
             [
              0.4444444444444444,
              "#bd3786"
             ],
             [
              0.5555555555555556,
              "#d8576b"
             ],
             [
              0.6666666666666666,
              "#ed7953"
             ],
             [
              0.7777777777777778,
              "#fb9f3a"
             ],
             [
              0.8888888888888888,
              "#fdca26"
             ],
             [
              1,
              "#f0f921"
             ]
            ],
            "type": "surface"
           }
          ],
          "table": [
           {
            "cells": {
             "fill": {
              "color": "#EBF0F8"
             },
             "line": {
              "color": "white"
             }
            },
            "header": {
             "fill": {
              "color": "#C8D4E3"
             },
             "line": {
              "color": "white"
             }
            },
            "type": "table"
           }
          ]
         },
         "layout": {
          "annotationdefaults": {
           "arrowcolor": "#2a3f5f",
           "arrowhead": 0,
           "arrowwidth": 1
          },
          "autotypenumbers": "strict",
          "coloraxis": {
           "colorbar": {
            "outlinewidth": 0,
            "ticks": ""
           }
          },
          "colorscale": {
           "diverging": [
            [
             0,
             "#8e0152"
            ],
            [
             0.1,
             "#c51b7d"
            ],
            [
             0.2,
             "#de77ae"
            ],
            [
             0.3,
             "#f1b6da"
            ],
            [
             0.4,
             "#fde0ef"
            ],
            [
             0.5,
             "#f7f7f7"
            ],
            [
             0.6,
             "#e6f5d0"
            ],
            [
             0.7,
             "#b8e186"
            ],
            [
             0.8,
             "#7fbc41"
            ],
            [
             0.9,
             "#4d9221"
            ],
            [
             1,
             "#276419"
            ]
           ],
           "sequential": [
            [
             0,
             "#0d0887"
            ],
            [
             0.1111111111111111,
             "#46039f"
            ],
            [
             0.2222222222222222,
             "#7201a8"
            ],
            [
             0.3333333333333333,
             "#9c179e"
            ],
            [
             0.4444444444444444,
             "#bd3786"
            ],
            [
             0.5555555555555556,
             "#d8576b"
            ],
            [
             0.6666666666666666,
             "#ed7953"
            ],
            [
             0.7777777777777778,
             "#fb9f3a"
            ],
            [
             0.8888888888888888,
             "#fdca26"
            ],
            [
             1,
             "#f0f921"
            ]
           ],
           "sequentialminus": [
            [
             0,
             "#0d0887"
            ],
            [
             0.1111111111111111,
             "#46039f"
            ],
            [
             0.2222222222222222,
             "#7201a8"
            ],
            [
             0.3333333333333333,
             "#9c179e"
            ],
            [
             0.4444444444444444,
             "#bd3786"
            ],
            [
             0.5555555555555556,
             "#d8576b"
            ],
            [
             0.6666666666666666,
             "#ed7953"
            ],
            [
             0.7777777777777778,
             "#fb9f3a"
            ],
            [
             0.8888888888888888,
             "#fdca26"
            ],
            [
             1,
             "#f0f921"
            ]
           ]
          },
          "colorway": [
           "#636efa",
           "#EF553B",
           "#00cc96",
           "#ab63fa",
           "#FFA15A",
           "#19d3f3",
           "#FF6692",
           "#B6E880",
           "#FF97FF",
           "#FECB52"
          ],
          "font": {
           "color": "#2a3f5f"
          },
          "geo": {
           "bgcolor": "white",
           "lakecolor": "white",
           "landcolor": "#E5ECF6",
           "showlakes": true,
           "showland": true,
           "subunitcolor": "white"
          },
          "hoverlabel": {
           "align": "left"
          },
          "hovermode": "closest",
          "mapbox": {
           "style": "light"
          },
          "paper_bgcolor": "white",
          "plot_bgcolor": "#E5ECF6",
          "polar": {
           "angularaxis": {
            "gridcolor": "white",
            "linecolor": "white",
            "ticks": ""
           },
           "bgcolor": "#E5ECF6",
           "radialaxis": {
            "gridcolor": "white",
            "linecolor": "white",
            "ticks": ""
           }
          },
          "scene": {
           "xaxis": {
            "backgroundcolor": "#E5ECF6",
            "gridcolor": "white",
            "gridwidth": 2,
            "linecolor": "white",
            "showbackground": true,
            "ticks": "",
            "zerolinecolor": "white"
           },
           "yaxis": {
            "backgroundcolor": "#E5ECF6",
            "gridcolor": "white",
            "gridwidth": 2,
            "linecolor": "white",
            "showbackground": true,
            "ticks": "",
            "zerolinecolor": "white"
           },
           "zaxis": {
            "backgroundcolor": "#E5ECF6",
            "gridcolor": "white",
            "gridwidth": 2,
            "linecolor": "white",
            "showbackground": true,
            "ticks": "",
            "zerolinecolor": "white"
           }
          },
          "shapedefaults": {
           "line": {
            "color": "#2a3f5f"
           }
          },
          "ternary": {
           "aaxis": {
            "gridcolor": "white",
            "linecolor": "white",
            "ticks": ""
           },
           "baxis": {
            "gridcolor": "white",
            "linecolor": "white",
            "ticks": ""
           },
           "bgcolor": "#E5ECF6",
           "caxis": {
            "gridcolor": "white",
            "linecolor": "white",
            "ticks": ""
           }
          },
          "title": {
           "x": 0.05
          },
          "xaxis": {
           "automargin": true,
           "gridcolor": "white",
           "linecolor": "white",
           "ticks": "",
           "title": {
            "standoff": 15
           },
           "zerolinecolor": "white",
           "zerolinewidth": 2
          },
          "yaxis": {
           "automargin": true,
           "gridcolor": "white",
           "linecolor": "white",
           "ticks": "",
           "title": {
            "standoff": 15
           },
           "zerolinecolor": "white",
           "zerolinewidth": 2
          }
         }
        },
        "title": {
         "text": "Samverkan med andra länder"
        },
        "xaxis": {
         "anchor": "y",
         "domain": [
          0,
          1
         ],
         "title": {
          "text": "Country"
         }
        },
        "yaxis": {
         "anchor": "x",
         "domain": [
          0,
          1
         ],
         "title": {
          "text": "Number of Publications"
         }
        }
       }
      }
     },
     "metadata": {},
     "output_type": "display_data"
    }
   ],
   "source": [
    "import pandas as pd\n",
    "import plotly.express as px\n",
    "from collections import Counter\n",
    "\n",
    "# Combine all country entries into a single string, handle NaNs by dropping them\n",
    "all_countries = ' '.join(df['authorships.countries'].dropna())\n",
    "\n",
    "# Split the string into individual country names based on the separator '|'\n",
    "all_countries_list = all_countries.split('|')\n",
    "\n",
    "# Count occurrences of each country\n",
    "country_counts = Counter(all_countries_list)\n",
    "\n",
    "# Convert the counts to a DataFrame\n",
    "country_df = pd.DataFrame(country_counts.items(), columns=['Country', 'Count'])\n",
    "\n",
    "# Sort the DataFrame by count for better visualization\n",
    "country_df = country_df.sort_values(by='Count', ascending=False)\n",
    "\n",
    "# Create a bar chart using Plotly\n",
    "fig = px.bar(country_df, x='Country', y='Count', title='Samverkan med andra länder',\n",
    "             labels={'Country': 'Country', 'Count': 'Number of Publications'},\n",
    "             color='Count', color_continuous_scale='Viridis')\n",
    "\n",
    "# Show the bar chart\n",
    "fig.show()"
   ]
  },
  {
   "cell_type": "code",
   "execution_count": 48,
   "metadata": {},
   "outputs": [
    {
     "data": {
      "application/vnd.plotly.v1+json": {
       "config": {
        "plotlyServerURL": "https://plot.ly"
       },
       "data": [
        {
         "alignmentgroup": "True",
         "hovertemplate": "Funder=%{x}<br>Number of Publications=%{marker.color}<extra></extra>",
         "legendgroup": "",
         "marker": {
          "color": [
           17,
           8,
           5,
           4,
           3,
           2,
           2,
           2,
           2,
           2,
           2,
           2,
           2,
           2,
           2,
           2,
           2,
           1,
           1,
           1,
           1,
           1,
           1,
           1,
           1,
           1,
           1,
           1,
           1,
           1,
           1,
           1,
           1,
           1,
           1,
           1,
           1,
           1,
           1,
           1,
           1,
           1,
           1,
           1,
           1,
           1,
           1,
           1,
           1,
           1,
           1,
           1,
           1,
           1,
           1,
           1,
           1,
           1,
           1,
           1,
           1,
           1,
           1,
           1,
           1,
           1,
           1,
           1,
           1,
           1,
           1,
           1,
           1,
           1,
           1,
           1,
           1,
           1,
           1,
           1,
           1,
           1,
           1,
           1,
           1,
           1,
           1,
           1,
           1,
           1,
           1,
           1,
           1,
           1,
           1,
           1,
           1,
           1,
           1,
           1,
           1
          ],
          "coloraxis": "coloraxis",
          "pattern": {
           "shape": ""
          }
         },
         "name": "",
         "offsetgroup": "",
         "orientation": "v",
         "showlegend": false,
         "textposition": "auto",
         "type": "bar",
         "x": [
          "Vetenskapsrådet",
          "Hjärt-Lungfonden",
          "Cancerfonden",
          "IngaBritt och Arne Lundbergs Forskningsstiftelse",
          "Sahlgrenska Universitetssjukhuset",
          "Forskningsrådet för Arbetsliv och Socialvetenskap",
          "Västra Götalandsregionen",
          "Stiftelsen Assar Gabrielssons Fond",
          "Göteborgs Universitet Västra Götalandsregionen",
          "Magnus Bergvalls Stiftelse",
          "Lisa och Johan Grönbergs Stiftelse",
          "Stockholms Läns Landsting",
          "Sanofi",
          "Västra Götalandsregionen Västra Götalandsregionen",
          "European Foundation for the Study of Diabetes",
          "Sveriges Kommuner och Landsting",
          "Health Research Fund of Central Denmark Region",
          "Vetenskapsrådet Västra Götalandsregionen American Liver Foundation",
          "Västra Götalandsregionen Göteborgs Universitet Örebro Universitet Novo Nordisk",
          "Research and Development Knut och Alice Wallenbergs Stiftelse Barncancerfonden Göteborgs Universitet",
          "Instituto de Salud Carlos III College of William and Mary",
          "Göteborgs Universitet European Commission",
          "Göteborgs Universitet Göteborgs Läkaresällskap",
          "Novo Nordisk Göteborgs Universitet Insamlingsstiftelsen Cancer- och Allergifonden",
          "Västra Götalandsregionen Pfizer Novo Nordisk",
          "Novo Nordisk Västra Götalandsregionen",
          "Novo Nordisk Novo Nordisk",
          "Stiftelsen Mary von Sydows, född Wijk, donationsfond Novo Nordisk",
          "Bristol-Myers Squibb Canada",
          "Svenska Forskningsrådet Formas",
          "Takeda Canada Västra Götalandsregionen",
          "Medtronic Forskningsrådet om Hälsa, Arbetsliv och Välfärd Axel Linders Stiftelse Osteology Foundation Anna-Lisa och Bror Björnssons Stiftelse",
          "Göteborgs Universitet Centrum för idrottsforskning AstraZeneca",
          "Novo Nordisk Fonden Göteborgs Universitet Sveriges Regering",
          "Sveriges Regering Sveriges Regering",
          "Magnus Bergvalls Stiftelse U.S. National Library of Medicine Göteborgs Universitet Svenska Sällskapet för Medicinsk Forskning Geistlich Pharma European Commission Göteborgs Universitet Västra Götalandsregionen Västra Götalandsregionen",
          "Celgene",
          "Novo Nordisk Strålsäkerhetsmyndigheten Stiftelserna Wilhelm och Martina Lundgrens Insamlingsstiftelsen Cancer- och Allergifonden",
          "Novo Nordisk Fonden Västra Götalandsregionen",
          "Forskningsrådet om Hälsa, Arbetsliv och Välfärd Strålsäkerhetsmyndigheten Sahlgrenska Universitetssjukhuset Karolinska Institutet",
          "Sahlgrenska Universitetssjukhuset Göteborgs Läkaresällskap",
          "Bristol-Myers Squibb",
          "Health and Medical Care Committee of the Regional Executive Board, Region Västra Götaland Svenska Forskningsrådet Formas",
          "Stiftelsen Konung Gustaf V:s 80-årsfond",
          "Novartis",
          "Göteborgs Universitet Vetenskapsrådet Karolinska Institutet Stiftelserna Wilhelm och Martina Lundgrens",
          "Kuwait University Göteborgs Universitet",
          "Novo Nordisk Foundation Center for Basic Metabolic Research Göteborgs Universitet Barndiabetesfonden Västra Götalandsregionen Göteborgs Universitet Hjärt-Lungfonden Linköpings Universitet Amgen",
          "Göteborgs Universitet AstraZeneca Dexcom Stiftelsen Handlanden Hjalmar Svenssons",
          "Health and Medical Care Committee of the Regional Executive Board, Region Västra Götaland Västra Götalandsregionen",
          "Health and Medical Care Committee of the Regional Executive Board, Region Västra Götaland",
          "Vetenskapsrådet Västra Götalandsregionen",
          "Ekhagastiftelsen Stiftelserna Wilhelm och Martina Lundgrens",
          "Majblommans Riksförbund",
          "Västra Götalandsregionen Novo Nordisk DENTSPLY Implants Göteborgs Universitet Västra Götalandsregionen Göteborgs Universitet National Science Foundation",
          "Stiftelsen Handlanden Hjalmar Svenssons",
          "Stiftelsen Reuma Forskningsfond Margareta",
          "Vetenskapsrådet Forskningsrådet för Arbetsliv och Socialvetenskap",
          "Göteborgs Universitet Linköpings Universitet Sveriges Tandläkarförbund Novartis Pharma Forskningsrådet för Arbetsliv och Socialvetenskap",
          "Novo Nordisk Novo Nordisk Fonden Diabetesfonden Västra Götalandsregionen Västra Götalandsregionen",
          "Bayer Eli Lilly and Company",
          "Diabetesfonden Svenska Forskningsrådet Formas Svenska Forskningsrådet Formas Vetenskapsrådet Bayer",
          "Barndiabetesfonden",
          "Karolinska Institutet",
          "Radiumhemmets Forskningsfonder Göteborgs Universitet Göteborgs Universitet Hjärt-Lungfonden",
          "AstraZeneca Torsten Söderbergs Stiftelse Karolinska Institutet",
          "Boehringer Ingelheim AstraZeneca Novo Nordisk Bristol-Myers Squibb",
          "Stiftelsen Konung Gustaf V:s 80-årsfond Göteborgs Läkaresällskap AstraZeneca",
          "Medicinska Forskningsrådet",
          "Futurum - Akademin för Hälsa och Vård, Region Jönköpings läns Osteology Foundation Västra Götalandsregionen",
          "Helse Sør-Øst RHF",
          "Vetenskapsrådet Leona M. and Harry B. Helmsley Charitable Trust",
          "Helse Sør-Øst RHF Novo Nordisk Västra Götalandsregionen Leona M. and Harry B. Helmsley Charitable Trust Vetenskapsrådet",
          "Vetenskapsrådet ZonMw Svenska Forskningsrådet Formas Sanofi Universität Ulm Leona M. and Harry B. Helmsley Charitable Trust",
          "AstraZeneca European Society of Coloproctology Västra Götalandsregionen",
          "Vetenskapsrådet Bristol-Myers Squibb",
          "Osteology Foundation AstraZeneca",
          "Osteology Foundation",
          "Sahlgrenska Universitetssjukhuset Bayer",
          "Bayer European Cooperation in Science and Technology Helse Sør-Øst RHF Västra Götalandsregionen",
          "Osteology Foundation Västra Götalandsregionen",
          "Osteology Foundation Hjärt-Lungfonden",
          "Diabetesfonden AFA Försäkring Stiftelserna Wilhelm och Martina Lundgrens",
          "Reumatikerdistriktet i Göteborg Hjärt-Lungfonden",
          "Reumatikerförbundet",
          "Svenska Läkaresällskapet",
          "Göteborgs Läkaresällskap",
          "Rune och Ulla Amlövs Stiftelse för Neurologisk och Reumatologisk Forskning",
          "Göteborgs Universitet Novo Nordisk Dr Trygve Gythfeldt og Frues Forskningsfond Västra Götalandsregionen",
          "Hjärt-Lungfonden Västra Götalandsregionen",
          "Adlerbertska Stiftelserna",
          "Vetenskapsrådet Lantmännens Forskningsstiftelse Göteborgs Universitet Vetenskapsrådet",
          "VINNOVA",
          "Diabetesförbundet Novo Nordisk Innovationsfonden",
          "Novo Nordisk",
          "Svenska Läkaresällskapet Svenska Läkaresällskapet Västra Götalandsregionen",
          "Sahlgrenska Akademin National Institute for Health and Care Research Vetenskapsrådet",
          "Göteborgs Universitet",
          "Anna Cederbergs Stiftelse för Medicinsk Forskning Göteborgs Läkaresällskap",
          "Vetenskapsrådet Children's Mercy Hospital",
          "Sveriges Regering Västra Götalandsregionen"
         ],
         "xaxis": "x",
         "y": [
          17,
          8,
          5,
          4,
          3,
          2,
          2,
          2,
          2,
          2,
          2,
          2,
          2,
          2,
          2,
          2,
          2,
          1,
          1,
          1,
          1,
          1,
          1,
          1,
          1,
          1,
          1,
          1,
          1,
          1,
          1,
          1,
          1,
          1,
          1,
          1,
          1,
          1,
          1,
          1,
          1,
          1,
          1,
          1,
          1,
          1,
          1,
          1,
          1,
          1,
          1,
          1,
          1,
          1,
          1,
          1,
          1,
          1,
          1,
          1,
          1,
          1,
          1,
          1,
          1,
          1,
          1,
          1,
          1,
          1,
          1,
          1,
          1,
          1,
          1,
          1,
          1,
          1,
          1,
          1,
          1,
          1,
          1,
          1,
          1,
          1,
          1,
          1,
          1,
          1,
          1,
          1,
          1,
          1,
          1,
          1,
          1,
          1,
          1,
          1,
          1
         ],
         "yaxis": "y"
        }
       ],
       "layout": {
        "barmode": "relative",
        "coloraxis": {
         "colorbar": {
          "title": {
           "text": "Number of Publications"
          }
         },
         "colorscale": [
          [
           0,
           "#440154"
          ],
          [
           0.1111111111111111,
           "#482878"
          ],
          [
           0.2222222222222222,
           "#3e4989"
          ],
          [
           0.3333333333333333,
           "#31688e"
          ],
          [
           0.4444444444444444,
           "#26828e"
          ],
          [
           0.5555555555555556,
           "#1f9e89"
          ],
          [
           0.6666666666666666,
           "#35b779"
          ],
          [
           0.7777777777777778,
           "#6ece58"
          ],
          [
           0.8888888888888888,
           "#b5de2b"
          ],
          [
           1,
           "#fde725"
          ]
         ]
        },
        "legend": {
         "tracegroupgap": 0
        },
        "template": {
         "data": {
          "bar": [
           {
            "error_x": {
             "color": "#2a3f5f"
            },
            "error_y": {
             "color": "#2a3f5f"
            },
            "marker": {
             "line": {
              "color": "#E5ECF6",
              "width": 0.5
             },
             "pattern": {
              "fillmode": "overlay",
              "size": 10,
              "solidity": 0.2
             }
            },
            "type": "bar"
           }
          ],
          "barpolar": [
           {
            "marker": {
             "line": {
              "color": "#E5ECF6",
              "width": 0.5
             },
             "pattern": {
              "fillmode": "overlay",
              "size": 10,
              "solidity": 0.2
             }
            },
            "type": "barpolar"
           }
          ],
          "carpet": [
           {
            "aaxis": {
             "endlinecolor": "#2a3f5f",
             "gridcolor": "white",
             "linecolor": "white",
             "minorgridcolor": "white",
             "startlinecolor": "#2a3f5f"
            },
            "baxis": {
             "endlinecolor": "#2a3f5f",
             "gridcolor": "white",
             "linecolor": "white",
             "minorgridcolor": "white",
             "startlinecolor": "#2a3f5f"
            },
            "type": "carpet"
           }
          ],
          "choropleth": [
           {
            "colorbar": {
             "outlinewidth": 0,
             "ticks": ""
            },
            "type": "choropleth"
           }
          ],
          "contour": [
           {
            "colorbar": {
             "outlinewidth": 0,
             "ticks": ""
            },
            "colorscale": [
             [
              0,
              "#0d0887"
             ],
             [
              0.1111111111111111,
              "#46039f"
             ],
             [
              0.2222222222222222,
              "#7201a8"
             ],
             [
              0.3333333333333333,
              "#9c179e"
             ],
             [
              0.4444444444444444,
              "#bd3786"
             ],
             [
              0.5555555555555556,
              "#d8576b"
             ],
             [
              0.6666666666666666,
              "#ed7953"
             ],
             [
              0.7777777777777778,
              "#fb9f3a"
             ],
             [
              0.8888888888888888,
              "#fdca26"
             ],
             [
              1,
              "#f0f921"
             ]
            ],
            "type": "contour"
           }
          ],
          "contourcarpet": [
           {
            "colorbar": {
             "outlinewidth": 0,
             "ticks": ""
            },
            "type": "contourcarpet"
           }
          ],
          "heatmap": [
           {
            "colorbar": {
             "outlinewidth": 0,
             "ticks": ""
            },
            "colorscale": [
             [
              0,
              "#0d0887"
             ],
             [
              0.1111111111111111,
              "#46039f"
             ],
             [
              0.2222222222222222,
              "#7201a8"
             ],
             [
              0.3333333333333333,
              "#9c179e"
             ],
             [
              0.4444444444444444,
              "#bd3786"
             ],
             [
              0.5555555555555556,
              "#d8576b"
             ],
             [
              0.6666666666666666,
              "#ed7953"
             ],
             [
              0.7777777777777778,
              "#fb9f3a"
             ],
             [
              0.8888888888888888,
              "#fdca26"
             ],
             [
              1,
              "#f0f921"
             ]
            ],
            "type": "heatmap"
           }
          ],
          "heatmapgl": [
           {
            "colorbar": {
             "outlinewidth": 0,
             "ticks": ""
            },
            "colorscale": [
             [
              0,
              "#0d0887"
             ],
             [
              0.1111111111111111,
              "#46039f"
             ],
             [
              0.2222222222222222,
              "#7201a8"
             ],
             [
              0.3333333333333333,
              "#9c179e"
             ],
             [
              0.4444444444444444,
              "#bd3786"
             ],
             [
              0.5555555555555556,
              "#d8576b"
             ],
             [
              0.6666666666666666,
              "#ed7953"
             ],
             [
              0.7777777777777778,
              "#fb9f3a"
             ],
             [
              0.8888888888888888,
              "#fdca26"
             ],
             [
              1,
              "#f0f921"
             ]
            ],
            "type": "heatmapgl"
           }
          ],
          "histogram": [
           {
            "marker": {
             "pattern": {
              "fillmode": "overlay",
              "size": 10,
              "solidity": 0.2
             }
            },
            "type": "histogram"
           }
          ],
          "histogram2d": [
           {
            "colorbar": {
             "outlinewidth": 0,
             "ticks": ""
            },
            "colorscale": [
             [
              0,
              "#0d0887"
             ],
             [
              0.1111111111111111,
              "#46039f"
             ],
             [
              0.2222222222222222,
              "#7201a8"
             ],
             [
              0.3333333333333333,
              "#9c179e"
             ],
             [
              0.4444444444444444,
              "#bd3786"
             ],
             [
              0.5555555555555556,
              "#d8576b"
             ],
             [
              0.6666666666666666,
              "#ed7953"
             ],
             [
              0.7777777777777778,
              "#fb9f3a"
             ],
             [
              0.8888888888888888,
              "#fdca26"
             ],
             [
              1,
              "#f0f921"
             ]
            ],
            "type": "histogram2d"
           }
          ],
          "histogram2dcontour": [
           {
            "colorbar": {
             "outlinewidth": 0,
             "ticks": ""
            },
            "colorscale": [
             [
              0,
              "#0d0887"
             ],
             [
              0.1111111111111111,
              "#46039f"
             ],
             [
              0.2222222222222222,
              "#7201a8"
             ],
             [
              0.3333333333333333,
              "#9c179e"
             ],
             [
              0.4444444444444444,
              "#bd3786"
             ],
             [
              0.5555555555555556,
              "#d8576b"
             ],
             [
              0.6666666666666666,
              "#ed7953"
             ],
             [
              0.7777777777777778,
              "#fb9f3a"
             ],
             [
              0.8888888888888888,
              "#fdca26"
             ],
             [
              1,
              "#f0f921"
             ]
            ],
            "type": "histogram2dcontour"
           }
          ],
          "mesh3d": [
           {
            "colorbar": {
             "outlinewidth": 0,
             "ticks": ""
            },
            "type": "mesh3d"
           }
          ],
          "parcoords": [
           {
            "line": {
             "colorbar": {
              "outlinewidth": 0,
              "ticks": ""
             }
            },
            "type": "parcoords"
           }
          ],
          "pie": [
           {
            "automargin": true,
            "type": "pie"
           }
          ],
          "scatter": [
           {
            "fillpattern": {
             "fillmode": "overlay",
             "size": 10,
             "solidity": 0.2
            },
            "type": "scatter"
           }
          ],
          "scatter3d": [
           {
            "line": {
             "colorbar": {
              "outlinewidth": 0,
              "ticks": ""
             }
            },
            "marker": {
             "colorbar": {
              "outlinewidth": 0,
              "ticks": ""
             }
            },
            "type": "scatter3d"
           }
          ],
          "scattercarpet": [
           {
            "marker": {
             "colorbar": {
              "outlinewidth": 0,
              "ticks": ""
             }
            },
            "type": "scattercarpet"
           }
          ],
          "scattergeo": [
           {
            "marker": {
             "colorbar": {
              "outlinewidth": 0,
              "ticks": ""
             }
            },
            "type": "scattergeo"
           }
          ],
          "scattergl": [
           {
            "marker": {
             "colorbar": {
              "outlinewidth": 0,
              "ticks": ""
             }
            },
            "type": "scattergl"
           }
          ],
          "scattermapbox": [
           {
            "marker": {
             "colorbar": {
              "outlinewidth": 0,
              "ticks": ""
             }
            },
            "type": "scattermapbox"
           }
          ],
          "scatterpolar": [
           {
            "marker": {
             "colorbar": {
              "outlinewidth": 0,
              "ticks": ""
             }
            },
            "type": "scatterpolar"
           }
          ],
          "scatterpolargl": [
           {
            "marker": {
             "colorbar": {
              "outlinewidth": 0,
              "ticks": ""
             }
            },
            "type": "scatterpolargl"
           }
          ],
          "scatterternary": [
           {
            "marker": {
             "colorbar": {
              "outlinewidth": 0,
              "ticks": ""
             }
            },
            "type": "scatterternary"
           }
          ],
          "surface": [
           {
            "colorbar": {
             "outlinewidth": 0,
             "ticks": ""
            },
            "colorscale": [
             [
              0,
              "#0d0887"
             ],
             [
              0.1111111111111111,
              "#46039f"
             ],
             [
              0.2222222222222222,
              "#7201a8"
             ],
             [
              0.3333333333333333,
              "#9c179e"
             ],
             [
              0.4444444444444444,
              "#bd3786"
             ],
             [
              0.5555555555555556,
              "#d8576b"
             ],
             [
              0.6666666666666666,
              "#ed7953"
             ],
             [
              0.7777777777777778,
              "#fb9f3a"
             ],
             [
              0.8888888888888888,
              "#fdca26"
             ],
             [
              1,
              "#f0f921"
             ]
            ],
            "type": "surface"
           }
          ],
          "table": [
           {
            "cells": {
             "fill": {
              "color": "#EBF0F8"
             },
             "line": {
              "color": "white"
             }
            },
            "header": {
             "fill": {
              "color": "#C8D4E3"
             },
             "line": {
              "color": "white"
             }
            },
            "type": "table"
           }
          ]
         },
         "layout": {
          "annotationdefaults": {
           "arrowcolor": "#2a3f5f",
           "arrowhead": 0,
           "arrowwidth": 1
          },
          "autotypenumbers": "strict",
          "coloraxis": {
           "colorbar": {
            "outlinewidth": 0,
            "ticks": ""
           }
          },
          "colorscale": {
           "diverging": [
            [
             0,
             "#8e0152"
            ],
            [
             0.1,
             "#c51b7d"
            ],
            [
             0.2,
             "#de77ae"
            ],
            [
             0.3,
             "#f1b6da"
            ],
            [
             0.4,
             "#fde0ef"
            ],
            [
             0.5,
             "#f7f7f7"
            ],
            [
             0.6,
             "#e6f5d0"
            ],
            [
             0.7,
             "#b8e186"
            ],
            [
             0.8,
             "#7fbc41"
            ],
            [
             0.9,
             "#4d9221"
            ],
            [
             1,
             "#276419"
            ]
           ],
           "sequential": [
            [
             0,
             "#0d0887"
            ],
            [
             0.1111111111111111,
             "#46039f"
            ],
            [
             0.2222222222222222,
             "#7201a8"
            ],
            [
             0.3333333333333333,
             "#9c179e"
            ],
            [
             0.4444444444444444,
             "#bd3786"
            ],
            [
             0.5555555555555556,
             "#d8576b"
            ],
            [
             0.6666666666666666,
             "#ed7953"
            ],
            [
             0.7777777777777778,
             "#fb9f3a"
            ],
            [
             0.8888888888888888,
             "#fdca26"
            ],
            [
             1,
             "#f0f921"
            ]
           ],
           "sequentialminus": [
            [
             0,
             "#0d0887"
            ],
            [
             0.1111111111111111,
             "#46039f"
            ],
            [
             0.2222222222222222,
             "#7201a8"
            ],
            [
             0.3333333333333333,
             "#9c179e"
            ],
            [
             0.4444444444444444,
             "#bd3786"
            ],
            [
             0.5555555555555556,
             "#d8576b"
            ],
            [
             0.6666666666666666,
             "#ed7953"
            ],
            [
             0.7777777777777778,
             "#fb9f3a"
            ],
            [
             0.8888888888888888,
             "#fdca26"
            ],
            [
             1,
             "#f0f921"
            ]
           ]
          },
          "colorway": [
           "#636efa",
           "#EF553B",
           "#00cc96",
           "#ab63fa",
           "#FFA15A",
           "#19d3f3",
           "#FF6692",
           "#B6E880",
           "#FF97FF",
           "#FECB52"
          ],
          "font": {
           "color": "#2a3f5f"
          },
          "geo": {
           "bgcolor": "white",
           "lakecolor": "white",
           "landcolor": "#E5ECF6",
           "showlakes": true,
           "showland": true,
           "subunitcolor": "white"
          },
          "hoverlabel": {
           "align": "left"
          },
          "hovermode": "closest",
          "mapbox": {
           "style": "light"
          },
          "paper_bgcolor": "white",
          "plot_bgcolor": "#E5ECF6",
          "polar": {
           "angularaxis": {
            "gridcolor": "white",
            "linecolor": "white",
            "ticks": ""
           },
           "bgcolor": "#E5ECF6",
           "radialaxis": {
            "gridcolor": "white",
            "linecolor": "white",
            "ticks": ""
           }
          },
          "scene": {
           "xaxis": {
            "backgroundcolor": "#E5ECF6",
            "gridcolor": "white",
            "gridwidth": 2,
            "linecolor": "white",
            "showbackground": true,
            "ticks": "",
            "zerolinecolor": "white"
           },
           "yaxis": {
            "backgroundcolor": "#E5ECF6",
            "gridcolor": "white",
            "gridwidth": 2,
            "linecolor": "white",
            "showbackground": true,
            "ticks": "",
            "zerolinecolor": "white"
           },
           "zaxis": {
            "backgroundcolor": "#E5ECF6",
            "gridcolor": "white",
            "gridwidth": 2,
            "linecolor": "white",
            "showbackground": true,
            "ticks": "",
            "zerolinecolor": "white"
           }
          },
          "shapedefaults": {
           "line": {
            "color": "#2a3f5f"
           }
          },
          "ternary": {
           "aaxis": {
            "gridcolor": "white",
            "linecolor": "white",
            "ticks": ""
           },
           "baxis": {
            "gridcolor": "white",
            "linecolor": "white",
            "ticks": ""
           },
           "bgcolor": "#E5ECF6",
           "caxis": {
            "gridcolor": "white",
            "linecolor": "white",
            "ticks": ""
           }
          },
          "title": {
           "x": 0.05
          },
          "xaxis": {
           "automargin": true,
           "gridcolor": "white",
           "linecolor": "white",
           "ticks": "",
           "title": {
            "standoff": 15
           },
           "zerolinecolor": "white",
           "zerolinewidth": 2
          },
          "yaxis": {
           "automargin": true,
           "gridcolor": "white",
           "linecolor": "white",
           "ticks": "",
           "title": {
            "standoff": 15
           },
           "zerolinecolor": "white",
           "zerolinewidth": 2
          }
         }
        },
        "title": {
         "text": "Publikationer per finansiär (kan vara beviljad till annan forskare än NU-sjukvårdens)"
        },
        "xaxis": {
         "anchor": "y",
         "domain": [
          0,
          1
         ],
         "title": {
          "text": "Funder"
         }
        },
        "yaxis": {
         "anchor": "x",
         "domain": [
          0,
          1
         ],
         "title": {
          "text": "Number of Publications"
         }
        }
       }
      }
     },
     "metadata": {},
     "output_type": "display_data"
    }
   ],
   "source": [
    "import pandas as pd\n",
    "import plotly.express as px\n",
    "from collections import Counter\n",
    "\n",
    "# Combine all funder entries into a single string, handle NaNs by dropping them\n",
    "all_funders = ' '.join(df['grants.funder_display_name'].dropna())\n",
    "\n",
    "# Split the string into individual funder names based on the separator '|'\n",
    "all_funders_list = all_funders.split('|')\n",
    "\n",
    "# Count occurrences of each funder\n",
    "funder_counts = Counter(all_funders_list)\n",
    "\n",
    "# Convert the counts to a DataFrame\n",
    "funder_df = pd.DataFrame(funder_counts.items(), columns=['Funder', 'Count'])\n",
    "\n",
    "# Sort the DataFrame by count for better visualization\n",
    "funder_df = funder_df.sort_values(by='Count', ascending=False)\n",
    "\n",
    "# Create a bar chart using Plotly\n",
    "fig = px.bar(funder_df, x='Funder', y='Count', title='Publikationer per finansiär (kan vara beviljad till annan forskare än NU-sjukvårdens)',\n",
    "             labels={'Funder': 'Funder', 'Count': 'Number of Publications'},\n",
    "             color='Count', color_continuous_scale='Viridis')\n",
    "\n",
    "# Show the bar chart\n",
    "fig.show()"
   ]
  }
 ],
 "metadata": {
  "kernelspec": {
   "display_name": "Python 3",
   "language": "python",
   "name": "python3"
  },
  "language_info": {
   "codemirror_mode": {
    "name": "ipython",
    "version": 3
   },
   "file_extension": ".py",
   "mimetype": "text/x-python",
   "name": "python",
   "nbconvert_exporter": "python",
   "pygments_lexer": "ipython3",
   "version": "3.9.6"
  }
 },
 "nbformat": 4,
 "nbformat_minor": 2
}
